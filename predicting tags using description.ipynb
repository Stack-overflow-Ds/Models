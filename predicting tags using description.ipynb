{
  "nbformat": 4,
  "nbformat_minor": 0,
  "metadata": {
    "colab": {
      "name": "DataScience.ipynb",
      "provenance": [],
      "collapsed_sections": []
    },
    "kernelspec": {
      "name": "python3",
      "display_name": "Python 3"
    }
  },
  "cells": [
    {
      "cell_type": "code",
      "metadata": {
        "id": "S9MToH6i_OyP"
      },
      "source": [
        "from google.colab import files\n",
        "files.upload()"
      ],
      "execution_count": null,
      "outputs": []
    },
    {
      "cell_type": "code",
      "metadata": {
        "colab": {
          "base_uri": "https://localhost:8080/"
        },
        "id": "ujMq3Iv6_12A",
        "outputId": "55e28d61-5ceb-4c57-a97b-a7fdeafff0da"
      },
      "source": [
        "!pip install -q kaggle\n",
        "! mkdir ~/.kaggle\n",
        "! cp kaggle.json ~/.kaggle/\n",
        "! chmod 600 ~/.kaggle/kaggle.json\n",
        "!kaggle datasets list"
      ],
      "execution_count": 2,
      "outputs": [
        {
          "output_type": "stream",
          "text": [
            "Warning: Looks like you're using an outdated API Version, please consider updating (server 1.5.10 / client 1.5.4)\n",
            "ref                                                          title                                           size  lastUpdated          downloadCount  \n",
            "-----------------------------------------------------------  ---------------------------------------------  -----  -------------------  -------------  \n",
            "alexgude/california-traffic-collision-data-from-switrs       California Traffic Collision Data from SWITRS    1GB  2020-11-22 16:51:55            550  \n",
            "babyoda/women-entrepreneurship-and-labor-force               Women Entrepreneurship and Labor Force           1KB  2020-11-21 08:38:51           1693  \n",
            "szymonjanowski/internet-articles-data-with-users-engagement  Internet news data with readers engagement       3MB  2020-11-21 17:09:57            727  \n",
            "sakshigoyal7/credit-card-customers                           Credit Card customers                          379KB  2020-11-19 07:38:44           3152  \n",
            "imoore/2020-us-general-election-turnout-rates                2020 US General Election Turnout rates           4KB  2020-11-26 00:21:15           1129  \n",
            "afrniomelo/3w-dataset                                        3W Dataset - Undesirable events in oil wells   658MB  2020-11-21 21:22:49            112  \n",
            "patrickb1912/ipl-complete-dataset-20082020                   IPL Complete Dataset (2008-2020)                 1MB  2020-11-23 06:53:37            773  \n",
            "mrmorj/us-politicians-twitter-dataset                        US Politicians Twitter Dataset                  68KB  2020-11-23 09:54:05            287  \n",
            "arioboo/clumps-in-vela-galaxy-images                         Clumps in VELA galaxy images                     8MB  2020-11-23 13:42:09             88  \n",
            "shivamb/netflix-shows                                        Netflix Movies and TV Shows                    971KB  2020-01-20 07:33:56          67358  \n",
            "unanimad/us-election-2020                                    US Election 2020                               428KB  2020-12-02 00:24:23           9953  \n",
            "manchunhui/us-election-2020-tweets                           US Election 2020 Tweets                        353MB  2020-11-09 18:51:59           3917  \n",
            "sootersaalu/amazon-top-50-bestselling-books-2009-2019        Amazon Top 50 Bestselling Books 2009 - 2019     15KB  2020-10-13 09:39:21           7015  \n",
            "terenceshin/covid19s-impact-on-airport-traffic               COVID-19's Impact on Airport Traffic           106KB  2020-10-19 12:40:17           6298  \n",
            "nehaprabhavalkar/indian-food-101                             Indian Food 101                                  7KB  2020-09-30 06:23:43           8769  \n",
            "datasnaek/youtube-new                                        Trending YouTube Video Statistics              201MB  2019-06-03 00:56:47         118317  \n",
            "zynicide/wine-reviews                                        Wine Reviews                                    51MB  2017-11-27 17:08:04         121171  \n",
            "google/tinyquickdraw                                         QuickDraw Sketches                              11GB  2018-04-18 19:38:04           2559  \n",
            "karangadiya/fifa19                                           FIFA 19 complete player dataset                  2MB  2018-12-21 03:52:59         106935  \n",
            "datasnaek/chess                                              Chess Game Dataset (Lichess)                     3MB  2017-09-04 03:09:09          11565  \n"
          ],
          "name": "stdout"
        }
      ]
    },
    {
      "cell_type": "code",
      "metadata": {
        "colab": {
          "base_uri": "https://localhost:8080/"
        },
        "id": "u193IDVm_-UX",
        "outputId": "5a8b96f5-9248-4c73-8512-e267101ae3b6"
      },
      "source": [
        "!kaggle datasets download -d stackoverflow/stacksample"
      ],
      "execution_count": 3,
      "outputs": [
        {
          "output_type": "stream",
          "text": [
            "Downloading stacksample.zip to /content\n",
            "100% 1.10G/1.11G [00:18<00:00, 39.1MB/s]\n",
            "100% 1.11G/1.11G [00:18<00:00, 64.3MB/s]\n"
          ],
          "name": "stdout"
        }
      ]
    },
    {
      "cell_type": "code",
      "metadata": {
        "colab": {
          "base_uri": "https://localhost:8080/"
        },
        "id": "FvJu7J7lACSS",
        "outputId": "b1179fea-9f9d-4073-d7de-79c8f9582fe8"
      },
      "source": [
        "!unzip stacksample.zip"
      ],
      "execution_count": 4,
      "outputs": [
        {
          "output_type": "stream",
          "text": [
            "Archive:  stacksample.zip\n",
            "  inflating: Answers.csv             \n",
            "  inflating: Questions.csv           \n",
            "  inflating: Tags.csv                \n"
          ],
          "name": "stdout"
        }
      ]
    },
    {
      "cell_type": "code",
      "metadata": {
        "colab": {
          "base_uri": "https://localhost:8080/"
        },
        "id": "WS5LDhCYbqeW",
        "outputId": "5ab99b3d-0598-4668-b98c-4c7eb493b364"
      },
      "source": [
        "!pip install scikit-multilearn"
      ],
      "execution_count": 5,
      "outputs": [
        {
          "output_type": "stream",
          "text": [
            "Collecting scikit-multilearn\n",
            "\u001b[?25l  Downloading https://files.pythonhosted.org/packages/bb/1f/e6ff649c72a1cdf2c7a1d31eb21705110ce1c5d3e7e26b2cc300e1637272/scikit_multilearn-0.2.0-py3-none-any.whl (89kB)\n",
            "\r\u001b[K     |███▊                            | 10kB 9.5MB/s eta 0:00:01\r\u001b[K     |███████▍                        | 20kB 13.6MB/s eta 0:00:01\r\u001b[K     |███████████                     | 30kB 12.7MB/s eta 0:00:01\r\u001b[K     |██████████████▊                 | 40kB 9.1MB/s eta 0:00:01\r\u001b[K     |██████████████████▍             | 51kB 7.4MB/s eta 0:00:01\r\u001b[K     |██████████████████████          | 61kB 6.7MB/s eta 0:00:01\r\u001b[K     |█████████████████████████▊      | 71kB 6.8MB/s eta 0:00:01\r\u001b[K     |█████████████████████████████▍  | 81kB 7.3MB/s eta 0:00:01\r\u001b[K     |████████████████████████████████| 92kB 4.3MB/s \n",
            "\u001b[?25hInstalling collected packages: scikit-multilearn\n",
            "Successfully installed scikit-multilearn-0.2.0\n"
          ],
          "name": "stdout"
        }
      ]
    },
    {
      "cell_type": "code",
      "metadata": {
        "id": "0ytV8sfsAZH3"
      },
      "source": [
        "# IMPORTS\n",
        "import numpy as np\n",
        "import pandas as pd\n",
        "import matplotlib.pyplot as plt\n",
        "import seaborn as sns\n",
        "from sklearn.feature_extraction.text import CountVectorizer\n",
        "\n",
        "import re\n",
        "from nltk.corpus import stopwords\n",
        "from nltk.stem.snowball import SnowballStemmer\n",
        "from datetime import datetime\n",
        "from nltk.tokenize import word_tokenize\n",
        "from sklearn.model_selection import train_test_split\n",
        "from sklearn.feature_extraction.text import TfidfVectorizer\n",
        "stop_words = set(stopwords.words('english'))\n",
        "stemmer = SnowballStemmer(\"english\")\n",
        "\n",
        "from sklearn.multiclass import OneVsRestClassifier\n",
        "from sklearn.linear_model import SGDClassifier\n",
        "from sklearn import metrics\n",
        "from sklearn.metrics import f1_score,precision_score,recall_score\n",
        "from sklearn import svm\n",
        "from sklearn.linear_model import LogisticRegression\n",
        "from skmultilearn.adapt import mlknn\n",
        "from skmultilearn.problem_transform import ClassifierChain\n",
        "from skmultilearn.problem_transform import BinaryRelevance\n",
        "from skmultilearn.problem_transform import LabelPowerset\n",
        "from sklearn.naive_bayes import GaussianNB\n"
      ],
      "execution_count": 2,
      "outputs": []
    },
    {
      "cell_type": "code",
      "metadata": {
        "colab": {
          "base_uri": "https://localhost:8080/"
        },
        "id": "DKU9wf4zEZ7-",
        "outputId": "9774bdeb-ef06-4401-b3b8-4b213a25cee1"
      },
      "source": [
        "import nltk\n",
        "nltk.download('stopwords')\n",
        "nltk.download('punkt')"
      ],
      "execution_count": 3,
      "outputs": [
        {
          "output_type": "stream",
          "text": [
            "[nltk_data] Downloading package stopwords to /root/nltk_data...\n",
            "[nltk_data]   Package stopwords is already up-to-date!\n",
            "[nltk_data] Downloading package punkt to /root/nltk_data...\n",
            "[nltk_data]   Package punkt is already up-to-date!\n"
          ],
          "name": "stdout"
        },
        {
          "output_type": "execute_result",
          "data": {
            "text/plain": [
              "True"
            ]
          },
          "metadata": {
            "tags": []
          },
          "execution_count": 3
        }
      ]
    },
    {
      "cell_type": "code",
      "metadata": {
        "id": "Fxw_BOxkA-72"
      },
      "source": [
        "questions = pd.read_csv('Questions.csv',encoding=\"ISO-8859-1\")\n",
        "tags = pd.read_csv('Tags.csv', encoding=\"ISO-8859-1\")"
      ],
      "execution_count": 4,
      "outputs": []
    },
    {
      "cell_type": "code",
      "metadata": {
        "colab": {
          "base_uri": "https://localhost:8080/"
        },
        "id": "iZs5_ztOBKa2",
        "outputId": "26bac32c-4fa1-4b83-ee91-d00af94f8fea"
      },
      "source": [
        "#Question Structure\n",
        "idx = 8965\n",
        "Id = questions.Id[idx]\n",
        "title = questions.Title[idx]\n",
        "body = questions.Body[idx]\n",
        "score = questions.Score[idx]\n",
        "print(\"ID :\",Id)\n",
        "print(\"Title :\", title)\n",
        "print(\"Body :\", body)\n",
        "curr_tags = tags[tags.Id == Id]['Tag']\n",
        "tags_str = \", \".join(curr_tags.tolist())\n",
        "print(\"Score :\",score)\n",
        "print(\"Tags :\", tags_str)"
      ],
      "execution_count": 5,
      "outputs": [
        {
          "output_type": "stream",
          "text": [
            "ID : 584870\n",
            "Title : Why âNo database selectedâ SQLException?\n",
            "Body : <p>why this program is not executing when it goes in to the do while loop second time and why it is giving the exception \"Exception java.sql.SQLException: [MySQL][ODBC 5.1 Driver][mysqld-5.0.51a-community-nt]No database selected\"</p>\n",
            "\n",
            "<pre><code>//import java.io.InputStream;\n",
            "import java.sql.Connection;\n",
            "import java.sql.DriverManager;\n",
            "import java.sql.ResultSet;\n",
            "import java.sql.SQLException;\n",
            "import java.sql.Statement;\n",
            "import java.util.Scanner;\n",
            "import java.util.Vector;\n",
            "\n",
            "public class DataBase {\n",
            "\n",
            "    public void LoadDriver() {\n",
            "\n",
            "        // Load the JDBC-ODBC bridge driver\n",
            "        try {\n",
            "            Class.forName(\"sun.jdbc.odbc.JdbcOdbcDriver\");\n",
            "        } catch (ClassNotFoundException ee) {\n",
            "            ee.printStackTrace();\n",
            "        }\n",
            "    }\n",
            "\n",
            "    // 2.open a data source name by means of the jdbcodbcdriver.\n",
            "\n",
            "    static void connect() throws SQLException {\n",
            "\n",
            "        // Connect to the database\n",
            "        Connection con = DriverManager.getConnection(\"jdbc:odbc:MySQL\", \"root\", \"admin\");\n",
            "        Statement stmt = con.createStatement();\n",
            "        // Shut off autocommit\n",
            "        con.setAutoCommit(false);\n",
            "\n",
            "\n",
            "        System.out.println(\"1.Insert 2.Delete 3.Update 4.Select\");\n",
            "        Scanner s = new Scanner(System.in);\n",
            "        int x;\n",
            "        x = s.nextInt();\n",
            "\n",
            "        String query; // SQL select string\n",
            "        ResultSet rs; // SQL query results\n",
            "        boolean more; // \"more rows found\" switch\n",
            "        String v1, v2; // Temporary storage results\n",
            "\n",
            "        Vector&lt;Object&gt; results = new Vector&lt;Object&gt;(10);\n",
            "\n",
            "\n",
            "        if (x == 1) {\n",
            "\n",
            "            try {\n",
            "                stmt.executeUpdate(\"INSERT INTO employee( emp_id,emp_name ) VALUES ( '122','shiva' ) \");\n",
            "            } catch(Exception e){System.out.println(\"Exception \" +e);e.printStackTrace();}\n",
            "        }\n",
            "\n",
            "        if (x == 2) {\n",
            "\n",
            "            try {\n",
            "                stmt.executeUpdate(\"DELETE from employee where emp_id='102' \");\n",
            "            }catch(Exception e){System.out.println(\"Exception \"+e);e.printStackTrace();} \n",
            "        }\n",
            "\n",
            "        if (x == 3) {\n",
            "\n",
            "            try {\n",
            "                stmt\n",
            "                        .executeUpdate(\"UPDATE employee SET emp_name = 'madavan' where emp_id='20'; \");\n",
            "            } catch(Exception e){System.out.println(\"Exception \"+e);e.printStackTrace();} \n",
            "        }\n",
            "\n",
            "\n",
            "        query = \"SELECT * FROM employee \";\n",
            "        try {\n",
            "            rs = stmt.executeQuery(query);\n",
            "            // Check to see if any rows were read\n",
            "            more = rs.next();\n",
            "            if (!more) {\n",
            "\n",
            "                System.out.println(\"No rows found.\");\n",
            "                return;\n",
            "            }\n",
            "\n",
            "            // Loop through the rows retrieved from the query\n",
            "            while (more) {\n",
            "\n",
            "                v1 = \"ID: \" + rs.getInt(\"emp_id\");\n",
            "                v2 = \"Name: \" + rs.getString(\"emp_name\");\n",
            "\n",
            "                System.out.println(v1);\n",
            "                System.out.println(v2);\n",
            "                System.out.println(\"\");\n",
            "\n",
            "                results.addElement(v1 + \"\\n\" + v2 + \"\\n\");\n",
            "\n",
            "                more = rs.next();\n",
            "            }\n",
            "            rs.close();\n",
            "\n",
            "        } catch (SQLException e) {\n",
            "            System.out.println(\"\" + results.size() + \"results where found.\");\n",
            "        } \n",
            "        finally{stmt.close();}\n",
            "    }\n",
            "\n",
            "    public static void main(String[] args) throws SQLException {\n",
            "        String str = \"y\";\n",
            "        do {\n",
            "            DataBase s = new DataBase();\n",
            "            s.LoadDriver();\n",
            "            DataBase.connect();\n",
            "        Scanner sc = new Scanner(System.in);\n",
            "        System.out.println(\"DO u Want to PROCEED TO QUERY : \");\n",
            "        str = sc.next();\n",
            "        } while (str !=\"n\");\n",
            "    }\n",
            "\n",
            "}\n",
            "</code></pre>\n",
            "\n",
            "Score : 6\n",
            "Tags : java, jdbc\n"
          ],
          "name": "stdout"
        }
      ]
    },
    {
      "cell_type": "code",
      "metadata": {
        "colab": {
          "base_uri": "https://localhost:8080/",
          "height": 359
        },
        "id": "AUeO_M6cBrTj",
        "outputId": "ef6eed3f-9ec2-4e0c-f2fa-a676a0318e0a"
      },
      "source": [
        "tags.head(10)"
      ],
      "execution_count": 6,
      "outputs": [
        {
          "output_type": "execute_result",
          "data": {
            "text/html": [
              "<div>\n",
              "<style scoped>\n",
              "    .dataframe tbody tr th:only-of-type {\n",
              "        vertical-align: middle;\n",
              "    }\n",
              "\n",
              "    .dataframe tbody tr th {\n",
              "        vertical-align: top;\n",
              "    }\n",
              "\n",
              "    .dataframe thead th {\n",
              "        text-align: right;\n",
              "    }\n",
              "</style>\n",
              "<table border=\"1\" class=\"dataframe\">\n",
              "  <thead>\n",
              "    <tr style=\"text-align: right;\">\n",
              "      <th></th>\n",
              "      <th>Id</th>\n",
              "      <th>Tag</th>\n",
              "    </tr>\n",
              "  </thead>\n",
              "  <tbody>\n",
              "    <tr>\n",
              "      <th>0</th>\n",
              "      <td>80</td>\n",
              "      <td>flex</td>\n",
              "    </tr>\n",
              "    <tr>\n",
              "      <th>1</th>\n",
              "      <td>80</td>\n",
              "      <td>actionscript-3</td>\n",
              "    </tr>\n",
              "    <tr>\n",
              "      <th>2</th>\n",
              "      <td>80</td>\n",
              "      <td>air</td>\n",
              "    </tr>\n",
              "    <tr>\n",
              "      <th>3</th>\n",
              "      <td>90</td>\n",
              "      <td>svn</td>\n",
              "    </tr>\n",
              "    <tr>\n",
              "      <th>4</th>\n",
              "      <td>90</td>\n",
              "      <td>tortoisesvn</td>\n",
              "    </tr>\n",
              "    <tr>\n",
              "      <th>5</th>\n",
              "      <td>90</td>\n",
              "      <td>branch</td>\n",
              "    </tr>\n",
              "    <tr>\n",
              "      <th>6</th>\n",
              "      <td>90</td>\n",
              "      <td>branching-and-merging</td>\n",
              "    </tr>\n",
              "    <tr>\n",
              "      <th>7</th>\n",
              "      <td>120</td>\n",
              "      <td>sql</td>\n",
              "    </tr>\n",
              "    <tr>\n",
              "      <th>8</th>\n",
              "      <td>120</td>\n",
              "      <td>asp.net</td>\n",
              "    </tr>\n",
              "    <tr>\n",
              "      <th>9</th>\n",
              "      <td>120</td>\n",
              "      <td>sitemap</td>\n",
              "    </tr>\n",
              "  </tbody>\n",
              "</table>\n",
              "</div>"
            ],
            "text/plain": [
              "    Id                    Tag\n",
              "0   80                   flex\n",
              "1   80         actionscript-3\n",
              "2   80                    air\n",
              "3   90                    svn\n",
              "4   90            tortoisesvn\n",
              "5   90                 branch\n",
              "6   90  branching-and-merging\n",
              "7  120                    sql\n",
              "8  120                asp.net\n",
              "9  120                sitemap"
            ]
          },
          "metadata": {
            "tags": []
          },
          "execution_count": 6
        }
      ]
    },
    {
      "cell_type": "code",
      "metadata": {
        "id": "HcsznQ7bCY6b"
      },
      "source": [
        "tags = tags.groupby('Id').agg(lambda x: x.tolist())"
      ],
      "execution_count": 7,
      "outputs": []
    },
    {
      "cell_type": "code",
      "metadata": {
        "id": "Ni-R7DWgJv33"
      },
      "source": [
        "tags['Tag'] = tags['Tag'].str.join(\" \")"
      ],
      "execution_count": 8,
      "outputs": []
    },
    {
      "cell_type": "code",
      "metadata": {
        "colab": {
          "base_uri": "https://localhost:8080/",
          "height": 235
        },
        "id": "pK6xxpkfRDJs",
        "outputId": "57b288ba-c123-47aa-c559-39c0f4806dff"
      },
      "source": [
        "tags.head()"
      ],
      "execution_count": 9,
      "outputs": [
        {
          "output_type": "execute_result",
          "data": {
            "text/html": [
              "<div>\n",
              "<style scoped>\n",
              "    .dataframe tbody tr th:only-of-type {\n",
              "        vertical-align: middle;\n",
              "    }\n",
              "\n",
              "    .dataframe tbody tr th {\n",
              "        vertical-align: top;\n",
              "    }\n",
              "\n",
              "    .dataframe thead th {\n",
              "        text-align: right;\n",
              "    }\n",
              "</style>\n",
              "<table border=\"1\" class=\"dataframe\">\n",
              "  <thead>\n",
              "    <tr style=\"text-align: right;\">\n",
              "      <th></th>\n",
              "      <th>Tag</th>\n",
              "    </tr>\n",
              "    <tr>\n",
              "      <th>Id</th>\n",
              "      <th></th>\n",
              "    </tr>\n",
              "  </thead>\n",
              "  <tbody>\n",
              "    <tr>\n",
              "      <th>80</th>\n",
              "      <td>flex actionscript-3 air</td>\n",
              "    </tr>\n",
              "    <tr>\n",
              "      <th>90</th>\n",
              "      <td>svn tortoisesvn branch branching-and-merging</td>\n",
              "    </tr>\n",
              "    <tr>\n",
              "      <th>120</th>\n",
              "      <td>sql asp.net sitemap</td>\n",
              "    </tr>\n",
              "    <tr>\n",
              "      <th>180</th>\n",
              "      <td>algorithm language-agnostic colors color-space</td>\n",
              "    </tr>\n",
              "    <tr>\n",
              "      <th>260</th>\n",
              "      <td>c# .net scripting compiler-construction</td>\n",
              "    </tr>\n",
              "  </tbody>\n",
              "</table>\n",
              "</div>"
            ],
            "text/plain": [
              "                                                Tag\n",
              "Id                                                 \n",
              "80                          flex actionscript-3 air\n",
              "90     svn tortoisesvn branch branching-and-merging\n",
              "120                             sql asp.net sitemap\n",
              "180  algorithm language-agnostic colors color-space\n",
              "260         c# .net scripting compiler-construction"
            ]
          },
          "metadata": {
            "tags": []
          },
          "execution_count": 9
        }
      ]
    },
    {
      "cell_type": "code",
      "metadata": {
        "colab": {
          "base_uri": "https://localhost:8080/",
          "height": 204
        },
        "id": "uwJEC_NNRV1B",
        "outputId": "6dadf785-0c3c-4caa-fec2-4cef68e8428d"
      },
      "source": [
        "questions.head()"
      ],
      "execution_count": 10,
      "outputs": [
        {
          "output_type": "execute_result",
          "data": {
            "text/html": [
              "<div>\n",
              "<style scoped>\n",
              "    .dataframe tbody tr th:only-of-type {\n",
              "        vertical-align: middle;\n",
              "    }\n",
              "\n",
              "    .dataframe tbody tr th {\n",
              "        vertical-align: top;\n",
              "    }\n",
              "\n",
              "    .dataframe thead th {\n",
              "        text-align: right;\n",
              "    }\n",
              "</style>\n",
              "<table border=\"1\" class=\"dataframe\">\n",
              "  <thead>\n",
              "    <tr style=\"text-align: right;\">\n",
              "      <th></th>\n",
              "      <th>Id</th>\n",
              "      <th>OwnerUserId</th>\n",
              "      <th>CreationDate</th>\n",
              "      <th>ClosedDate</th>\n",
              "      <th>Score</th>\n",
              "      <th>Title</th>\n",
              "      <th>Body</th>\n",
              "    </tr>\n",
              "  </thead>\n",
              "  <tbody>\n",
              "    <tr>\n",
              "      <th>0</th>\n",
              "      <td>80</td>\n",
              "      <td>26.0</td>\n",
              "      <td>2008-08-01T13:57:07Z</td>\n",
              "      <td>NaN</td>\n",
              "      <td>26</td>\n",
              "      <td>SQLStatement.execute() - multiple queries in o...</td>\n",
              "      <td>&lt;p&gt;I've written a database generation script i...</td>\n",
              "    </tr>\n",
              "    <tr>\n",
              "      <th>1</th>\n",
              "      <td>90</td>\n",
              "      <td>58.0</td>\n",
              "      <td>2008-08-01T14:41:24Z</td>\n",
              "      <td>2012-12-26T03:45:49Z</td>\n",
              "      <td>144</td>\n",
              "      <td>Good branching and merging tutorials for Torto...</td>\n",
              "      <td>&lt;p&gt;Are there any really good tutorials explain...</td>\n",
              "    </tr>\n",
              "    <tr>\n",
              "      <th>2</th>\n",
              "      <td>120</td>\n",
              "      <td>83.0</td>\n",
              "      <td>2008-08-01T15:50:08Z</td>\n",
              "      <td>NaN</td>\n",
              "      <td>21</td>\n",
              "      <td>ASP.NET Site Maps</td>\n",
              "      <td>&lt;p&gt;Has anyone got experience creating &lt;strong&gt;...</td>\n",
              "    </tr>\n",
              "    <tr>\n",
              "      <th>3</th>\n",
              "      <td>180</td>\n",
              "      <td>2089740.0</td>\n",
              "      <td>2008-08-01T18:42:19Z</td>\n",
              "      <td>NaN</td>\n",
              "      <td>53</td>\n",
              "      <td>Function for creating color wheels</td>\n",
              "      <td>&lt;p&gt;This is something I've pseudo-solved many t...</td>\n",
              "    </tr>\n",
              "    <tr>\n",
              "      <th>4</th>\n",
              "      <td>260</td>\n",
              "      <td>91.0</td>\n",
              "      <td>2008-08-01T23:22:08Z</td>\n",
              "      <td>NaN</td>\n",
              "      <td>49</td>\n",
              "      <td>Adding scripting functionality to .NET applica...</td>\n",
              "      <td>&lt;p&gt;I have a little game written in C#. It uses...</td>\n",
              "    </tr>\n",
              "  </tbody>\n",
              "</table>\n",
              "</div>"
            ],
            "text/plain": [
              "    Id  ...                                               Body\n",
              "0   80  ...  <p>I've written a database generation script i...\n",
              "1   90  ...  <p>Are there any really good tutorials explain...\n",
              "2  120  ...  <p>Has anyone got experience creating <strong>...\n",
              "3  180  ...  <p>This is something I've pseudo-solved many t...\n",
              "4  260  ...  <p>I have a little game written in C#. It uses...\n",
              "\n",
              "[5 rows x 7 columns]"
            ]
          },
          "metadata": {
            "tags": []
          },
          "execution_count": 10
        }
      ]
    },
    {
      "cell_type": "code",
      "metadata": {
        "id": "IaSbR5FXRG0x"
      },
      "source": [
        "df = pd.merge(questions, tags, on='Id')"
      ],
      "execution_count": 11,
      "outputs": []
    },
    {
      "cell_type": "code",
      "metadata": {
        "colab": {
          "base_uri": "https://localhost:8080/",
          "height": 529
        },
        "id": "34SiJswMRJKm",
        "outputId": "130da587-f65f-4fc3-8d93-c2a5a7938b3b"
      },
      "source": [
        "df.head(10)"
      ],
      "execution_count": 12,
      "outputs": [
        {
          "output_type": "execute_result",
          "data": {
            "text/html": [
              "<div>\n",
              "<style scoped>\n",
              "    .dataframe tbody tr th:only-of-type {\n",
              "        vertical-align: middle;\n",
              "    }\n",
              "\n",
              "    .dataframe tbody tr th {\n",
              "        vertical-align: top;\n",
              "    }\n",
              "\n",
              "    .dataframe thead th {\n",
              "        text-align: right;\n",
              "    }\n",
              "</style>\n",
              "<table border=\"1\" class=\"dataframe\">\n",
              "  <thead>\n",
              "    <tr style=\"text-align: right;\">\n",
              "      <th></th>\n",
              "      <th>Id</th>\n",
              "      <th>OwnerUserId</th>\n",
              "      <th>CreationDate</th>\n",
              "      <th>ClosedDate</th>\n",
              "      <th>Score</th>\n",
              "      <th>Title</th>\n",
              "      <th>Body</th>\n",
              "      <th>Tag</th>\n",
              "    </tr>\n",
              "  </thead>\n",
              "  <tbody>\n",
              "    <tr>\n",
              "      <th>0</th>\n",
              "      <td>80</td>\n",
              "      <td>26.0</td>\n",
              "      <td>2008-08-01T13:57:07Z</td>\n",
              "      <td>NaN</td>\n",
              "      <td>26</td>\n",
              "      <td>SQLStatement.execute() - multiple queries in o...</td>\n",
              "      <td>&lt;p&gt;I've written a database generation script i...</td>\n",
              "      <td>flex actionscript-3 air</td>\n",
              "    </tr>\n",
              "    <tr>\n",
              "      <th>1</th>\n",
              "      <td>90</td>\n",
              "      <td>58.0</td>\n",
              "      <td>2008-08-01T14:41:24Z</td>\n",
              "      <td>2012-12-26T03:45:49Z</td>\n",
              "      <td>144</td>\n",
              "      <td>Good branching and merging tutorials for Torto...</td>\n",
              "      <td>&lt;p&gt;Are there any really good tutorials explain...</td>\n",
              "      <td>svn tortoisesvn branch branching-and-merging</td>\n",
              "    </tr>\n",
              "    <tr>\n",
              "      <th>2</th>\n",
              "      <td>120</td>\n",
              "      <td>83.0</td>\n",
              "      <td>2008-08-01T15:50:08Z</td>\n",
              "      <td>NaN</td>\n",
              "      <td>21</td>\n",
              "      <td>ASP.NET Site Maps</td>\n",
              "      <td>&lt;p&gt;Has anyone got experience creating &lt;strong&gt;...</td>\n",
              "      <td>sql asp.net sitemap</td>\n",
              "    </tr>\n",
              "    <tr>\n",
              "      <th>3</th>\n",
              "      <td>180</td>\n",
              "      <td>2089740.0</td>\n",
              "      <td>2008-08-01T18:42:19Z</td>\n",
              "      <td>NaN</td>\n",
              "      <td>53</td>\n",
              "      <td>Function for creating color wheels</td>\n",
              "      <td>&lt;p&gt;This is something I've pseudo-solved many t...</td>\n",
              "      <td>algorithm language-agnostic colors color-space</td>\n",
              "    </tr>\n",
              "    <tr>\n",
              "      <th>4</th>\n",
              "      <td>260</td>\n",
              "      <td>91.0</td>\n",
              "      <td>2008-08-01T23:22:08Z</td>\n",
              "      <td>NaN</td>\n",
              "      <td>49</td>\n",
              "      <td>Adding scripting functionality to .NET applica...</td>\n",
              "      <td>&lt;p&gt;I have a little game written in C#. It uses...</td>\n",
              "      <td>c# .net scripting compiler-construction</td>\n",
              "    </tr>\n",
              "    <tr>\n",
              "      <th>5</th>\n",
              "      <td>330</td>\n",
              "      <td>63.0</td>\n",
              "      <td>2008-08-02T02:51:36Z</td>\n",
              "      <td>NaN</td>\n",
              "      <td>29</td>\n",
              "      <td>Should I use nested classes in this case?</td>\n",
              "      <td>&lt;p&gt;I am working on a collection of classes use...</td>\n",
              "      <td>c++ oop class nested-class</td>\n",
              "    </tr>\n",
              "    <tr>\n",
              "      <th>6</th>\n",
              "      <td>470</td>\n",
              "      <td>71.0</td>\n",
              "      <td>2008-08-02T15:11:47Z</td>\n",
              "      <td>2016-03-26T05:23:29Z</td>\n",
              "      <td>13</td>\n",
              "      <td>Homegrown consumption of web services</td>\n",
              "      <td>&lt;p&gt;I've been writing a few web services for a ...</td>\n",
              "      <td>.net web-services</td>\n",
              "    </tr>\n",
              "    <tr>\n",
              "      <th>7</th>\n",
              "      <td>580</td>\n",
              "      <td>91.0</td>\n",
              "      <td>2008-08-02T23:30:59Z</td>\n",
              "      <td>NaN</td>\n",
              "      <td>21</td>\n",
              "      <td>Deploying SQL Server Databases from Test to Live</td>\n",
              "      <td>&lt;p&gt;I wonder how you guys manage deployment of ...</td>\n",
              "      <td>sql-server sql-server-2005 deployment release-...</td>\n",
              "    </tr>\n",
              "    <tr>\n",
              "      <th>8</th>\n",
              "      <td>650</td>\n",
              "      <td>143.0</td>\n",
              "      <td>2008-08-03T11:12:52Z</td>\n",
              "      <td>NaN</td>\n",
              "      <td>79</td>\n",
              "      <td>Automatically update version number</td>\n",
              "      <td>&lt;p&gt;I would like the version property of my app...</td>\n",
              "      <td>c# visual-studio versioning</td>\n",
              "    </tr>\n",
              "    <tr>\n",
              "      <th>9</th>\n",
              "      <td>810</td>\n",
              "      <td>233.0</td>\n",
              "      <td>2008-08-03T20:35:01Z</td>\n",
              "      <td>NaN</td>\n",
              "      <td>9</td>\n",
              "      <td>Visual Studio Setup Project - Per User Registr...</td>\n",
              "      <td>&lt;p&gt;I'm trying to maintain a Setup Project in &lt;...</td>\n",
              "      <td>windows visual-studio registry installation</td>\n",
              "    </tr>\n",
              "  </tbody>\n",
              "</table>\n",
              "</div>"
            ],
            "text/plain": [
              "    Id  ...                                                Tag\n",
              "0   80  ...                            flex actionscript-3 air\n",
              "1   90  ...       svn tortoisesvn branch branching-and-merging\n",
              "2  120  ...                                sql asp.net sitemap\n",
              "3  180  ...     algorithm language-agnostic colors color-space\n",
              "4  260  ...            c# .net scripting compiler-construction\n",
              "5  330  ...                         c++ oop class nested-class\n",
              "6  470  ...                                  .net web-services\n",
              "7  580  ...  sql-server sql-server-2005 deployment release-...\n",
              "8  650  ...                        c# visual-studio versioning\n",
              "9  810  ...        windows visual-studio registry installation\n",
              "\n",
              "[10 rows x 8 columns]"
            ]
          },
          "metadata": {
            "tags": []
          },
          "execution_count": 12
        }
      ]
    },
    {
      "cell_type": "code",
      "metadata": {
        "colab": {
          "base_uri": "https://localhost:8080/"
        },
        "id": "uToJHDP4TIoP",
        "outputId": "e881cfd5-267c-4cda-d8ae-258cbc69f0dd"
      },
      "source": [
        "def removeHtmlTags(data):\n",
        "    cleaner = re.compile('<.*?>')\n",
        "    clean_text = re.sub(cleaner,\" \",str(data))\n",
        "    return clean_text\n",
        "sent = \"<html><p>hello world</p></html>\"\n",
        "rece = removeHtmlTags(sent)\n",
        "print(rece)"
      ],
      "execution_count": 13,
      "outputs": [
        {
          "output_type": "stream",
          "text": [
            "  hello world  \n"
          ],
          "name": "stdout"
        }
      ]
    },
    {
      "cell_type": "code",
      "metadata": {
        "id": "LSBJVjWSVD0A"
      },
      "source": [
        "preprossed_data = []\n",
        "questions_proccesed = 0\n",
        "data_size = 50000"
      ],
      "execution_count": 14,
      "outputs": []
    },
    {
      "cell_type": "code",
      "metadata": {
        "colab": {
          "base_uri": "https://localhost:8080/"
        },
        "id": "0sIuVLqCVG07",
        "outputId": "1d170a35-9917-4843-8a92-da084606b65b"
      },
      "source": [
        "start = datetime.now()\n",
        "questions_with_code=0\n",
        "for i in range(min(data_size, len(questions))):\n",
        "    is_code = 0\n",
        "\n",
        "    title = df['Title'][i]\n",
        "    question = df['Body'][i]\n",
        "    tag = df['Tag'][i]\n",
        "    \n",
        "    if '<code>' in question:\n",
        "        questions_with_code+=1\n",
        "        is_code = 1\n",
        "    x = len(question)+len(title)\n",
        "\n",
        "    code = str(re.findall(r'<code>(.*?)</code>', question, flags=re.DOTALL))\n",
        "\n",
        "    question=re.sub('<code>(.*?)</code>', '', question, flags=re.MULTILINE|re.DOTALL)\n",
        "    question=removeHtmlTags(question.encode('utf-8'))\n",
        "\n",
        "    title=title.encode('utf-8')\n",
        "\n",
        "    question=str(title)+\" \"+str(question)\n",
        "    question=re.sub(r'[^A-Za-z]+',' ',question)\n",
        "    words=word_tokenize(str(question.lower()))\n",
        "    question=' '.join(str(stemmer.stem(j)) for j in words if j not in stop_words and (len(j)!=1 or j=='c'))\n",
        "    tup = (question,code,is_code,tag)\n",
        "    preprossed_data.append(tup)\n",
        "    questions_proccesed += 1\n",
        "    if (questions_proccesed%10000==0):\n",
        "        print(\"number of questions completed=\",questions_proccesed)\n",
        "    \n",
        "print(\"Time take to execute this cell \", datetime.now()-start)"
      ],
      "execution_count": 15,
      "outputs": [
        {
          "output_type": "stream",
          "text": [
            "number of questions completed= 10000\n",
            "number of questions completed= 20000\n",
            "number of questions completed= 30000\n",
            "number of questions completed= 40000\n",
            "number of questions completed= 50000\n",
            "Time take to execute this cell  0:01:08.841446\n"
          ],
          "name": "stdout"
        }
      ]
    },
    {
      "cell_type": "code",
      "metadata": {
        "colab": {
          "base_uri": "https://localhost:8080/"
        },
        "id": "BzBjHtzVV2Aq",
        "outputId": "c8d90a2f-b8e0-40e1-9c99-5bbd330d6072"
      },
      "source": [
        "preprossed_data[25]"
      ],
      "execution_count": 16,
      "outputs": [
        {
          "output_type": "execute_result",
          "data": {
            "text/plain": [
              "('travers collect classic asp want abl thing thing nend classic asp net',\n",
              " '[]',\n",
              " 0,\n",
              " 'asp-classic vbscript')"
            ]
          },
          "metadata": {
            "tags": []
          },
          "execution_count": 16
        }
      ]
    },
    {
      "cell_type": "code",
      "metadata": {
        "id": "eOXkOLmoWsi0"
      },
      "source": [
        "data = pd.DataFrame(preprossed_data[:data_size], columns =['question', 'code', 'is_code','tag'])\n",
        "data.drop(['is_code','code'], axis =1, inplace=True)"
      ],
      "execution_count": 17,
      "outputs": []
    },
    {
      "cell_type": "code",
      "metadata": {
        "colab": {
          "base_uri": "https://localhost:8080/",
          "height": 204
        },
        "id": "aIDQ4dInXCTv",
        "outputId": "5bac3296-1b84-4eeb-bbe9-a5cadd0b2a91"
      },
      "source": [
        "data.head()"
      ],
      "execution_count": 18,
      "outputs": [
        {
          "output_type": "execute_result",
          "data": {
            "text/html": [
              "<div>\n",
              "<style scoped>\n",
              "    .dataframe tbody tr th:only-of-type {\n",
              "        vertical-align: middle;\n",
              "    }\n",
              "\n",
              "    .dataframe tbody tr th {\n",
              "        vertical-align: top;\n",
              "    }\n",
              "\n",
              "    .dataframe thead th {\n",
              "        text-align: right;\n",
              "    }\n",
              "</style>\n",
              "<table border=\"1\" class=\"dataframe\">\n",
              "  <thead>\n",
              "    <tr style=\"text-align: right;\">\n",
              "      <th></th>\n",
              "      <th>question</th>\n",
              "      <th>tag</th>\n",
              "    </tr>\n",
              "  </thead>\n",
              "  <tbody>\n",
              "    <tr>\n",
              "      <th>0</th>\n",
              "      <td>sqlstatement execut multipl queri one statemen...</td>\n",
              "      <td>flex actionscript-3 air</td>\n",
              "    </tr>\n",
              "    <tr>\n",
              "      <th>1</th>\n",
              "      <td>good branch merg tutori tortoisesvn realli goo...</td>\n",
              "      <td>svn tortoisesvn branch branching-and-merging</td>\n",
              "    </tr>\n",
              "    <tr>\n",
              "      <th>2</th>\n",
              "      <td>asp net site map anyon got experi creat sql ba...</td>\n",
              "      <td>sql asp.net sitemap</td>\n",
              "    </tr>\n",
              "    <tr>\n",
              "      <th>3</th>\n",
              "      <td>function creat color wheel someth pseudo solv ...</td>\n",
              "      <td>algorithm language-agnostic colors color-space</td>\n",
              "    </tr>\n",
              "    <tr>\n",
              "      <th>4</th>\n",
              "      <td>ad script function net applic littl game writt...</td>\n",
              "      <td>c# .net scripting compiler-construction</td>\n",
              "    </tr>\n",
              "  </tbody>\n",
              "</table>\n",
              "</div>"
            ],
            "text/plain": [
              "                                            question                                             tag\n",
              "0  sqlstatement execut multipl queri one statemen...                         flex actionscript-3 air\n",
              "1  good branch merg tutori tortoisesvn realli goo...    svn tortoisesvn branch branching-and-merging\n",
              "2  asp net site map anyon got experi creat sql ba...                             sql asp.net sitemap\n",
              "3  function creat color wheel someth pseudo solv ...  algorithm language-agnostic colors color-space\n",
              "4  ad script function net applic littl game writt...         c# .net scripting compiler-construction"
            ]
          },
          "metadata": {
            "tags": []
          },
          "execution_count": 18
        }
      ]
    },
    {
      "cell_type": "code",
      "metadata": {
        "id": "QrlcNflzXEZ_"
      },
      "source": [
        "vectorizer = CountVectorizer(tokenizer = lambda x: x.split(), binary='true')\n",
        "Y = vectorizer.fit_transform(data['tag'].values.astype('U'))"
      ],
      "execution_count": 19,
      "outputs": []
    },
    {
      "cell_type": "code",
      "metadata": {
        "colab": {
          "base_uri": "https://localhost:8080/"
        },
        "id": "Xy4w7TPJFc2L",
        "outputId": "c5e246df-ccb5-4a7c-8fc5-ec89e8d01531"
      },
      "source": [
        "print(vectorizer.get_feature_names())"
      ],
      "execution_count": 20,
      "outputs": [
        {
          "output_type": "stream",
          "text": [
            "['.app', '.bash-profile', '.doc', '.emf', '.htaccess', '.net', '.net-1.0', '.net-1.1', '.net-2.0', '.net-3.0', '.net-3.5', '.net-4.0', '.net-4.0-beta-2', '.net-assembly', '.net-attributes', '.net-client-profile', '.net-framework-source', '.net-micro-framework', '.net-remoting', '.netrc', '.nettiers', '.post', '.sbr', '.war', '16-bit', '2-satisfiability', '2-tier', '256color', '2d', '3-tier', '32-bit', '32bit-64bit', '3d', '3d-studio', '3dcamera', '3des', '3dsmax', '3gp', '64bit', '6502', '68000', '7bit', '7zip', '8-puzzle', '8051', '960.gs', 'a-star', 'aasm', 'ab-testing', 'abaddressbook', 'abap', 'abbr', 'abcpdf', 'abi', 'ablecommerce', 'abort', 'about-box', 'abpeoplepickerview', 'abpersonviewcontroller', 'absolute-path', 'absolute-value', 'absolutelayout', 'abstract', 'abstract-base-class', 'abstract-class', 'abstract-data-type', 'abstract-factory', 'abstract-function', 'abstract-syntax-tree', 'abstraction', 'abuse', 'acceleration', 'accelerator', 'acceleratorkey', 'accelerometer', 'accent-insensitive', 'acceptance-testing', 'access-control', 'access-denied', 'access-levels', 'access-modifiers', 'access-specifier', 'access-synchronization', 'access-vba', 'access-violation', 'accesscontrolservice', 'accessibility', 'accessor', 'accordion', 'accordionpane', 'account', 'account-management', 'accounting', 'accounts', 'accurev', 'ace', 'ace-tao', 'acid', 'ack', 'acl', 'acoustics', 'acpi', 'acrobat', 'action', 'action-filter', 'actioncontroller', 'actionfilterattribute', 'actionlink', 'actionmailer', 'actionresult', 'actionscript', 'actionscript-2', 'actionscript-3', 'actionview', 'activation', 'activator', 'active-directory', 'activedirectorymembership', 'activemerchant', 'activemq', 'activeperl', 'activeqt', 'activerecord', 'activereports', 'activeresource', 'activescaffold', 'activesupport', 'activesync', 'activeview', 'activex', 'activexobject', 'activity-indicator', 'activity-lifecycle', 'activity-monitor', 'actor', 'acts-as-ferret', 'acts-as-nested-set', 'acts-as-state-machine', 'acts-as-taggable', 'acts-as-tree', 'ada', 'adaboost', 'adam', 'adapter', 'adb', 'adblock', 'adc', 'add', 'add-in', 'add-on', 'addclass', 'addeventlistener', 'addhandler', 'addition', 'addressbook', 'addressing-mode', 'addressof', 'adfs', 'adhoc', 'adium', 'adjacency-list', 'adjustment', 'admin', 'administration', 'administrator', 'admob', 'ado', 'ado.net', 'ado.net-entity-data-model', 'adobe', 'adobe-director', 'adobe-illustrator', 'adobe-reader', 'adodb', 'adodb-php', 'adoption', 'adorner', 'adornerdecorator', 'adp', 'adpcm', 'ads', 'adsense', 'adsi', 'adt', 'advanced-installer', 'advanced-queuing', 'advanceddatagrid', 'adventureworks', 'advertised-shortcut', 'advertising', 'aero', 'aero-glass', 'aes', 'aether', 'afconvert', 'affiliate', 'affinetransform', 'affinity', 'after-save', 'afx', 'agent', 'agents', 'agents-jade', 'aggregate', 'aggregate-functions', 'aggregateroot', 'aggregation', 'aggregators', 'agi', 'agile', 'agile-processes', 'agile-project-management', 'aidl', 'aim', 'aiml', 'air', 'aix', 'ajax', 'ajax.net', 'ajax4jsf', 'ajaxcontroltoolkit', 'ajaxform', 'ajaxpro', 'ajp', 'akamai', 'alarm', 'alert', 'alerts', 'alfresco', 'algebra', 'algebraic-data-types', 'algol68', 'algorithm', 'alias', 'alias-data-type', 'aliasing', 'alice', 'alignment', 'alloc', 'alloca', 'allocation', 'alpha', 'alpha-transparency', 'alphabetical', 'alphabetized', 'alphablending', 'alphanumeric', 'alsa', 'alt', 'alt-attribute', 'alter', 'alter-table', 'altera', 'alternate-data-stream', 'amara', 'amazon', 'amazon-cloudfront', 'amazon-ebs', 'amazon-ec2', 'amazon-product-api', 'amazon-rds', 'amazon-s3', 'amazon-simpledb', 'amazon-sqs', 'amazon-web-services', 'ambiguity', 'ambiguous', 'amcharts', 'amd-processor', 'amend', 'amf', 'amfphp', 'ami', 'amortized-analysis', 'ampersand', 'amqp', 'amr', 'analysis', 'analytic-functions', 'analytics', 'analyzer', 'ancestor', 'anchor', 'android', 'android-1.5-cupcake', 'android-activity', 'android-asynctask', 'android-context', 'android-dialog', 'android-edittext', 'android-emulator', 'android-imageview', 'android-intent', 'android-launcher', 'android-layout', 'android-linearlayout', 'android-listview', 'android-manifest', 'android-mapview', 'android-ndk', 'android-scripting', 'android-sdcard', 'android-sensors', 'android-source', 'android-textview', 'android-toast', 'android-view', 'android-webview', 'android-widget', 'angle', 'animated', 'animated-gif', 'animation', 'animationextender', 'ankhsvn', 'annotations', 'anonymous', 'anonymous-access', 'anonymous-class', 'anonymous-function', 'anonymous-inner-class', 'anonymous-methods', 'anonymous-objects', 'anonymous-types', 'anonymous-users', 'ansi', 'ansi-sql', 'ant', 'anti-patterns', 'antialiasing', 'antiforgerytoken', 'antivirus', 'antixsslibrary', 'antlr', 'antlr3', 'aol', 'aop', 'aopalliance', 'aot', 'apache', 'apache-abdera', 'apache-camel', 'apache-chainsaw', 'apache-coccoon', 'apache-commons', 'apache-commons-collection', 'apache-commons-dbcp', 'apache-commons-email', 'apache-commons-fileupload', 'apache-commons-httpclient', 'apache-commons-io', 'apache-commons-logging', 'apache-config', 'apache-felix', 'apache-httpcomponents', 'apache-karaf', 'apache-mina', 'apache-pig', 'apache-poi', 'apache-shindig', 'apache2', 'apache2.2', 'apachebench', 'apacheds', 'apc', 'apdu', 'apex-code', 'api', 'api-design', 'api-key', 'apl', 'apm', 'apns-sharp', 'apostrophe', 'app-code', 'app-config', 'app-data', 'app-engine-patch', 'app-offline.htm', 'app-store', 'app-themes', 'appcelerator', 'appcmd', 'appcompat', 'appdata', 'appdomain', 'appearance', 'append', 'appendchild', 'appender', 'appfabric', 'appframework', 'appkit', 'apple', 'apple-expose', 'apple-mail', 'apple-push-notifications', 'applescript', 'applescript-excel', 'applet', 'application-blocks', 'application-data', 'application-design', 'application-end', 'application-error', 'application-framework', 'application-pool', 'application-role', 'application-server', 'application-settings', 'application-shutdown', 'application-start', 'application-verifier', 'application.cfc', 'application.cfm', 'applicationcontext', 'applicationhost', 'applicationpage', 'apply', 'apply-templates', 'approval', 'appscript', 'appsettings', 'appstore-approval', 'appworld', 'apr', 'apt', 'apt-get', 'aptana', 'aptitude', 'aquamacs', 'arabic', 'arbitrary-precision', 'arc-lisp', 'arcball', 'arcgis', 'arcgis-js-api', 'archetypes', 'architectural-patterns', 'architecture', 'archive', 'archiving', 'arcobjects', 'arduino', 'area', 'areas', 'argument-passing', 'argument-validation', 'argumentexception', 'argumentnullexception', 'arguments', 'arity', 'arm', 'arp', 'array-initialization', 'array-initialize', 'arraycollection', 'arraylist', 'arrayobject', 'arrays', 'arrow', 'article', 'artifacts', 'artificial-intelligence', 'artificial-life', 'as-keyword', 'ascii', 'ascii-art', 'ascription', 'ascx', 'asdf', 'asdoc', 'asf', 'ashx', 'asihttprequest', 'asmx', 'asp-classic', 'asp.net', 'asp.net-1.1', 'asp.net-2.0', 'asp.net-3.5', 'asp.net-4.0', 'asp.net-ajax', 'asp.net-authorization', 'asp.net-controls', 'asp.net-customcontrol', 'asp.net-dynamic-data', 'asp.net-membership', 'asp.net-mvc', 'asp.net-mvc-2', 'asp.net-mvc-2-validation', 'asp.net-mvc-3', 'asp.net-mvc-ajax', 'asp.net-mvc-areas', 'asp.net-mvc-beta1', 'asp.net-mvc-futures', 'asp.net-mvc-partialview', 'asp.net-mvc-routing', 'asp.net-profiles', 'asp.net-roles', 'asp.net-routing', 'asp.net-session', 'aspdotnetstorefront', 'aspect-ratio', 'aspectj', 'aspects', 'aspmenu', 'aspnet-compiler', 'aspnetdb', 'aspwizard', 'aspxgridview', 'assemblies', 'assembly', 'assembly-attributes', 'assembly-reference-path', 'assembly-resolution', 'assembly.load', 'assemblybinding', 'assemblyinfo', 'assemblyversions', 'assert', 'assertion', 'assertions', 'asset-management', 'assets', 'assignment-operator', 'associations', 'associative', 'associative-array', 'asterisk', 'astoria', 'astronomy', 'asunit', 'asx', 'asymptotic-complexity', 'async-workflow', 'asyncfileupload', 'asynchronous', 'asynchronous-pages', 'asynchronous-postback', 'asynchronous-wcf-call', 'asyncore', 'at-command', 'atexit', 'atl', 'atlassian-crucible', 'atlcom', 'atoi', 'atom', 'atomic', 'attached-properties', 'attachedbehaviors', 'attachment', 'attachment-fu', 'attribute-exchange', 'attributeerror', 'attributes', 'attributeusage', 'audio', 'audio-converter', 'audio-player', 'audio-processing', 'audio-recording', 'audio-streaming', 'audioqueueservices', 'audit', 'audit-trail', 'auditing', 'augmented-reality', 'authentication', 'authenticode', 'authkit', 'authlogic', 'authoring', 'authority', 'authorization', 'authorize', 'authorize-attribute', 'auto-generate', 'auto-increment', 'auto-populate', 'auto-ptr', 'auto-update', 'auto-versioning', 'autobench', 'autoboxing', 'autocad', 'autocommenting', 'autocommit', 'autocomplete', 'autocompleteextender', 'autoconf', 'autofac', 'autofield', 'autofill', 'autoformatting', 'autogeneratecolumn', 'autohotkey', 'autoit', 'autoload', 'autoloader', 'automake', 'automapper', 'automapping', 'automata', 'automated-deploy', 'automated-tests', 'automatic-properties', 'automation', 'automaton', 'automator', 'automerge', 'autonumber', 'autoplay', 'autopostback', 'autorelease', 'autoresize', 'autorun', 'autosave', 'autosize', 'autostart', 'autosuggest', 'autotest', 'autotools', 'avatar', 'avaudioplayer', 'avaudiorecorder', 'avd', 'average', 'avfoundation', 'avi', 'avl-tree', 'avm2', 'avr', 'avr-gcc', 'avrdude', 'awk', 'awr', 'awstats', 'awt', 'awtrobot', 'axapta', 'axes', 'axis', 'axis2', 'axum', 'azimuth', 'azman', 'azure', 'b-method', 'b-tree', 'back', 'back-button', 'backcolor', 'backend', 'background', 'background-application', 'background-color', 'background-image', 'background-position', 'background-process', 'background-subtraction', 'backgroundworker', 'backing-field', 'backlight', 'backpropagation', 'backslash', 'backticks', 'backtrace', 'backup', 'backup-strategies', 'backwards-compatibility', 'bada', 'badimageformatexception', 'baduk', 'bag', 'bakefile', 'balloon', 'bamboo', 'bandwidth', 'banking', 'banner', 'bapi', 'bar-chart', 'barcode', 'barcode-scanner', 'base', 'base-class', 'base-tag', 'base-url', 'base64', 'baseline', 'bash', 'bash-completion', 'bash4', 'basic', 'basic-authentication', 'basichttpbinding', 'basm', 'batch-file', 'batch-processing', 'batching', 'batik', 'bayesian-networks', 'bazaar', 'bbc-glow', 'bbcode', 'bbpress', 'bcd', 'bcel', 'bcl', 'bcp', 'bcrypt', 'bcrypt.net', 'bdc', 'bdd', 'bde', 'bduf', 'bea', 'beam', 'beamer', 'bean-validation', 'beansbinding', 'beanstalk', 'beanstalkd', 'beautifier', 'beautifulsoup', 'beautytips', 'beep', 'beepbeep', 'beforeupdate', 'begininvoke', 'behavior', 'belongs-to', 'benchmarking', 'berkeley-db', 'berkeley-db-je', 'beta', 'between', 'beyondcompare', 'bezier', 'bezier-curve', 'bgp', 'bho', 'bibtex', 'bidi', 'bidirectional', 'bids', 'big-endian', 'big-o', 'bigdecimal', 'bigint', 'biginteger', 'bignum', 'bigtable', 'billing', 'bin-packing', 'binaries', 'binary', 'binary-compatibility', 'binary-data', 'binary-reproducibility', 'binary-search', 'binary-search-tree', 'binary-tree', 'binaryfiles', 'binaryformatter', 'binaryreader', 'binarystream', 'bind', 'binding', 'bindinglist', 'bindingsource', 'bindvalue', 'bing', 'bing-api', 'bing-maps', 'binlog', 'binomial-cdf', 'binomial-coefficients', 'binutils', 'bioinformatics', 'biometrics', 'biopython', 'bios', 'birt', 'birthday-paradox', 'bison', 'bit', 'bit-fields', 'bit-manipulation', 'bit-masks', 'bit-shift', 'bit.ly', 'bitblit', 'bitblt', 'bitbucket', 'bitcount', 'bitmap', 'bitmap-fonts', 'bitmapdata', 'bitmapimage', 'bitmask', 'bitrate', 'bits-service', 'bittorrent', 'bitvector', 'bitwise-and', 'bitwise-operators', 'bizspark', 'biztalk', 'biztalk-bam', 'biztalk-deployment', 'biztalk2006r2', 'bjam', 'black-box', 'blackberry', 'blackberry-eclipse-plugin', 'blackberry-os-v5', 'blackberry-simulator', 'blackberry-storm', 'blackjack', 'blame', 'blas', 'blat', 'blazeds', 'blend', 'blending', 'blind', 'blitz++', 'bll', 'blob', 'blobs', 'blocking', 'blockui', 'blogengine.net', 'blogger', 'blogs', 'blogspot', 'bloom-filter', 'blowfish', 'blu-ray', 'bluehost', 'blueprint-css', 'bluetooth', 'blur', 'bmp', 'bnf', 'bold', 'bonjour', 'boo', 'bookmarklet', 'bookmarks', 'boolean', 'boolean-expression', 'boolean-logic', 'boolean-operations', 'boost', 'boost-asio', 'boost-bind', 'boost-bjam', 'boost-build', 'boost-date-time', 'boost-filesystem', 'boost-fusion', 'boost-graph', 'boost-iostreams', 'boost-lambda', 'boost-mpl', 'boost-program-options', 'boost-python', 'boost-serialization', 'boost-signals', 'boost-spirit', 'boost-spirit-qi', 'boost-test', 'boost-thread', 'boost-tuples', 'boot', 'bootloader', 'bootstrapper', 'bootstrapping', 'border', 'border-layout', 'bots', 'bounce', 'bouncycastle', 'boundcolumn', 'bounded-wildcard', 'boundfield', 'bounding-box', 'bounds', 'bounds-checker', 'box2d', 'boxing', 'bpel', 'bpl', 'bpm', 'brace-expansion', 'braces', 'brackets', 'branch', 'branching-and-merging', 'branding', 'breadcrumbs', 'breadth-first-search', 'break', 'breakpoints', 'bridge', 'brief-bookmarks', 'brightness', 'broadband', 'broadcast', 'broadcasting', 'broadcastreceiver', 'broadcom', 'brokenimage', 'broker', 'browser', 'browser-automation', 'browser-cache', 'browser-detection', 'browser-history', 'browser-plugin', 'browser-support', 'browsercaps', 'browsercms', 'brush', 'brushes', 'brute-force', 'bsd', 'bsearch', 'bsod', 'bsp', 'bssid', 'bstr', 'bubble-sort', 'buffer', 'buffer-overflow', 'bufferedimage', 'bufferedinputstream', 'bufferedreader', 'bufferedstream', 'buffering', 'bug-reporting', 'bug-tracking', 'bugzilla', 'build', 'build-automation', 'build-environment', 'build-error', 'build-process', 'build-server', 'build-time', 'build.xml', 'buildaction', 'buildbot', 'buildconfig', 'builder', 'building', 'buildout', 'buildpath', 'buildr', 'built-in', 'builtin', 'bulk', 'bulkinsert', 'bulksms', 'bundle', 'bundler', 'bundles', 'bus-error', 'business-application', 'business-intelligence', 'business-logic', 'business-logic-layer', 'business-objects', 'business-objects-sdk', 'business-process', 'business-rules', 'businessworks', 'busybox', 'button', 'buttonclick', 'buttonfield', 'buzzword-compliance', 'bwidget', 'byref', 'byte', 'byte-order-mark', 'byte-shifting', 'bytearray', 'bytebuffer', 'bytecode', 'byval', 'bzip', 'c', 'c#', 'c#-2.0', 'c#-3.0', 'c#-4.0', 'c#-to-vb.net', 'c++', 'c++-cli', 'c++-concepts', 'c++-faq', 'c++-standard-library', 'c++03', 'c++11', 'c++builder', 'c++builder-2007', 'c++builder-2009', 'c++builder-5', 'c-preprocessor', 'c-strings', 'c1001', 'c3p0', 'c5', 'c64', 'c89', 'c99', 'ca1001', 'caa', 'cab', 'cabal', 'cabasicanimation', 'cac', 'cache-control', 'cache-dependency', 'cachedrowset', 'caching', 'caching-application-block', 'cacti', 'cad', 'caf', 'cag', 'cairngorm', 'cairo', 'cakephp', 'cakephp-1.2', 'cakephp-appmodel', 'cakeyframeanimation', 'cal', 'calayer', 'calc', 'calculated-columns', 'calculator', 'calendar', 'calendarextender', 'caliburn', 'call', 'call-graph', 'callable', 'callback', 'calling-convention', 'calloc', 'callstack', 'camelcasing', 'camera', 'caml', 'can', 'can-bus', 'canonical-form', 'canopen', 'canvas', 'capability', 'capacity', 'capacity-planning', 'capicom', 'capistrano', 'capitalization', 'cappuccino', 'capslock', 'captcha', 'capture', 'captured-variable', 'car-analogy', 'carbide', 'carbon', 'carbon-emacs', 'cardspace', 'caret', 'cargo', 'carriage-return', 'cart', 'cartesian-product', 'cas', 'cascade', 'cascading-deletes', 'cascadingdropdown', 'case', 'case-class', 'case-insensitive', 'case-sensitive', 'casing', 'cassandra', 'cassini', 'casting', 'castle', 'castle-activerecord', 'castle-dynamicproxy', 'castle-monorail', 'castle-validators', 'castle-windsor', 'castor', 'cat', 'catalog', 'catalyst', 'categories', 'category', 'catia', 'caucho', 'causality', 'cbc-mac', 'cbir', 'cbitmap', 'cbutton', 'ccavenue', 'cci', 'cck', 'ccombobox', 'ccr', 'ccw', 'cd', 'cd-burning', 'cdata', 'cdc', 'cdialog', 'cdn', 'cdo', 'cdo.message', 'cdt', 'cedet', 'cedit', 'ceiklabel', 'celery', 'cell', 'cellphone', 'cells', 'cellular-automata', 'cellular-network', 'center', 'centos', 'centralized', 'certificate', 'certificate-authority', 'cewp', 'cfc', 'cfdocument', 'cfeclipse', 'cffeed', 'cffile', 'cfhttp', 'cfloop', 'cfml', 'cfnetwork', 'cfquery', 'cfront', 'cfstoredproc', 'cfstring', 'cfwheels', 'cg', 'cgaffinetransform', 'cgal', 'cgcontext', 'cgfloat', 'cgi', 'cgimage', 'cgpath', 'chain-of-responsibility', 'chaining', 'change-data-capture', 'change-management', 'change-password', 'change-script', 'change-tracking', 'changelist', 'changeset', 'channel', 'channel-api', 'channelfactory', 'char', 'char-pointer', 'character', 'character-arrays', 'character-encoding', 'character-properties', 'charsequence', 'charts', 'chat', 'chatbot', 'chdir', 'check-constraints', 'checkbox', 'checkboxlist', 'checked', 'checkedlistbox', 'checkin', 'checkout', 'checkstyle', 'checksum', 'chemistry', 'cherry-pick', 'cherrypy', 'chess', 'child-process', 'children', 'childwindow', 'chm', 'chmod', 'choice', 'chop', 'chromakey', 'chrome-ios', 'chroot', 'chunked-encoding', 'chunking', 'cics', 'cidr', 'cifs', 'cil', 'cimg', 'cin', 'circle', 'circuit', 'circuit-breaker', 'circular', 'circular-dependency', 'circular-reference', 'cisco', 'cite', 'citrix', 'city', 'cj', 'cjk', 'ckeditor', 'claims-based-identity', 'clang', 'clarion', 'class', 'class-dbi', 'class-design', 'class-diagram', 'class-helpers', 'class-hierarchy', 'class-instance-variables', 'class-library', 'class-method', 'class-names', 'class-table-inheritance', 'class-variables', 'classcastexception', 'classification', 'classloader', 'classname', 'classnotfound', 'classpath', 'classwizard', 'clause', 'cldc', 'clean-language', 'clean-urls', 'clear', 'clearcase', 'clearcase-remote-client', 'cleartype', 'click', 'click-tracking', 'clickatell', 'clickonce', 'client', 'client-server', 'client-side', 'client-side-validation', 'client-templates', 'clientform', 'clientid', 'clients', 'clientscriptmanager', 'clip', 'clipboard', 'clipper', 'clipping', 'clique', 'clisp', 'clist', 'clistctrl', 'cllocation', 'cllocationmanager', 'clob', 'clock', 'clojure', 'clojure-contrib', 'clone', 'cloneable', 'cloning', 'clos', 'closedir', 'closures', 'cloud', 'cloud-hosting', 'cloud-platform', 'cloudfoundry', 'clr', 'clr-hosting', 'clrstoredprocedure', 'cls-compliant', 'clsid', 'cluetip', 'cluster-analysis', 'cluster-computing', 'clustered-index', 'cmake', 'cmd', 'cmdlet', 'cmdlets', 'cmmi', 'cms-migration', 'cmusphinx', 'cmyk', 'cname', 'cobol', 'cocoa', 'cocoa-bindings', 'cocoa-design-patterns', 'cocoa-scripting', 'cocoa-touch', 'cocos2d-iphone', 'cocotron', 'coda', 'coda-slider', 'code-access-security', 'code-analysis', 'code-behind', 'code-comments', 'code-completion', 'code-contracts', 'code-coverage', 'code-documentation', 'code-duplication', 'code-folding', 'code-formatting', 'code-freeze', 'code-generation', 'code-golf', 'code-injection', 'code-metrics', 'code-migration', 'code-organization', 'code-reuse', 'code-review', 'code-search-engine', 'code-separation', 'code-signing', 'code-size', 'code-smell', 'code-snippets', 'code-view', 'code39', 'codebase', 'codeblocks', 'codec', 'codecave', 'codedom', 'codehighlighter', 'codeigniter', 'codepages', 'codeplex', 'codepoint', 'coderush', 'codesign', 'codesmith', 'coding-style', 'coercion', 'cognos', 'cohesion', 'coin-change', 'coin-flipping', 'col', 'coldfire', 'coldfusion', 'coldfusion-8', 'coldfusion-9', 'coldfusionbuilder', 'colemak', 'collaboration', 'collaborative', 'collaborative-filtering', 'collada', 'collapse', 'collapsiblepanelextender', 'collate', 'collation', 'collectioneditor', 'collections', 'collision', 'collision-detection', 'colon', 'color-picker', 'color-profile', 'color-scheme', 'color-space', 'colorbox', 'colormatrix', 'colors', 'column-defaults', 'column-oriented', 'column-sizing', 'column-width', 'columnattribute', 'com', 'com+', 'com-interop', 'com-server', 'com0com', 'comadmin', 'combinations', 'combinatorics', 'combinators', 'combobox', 'comctl32', 'comeau', 'comet', 'comexception', 'comma-operator', 'command', 'command-line', 'command-line-arguments', 'command-line-interface', 'command-objects', 'command-pattern', 'command-prompt', 'commandbar', 'commandbinding', 'comment-conventions', 'commenting', 'comments', 'commerceserver', 'commission-junction', 'commit', 'commit-message', 'commodore', 'common-controls', 'common-lisp', 'common-table-expression', 'commonjs', 'communication', 'communicationexception', 'community-server', 'comobject', 'compact-database', 'compact-framework', 'comparable', 'comparator', 'compare', 'compareto', 'comparison', 'compass-lucene', 'compass-sass', 'compatibility', 'compc', 'compilation', 'compile-time', 'compileassemblyfromsource', 'compiled', 'compiled-language', 'compiled-query', 'compiler-compiler', 'compiler-construction', 'compiler-directives', 'compiler-errors', 'compiler-optimization', 'compiler-specific', 'compiler-theory', 'compiler-warnings', 'complete', 'completion', 'complex-numbers', 'complexity-theory', 'compojure', 'componentone', 'componentresourcekey', 'components', 'composite', 'composite-controls', 'composite-id', 'composite-key', 'compositing', 'composition', 'compound-key', 'compression', 'computability', 'computation-theory', 'computational-geometry', 'computer-algebra-systems', 'computer-architecture', 'computer-forensics', 'computer-name', 'computer-science', 'computer-vision', 'comvisible', 'concat', 'concatenation', 'concatenative-language', 'concept', 'concordion', 'concrete-syntax-tree', 'concurrency', 'concurrent-collections', 'concurrent-programming', 'concurrenthashmap', 'concurrentmodification', 'condition', 'conditional', 'conditional-breakpoint', 'conditional-compilation', 'conditional-operator', 'conferencing', 'confidence-interval', 'confidential-information', 'config', 'configparser', 'configsection', 'configuration', 'configuration-files', 'configuration-management', 'configurationmanager', 'configurationsection', 'configure', 'confirm', 'confirmation', 'confirmation-email', 'conflict', 'conflicting-libraries', 'confluence', 'connect', 'connection', 'connection-pooling', 'connection-string', 'connections', 'connectivity', 'consistency', 'console', 'console-application', 'console-scraping', 'console.writeline', 'const', 'const-cast', 'const-char', 'const-correctness', 'constants', 'constraint-programming', 'constraints', 'construction', 'constructor', 'constructor-chaining', 'constructor-injection', 'consumption', 'contact', 'contacts', 'contactus', 'containers', 'contains', 'content-disposition', 'content-encoding', 'content-length', 'content-management', 'content-management-system', 'content-type', 'contentcontrol', 'contenteditable', 'contentplaceholder', 'contentpresenter', 'context-free-grammar', 'context-sensitive-help', 'context.xml', 'contextmenu', 'contextswitchdeadlock', 'continuations', 'continue', 'continuous', 'continuous-integration', 'contour', 'contract', 'contract-first', 'contracts', 'contravariance', 'contribute', 'control', 'control-adapter', 'control-characters', 'control-flow', 'control-language', 'control-structure', 'controlcollection', 'controller', 'controller-action', 'controllercontext', 'controllers', 'controlpanel', 'controls', 'controltemplate', 'controltemplates', 'convenience-methods', 'convention', 'convention-over-configur', 'conventions', 'conversion-operator', 'converter', 'converters', 'convex', 'convex-optimization', 'conways-game-of-life', 'cookiecontainer', 'cookiejar', 'cookieless', 'cookies', 'cooliris', 'coolstorage', 'coordinate-systems', 'coordinates', 'copy', 'copy-constructor', 'copy-paste', 'copy-protection', 'copyfile', 'copying', 'corba', 'cordova', 'core', 'core-animation', 'core-audio', 'core-data', 'core-foundation', 'core-graphics', 'core-location', 'core-plot', 'coredump', 'coreldraw', 'coroutine', 'corporate', 'corpus', 'correctness', 'correlated-subquery', 'correspondence', 'corrupt', 'corruption', 'cosine', 'cots', 'couchdb', 'couchpotato', 'count', 'countdown', 'counter', 'counting', 'country', 'country-codes', 'coupling', 'cout', 'covariance', 'coverflow', 'cp1251', 'cpan', 'cplex', 'cppunit', 'cpropertysheet', 'cpu', 'cpu-architecture', 'cpu-registers', 'cpu-usage', 'cpuid', 'cpython', 'cqlinq', 'cqrs', 'cqwp', 'cracking', 'crash', 'crash-dumps', 'crash-log', 'crash-reports', 'crc', 'crc32', 'create-directory', 'create-function', 'create-view', 'createelement', 'createfile', 'createobject', 'createprocess', 'createprocessasuser', 'createtextnode', 'createuserwizard', 'createwindow', 'creation', 'credentials', 'credit-card', 'criteria', 'critical-section', 'crm', 'cron', 'crontab', 'crop', 'cross-apply', 'cross-browser', 'cross-compiling', 'cross-cutting-concerns', 'cross-domain', 'cross-page-posting', 'cross-platform', 'cross-process', 'cross-product', 'cross-site', 'crossdomain.xml', 'crosstab', 'crt', 'crtdbg.h', 'crtp', 'crud', 'cruisecontrol', 'cruisecontrol.net', 'cruisecontrol.rb', 'crypt', 'cryptanalysis', 'crypto++', 'cryptoapi', 'cryptographicexception', 'cryptographichashfunction', 'cryptography', 'crystal-reports', 'crystal-reports-server', 'crystal-reports-xi', 'cs3', 'cs4', 'cscope', 'csh', 'csharpcodeprovider', 'csla', 'csplitterwnd', 'csproj', 'csr', 'csrf', 'css', 'css-float', 'css-frameworks', 'css-position', 'css-reset', 'css-selectors', 'css-specificity', 'css-sprites', 'css-tables', 'css-transitions', 'css3', 'cstring', 'csv', 'ctabctrl', 'ctags', 'ctor-initializer', 'ctrl', 'cts', 'ctype', 'ctypes', 'cub', 'cube', 'cubes', 'cubic', 'cublas', 'cucumber', 'cuda', 'cufon', 'culling', 'culture', 'cultureinfo', 'cups', 'curl', 'curl-language', 'curl-multi', 'curlpp', 'currency', 'currentitem', 'currying', 'curses', 'cursor', 'cursor-position', 'cursors', 'curve-fitting', 'custom-action', 'custom-attributes', 'custom-backend', 'custom-component', 'custom-controls', 'custom-error-pages', 'custom-errors', 'custom-event', 'custom-events', 'custom-exceptions', 'custom-font', 'custom-membershipprovider', 'custom-object', 'custom-pages', 'custom-properties', 'custom-protocol', 'custom-server-controls', 'custom-tag', 'custom-url-protocol', 'custom-view', 'customer', 'customer-support', 'customization', 'customtags', 'customtool', 'customtypedescriptor', 'customvalidator', 'cut', 'cuteeditor', 'cutycapt', 'cvs', 'cvs2svn', 'cwd', 'cx-oracle', 'cxf', 'cycle', 'cyclic-reference', 'cyclomatic-complexity', 'cygwin', 'cython', 'd', 'd-pointer', 'd2', 'dacl', 'daemon', 'dailybuilds', 'dalvik', 'dangling', 'dao', 'darcs', 'dashboard', 'dashboard-designer', 'dashcode', 'data-access', 'data-access-layer', 'data-analysis', 'data-annotations', 'data-binding', 'data-change', 'data-collection', 'data-compression', 'data-consistency', 'data-conversion', 'data-distribution-service', 'data-driven', 'data-dump', 'data-entry', 'data-execution-prevention', 'data-export', 'data-files', 'data-generation', 'data-importer', 'data-integrity', 'data-link-layer', 'data-loss', 'data-mapping', 'data-migration', 'data-mining', 'data-modeling', 'data-oriented-design', 'data-paging', 'data-partitioning', 'data-processing', 'data-protection', 'data-recovery', 'data-storage', 'data-structures', 'data-synchronization', 'data-transfer', 'data-transfer-objects', 'data-type-conversion', 'data-visualization', 'data-warehouse', 'dataadapter', 'database', 'database-administration', 'database-agnostic', 'database-backups', 'database-comparison', 'database-connection', 'database-create', 'database-deadlocks', 'database-design', 'database-diagramming', 'database-edition', 'database-migration', 'database-normalization', 'database-optimization', 'database-partitioning', 'database-permissions', 'database-project', 'database-relations', 'database-replication', 'database-restore', 'database-schema', 'database-security', 'database-table', 'database-theory', 'database-versioning', 'databound', 'databound-controls', 'databound-lists', 'datacash', 'datacontext', 'datacontract', 'datacontracts', 'datacontractserializer', 'datadetectortypes', 'datadude', 'datafield', 'dataflex', 'dataform', 'dataformat', 'dataframe', 'datagrid', 'datagridcolumn', 'datagridcomboboxcolumn', 'datagridview', 'datagridviewcheckboxcell', 'datagridviewcolumn', 'datagridviewcomboboxcell', 'datagridviewtextboxcell', 'dataimporthandler', 'datakey', 'datalength', 'datalist', 'datalistitem', 'datamapper', 'datamart', 'datamember', 'datamodel', 'datanucleus', 'datapager', 'dataprovider', 'datapump', 'datareader', 'datarepeater', 'datarow', 'datarowview', 'dataservice', 'dataset', 'datasheet', 'datasnap', 'datasource', 'datastore', 'datatable', 'datatableadapters', 'datatables', 'datatemplate', 'datatipfunction', 'datatrigger', 'dataview', 'date', 'date-arithmetic', 'date-format', 'date-formatting', 'date-parsing', 'date-range', 'dateadd', 'datediff', 'datejs', 'datepicker', 'datetime', 'datetime-format', 'datetimeoffset', 'datetimepicker', 'dayofweek', 'days', 'db2', 'db2-luw', 'db2400', 'db4o', 'dbase', 'dbcc', 'dbd', 'dbexpress', 'dbf', 'dbghost', 'dbgrid', 'dbi', 'dbix-class', 'dblink', 'dblinq', 'dbm', 'dbmigrate', 'dbml', 'dbnull', 'dbo', 'dbtable', 'dbunit', 'dbus', 'dbx', 'dcom', 'dd', 'ddd-debugger', 'ddd-repositories', 'dde', 'ddk', 'ddl', 'ddlutils', 'ddms', 'ddos', 'dead-code', 'dead-letter', 'deadlock', 'deb', 'debian', 'debian-based', 'debug-symbols', 'debuggervisualizer', 'debugging', 'decimal', 'decimal-point', 'decision-tree', 'declaration', 'declarative', 'declarative-authorization', 'declarative-security', 'declare', 'declared-property', 'decltype', 'decode', 'decoder', 'decoding', 'decompiler', 'decompiling', 'decomposition', 'decompress', 'decompression', 'decorator', 'decouple', 'decoupling', 'dedicated-hosting', 'deep-copy', 'deep-linking', 'deepload', 'deepzoom', 'default', 'default-selected', 'default-value', 'defaultbutton', 'defaultmodelbinder', 'defaultview', 'defensive-programming', 'defined', 'definition', 'definitions', 'deflate', 'deftype', 'degrafa', 'degrees', 'delaunay', 'delay', 'delayed-execution', 'delayed-job', 'delegatecommand', 'delegates', 'delegation', 'delete-directory', 'delete-file', 'delete-row', 'delimited', 'delimited-continuations', 'delimited-text', 'delimiter', 'deliverance', 'delivery', 'delphi', 'delphi-2006', 'delphi-2007', 'delphi-2009', 'delphi-2010', 'delphi-4', 'delphi-5', 'delphi-6', 'delphi-7', 'delphi-prism', 'delphi-units', 'delphi-xe7', 'delphi.net', 'delphi4php', 'demo', 'demoscene', 'denial-of-service', 'denied', 'denormalization', 'dep', 'dependencies', 'dependency-injection', 'dependency-management', 'dependency-properties', 'deploying', 'deployment', 'deployment-descriptor', 'deploymentitem', 'deprecated', 'depth-first-search', 'deque', 'derby', 'dereference', 'derivative', 'derived', 'derived-class', 'derived-table', 'des', 'design', 'design-by-contract', 'design-decisions', 'design-patterns', 'design-principles', 'design-surface', 'design-time', 'design-view', 'designated-initializer', 'designer', 'designmode', 'designview', 'desktop', 'desktop-application', 'desktop-search', 'desktop-shortcut', 'destructor', 'detach', 'detachedcriteria', 'detail', 'detailsview', 'detect', 'detection', 'deterministic', 'detours', 'dev-c++', 'developer-machine', 'development-environment', 'development-machine', 'development-process', 'devenv', 'devexpress', 'devforce', 'device', 'device-driver', 'device-emulation', 'device-manager', 'devtools', 'dfm', 'dhcp', 'dht', 'dhtml', 'dhtmlx', 'dia', 'diacritics', 'diagnostics', 'diagram', 'diagramming', 'diagrams', 'dial-up', 'dialect', 'dialog', 'diamond-problem', 'dice', 'dictionary', 'didselectrowatindexpath', 'die', 'diff', 'difftool', 'dig', 'digest', 'digest-authentication', 'digg', 'digital', 'digital-assets', 'digital-certificate', 'digital-filter', 'digital-logic', 'digital-signature', 'digits', 'dijit.form', 'dijit.layout', 'dijkstra', 'dimensions', 'direct3d', 'direct3d10', 'direct3d9', 'directcast', 'directdraw', 'directed-acyclic-graphs', 'directed-graph', 'directed-identity', 'directfb', 'directinput', 'direction', 'directory', 'directory-listing', 'directory-security', 'directory-structure', 'directory-traversal', 'directoryentry', 'directoryinfo', 'directoryservices', 'directshow', 'directsound', 'directx', 'dired', 'disabled-control', 'disassembler', 'disassembling', 'disassembly', 'disaster-recovery', 'disclosure', 'disconnect', 'discountasp', 'discounts', 'discover', 'discrete-mathematics', 'discriminated-union', 'disjoint-sets', 'disk', 'disk-partitioning', 'diskspace', 'dispatch', 'dispatch-table', 'dispatcher', 'display-picture', 'displaylist', 'displaytag', 'disposable', 'dispose', 'disqus', 'distance', 'distinct', 'distortion', 'distribute', 'distributed', 'distributed-algorithm', 'distributed-apps', 'distributed-caching', 'distributed-computing', 'distributed-lock', 'distributed-transactions', 'distribution', 'distutils', 'divide', 'divide-by-zero', 'division', 'divx', 'django', 'django-admin', 'django-aggregation', 'django-authentication', 'django-cache', 'django-cms', 'django-comments', 'django-contrib', 'django-custom-tags', 'django-filebrowser', 'django-flatpages', 'django-forms', 'django-generic-views', 'django-haystack', 'django-imagekit', 'django-managers', 'django-migrations', 'django-models', 'django-mptt', 'django-orm', 'django-project-architect', 'django-q', 'django-queryset', 'django-select-related', 'django-sessions', 'django-signals', 'django-south', 'django-sphinx', 'django-syncdb', 'django-templates', 'django-testing', 'django-urls', 'django-validation', 'django-views', 'django-widget', 'django-wsgi', 'djvu', 'dll', 'dll-injection', 'dll-reference', 'dllexport', 'dllimport', 'dllregistration', 'dlna', 'dlopen', 'dma', 'dmg', 'dml', 'dms', 'dna-sequence', 'dns', 'do-loops', 'do-while', 'doc', 'docblocks', 'dock', 'dockable', 'docking', 'dockpanel', 'docstring', 'doctest', 'doctrine', 'doctrine-1.2', 'doctype', 'document', 'document-library', 'document-management', 'document-oriented-db', 'document-ready', 'document.write', 'documentation', 'documentation-generation', 'documents', 'documentum', 'documentum-dfs', 'documentviewer', 'docx', 'doi', 'dojo', 'dojo-dnd', 'dojox.charting', 'dokuwiki', 'dom', 'dom-manipulation', 'dom-traversal', 'dom4j', 'domain-driven-design', 'domain-mask', 'domain-model', 'domain-name', 'domainkeys', 'domdocument', 'dompdf', 'donations', 'dongle', 'dos', 'dosbox', 'dot-emacs', 'dot-matrix', 'dot-product', 'dotconnect', 'dotfiles', 'dotfuscator', 'dotnetnuke', 'dotnetnuke-5', 'dotnetnuke-module', 'dotnetopenauth', 'double', 'double-click', 'double-dispatch', 'double-submit-prevention', 'doublebuffered', 'downgrade', 'download', 'download-manager', 'downloading', 'downsampling', 'doxygen', 'dozer', 'dpi', 'dql', 'drag', 'drag-and-drop', 'draggable', 'draw', 'drawable', 'drawimage', 'drawing', 'drawing2d', 'drawrect', 'drawstring', 'dreamhost', 'dreamweaver', 'drive', 'driver', 'drivers', 'drives', 'driving-directions', 'drm', 'drools', 'drools-flow', 'drop-down-menu', 'dropbox', 'droppable', 'dropshadow', 'drupal', 'drupal-5', 'drupal-6', 'drupal-fapi', 'drupal-fivestar', 'drupal-forms', 'drupal-modules', 'drupal-panels', 'drupal-themes', 'drupal-views', 'drush', 'dry', 'dsa', 'dsl', 'dsl-tools', 'dsn', 'dsoframer', 'dsquery', 'dst', 'dtd', 'dtf', 'dtmf', 'dto', 'dts', 'dual-monitor', 'duck-typing', 'dump', 'dumpbin', 'dundas', 'dup2', 'duplex', 'duplicate-data', 'duplicate-removal', 'duplicates', 'duplication', 'duration', 'dvcs', 'dvd', 'dvd-burning', 'dvi-tex', 'dvr', 'dwg', 'dwr', 'dxcore', 'dxf', 'dylib', 'dymamic', 'dynamic', 'dynamic-allocation', 'dynamic-attributes', 'dynamic-binding', 'dynamic-cast', 'dynamic-class', 'dynamic-class-loaders', 'dynamic-controls', 'dynamic-css', 'dynamic-data', 'dynamic-finders', 'dynamic-import', 'dynamic-jasper', 'dynamic-language-runtime', 'dynamic-languages', 'dynamic-linking', 'dynamic-links', 'dynamic-linq', 'dynamic-loading', 'dynamic-memory-allocation', 'dynamic-pivot', 'dynamic-programming', 'dynamic-proxy', 'dynamic-resizing', 'dynamic-scope', 'dynamic-sql', 'dynamic-tables', 'dynamic-typing', 'dynamic-url', 'dynamicresource', 'dynamics-ax-2009', 'dynamics-crm', 'dynamics-crm-3', 'dynamics-crm-4', 'dynamics-gp', 'e-commerce', 'e-texteditor', 'e4x', 'e71', 'each', 'eager', 'eager-loading', 'eaglview', 'eai', 'ear', 'easy-install', 'easymock', 'easyphp', 'ebcdic', 'ebnf', 'ebook-reader', 'echo', 'eclipse', 'eclipse-3.3', 'eclipse-3.4', 'eclipse-3.5', 'eclipse-cdt', 'eclipse-emf', 'eclipse-emf-ecore', 'eclipse-gef', 'eclipse-jdt', 'eclipse-pde', 'eclipse-pdt', 'eclipse-plugin', 'eclipse-rcp', 'eclipse-tptp', 'eclipse-wtp', 'eclipselink', 'ecma262', 'econnect', 'edge', 'edge-detection', 'edirectory', 'edit', 'editbox', 'editing', 'editline', 'editmode', 'editor', 'editorfor', 'edmx', 'edsdk', 'edt', 'effect', 'effects', 'efs', 'egg', 'ehcache', 'eigenvalue', 'eigenvector', 'ejabberd', 'ejb', 'ejb-2.x', 'ejb-3.0', 'ejb-3.1', 'eject', 'ektron', 'el', 'elasticsearch', 'electronic-signature', 'electronics', 'element', 'elementhost', 'elements', 'elementtree', 'elementwise-operations', 'elevation', 'elf', 'elisp', 'ellipsis', 'elliptic-curve', 'elmah', 'emacs', 'emacs-speedbar', 'emacs23', 'emacsw32', 'email', 'email-address', 'email-bounces', 'email-client', 'email-headers', 'email-integration', 'email-parsing', 'email-spam', 'email-templates', 'email-validation', 'email-verification', 'embed', 'embedded', 'embedded-browser', 'embedded-database', 'embedded-language', 'embedded-linux', 'embedded-resource', 'embeddedwebserver', 'embedding', 'emgucv', 'emoticons', 'emptydatatext', 'emulation', 'emulator', 'encapsulation', 'encode', 'encoder', 'encodeuricomponent', 'encoding', 'encryption', 'encryption-asymmetric', 'enctype', 'end-tag', 'end-user', 'endianness', 'endpoint', 'endpoints', 'enhanced-rich-text', 'entab-detab', 'enter', 'enterprise', 'enterprise-library', 'enterprise-manager', 'enterprisedt', 'entities', 'entity', 'entity-attribute-value', 'entity-bean', 'entity-framework', 'entity-framework-4', 'entity-groups', 'entity-model', 'entity-relationship', 'entitydatasource', 'entitymanager', 'entityobject', 'entityset', 'entry', 'enumerable', 'enumeration', 'enumerator', 'enums', 'env', 'envdte', 'environment', 'environment-variables', 'eof', 'eoferror', 'eol', 'episerver', 'epoch', 'eps', 'epsilon', 'epub', 'equality', 'equals', 'equals-operator', 'equation', 'equational-reasoning', 'equinox', 'equivalence', 'equivalent', 'er-modeling', 'erase', 'erb', 'erd', 'ergonomics', 'erlang', 'erlangweb', 'erlydb', 'errno', 'error-checking', 'error-code', 'error-handling', 'error-log', 'error-logging', 'error-reporting', 'error-suppression', 'errorformat', 'errorlevel', 'esb', 'esc-key', 'escape-analysis', 'escaping', 'esql', 'esri', 'ess', 'estimation', 'esxi', 'etag', 'ethernet', 'etherpad', 'etiquette', 'etl', 'ets', 'euclidean-distance', 'eval', 'evaluation', 'event-bubbling', 'event-delegation', 'event-dispatch-thread', 'event-dispatching', 'event-driven-design', 'event-handling', 'event-listener', 'event-log', 'event-propagation', 'event-receiver', 'event-routing', 'eventaggregator', 'eventlistener', 'eventmachine', 'events', 'eventtrigger', 'eventviewer', 'evolutionary-algorithm', 'ews', 'exc-bad-access', 'excanvas', 'excel', 'excel-2000', 'excel-2002', 'excel-2003', 'excel-2007', 'excel-2008', 'excel-formula', 'excel-udf', 'excel-vba', 'excel-web-query', 'exception', 'exception-handling', 'exception-specification', 'exchange-server', 'exchange-server-2007', 'exchangewebservices', 'exe', 'exec', 'execfile', 'executable', 'executable-jar', 'execute', 'executescalar', 'execution', 'execution-time', 'executorservice', 'exif', 'exim', 'exim4', 'exists', 'exit', 'exit-code', 'exit-handler', 'expand', 'expandable', 'expander', 'expandometaclass', 'expat-parser', 'expect', 'expectations', 'explain-plan', 'explicit', 'explicit-constructor', 'explode', 'exploit', 'explorer', 'explorer-integration', 'exponent', 'exponentiation', 'export', 'export-to-excel', 'export-to-pdf', 'exporter', 'expression', 'expression-blend', 'expression-blend-3', 'expression-evaluation', 'expression-sketchflow', 'expression-trees', 'expression-web', 'expressionengine', 'exslt', 'ext2', 'ext3', 'extend', 'extended-properties', 'extending-classes', 'extends', 'extendscript', 'extensibility', 'extension-methods', 'extern', 'extern-c', 'external', 'external-process', 'external-tables', 'external-tools', 'externalinterface', 'extjs', 'extract', 'extract-error-message', 'extraction', 'extraction-operator', 'extranet', 'extras', 'extreme-programming', 'ezpublish', 'f#', 'f#-interactive', 'fabric', 'facade', 'face-detection', 'face-recognition', 'facebook', 'facebook-fql', 'facebook-iframe', 'facebook-javascript-sdk', 'facebook-page', 'facebook-sharer', 'facebook-wall', 'facebooker', 'facebooktoolkit', 'facebox', 'facelets', 'faceted-search', 'factor-lang', 'factorial', 'factory', 'factory-girl', 'factory-pattern', 'fade', 'fadein', 'fadeout', 'failing-tests', 'failover', 'fakeweb', 'falcon', 'fallback', 'family-tree', 'fancybox', 'farpoint', 'farseer', 'fast-enumeration', 'fast-esp', 'fastcall', 'fastcgi', 'fastercsv', 'fastmm', 'fastreport', 'fat', 'fatal-error', 'fault-tolerance', 'fault-tolerant-heap', 'faults', 'favicon', 'favorites', 'fax', 'fba', 'fbconnect', 'fbjs', 'fbml', 'fbo', 'fckeditor', 'fcntl', 'fdf', 'feature-detection', 'federated-identity', 'fedex', 'fedora', 'fedora10', 'feed', 'feedback', 'feedparser', 'feeds', 'fencepost', 'fetch', 'ffi', 'fflush', 'ffmpeg', 'fft', 'fftw', 'fgets', 'fiber', 'fibonacci', 'fibplus', 'fiddler', 'field', 'field-with-errors', 'fieldinfo', 'fields-for', 'fieldset', 'fifo', 'figure', 'file', 'file-association', 'file-conversion', 'file-copying', 'file-encodings', 'file-extension', 'file-find', 'file-format', 'file-get-contents', 'file-handling', 'file-import', 'file-io', 'file-listing', 'file-locking', 'file-management', 'file-monitoring', 'file-not-found', 'file-organization', 'file-permissions', 'file-processing', 'file-read', 'file-recovery', 'file-rename', 'file-search', 'file-sharing', 'file-transfer', 'file-type', 'file-upload', 'file-writing', 'fileappender', 'filechannel', 'filecompare', 'filedialog', 'filefield', 'filegroup', 'filehandle', 'filehelpers', 'fileinfo', 'fileinputstream', 'filemaker', 'filenames', 'filenet', 'filenotfoundexception', 'fileopendialog', 'fileoutputstream', 'fileparse', 'fileparsing', 'filepath', 'filepattern', 'filereader', 'filereference', 'fileset', 'filesize', 'filesplitting', 'filestream', 'filesystem-access', 'filesystems', 'filesystemwatcher', 'filetime', 'filewriter', 'filezilla', 'fillfactor', 'filter', 'filter-var', 'filtering', 'final', 'finalbuilder', 'finalize', 'finalizer', 'finally', 'finance', 'financial', 'find', 'find-all-references', 'findall', 'findcontrol', 'finder', 'findinfiles', 'findwindow', 'fingerprint', 'finite-automata', 'fink', 'fips', 'fire-and-forget', 'firebird', 'firebird2.1', 'firebug', 'firefox', 'firefox-3', 'firefox-addon', 'firefox-addon-sdk', 'firefox2', 'firefox3.5', 'firefox3.6', 'firewall', 'firewatir', 'firewire', 'fireworks', 'firmware', 'first-chance-exception', 'first-responder', 'fish', 'fit-framework', 'fitnesse', 'fix', 'fixed', 'fixed-length-record', 'fixed-point', 'fixeddocument', 'fixmetodo', 'fixtures', 'fizzbuzz', 'fjcore', 'fla', 'flags', 'flame', 'flash', 'flash-10', 'flash-autoplay', 'flash-builder', 'flash-cs3', 'flash-cs4', 'flash-media-server', 'flash-memory', 'flash-message', 'flash-player', 'flash-v3-components', 'flashdevelop', 'flashlite', 'flashlog', 'flashplayer-9', 'flashvars', 'flat-file', 'flex', 'flex-builder-3', 'flex-lexer', 'flex-mx', 'flex-spark', 'flex3', 'flex4', 'flexbuilder', 'flexibility', 'flexigrid', 'flexunit', 'flicker', 'flickr', 'flickr-api', 'flip', 'flir', 'floating-accuracy', 'floating-point', 'floating-point-exceptions', 'floating-point-precision', 'flood-fill', 'floppy', 'flot', 'flow', 'flowchart', 'flowdocument', 'flowlayoutpanel', 'flowpanel', 'flowplayer', 'fltk', 'fluent', 'fluent-interface', 'fluent-nhibernate', 'fluorinefx', 'flush', 'flv', 'flvplayback', 'fmj', 'focus', 'fogbugz', 'fogbugz-on-demand', 'fold', 'folder', 'folderbrowserdialog', 'folders', 'folding', 'font-face', 'font-size', 'fontfamily', 'fonts', 'footer', 'footprint', 'fop', 'fopen', 'for-attribute', 'for-loop', 'for-xml', 'force.com', 'foreach', 'foreach-loop-container', 'foreground', 'foreign-key-relationship', 'foreign-keys', 'forgot-password', 'fork', 'form-design', 'form-designer', 'form-for', 'form-helpers', 'form-submit', 'formal-methods', 'formal-verification', 'format', 'format-conversion', 'format-string', 'formatted-input', 'formatted-text', 'formatter', 'formatting', 'formcollection', 'formencode', 'forms', 'forms-authentication', 'formset', 'formsets', 'formsof', 'formtastic', 'formula', 'formulas', 'formview', 'formwizard', 'forth', 'fortify', 'fortran', 'fortran77', 'fortran90', 'forum', 'forward', 'forward-declaration', 'forwarding', 'fossil', 'foxpro', 'fpc', 'fpdf', 'fpga', 'fpic', 'fpml', 'fps', 'fputcsv', 'fqdn', 'fractals', 'fragment', 'fragment-identifier', 'fragmentation', 'frame', 'frame-rate', 'framebuffer', 'frames', 'frameset', 'frameset-iframe', 'framework-design', 'frameworks', 'fraud-prevention', 'fread', 'free', 'freebase', 'freebsd', 'freeimage', 'freemarker', 'freepascal', 'freetds', 'freetextbox', 'freetype', 'freetype2', 'freeware', 'freezable', 'freeze', 'frequency', 'frequency-analysis', 'friend', 'friend-class', 'friendly-url', 'frm', 'front-controller', 'frontend', 'frontpage', 'frontpage-extensions', 'frp', 'frustum', 'fscanf', 'fseek', 'fsm', 'fstream', 'fsutil', 'fsync', 'ftp', 'ftp-client', 'ftplib', 'ftps', 'ftpwebrequest', 'fubumvc', 'full-text-search', 'full-trust', 'fullcalendar', 'fullscreen', 'func', 'function', 'function-call-operator', 'function-calls', 'function-composition', 'function-declaration', 'function-exit', 'function-object', 'function-overloading', 'function-parameter', 'function-pointers', 'function-points', 'function-templates', 'functional-programming', 'functional-testing', 'functor', 'fuse', 'fusion', 'fusioncharts', 'futuretask', 'fuzzy-comparison', 'fuzzy-logic', 'fuzzy-search', 'fwrite', 'fxcop', 'g++', 'gac', 'gacutil', 'gadget', 'gae-datastore', 'gaelyk', 'gal', 'galileo', 'gallery', 'gallio', 'gambas', 'game-ai', 'game-engine', 'game-physics', 'gamekit', 'gantt-chart', 'ganymede', 'gaps-and-islands', 'gaps-in-visuals', 'garbage', 'garbage-collection', 'garmin', 'garnet-os', 'gas', 'gateway', 'gaussian', 'gawk', 'gcc', 'gcc-warning', 'gchart', 'gcj', 'gd', 'gd-graph', 'gdal', 'gdata', 'gdata-api', 'gdb', 'gdbm', 'gdi', 'gdi+', 'gdirections', 'gdlib', 'gdr', 'geany', 'gearman', 'gears', 'gecko', 'geckofx', 'gedit', 'gem', 'gemcutter', 'generated-code', 'generative', 'generator', 'generic-interface', 'generic-list', 'generic-programming', 'generic-type-argument', 'generics', 'genetic-algorithm', 'genetic-programming', 'geneva-server', 'genshi', 'genuinechannels', 'geocode', 'geocoding', 'geodjango', 'geography', 'geoip', 'geojson', 'geokit', 'geolocation', 'geometry', 'geometry-surface', 'geometrydrawing', 'geospatial', 'geotagging', 'geotools', 'geronimo', 'gesture', 'gesture-recognition', 'gestures', 'get', 'get-childitem', 'get-headers', 'getbuffer', 'getch', 'getdate', 'getelementbyid', 'getfiles', 'gethashcode', 'getid3', 'getjson', 'getline', 'getmessage', 'getmethod', 'getopt', 'getpwuid', 'getter', 'getter-setter', 'gettext', 'gettime', 'gettype', 'ggplot2', 'ghc', 'ghci', 'ghostdoc', 'ghostscript', 'gif', 'gil', 'gin', 'gina', 'gis', 'gist-index', 'git', 'git-branch', 'git-clone', 'git-commit', 'git-cvs', 'git-diff', 'git-extensions', 'git-gui', 'git-init', 'git-merge', 'git-non-bare-repository', 'git-post-receive', 'git-pull', 'git-push', 'git-rebase', 'git-remote', 'git-revert', 'git-rewrite-history', 'git-rm', 'git-stage', 'git-stash', 'git-submodules', 'git-svn', 'git-tag', 'githooks', 'github', 'gitignore', 'gitorious', 'gitosis', 'gksudo', 'glade', 'glassfish', 'glassfish-3', 'glasspane', 'glew', 'glib', 'glibc', 'glob', 'global', 'global-asax', 'global-namespace', 'global-variables', 'globalevent', 'globalization', 'globalize2', 'globals', 'glow', 'glrotate', 'glscene', 'glsl', 'glteximage2d', 'glut', 'glx', 'glyph', 'gm-xmlhttprequest', 'gmail', 'gmp', 'gnome', 'gnu', 'gnu-classpath', 'gnu-make', 'gnu-screen', 'gnupg', 'gnuplot', 'gnustep', 'go', 'goal-tracking', 'gobject', 'god-object', 'google-ad-manager', 'google-adwords', 'google-ajax-api', 'google-ajax-libraries', 'google-analytics', 'google-analytics-api', 'google-api', 'google-app-engine', 'google-app-engine-patch', 'google-apps', 'google-base', 'google-calendar', 'google-checkout', 'google-chrome', 'google-chrome-devtools', 'google-chrome-extension', 'google-chrome-frame', 'google-chrome-os', 'google-closure', 'google-closure-compiler', 'google-closure-library', 'google-cloud-datastore', 'google-code', 'google-contacts', 'google-crawlers', 'google-data', 'google-data-api', 'google-docs', 'google-earth', 'google-eclipse-plugin', 'google-finance', 'google-friend-connect', 'google-gadget', 'google-gears', 'google-index', 'google-maps', 'google-maps-api-3', 'google-maps-markers', 'google-openid', 'google-play', 'google-reader', 'google-search', 'google-search-api', 'google-search-appliance', 'google-spreadsheet', 'google-talk', 'google-translate', 'google-visualization', 'google-wave', 'google-webmaster-tools', 'googlebot', 'googlemock', 'googletest', 'gorm', 'goto', 'gource', 'gpgpu', 'gpl', 'gpo', 'gprof', 'gprs', 'gps', 'gps-time', 'gpsignaturefile', 'gpu', 'gpu-programming', 'gpx', 'gql', 'gqlquery', 'graceful-degradation', 'gradient', 'gradients', 'grails', 'grails-plugin', 'grails-validation', 'grammar', 'graniteds', 'grant', 'granularity', 'graph', 'graph-algorithm', 'graph-databases', 'graph-drawing', 'graph-layout', 'graph-theory', 'graphic-effects', 'graphical-logo', 'graphicex', 'graphics', 'graphics2d', 'graphing', 'graphviz', 'gravatar', 'gravity', 'grayscale', 'greasemonkey', 'greatest-n-per-group', 'greedy', 'green-threads', 'grep', 'grid', 'grid-computing', 'grid-layout', 'gridex', 'gridgain', 'gridify', 'gridview', 'groovlet', 'groovy', 'group', 'group-by', 'group-concat', 'group-policy', 'groupbox', 'grouping', 'groups', 'groupwise', 'grub', 'gsl', 'gsm', 'gsoap', 'gsp', 'gstreamer', 'gsub', 'gtd', 'gtk', 'gtk#', 'gtk2', 'gtk2hs', 'gtkd', 'gtktreeview', 'guard', 'guard-clause', 'guava', 'gui-builder', 'gui-designer', 'guice', 'guid', 'guile', 'gurobi', 'gw-basic', 'gwt', 'gwt-compiler', 'gwt-ext', 'gwt-rpc', 'gwt2', 'gxt', 'gzip', 'gzipinputstream', 'gzipoutputstream', 'gzipstream', 'h.264', 'h2', 'hackage', 'hadoop', 'hal', 'halo', 'halting-problem', 'hamcrest', 'haml', 'hammingweight', 'handheld', 'handhelddevice', 'handle', 'handle-leak', 'handler', 'handles', 'handwriting', 'hang', 'hard-drive', 'hardlink', 'hardware', 'hardware-acceleration', 'hardware-id', 'hardware-infrastructure', 'hardware-interface', 'has-and-belongs-to-many', 'has-many', 'has-many-through', 'has-one', 'hasattr', 'hash', 'hash-code-uniqueness', 'hash-collision', 'hash-of-hashes', 'hash-reference', 'hashalgorithm', 'hashchange', 'hashcode', 'hashlib', 'hashmap', 'hashset', 'hashtable', 'haskell', 'haslayout', 'haversine', 'having', 'haxe', 'hbase', 'hbm', 'hbm2ddl', 'hbmxml', 'hbox', 'hcard', 'hci', 'hdc', 'hdd', 'hdfs', 'hdl', 'hdrimages', 'header', 'header-files', 'health-monitoring', 'heap', 'heap-fragmentation', 'heap-memory', 'heat', 'heatmap', 'hebrew', 'height', 'helper', 'helper-functions', 'helpers', 'heredoc', 'heroku', 'hessian', 'heuristics', 'hex', 'hgweb', 'hibernate', 'hibernate-annotations', 'hibernate-criteria', 'hibernate-entitymanager', 'hibernate-envers', 'hibernate-mapping', 'hibernate-search', 'hibernate-tools', 'hibernate-validator', 'hibernate.cfg.xml', 'hid', 'hidden', 'hidden-characters', 'hidden-features', 'hidden-field', 'hidden-fields', 'hidden-markov-models', 'hidden-variables', 'hiddenfield', 'hide', 'hierarchical', 'hierarchical-clustering', 'hierarchical-data', 'hierarchical-trees', 'hierarchicaldatatemplate', 'hierarchy', 'hierarchyid', 'high-availability', 'high-load', 'higher-order-functions', 'higher-rank-types', 'highlight', 'highlighting', 'highline', 'highrise', 'hijacked', 'hints', 'hints-and-tips', 'hipe', 'hiphop', 'hippocms', 'histogram', 'history', 'hittest', 'hlsl', 'hmac', 'hmacsha1', 'hmvc', 'homebrew', 'homescreen', 'homoiconicity', 'honeypot', 'hook', 'horizontal-scrolling', 'horizontaloffset', 'host', 'host-object', 'hostable-web-core', 'hosted', 'hosting', 'hostmonster', 'hostname', 'hosts', 'hosts-file', 'hotdeploy', 'hotkeys', 'hotmail', 'hover', 'hoverintent', 'hp-ux', 'hpricot', 'hprof', 'hql', 'href', 'hresult', 'hs-err', 'hsc2hs', 'hsl', 'hsm', 'hsqldb', 'hsv', 'htc', 'htc-hero', 'html', 'html-agility-pack', 'html-components', 'html-content-extraction', 'html-editor', 'html-email', 'html-encode', 'html-entities', 'html-form', 'html-generation', 'html-heading', 'html-help', 'html-help-workshop', 'html-helper', 'html-input', 'html-lists', 'html-manipulation', 'html-parsing', 'html-post', 'html-rendering', 'html-sanitizing', 'html-select', 'html-table', 'html.beginform', 'html4', 'html5', 'htmlfill', 'htmlspecialchars', 'htmltext', 'htmltidy', 'htmlunit', 'htonl', 'http', 'http-authentication', 'http-basic-authentication', 'http-caching', 'http-delete', 'http-get', 'http-headers', 'http-live-streaming', 'http-method', 'http-post', 'http-proxy', 'http-put', 'http-referer', 'http-request', 'http-request-parameters', 'http-status-code-100', 'http-status-code-301', 'http-status-code-302', 'http-status-code-401', 'http-status-code-403', 'http-status-code-404', 'http-status-code-408', 'http-status-code-503', 'http-status-code-504', 'http-status-codes', 'httpclient', 'httpconnection', 'httpcontext', 'httpcookie', 'httpd.conf', 'httperf', 'httpexception', 'httphandler', 'httplib2', 'httplistener', 'httpmodule', 'httppostedfilebase', 'httprequest', 'httpresponse', 'httpruntime.cache', 'https', 'httpserver', 'httpservice', 'httpurlconnection', 'httpwebrequest', 'httpwebresponse', 'httrack', 'hud', 'hudson', 'huffman-coding', 'human-computer-interface', 'humanize', 'hunchentoot', 'hungarian-notation', 'hwnd', 'hwpf', 'hyper-v', 'hyperlink', 'hyperref', 'hyperthreading', 'hypervisor', 'hyphen', 'hyphenation', 'i2c', 'iadstsuserex', 'ibatis', 'ibm', 'ibm-midrange', 'ibm-rad', 'ibplugin', 'icalendar', 'icallbackeventhandler', 'icc', 'icefaces', 'icloneable', 'icmp', 'ico', 'icollection', 'icollectionview', 'icommand', 'icomparable', 'icomparer', 'icons', 'iconv', 'iconvertible', 'icq', 'icriteria', 'icsharpcode', 'icu', 'icustomtypedescriptor', 'id3', 'ida', 'idataerrorinfo', 'idatareader', 'ide', 'ide-customization', 'identicon', 'identification', 'identifier', 'identify', 'identity', 'identity-column', 'identity-map', 'idictionary', 'idioms', 'idispatch', 'idisposable', 'idl', 'idl-programming-language', 'idle-processing', 'ie-developer-tools', 'iecapt', 'ieee-754', 'ienumerable', 'ienumerator', 'iepngfix', 'iequalitycomparer', 'iequatable', 'ierrorhandler', 'iexpress', 'iextenderprovider', 'if-statement', 'ifnull', 'iframe', 'ifstream', 'ignore', 'ignorelist', 'igoogle', 'igraph', 'ihtmldocument', 'ihttpasynchandler', 'ihttphandler', 'ihttpmodule', 'iidentity', 'iif-function', 'iinterceptor', 'iirf', 'iis', 'iis-5', 'iis-6', 'iis-7', 'iis-7.5', 'iis-logs', 'ikimagebrowserview', 'ikimageview', 'ikvm', 'il', 'ilist', 'illegal-characters', 'ilmerge', 'imacros', 'image', 'image-archive', 'image-caching', 'image-capture', 'image-conversion', 'image-gallery', 'image-load', 'image-loading', 'image-manipulation', 'image-preloader', 'image-processing', 'image-recognition', 'image-resizing', 'image-rotation', 'image-scaling', 'image-scanner', 'image-segmentation', 'image-uploading', 'imagebrush', 'imagebutton', 'imageflow', 'imagekit', 'imagemagick', 'imagemap', 'imagenamed', 'imagettftext', 'imagick', 'imaging', 'imap', 'imdb', 'immediacy', 'immediate-window', 'immutability', 'imodelbinder', 'imperative-languages', 'impersonation', 'implementation', 'implicit', 'implicit-cast', 'implicit-typing', 'import', 'import-contacts', 'import-from-excel', 'impromptu', 'imultivalueconverter', 'in-addr', 'in-app-purchase', 'in-function', 'in-memory', 'in-operator', 'in-subquery', 'inches', 'include', 'include-guards', 'incompatibility', 'incr-tcl', 'increment', 'incremental-build', 'indefinite', 'indentation', 'indesign', 'indexed-view', 'indexer', 'indexing', 'indexing-service', 'indic', 'indicator', 'indirection', 'indy', 'inequality', 'inet', 'inet-socket', 'inetd', 'inets', 'infinite-loop', 'infinite-value', 'infinity', 'infix-notation', 'info.plist', 'infobox', 'infopath', 'informatica', 'informatica-powercenter', 'information-bar', 'information-extraction', 'information-hiding', 'information-retrieval', 'information-schema', 'information-theory', 'informix', 'infragistics', 'infrared', 'infrastructure', 'inheritance', 'ini', 'ini-set', 'ini4j', 'init', 'init-parameters', 'init.d', 'initialization', 'initialization-list', 'initializer', 'initializing', 'initrd', 'inject', 'inkcanvas', 'inkscape', 'inline', 'inline-assembly', 'inline-code', 'inline-editing', 'inline-formset', 'inline-functions', 'inline-if', 'inline-images', 'inline-method', 'inlining', 'inner-classes', 'inner-join', 'innerhtml', 'inno-setup', 'innodb', 'innovation', 'inode', 'inotify', 'inotifycollectionchanged', 'inotifypropertychanged', 'input', 'input-history', 'inputstream', 'insert', 'insert-id', 'insert-query', 'insert-update', 'insmod', 'inspect', 'install', 'install-sequence', 'installation', 'installer', 'installscript', 'installshield', 'installshield-2009', 'instance', 'instance-method', 'instance-methods', 'instance-variables', 'instanceof', 'instant-messaging', 'instantiation', 'instruction-set', 'instrumentation', 'instruments', 'int', 'int64', 'integer', 'integer-overflow', 'integrate', 'integrated', 'integrated-security', 'integration', 'integration-testing', 'integrity', 'intel', 'intellij-idea', 'intellisense', 'intentfilter', 'interaction', 'interaction-design', 'interactive', 'interactive-session', 'interbase', 'intercept', 'interceptor', 'interface', 'interface-builder', 'interface-implementation', 'interlocked', 'interlocked-increment', 'intermec', 'intermediate-language', 'intermittent', 'internal', 'internals', 'internalsvisibleto', 'internationalization', 'internet-connection', 'internet-explorer', 'internet-explorer-6', 'internet-explorer-7', 'internet-explorer-8', 'interop', 'interop-domino', 'interpolation', 'interpreted', 'interpreted-language', 'interpreter', 'interprocess', 'interrupt', 'interrupt-handling', 'intersection', 'interstitial', 'interval-arithmetic', 'interval-tree', 'intervals', 'intl', 'into-outfile', 'intptr', 'intranet', 'intrinsics', 'introspection', 'invalid-characters', 'invalidate', 'invalidation', 'invalidoperationexception', 'inventory', 'inverse', 'inversion-of-control', 'inverted-index', 'invitation', 'invite', 'invoke', 'invokerequired', 'io', 'io-buffering', 'io-redirection', 'ioc-container', 'iocp', 'ioctl', 'ioexception', 'iokit', 'iorderedenumerable', 'ios', 'ios-simulator', 'ios4', 'iostream', 'ip', 'ip-address', 'ip-geolocation', 'ip-protocol', 'ipad', 'ipc', 'ipconfig', 'iphone', 'iphone-3gs', 'iphone-developer-program', 'iphone-plist', 'iphone-privateapi', 'iphone-sdk-3.0', 'iphone-sdk-3.1', 'iphone-sdk-3.2', 'iphone-softkeyboard', 'iphone-standalone-web-app', 'iphone-web-app', 'iphoto', 'ipl', 'ipod', 'ipod-touch', 'ipp-protocol', 'iprincipal', 'ipsec', 'iptables', 'ipv4', 'ipv6', 'ipython', 'iqueryable', 'irb', 'irc', 'ireport', 'ironpython', 'ironruby', 'ironscheme', 'irony', 'irq', 'irrlicht', 'isa', 'isapi', 'isapi-rewrite', 'iscriptcontrol', 'isenabled', 'iseries-navigator', 'isight', 'isnull', 'isnumeric', 'iso', 'iso-8859-1', 'iso8583', 'iso8601', 'isolatedstorage', 'isolation', 'isolation-level', 'isometric', 'ispell', 'isset', 'issue-tracking', 'istorage', 'istream', 'itanium', 'itar', 'itemcontainerstyle', 'itemdatabound', 'itemeditor', 'itemlistener', 'itemplate', 'itemrenderer', 'items', 'itemscontrol', 'itemspanel', 'itemspaneltemplate', 'itemssource', 'itemtemplate', 'iterable', 'iterable-unpacking', 'iteration', 'iterator', 'iterm', 'itext', 'itextsharp', 'itil', 'itunes', 'itunes-sdk', 'itunes-store', 'itunesconnect', 'ivalueconverter', 'ivr', 'ivy', 'ivyde', 'iwork', 'ixmlserializable', 'izpack', 'j', 'j#', 'j2mepolish', 'jaas', 'jackrabbit', 'jackson', 'jad', 'jagged-arrays', 'jailbreak', 'jama', 'janrain', 'janus', 'jar', 'jar-signing', 'jarsigner', 'jasper-plugin', 'jasper-reports', 'jasperprint', 'jatha', 'java', 'java-2d', 'java-3d', 'java-5', 'java-6', 'java-canvas', 'java-compiler-api', 'java-ee', 'java-ee-5', 'java-ee-6', 'java-home', 'java-io', 'java-me', 'java-memory-model', 'java-metro-framework', 'java-persistence-api', 'java-stored-procedures', 'java-transaction-service', 'java-web-start', 'java.lang.class', 'java.util.concurrent', 'java.util.logging', 'java.util.scanner', 'java1.4', 'javabeans', 'javac', 'javacard', 'javacc', 'javadb', 'javadoc', 'javafx', 'javafx-2', 'javamail', 'javarebel', 'javascript', 'javascript-debugger', 'javascript-engine', 'javascript-events', 'javascript-framework', 'javascript-intellisense', 'javascript-security', 'javascriptmvc', 'javax.comm', 'javax.imageio', 'javax.mail', 'jaws-screen-reader', 'jax-rpc', 'jax-rs', 'jax-ws', 'jaxb', 'jaxb2-basics', 'jaxm', 'jaxp', 'jazelle', 'jbi', 'jboss', 'jboss-4.0.x', 'jboss-eap-4.3.x', 'jboss-mdb', 'jboss-web', 'jboss5.x', 'jbossws', 'jbpm', 'jbutton', 'jca', 'jcanvas', 'jcarousel', 'jce', 'jcifs', 'jcombobox', 'jcomponent', 'jconsole', 'jcr', 'jcs', 'jdbc', 'jdbctemplate', 'jde', 'jdesktoppane', 'jdeveloper', 'jdialog', 'jdic', 'jdk1.4', 'jdk1.5', 'jdk1.6', 'jdo', 'jdoql', 'jdwp', 'jedi', 'jedi-code-library', 'jedit', 'jeditable', 'jeditorpane', 'jelly', 'jena', 'jenkins', 'jersey', 'jes', 'jet', 'jetty', 'jexcelapi', 'jface', 'jfeed', 'jfilechooser', 'jformattedtextfield', 'jframe', 'jfreechart', 'jgoodies', 'jgrapht', 'jgrowl', 'jibx', 'jinja2', 'jinternalframe', 'jira', 'jit', 'jks', 'jlayer', 'jlist', 'jmeter', 'jmf', 'jmockit', 'jms', 'jmx', 'jna', 'jndi', 'jni', 'jnlp', 'job-queue', 'job-scheduling', 'jobeet', 'jobs', 'jodatime', 'jogl', 'join', 'joined-subclass', 'jointable', 'joomla', 'joomla-sef-urls', 'joomla1.5', 'joptionpane', 'jpa', 'jpanel', 'jparsec', 'jpcap', 'jpeg', 'jpeg2000', 'jpopupmenu', 'jpos', 'jpql', 'jprofiler', 'jqgrid', 'jqgrid-asp.net', 'jql', 'jqmath', 'jqmodal', 'jqplot', 'jqtouch', 'jquery', 'jquery-1.3', 'jquery-1.4', 'jquery-animate', 'jquery-autocomplete', 'jquery-dialog', 'jquery-plugins', 'jquery-rotate', 'jquery-selectors', 'jquery-session', 'jquery-tools', 'jquery-traversing', 'jquery-ui', 'jquery-ui-accordion', 'jquery-ui-datepicker', 'jquery-ui-dialog', 'jquery-ui-draggable', 'jquery-ui-droppable', 'jquery-ui-plugins', 'jquery-ui-sortable', 'jquery-ui-tabs', 'jquery-validate', 'jquery.support', 'jradiobutton', 'jrails', 'jrails-auto-complete', 'jruby', 'jrubyonrails', 'js-test-driver', 'jscience', 'jscompress', 'jscript', 'jscript.net', 'jscrollpane', 'jsecurity', 'jsf', 'jsfl', 'jslider', 'jslint', 'json', 'json-framework', 'json-rpc', 'json.net', 'jsonp', 'jsp', 'jsp-tags', 'jspeex', 'jspinclude', 'jsplitpane', 'jsr', 'jsr168', 'jsr172', 'jsr199', 'jsr223', 'jsr82', 'jsse', 'jssh', 'jstack', 'jstl', 'jstore', 'jsunit', 'jt400', 'jta', 'jtabbedpane', 'jtable', 'jtapi', 'jtds', 'jtemplate', 'jtextarea', 'jtextcomponent', 'jtextfield', 'jtextpane', 'jtidy', 'jtracert', 'jtree', 'junction', 'junction-table', 'jung', 'junit', 'junit4', 'justify', 'jvm', 'jvm-arguments', 'jvm-crash', 'jvm-hotspot', 'jvm-languages', 'jwplayer', 'jxl', 'jxpath', 'jyaml', 'jython', 'k-means', 'kanban', 'kannel', 'kawa', 'kde', 'kde4', 'kdevelop', 'keep-alive', 'kerberos', 'kernel', 'kernel-module', 'kernel32', 'kernighan-and-ritchie', 'kettle', 'key', 'key-bindings', 'key-events', 'key-value', 'key-value-coding', 'key-value-observing', 'keyboard', 'keyboard-events', 'keyboard-hook', 'keyboard-input', 'keyboard-layout', 'keyboard-shortcuts', 'keychain', 'keycode', 'keydown', 'keyevent', 'keylistener', 'keylogger', 'keymapping', 'keynotfoundexception', 'keypress', 'keystore', 'keystroke', 'keystrokes', 'keytool', 'keyword', 'keyword-expansion', 'kill', 'kiosk', 'kml', 'kmz', 'knapsack-problem', 'knowledge-management', 'known-types', 'knuth', 'kohana', 'kohana-3', 'komodo', 'kqueue', 'kr-c', 'krypton', 'krypton-toolkit', 'ksh', 'ksoap', 'ksoap2', 'kubuntu', 'kvm', 'label', 'labelfunction', 'labels', 'labview', 'labwindows', 'lag', 'lambda', 'lambda-calculus', 'lambdaj', 'lame', 'lamp', 'lan', 'landscape', 'lang', 'language-agnostic', 'language-comparisons', 'language-construct', 'language-design', 'language-details', 'language-detection', 'language-features', 'language-implementation', 'language-interoperability', 'language-lawyer', 'language-theory', 'languagetool', 'lapack', 'large-data-volumes', 'large-file-support', 'large-file-upload', 'large-files', 'large-object-heap', 'largenumber', 'last-insert-id', 'last-modified', 'last.fm', 'lastinsertid', 'late-binding', 'late-static-binding', 'latency', 'latent-semantic-indexing', 'latex', 'latin1', 'latitude-longitude', 'launch', 'launch4j', 'launchd', 'launching', 'launching-application', 'law-of-demeter', 'layered-windows', 'layout', 'layout-manager', 'lazarus', 'lazy-evaluation', 'lazy-initialization', 'lazy-loading', 'lazylist', 'lcd', 'lcds', 'ld', 'ldap', 'ldapconnection', 'lds', 'leaky-abstraction', 'led', 'leda', 'left-join', 'legacy', 'legacy-code', 'legend', 'leiningen', 'lejos-nxj', 'lemmatization', 'less', 'let', 'level', 'levenshtein-distance', 'lex', 'lexer', 'lexical-analysis', 'lexical-scope', 'lexicographic', 'lgpl', 'libc', 'libcurl', 'libevent', 'libffi', 'libjpeg', 'libnet', 'libpng', 'libpq', 'libpurple', 'libraries', 'library-interposition', 'libstdc++', 'libsvm', 'libtool', 'libvirt', 'libxml2', 'license-key', 'licensing', 'lidar', 'lidar-data', 'lifecycle', 'liferay', 'lifetime', 'lift', 'lightbox', 'lighting', 'lights', 'lightspeed', 'lighttpd', 'lightweight-processes', 'lightwindow', 'like', 'like-keyword', 'likely-unlikely', 'limit', 'limit-choices-to', 'limits', 'linden-scripting-language', 'line', 'line-breaks', 'line-endings', 'line-numbers', 'linear-algebra', 'linear-programming', 'linear-regression', 'linearization', 'lines', 'lines-of-code', 'linfu', 'lingo', 'linguistics', 'link-to', 'link-to-function', 'linkage', 'linkbutton', 'linked-list', 'linked-server', 'linkedhashmap', 'linkedin', 'linker', 'linker-error', 'linker-scripts', 'linktable', 'linq', 'linq-expressions', 'linq-to-dataset', 'linq-to-entities', 'linq-to-lucene', 'linq-to-nhibernate', 'linq-to-objects', 'linq-to-sql', 'linq-to-xml', 'linq-to-xsd', 'linq.compiledquery', 'linqdatasource', 'linqpad', 'lint', 'linux', 'linux-device-driver', 'linux-kernel', 'liquibase', 'liquid', 'liquid-layout', 'lisp', 'lisp-in-a-box', 'list', 'list-comprehension', 'list-definition', 'list-separator', 'list-template', 'list.selectedvalue', 'listbox', 'listbox-control', 'listboxitem', 'listcollectionview', 'listcontrol', 'listen', 'listener', 'listeners', 'listfield', 'listings', 'listitem', 'listproperty', 'listview', 'literals', 'literate-programming', 'litespeed', 'little-endian', 'live', 'live-mesh', 'livechat', 'livecycle', 'livequery', 'll', 'llblgenpro', 'llvm', 'llvm-gcc', 'ln', 'lnk', 'lnk2019', 'lnk2022', 'load', 'load-balancing', 'load-data-infile', 'load-testing', 'load-time', 'loadcontrol', 'loader', 'loaderlock', 'loading', 'loadlibrary', 'loadrunner', 'lob', 'local', 'local-database', 'local-storage', 'local-variables', 'localconnection', 'locale', 'localeconv', 'localhost', 'localization', 'localized', 'localsolr', 'localsystem', 'location', 'locbaml', 'lock-free', 'lockbits', 'locked', 'locked-files', 'lockfile', 'locking', 'lockless', 'log4', 'log4j', 'log4net', 'log4perl', 'logarithm', 'logback', 'logfile-analysis', 'logfiles', 'logging', 'logic', 'logic-programming', 'logical-components', 'logical-operators', 'login', 'login-automation', 'login-control', 'login-script', 'loginview', 'logmein', 'logo-lang', 'logo-testing', 'logoff', 'logout', 'logparser', 'loki', 'long-integer', 'long-polling', 'long-running-processes', 'longtable', 'look-and-feel', 'lookbehind', 'lookup', 'lookup-field', 'lookup-tables', 'lookupfield', 'loopback', 'loopback-address', 'loops', 'loose-coupling', 'lostfocus', 'lotus', 'lotus-domino', 'lotus-notes', 'lotusscript', 'low-level', 'low-memory', 'lowpro', 'lpcstr', 'lpt', 'lr1', 'lru', 'ls', 'ls-colors', 'lsp', 'ltk', 'lua', 'lua-table', 'lucene', 'lucene.net', 'luntbuild', 'lvalue', 'lwp', 'lwuit', 'lxml', 'lzh', 'lzma', 'lzo', 'm2crypto', 'm2eclipse', 'm2m', 'm4', 'mac-address', 'macfuse', 'machine-code', 'machine-config', 'machine-language', 'machine-learning', 'machine-translation', 'machinekey', 'macports', 'macros', 'macruby', 'macrubyc', 'macvim', 'madexcept', 'maemo', 'magazine', 'magento', 'magic-methods', 'magic-mouse', 'magic-quotes', 'magic-quotes-gpc', 'magnification', 'magpie', 'mahout', 'mail-server', 'mailchimp', 'maildir', 'mailing', 'mailing-list', 'mailmessage', 'mailto', 'main', 'main-method', 'mainclass', 'mainframe', 'maintainability', 'maintainscrollpositionon', 'maintenance', 'maintenance-mode', 'maintenance-plan', 'makecert', 'makefile', 'mako', 'malloc', 'malware', 'mamp', 'managed', 'managed-c++', 'managed-code', 'managed-directx', 'manager', 'manager-app', 'manifest', 'mantis', 'manual', 'manual-testing', 'manualresetevent', 'manuals', 'many-to-many', 'many-to-one', 'map', 'map-function', 'mapi', 'mapkit', 'maple', 'mappath', 'mapped-drive', 'mapping', 'mappings', 'mappoint', 'mapreduce', 'maps', 'mapserver', 'margin', 'margins', 'markdown', 'markers', 'markov-models', 'markup', 'marquee', 'mars', 'marshalbyrefobject', 'marshalling', 'mashup', 'mask', 'masked-array', 'maskededitextender', 'maskedinput', 'maskedtextbox', 'masking', 'masm', 'mass-assignment', 'masstransit', 'master-detail', 'master-pages', 'master-slave', 'match', 'matchevaluator', 'matching', 'mate', 'materialized', 'materialized-views', 'math', 'math-mode', 'math.h', 'mathematical-optimization', 'mathematical-packages', 'mathjax', 'mathml', 'mathtype', 'matlab', 'matlab-class', 'matlab-cvst', 'matlab-load', 'matplotlib', 'matrix', 'matrix-inverse', 'maven', 'maven-1', 'maven-2', 'maven-3', 'maven-dependency-plugin', 'maven-plugin', 'maven-scm', 'maven-site-plugin', 'max', 'max-path', 'maxima', 'maximize', 'maxlength', 'maxscript', 'maze', 'mbunit', 'mc', 'mci', 'mcrypt', 'md5', 'mdd', 'mdf', 'mdi', 'mdichild', 'mdiparent', 'mdns', 'mds-cs', 'mdx', 'measure', 'measurement', 'mechanize', 'media', 'media-player', 'mediacenter', 'mediaelement', 'medial-axis', 'median', 'mediatemple', 'mediawiki', 'medical', 'medium-trust', 'meeting', 'mef', 'meld', 'member', 'member-function-pointers', 'member-functions', 'member-variables', 'members', 'membership', 'membership-provider', 'memcached', 'memcachedb', 'memcpy', 'memento', 'memoir', 'memoization', 'memory', 'memory-access', 'memory-address', 'memory-alignment', 'memory-barriers', 'memory-consumption', 'memory-dump', 'memory-footprint', 'memory-leaks', 'memory-management', 'memory-mapped-files', 'memory-mapping', 'memory-model', 'memory-profiling', 'memorystream', 'memset', 'mencoder', 'menu', 'menu-items', 'menuitem', 'menustrip', 'merb', 'mercurial', 'merge', 'merge-conflict-resolution', 'merge-module', 'merge-replication', 'mesh', 'message', 'message-driven-bean', 'message-forwarding', 'message-queue', 'messagebox', 'messagebroker', 'messages', 'messaging', 'meta-tags', 'metaclass', 'metadata', 'metalanguage', 'metaprogramming', 'metasyntactic-variable', 'metatag', 'method-chaining', 'method-group', 'method-hiding', 'method-missing', 'method-names', 'method-overloading', 'method-signature', 'methodinfo', 'methodology', 'methods', 'metric', 'metrics', 'metrowerks', 'mex', 'mfc', 'mfc-feature-pack', 'mfcc', 'mgrammar', 'mgtwitterengine', 'mhtml', 'mib', 'micro-optimization', 'microbenchmark', 'microblogging', 'microcontroller', 'microformats', 'microphone', 'microsoft-bits', 'microsoft-chart-controls', 'microsoft-commerce-server', 'microsoft-contracts', 'microsoft-dynamics', 'microsoft-expression-web', 'microsoft-reporting', 'microsoft-sync-framework', 'microsoft-test-manager', 'microsoft.build', 'microsoft.mshtml', 'microstrategy', 'midas-editor', 'midas-server', 'middleware', 'midi', 'midi-instrument', 'midi-interface', 'midl', 'midlet', 'midp', 'midp-2.0', 'miglayout', 'migrate', 'migrating', 'migration', 'migratordotnet', 'mime', 'mime-types', 'min', 'mindmapping', 'mingw', 'minidom', 'minidump', 'minify', 'minimax', 'minimize', 'minimized', 'minimum', 'minimum-size', 'minitest', 'minute', 'mips', 'mirroring', 'mirth', 'mismatch', 'missing-cookies', 'mission-critical', 'mixed', 'mixed-mode', 'mixing', 'mixins', 'mjpeg', 'mkannotation', 'mkdir', 'mkmapview', 'mkpinannotationview', 'mlabwrap', 'mm7', 'mmap', 'mmapi', 'mmc', 'mms', 'mnemonics', 'mnesia', 'mobile', 'mobile-application', 'mobile-devices', 'mobile-phones', 'mobile-safari', 'mobile-website', 'mobilink', 'mocha', 'mocking', 'mockito', 'mockrunner', 'mod-alias', 'mod-dav-svn', 'mod-deflate', 'mod-fastcgi', 'mod-jk', 'mod-mono', 'mod-perl', 'mod-perl2', 'mod-proxy', 'mod-python', 'mod-rails', 'mod-rewrite', 'mod-wsgi', 'modal-dialog', 'modalpopup', 'modalpopupextender', 'modalpopups', 'mode', 'model', 'model-binding', 'model-driven', 'model-driven-development', 'model-glue', 'model-view-controller', 'modelbinder', 'modelbinders', 'modeless', 'modelform', 'modeling', 'models', 'modelstate', 'modem', 'modi', 'modifier', 'modular', 'modularity', 'modularization', 'module', 'module-packaging', 'module-search-path', 'module-versions', 'modulo', 'modx', 'mojo', 'mojo-sdk', 'moles', 'moma', 'monads', 'money', 'mongodb', 'mongomapper', 'mongoose-web-server', 'mongrel', 'mongrel-cluster', 'monitor', 'monitoring', 'monkeypatching', 'mono', 'mono-embedding', 'mono.cecil', 'monochrome', 'monodevelop', 'monostate', 'monotone', 'montecarlo', 'monthcalendar', 'moodle', 'moonlight', 'moores-law', 'moose', 'mootools', 'mootools-sortable', 'mop', 'moq', 'moq-3', 'moss', 'mosso', 'motif', 'motion', 'motion-blur', 'motion-detection', 'motordriver', 'motorola', 'mount', 'mouse', 'mouse-cursor', 'mouse-hook', 'mouse-position', 'mouseclick-event', 'mouseevent', 'mouseleave', 'mouseout', 'mouseover', 'mousewheel', 'movabletype', 'move', 'movement', 'movie', 'movieclip', 'moviecliploader', 'movieplayer', 'movies', 'moving-average', 'mozilla', 'mozilla-prism', 'mp3', 'mp4', 'mpeg', 'mpi', 'mplayer', 'mpmovieplayer', 'mpmovieplayercontroller', 'mpmoviewcontroller', 'mpnowplayinginfocenter', 'mptt', 'mql', 'ms-access', 'ms-access-2003', 'ms-access-2007', 'ms-dos', 'ms-jet-ace', 'ms-media-foundation', 'ms-office', 'ms-project', 'ms-word', 'msbee', 'msbuild', 'msbuild-propertygroup', 'msbuild-target', 'msbuild-task', 'msbuildcommunitytasks', 'mschart', 'mscorlib', 'msdeploy', 'msdn', 'msdtc', 'msflexgrid', 'msg', 'msgrcv', 'msgsend', 'mshtml', 'msiexec', 'msmq', 'msmq-wcf', 'msmqbinding', 'msmqintegrationbinding', 'msn', 'mspec', 'msscc', 'mstest', 'mstsc', 'msvcrt', 'msxml', 'msxml4', 'msxsl', 'msys', 'msysgit', 'mtasc', 'mud', 'multi-monitor', 'multi-project', 'multi-select', 'multi-tenant', 'multi-touch', 'multi-user', 'multibinding', 'multibyte', 'multicast', 'multicastsocket', 'multicore', 'multidatatrigger', 'multidimensional-array', 'multifile-uploader', 'multihomed', 'multilanguage', 'multiline', 'multilingual', 'multimap', 'multimedia', 'multipage', 'multipart', 'multiplatform', 'multiplayer', 'multiple-columns', 'multiple-conditions', 'multiple-dispatch', 'multiple-domains', 'multiple-inheritance', 'multiple-insert', 'multiple-instances', 'multiple-languages', 'multiple-login', 'multiple-makefiles', 'multiple-models', 'multiple-monitors', 'multiple-projects', 'multiple-repositories', 'multiple-results', 'multiple-select', 'multiple-tables', 'multiple-value', 'multiple-variable-return', 'multiple-views', 'multiplication', 'multiprocess', 'multiprocessing', 'multiprocessor', 'multisampling', 'multiscaleimage', 'multitexturing', 'multithreading', 'multivalue', 'multiview', 'music', 'mutable', 'mutation-testing', 'mute', 'mutex', 'mutual-exclusion', 'mv', 'mvccontrib', 'mvcroutehandler', 'mvp', 'mvvm', 'mx-record', 'mxml', 'mxmlc', 'my-recent-documents', 'myeclipse', 'mygeneration', 'myisam', 'mylyn', 'myob', 'mysite', 'myspace', 'mysql', 'mysql-5.0', 'mysql-connector', 'mysql-error-1005', 'mysql-error-1045', 'mysql-error-1054', 'mysql-error-1062', 'mysql-error-1064', 'mysql-error-1093', 'mysql-error-1111', 'mysql-error-1242', 'mysql-error-126', 'mysql-error-1451', 'mysql-error-2003', 'mysql-error-2006', 'mysql-management', 'mysql-proxy', 'mysql5', 'mysqldump', 'mysqli', 'mysqlimport', 'mysqlpp', 'n-tier', 'n2', 'n97', 'nachos', 'nagios', 'name-decoration', 'name-length', 'name-mangling', 'name-matching', 'named', 'named-parameters', 'named-pipes', 'named-query', 'named-scope', 'nameerror', 'names', 'namespaces', 'namevaluecollection', 'naming', 'naming-conventions', 'nan', 'nanotime', 'nant', 'nant-task', 'nantcontrib', 'nas', 'nasm', 'nat', 'nat-traversal', 'native', 'nativelibrary', 'natural-key', 'natural-sort', 'naturallyspeaking', 'navigation', 'navigation-properties', 'navigationbar', 'navigationcontroller', 'navigator', 'navision', 'nawk', 'ncbi', 'ncover', 'ncurses', 'ndbunit', 'ndepend', 'ndoc', 'nearest-neighbor', 'nearlyfreespeech', 'negotiate', 'neighbours', 'nemerle', 'neo4j', 'nerddinner', 'nerdtree', 'nested', 'nested-attributes', 'nested-class', 'nested-forms', 'nested-generics', 'nested-lists', 'nested-loops', 'nested-resources', 'nested-sets', 'net-reactor', 'net-ssh', 'net.tcp', 'netadvantage', 'netbeans', 'netbeans-platform', 'netbeans-plugins', 'netbeans6.5', 'netbeans6.7', 'netbeans6.8', 'netcat', 'netconnection', 'netdatacontractserializer', 'netfilter', 'netflix', 'netmask', 'netnamedpipebinding', 'netsh', 'netstat', 'netstream', 'nettcpbinding', 'netty', 'network-efficiency', 'network-monitoring', 'network-programming', 'network-protocols', 'network-scan', 'network-share', 'network-utilization', 'networking', 'networkstream', 'networkx', 'neural-network', 'new-operator', 'new-style-class', 'newlib', 'newline', 'news', 'news-feed', 'newsletter', 'next', 'nextval', 'nexus', 'nexus-one', 'nfop', 'nfs', 'ngen', 'nginx', 'ngrep', 'nhaml', 'nhibernate', 'nhibernate-burrow', 'nhibernate-cascade', 'nhibernate-mapping', 'nhibernate-metadata', 'nhibernate.search', 'nhprof', 'nib', 'nic', 'nike', 'nimbus', 'ninject', 'nio', 'nitrogen', 'nla', 'nlm', 'nlog', 'nlp', 'nls', 'nltk', 'nmake', 'nmap', 'nmea', 'nmock', 'nms', 'nntp', 'no-framework', 'noclassdeffounderror', 'nod32', 'node-set', 'node.js', 'nodes', 'nofollow', 'nohup', 'noise', 'noise-reduction', 'noise-words', 'nokia', 'nokia-wrt', 'nokogiri', 'nolock', 'nomenclature', 'non-deterministic', 'non-english', 'non-greedy', 'non-nullable', 'non-printable', 'non-static', 'nonblocking', 'normal-distribution', 'normalization', 'normalize', 'normalizing', 'noscript', 'nose', 'nosetests', 'nosql', 'not-exists', 'notation', 'notepad', 'notepad++', 'nothing', 'notification-area', 'notification-bar', 'notifications', 'notifyicon', 'notimplementedexception', 'notin', 'novell', 'noweb', 'np-complete', 'np-hard', 'npapi', 'nptl', 'nrpe', 'nsalert', 'nsapplication', 'nsarray', 'nsarraycontroller', 'nsattributedstring', 'nsbitmapimagerep', 'nsbundle', 'nsbutton', 'nscharacterset', 'nscoding', 'nscollectionview', 'nscollectionviewitem', 'nsdata', 'nsdate', 'nsdateformatter', 'nsdecimalnumber', 'nsdictionary', 'nsdocument', 'nsdragginginfo', 'nsenumerator', 'nservicebus', 'nsexception', 'nsfetchedresultscontrolle', 'nsfetchrequest', 'nsfilehandle', 'nsfilewrapper', 'nsformatter', 'nsimage', 'nsimagerep', 'nsimageview', 'nsindexpath', 'nsis', 'nskeyedarchiver', 'nslevelindicator', 'nslog', 'nsmanagedobject', 'nsmanagedobjectcontext', 'nsmenu', 'nsmenuitem', 'nsmutablearray', 'nsmutabledictionary', 'nsmutableurlrequest', 'nsnotification', 'nsnotifications', 'nsnumberformatter', 'nsobject', 'nsoperation', 'nsoperationqueue', 'nsoutlineview', 'nspredicate', 'nspredicateeditor', 'nsprogressindicator', 'nsscrollview', 'nssocketport', 'nssortdescriptor', 'nssound', 'nssplitview', 'nsstring', 'nstableview', 'nstask', 'nstextfield', 'nstextview', 'nsthread', 'nstimeinterval', 'nstimer', 'nstimezone', 'nstokenfield', 'nstreecontroller', 'nsurl', 'nsurlconnection', 'nsurlrequest', 'nsuserdefaults', 'nsview', 'nsviewcontroller', 'nswindow', 'nswindowcontroller', 'nsxml', 'nsxmlparser', 'nsxmlparsererrordomain', 'nt', 'ntext', 'ntfs', 'nth-root', 'ntlm', 'ntpd', 'ntvdm', 'ntvdm.exe', 'null-coalescing-operator', 'null-terminated', 'null-test', 'null-uniqueidentifier', 'nullable', 'nullpointerexception', 'nullreferenceexception', 'numa', 'number-formatting', 'number-theory', 'numberformatter', 'numbers', 'numeric', 'numeric-keypad', 'numeric-ranges', 'numerical', 'numerical-analysis', 'numerical-methods', 'numerical-stability', 'numpy', 'nunit', 'nunit-console', 'nunit-mocks', 'nusoap', 'nutch', 'nuxeo', 'nvarchar', 'nvcc', 'nvelocity', 'nvidia', 'nvl', 'nxbre', 'nyromodal', 'oas', 'oauth', 'ob-start', 'obfuscation', 'obiee', 'object', 'object-code', 'object-database', 'object-detection', 'object-lifetime', 'object-literal', 'object-model', 'object-pascal', 'object-reference', 'object-role-modeling', 'object-serialization', 'object-tag', 'objectcontext', 'objectdataprovider', 'objectdatasouce', 'objectdatasource', 'objective-c', 'objective-c++', 'objective-c-2.0', 'objective-c-runtime', 'objective-j', 'objectsize', 'obout', 'obr', 'observablecollection', 'observer-pattern', 'oc4j', 'ocaml', 'occasionallyconnected', 'oci', 'oci8', 'ocmock', 'ocp', 'ocr', 'ocracoke', 'ocs', 'octal', 'octave', 'ocunit', 'ocx', 'odbc', 'odf', 'odp.net', 'ofc', 'office-2003', 'office-2007', 'office-2010', 'office-addins', 'office-automation', 'office-communicator', 'office-interop', 'officedev', 'offline', 'offline-caching', 'offset', 'ofstream', 'ognl', 'ogre', 'ogre3d', 'olap', 'ole', 'ole-automation', 'oledb', 'oledbcommand', 'oledbconnection', 'oledragdrop', 'ollydbg', 'olpc', 'oltp', 'oma', 'oma-dm', 'omittag', 'omnicomplete', 'on-clause', 'on-the-fly', 'onbeforeunload', 'onblur', 'onchange', 'oncheckedchanged', 'onclick', 'ondemand', 'one-definition-rule', 'one-to-many', 'one-to-one', 'onerror', 'onexception', 'onfocus', 'onkeydown', 'onkeypress', 'online-repository', 'online-store', 'onlinebanking', 'onload', 'onmousedown', 'onmousemove', 'onmouseover', 'onpaint', 'onpreinit', 'onreadystatechange', 'onscroll', 'onstart', 'onsubmit', 'ontology', 'onunload', 'ooad', 'oodbms', 'oolong-engine', 'oop', 'opacity', 'opcode', 'opcode-cache', 'open-basedir', 'open-flash-chart', 'open-source', 'open-uri', 'openal', 'openbd', 'openbsd', 'opencl', 'opencms', 'opencv', 'opendocument', 'openejb', 'openfeint', 'openfiledialog', 'openfire', 'openframeworks', 'opengl', 'opengl-es', 'opengl-es-lighting', 'opengraph', 'opengrok', 'openid', 'openid-selector', 'openide', 'openinfowindowhtml', 'openjdk', 'openjpa', 'openlaszlo', 'openlayers', 'openldap', 'openmp', 'openmpi', 'opennetcf', 'opennetcf.ioc', 'openoffice-calc', 'openoffice-writer', 'openoffice.org', 'openpgp', 'openprocess', 'openrowset', 'openscenegraph', 'opensearch', 'opensocial', 'opensolaris', 'openssh', 'openssl', 'openstep', 'openstreetmap', 'opensuse', 'opentype', 'openurl', 'openvpn', 'openx', 'openxml', 'opera', 'operating-system', 'operationcontext', 'operationcontract', 'operations', 'operator-keyword', 'operator-overloading', 'operator-precedence', 'operators', 'opf3', 'opos', 'optimistic-locking', 'optimization', 'optimizer-hints', 'option', 'optional-parameters', 'options', 'optparse', 'or-designer', 'ora-00001', 'ora-00900', 'ora-00904', 'ora-00907', 'ora-00911', 'ora-00923', 'ora-00933', 'ora-00942', 'ora-01045', 'ora-01400', 'ora-01461', 'ora-01722', 'ora-08177', 'ora-12519', 'ora-12560', 'ora-12705', 'oracle', 'oracle-adf', 'oracle-apex', 'oracle-coherence', 'oracle-home', 'oracle-sqldeveloper', 'oracle-streams', 'oracle-ucm', 'oracle-xe', 'oracle-xml-db', 'oracle-xml-db-repository', 'oracle10g', 'oracle11g', 'oracle9i', 'oracleapplications', 'oracleclient', 'oracleforms', 'orbited', 'order', 'order-of-evaluation', 'ordinals', 'org-mode', 'organic-groups', 'organization', 'orientation', 'orientdb', 'orm', 'orthogonal', 'os-agnostic', 'os-detection', 'osascript', 'oscommerce', 'osdev', 'osgi', 'osi', 'oslo', 'ostream', 'ostringstream', 'osx', 'osx-leopard', 'osx-snow-leopard', 'otl', 'otp', 'out', 'out-of-band', 'out-of-browser', 'out-of-memory', 'out-of-process', 'out-parameters', 'outer-classes', 'outer-join', 'outline', 'outline-view', 'outlook', 'outlook-2003', 'outlook-2007', 'outlook-addin', 'outlook-form', 'outlook-object-model', 'outlook-redemption', 'outlook-vba', 'outlook-web-app', 'output', 'output-buffering', 'output-window', 'outputcache', 'outputdebugstring', 'outputstream', 'overflow', 'overflowexception', 'overhead', 'overlap', 'overlapped-io', 'overlapping-matches', 'overlay', 'overlay-icon-disappear', 'overlays', 'overload-resolution', 'overloading', 'override', 'overriding', 'overwrite', 'owasp', 'owl', 'owner', 'ownerdrawn', 'ownership', 'oxite', 'oxygene', 'p2', 'p2p', 'p3p', 'p4merge', 'p4v', 'p6spy', 'pabx', 'pack', 'package', 'package-design', 'package-explorer', 'package-managers', 'packagemaker', 'packages', 'packaging', 'packet', 'packet-capture', 'packets', 'packing', 'pad', 'padding', 'page-break', 'page-init', 'page-layout', 'page-library', 'page-lifecycle', 'page-load-time', 'page-replacement', 'page-setup', 'page-size', 'page-title', 'pagedlist', 'pageload', 'pagemethods', 'pager', 'pagerank', 'paginate', 'pagination', 'paginator', 'paging', 'paint', 'pair', 'pair-programming', 'palette', 'palindrome', 'palm', 'palm-os', 'palm-pre', 'pam', 'panel', 'panels', 'pango', 'panoramio', 'paperclip', 'papervision3d', 'paradigms', 'paradox', 'paragraph', 'parallel-extensions', 'parallel-port', 'parallel-processing', 'parallels', 'parameter-passing', 'parameterization', 'parameterized', 'parameterized-query', 'parameters', 'paramiko', 'params', 'parent', 'parent-child', 'parentheses', 'parrot', 'parsec', 'parseint', 'parser-generator', 'parsing', 'partcover', 'partial', 'partial-application', 'partial-classes', 'partial-ordering', 'partial-postback', 'partial-specialization', 'partial-trust', 'partial-views', 'partials', 'particles', 'partitioning', 'pascal', 'pass-by-reference', 'pass-by-value', 'passenger', 'passphrase', 'passthru', 'passwd', 'password-checker', 'password-hash', 'password-protection', 'passwordbox', 'passwords', 'paste', 'pastebin', 'pasteboard', 'pastie', 'pasting', 'patch', 'patching', 'path', 'path-finding', 'path-variables', 'pathing', 'pattern-matching', 'pattern-recognition', 'pay-per-view', 'payflowpro', 'payload', 'payment', 'payment-gateway', 'paypal', 'paypal-ipn', 'paypal-sandbox', 'paypal-soap', 'paypal-subscriptions', 'pbx', 'pca', 'pcap', 'pchart', 'pci-bus', 'pci-dss', 'pcm', 'pcre', 'pda', 'pdb', 'pdb-files', 'pdc', 'pdc2008', 'pde', 'pdf', 'pdf-generation', 'pdf-manipulation', 'pdf-reader', 'pdflatex', 'pdflib', 'pdfsharp', 'pdo', 'pe', 'pe-exports', 'pear', 'pecl', 'peer', 'peg', 'pem', 'pen', 'penetration-testing', 'penetration-tools', 'pentaho', 'peoplesoft', 'perception', 'perceptron', 'perfmon', 'perforce', 'performance', 'performance-testing', 'performancecounter', 'performancepoint', 'perl', 'perl-core', 'perl-data-structures', 'perl-module', 'perl-prove', 'perl-tidy', 'perl-xs', 'perl5.10', 'perl6', 'perldoc', 'perltk', 'permalinks', 'permgen', 'permissions', 'permutation', 'persist', 'persistence', 'persistent', 'persistent-connection', 'personal-software-process', 'personalization', 'perspectives', 'pervasive', 'perwebrequest', 'pex', 'pex-and-moles', 'pexpect', 'pfx', 'pg-dump', 'pgp', 'phantom-reference', 'phing', 'phishing', 'phone', 'phone-number', 'phone-state-listener', 'phonecalls', 'phonon', 'photo', 'photo-gallery', 'photo-management', 'photogrammetry', 'photography', 'photolibrary', 'photologue', 'photos', 'photoshop', 'php', 'php-5.3', 'php-extension', 'php-ide', 'php-include', 'php-internals', 'php-shorttags', 'php4', 'phpbb', 'phpbb3', 'phpdoc', 'phpinfo', 'phpjs', 'phplist', 'phpmailer', 'phpmyadmin', 'phpseclib', 'phpundercontrol', 'phpunit', 'phusion', 'physics', 'physx', 'pi', 'pi-db', 'pia', 'piano', 'pic', 'pic18', 'picasa', 'piccolo', 'picker', 'picking', 'pickle', 'picturebox', 'pid', 'pie-chart', 'pike', 'pimpl-idiom', 'pinax', 'ping', 'pingback', 'pinvoke', 'pip', 'pipe', 'pipeline', 'piracy-prevention', 'piracy-protection', 'pisa', 'piston', 'pitch', 'pivot', 'pivot-table', 'pivotaltracker', 'piwik', 'pixate', 'pixel', 'pixel-bender', 'pixel-fonts', 'pixelformat', 'pixels', 'pixelsense', 'pkcs#11', 'pkcs#12', 'pkcs#8', 'pkg-resources', 'pki', 'placeholder', 'placement-new', 'plaintext', 'platform', 'platform-builder', 'platform-independent', 'playback', 'player', 'playframework', 'playing-cards', 'playlist', 'playstation-portable', 'plesk', 'plinq', 'plist', 'pljava', 'plone', 'plone-3.x', 'ploneformgen', 'plot', 'plpgsql', 'pls-00428', 'plsql', 'plsqldeveloper', 'plug-and-play', 'plugin-architecture', 'plugins', 'pmd', 'png', 'png-24', 'pnrp', 'pocketpc', 'poco', 'podcast', 'poe', 'poeaa', 'poedit', 'point', 'point-clouds', 'point-of-sale', 'pointer-arithmetic', 'pointer-to-member', 'pointer-to-pointer', 'pointers', 'points', 'pojo', 'poker', 'policy', 'polling', 'polyglot', 'polygon', 'polygons', 'polyline', 'polymorphic-associations', 'polymorphism', 'polynomial-math', 'pom.xml', 'pony', 'pool', 'pop3', 'popen', 'poplib', 'poppler', 'popularity', 'populate', 'popup', 'popupwindow', 'popviewcontroller', 'port', 'port-number', 'port-scanning', 'portability', 'portable-applications', 'portable-executable', 'portal', 'portalsitemapprovider', 'portaudio', 'portforwarding', 'porting', 'portlet', 'portrait', 'ports', 'position', 'positioning', 'posix', 'posix-ere', 'post', 'post-build-event', 'post-commit', 'post-increment', 'post-redirect-get', 'postal-code', 'postback', 'postbackurl', 'postdata', 'postfix-mta', 'postfix-notation', 'postgis', 'postgresql', 'postmessage', 'postmortem-debugging', 'postscript', 'postsharp', 'povray', 'power-management', 'powerbuilder', 'powerbuilder-build-deploy', 'powerpc', 'powerpoint', 'powerpoint-vba', 'powershell', 'powershell-provider', 'powershell-remoting', 'powershell-v1.0', 'powershell-v2.0', 'ppc', 'ppm', 'ppp', 'pppoe', 'pragma', 'prawn', 'prawnto', 'pre', 'pre-build-event', 'pre-commit-hook', 'pre-increment', 'prebuild', 'precedence', 'precision', 'precision-recall', 'precompiled', 'precompiled-headers', 'predicate', 'prediction', 'predis', 'preferences', 'prefetch', 'prefix', 'preg-match', 'preg-match-all', 'preg-replace', 'preg-replace-callback', 'preg-split', 'preload', 'preloader', 'premature-optimization', 'prepared-statement', 'preprocessor', 'preprocessor-directive', 'presentation', 'presentation-layer', 'preset', 'prettify', 'pretty-print', 'prettyfaces', 'preview', 'prezi', 'primary-interop-assembly', 'primary-key', 'prime-factoring', 'primes', 'primitive', 'primitive-types', 'principles', 'print-css', 'print-preview', 'printdocument', 'printer-control-language', 'printf', 'printing', 'printing-web-page', 'println', 'priority-queue', 'prism', 'prism-2', 'privacy', 'private', 'private-functions', 'private-key', 'private-members', 'private-messaging', 'private-methods', 'privatefontcollection', 'privilege-elevation', 'privileges', 'prng', 'probability', 'probability-theory', 'proc-object', 'proc-open', 'proc-sql', 'procedural', 'procedural-generation', 'procedural-music', 'procedure', 'procedures', 'process', 'process-management', 'processbuilder', 'processing', 'processing.js', 'processmaker', 'processmodel', 'processor', 'processstartinfo', 'procfs', 'procmail', 'producer-consumer', 'product', 'product-management', 'production', 'production-environment', 'productivity', 'products', 'profanity', 'profile', 'profiler', 'profiles', 'profiling', 'program-files', 'program-structure', 'programdata', 'programming-languages', 'programming-paradigms', 'progress', 'progress-4gl', 'progress-bar', 'progress-db', 'progressive-download', 'progressive-enhancement', 'proguard', 'project', 'project-hosting', 'project-lifecycle', 'project-management', 'project-organization', 'project-planning', 'project-reference', 'project-server', 'project-settings', 'project-structure', 'project-template', 'projection', 'projective-geometry', 'projects', 'projects-and-solutions', 'prolog', 'prolog-setof', 'promise', 'prompt', 'proof', 'proof-of-correctness', 'propel', 'properties', 'propertyeditor', 'propertygrid', 'protected', 'protected-mode', 'protection', 'protobuf-net', 'protocol-buffers', 'protocols', 'prototypal-inheritance', 'prototype', 'prototype-pattern', 'prototype-programming', 'prototypejs', 'prototyping', 'provider', 'provider-model', 'provisioning', 'proxies', 'proximity', 'proxy', 'proxy-classes', 'proxy-server', 'proxy.pac', 'ps', 'ps3', 'psake', 'psd', 'pseudo-class', 'pseudo-element', 'pseudocode', 'psexec', 'pspsdk', 'psyco', 'psycopg2', 'pthreads', 'ptr-vector', 'ptrace', 'pty', 'public', 'public-key', 'public-method', 'publish', 'publish-subscribe', 'publishing', 'pubs', 'pull', 'pulseaudio', 'punctuation', 'purchase-order', 'pure-virtual', 'purely-functional', 'puremvc', 'purge', 'purify', 'push', 'push-notification', 'pushviewcontroller', 'put', 'putty', 'puzzle', 'pwd', 'py++', 'py2app', 'py2exe', 'pyamf', 'pybuffer', 'pycurl', 'pydev', 'pydoc', 'pyfacebook', 'pyflakes', 'pygame', 'pyglet', 'pygobject', 'pygresql', 'pygtk', 'pyinotify', 'pyinstaller', 'pylint', 'pylons', 'pynotify', 'pyobjc', 'pyodbc', 'pyopengl', 'pyparsing', 'pypdf', 'pypi', 'pyqt', 'pyqt4', 'pyramid', 'pys60', 'pyscripter', 'pyside', 'pytables', 'python', 'python-2.4', 'python-2.5', 'python-2.6', 'python-2.x', 'python-3.x', 'python-c-api', 'python-datamodel', 'python-dateutil', 'python-db-api', 'python-elixir', 'python-embedding', 'python-idle', 'python-imaging-library', 'python-import', 'python-internals', 'python-module', 'python-multithreading', 'python-nose', 'python-sphinx', 'python.net', 'pythoncard', 'pythonce', 'pytz', 'pyunit', 'pywin', 'pywin32', 'qa', 'qabstractitemmodel', 'qapplication', 'qcombobox', 'qdialog', 'qdockwidget', 'qemu', 'qfe', 'qfiledialog', 'qgraphicsscene', 'qheaderview', 'qlist', 'qmake', 'qmessagebox', 'qmutex', 'qnx', 'qobject', 'qos', 'qpainter', 'qpointer', 'qprocess', 'qr-code', 'qsort', 'qstring', 'qt', 'qt-creator', 'qt-designer', 'qt-mfc-migration', 'qt4', 'qt4dotnet', 'qtableview', 'qtablewidget', 'qtestlib', 'qtextedit', 'qtgui', 'qthread', 'qtip', 'qtkit', 'qtp', 'qtreeview', 'qtreewidget', 'qtreewidgetitem', 'qtsql', 'qttest', 'quad', 'quadtree', 'quality-center', 'quantify', 'quartz-2d', 'quartz-composer', 'quartz-graphics', 'quartz-scheduler', 'quartz.net', 'quaternions', 'quercus', 'query-builder', 'query-cache', 'query-execution-plans', 'query-help', 'query-optimization', 'query-string', 'querying', 'queryinterface', 'queue', 'quick-search', 'quickbooks', 'quickbooks-online', 'quickcheck', 'quicken', 'quickfix', 'quicksilver', 'quicksort', 'quicktime', 'quine', 'quirks-mode', 'quit', 'qunit', 'quotas', 'quotation-marks', 'quotations', 'quoted-printable', 'quotes', 'quoting', 'qvariant', 'qwebelement', 'qwebkit', 'qwebpage', 'qwerty', 'qwidget', 'qwt', 'qyoto', 'r', 'r-faq', 'rabbitmq', 'race-condition', 'rack', 'racket', 'rackspace', 'rad', 'rad-controls', 'radeditor', 'radgrid', 'radgridview', 'radial', 'radiant', 'radio', 'radio-button', 'radio-group', 'radiobuttonlist', 'radrails', 'radtreeview', 'ragel', 'raid', 'raii', 'rails-activerecord', 'rails-engines', 'rails-migrations', 'rails-models', 'rails-routing', 'raise', 'rake', 'ram', 'ramaze', 'random', 'random-access', 'random-sample', 'range', 'rank', 'ranking', 'raphael', 'rapi', 'rapidshare', 'raster', 'rasterizing', 'rate-limiting', 'rating', 'ratingbar', 'rational', 'rave-reports', 'raw-ethernet', 'raw-input', 'raw-post', 'raw-sockets', 'rawstring', 'rawurl', 'raytracing', 'razor', 'rcf', 'rcp', 'rcw', 'rdbms', 'rdbms-agnostic', 'rdebug', 'rdf', 'rdfa', 'rdl', 'rdlc', 'rdoc', 'rdp', 'reachability', 'reactive-programming', 'read-committed-snapshot', 'read-eval-print-loop', 'read-unread', 'readability', 'readdir', 'readerwriterlockslim', 'readeventlog', 'readfile', 'readline', 'readonly', 'readwritelock', 'readxml', 'ready', 'readystate', 'real-mode', 'real-time', 'real-time-java', 'realbasic', 'realplayer', 'rebase', 'rebol', 'reboot', 'rebuild', 'recaptcha', 'recarray', 'recommendation-engine', 'record', 'recording', 'records', 'recordset', 'recordstore', 'recover', 'recovery', 'rectangles', 'recurring', 'recurring-billing', 'recursion', 'recursive-databinding', 'recursive-datastructures', 'recursive-descent', 'recursive-mutex', 'recursive-query', 'recycle-bin', 'recycling', 'red-black-tree', 'red-zone', 'red5', 'reddit', 'reddot', 'redefinition', 'redhat', 'redirect', 'redirecttoaction', 'redis', 'redistributable', 'redmine', 'redraw', 'reduce', 'redundancy', 'reentrancy', 'reentrant', 'ref', 'ref-cursor', 'ref-parameters', 'refactoring', 'refactoring-databases', 'refer', 'reference', 'reference-application', 'reference-counting', 'reference-type', 'referential-integrity', 'referrals', 'referrer', 'refix', 'reflection', 'reflection.emit', 'reflector', 'reformat', 'refresh', 'regasm', 'regex', 'regex-greedy', 'regex-lookarounds', 'regex-negation', 'regexbuddy', 'region', 'regional', 'registerclientscriptblock', 'registerhotkey', 'registration', 'registry', 'regression', 'regression-testing', 'regsvr32', 'reinforcement-learning', 'reintegration', 'relational', 'relational-algebra', 'relational-database', 'relationship', 'relationships', 'relative', 'relative-date', 'relative-path', 'relative-url', 'relativesource', 'relaxng', 'relaycommand', 'release', 'release-cycle', 'release-management', 'relevance', 'reliability', 'reload', 'reloadable', 'relocation', 'remap', 'remember-me', 'reminders', 'remote-access', 'remote-actors', 'remote-backup', 'remote-branch', 'remote-debugging', 'remote-desktop', 'remote-execution', 'remote-process', 'remote-working', 'remoteapp', 'remoteobject', 'remoting', 'removable', 'removable-drive', 'removechild', 'removeclass', 'rename', 'render', 'render-to-texture', 'renderaction', 'renderer', 'rendering', 'renderpartial', 'repaint', 'repair', 'repeat', 'repeater', 'replace', 'replaceall', 'replication', 'report', 'report-designer', 'reporting', 'reporting-services', 'reportingservices-2005', 'reportlab', 'reportviewer', 'reportviewer2008', 'repository', 'repository-design', 'repository-pattern', 'representation', 'request', 'request-cancelling', 'request-object', 'request.querystring', 'require', 'required-field', 'requiredfieldvalidator', 'requirements', 'research', 'reserved-words', 'reset', 'resetevent', 'reshape', 'resharper', 'resharper-4.5', 'resharper-5.0', 'resin', 'resize', 'resolution', 'resource-scheduling', 'resourcebundle', 'resourcedictionary', 'resourcemanager', 'resources', 'respond-to', 'response', 'response-headers', 'response.addheader', 'response.redirect', 'response.transmitfile', 'response.write', 'rest', 'rest-security', 'restart', 'resteasy', 'restful-authentication', 'restlet', 'restore', 'restrict', 'restrict-qualifier', 'restriction', 'restructuredtext', 'resultset', 'resume', 'resume-download', 'resume-upload', 'resx', 'retain', 'retro-computing', 'return', 'return-type', 'return-value', 'return-value-optimization', 'returnurl', 'reusability', 'reuseidentifier', 'reverse', 'reverse-engineering', 'reverse-geocoding', 'reverse-lookup', 'reverse-proxy', 'reverseprojection', 'revert', 'review', 'revision', 'rewrite', 'rewritemap', 'rexster', 'rexx', 'rfc', 'rfc2445', 'rfc2898', 'rfc5545', 'rfc822', 'rft', 'rgb', 'rgl', 'rhapsody', 'rhel', 'rhel5', 'rhino', 'rhino-commons', 'rhino-etl', 'rhino-mocks', 'rhtml', 'ria', 'riak', 'ribbon', 'rich-internet-application', 'rich-media', 'rich-text-editor', 'richdatatable', 'richedit', 'richfaces', 'richtext', 'richtextbox', 'richtextediting', 'right-click', 'right-to-left', 'rightfax', 'rights', 'rijndael', 'rijndaelmanaged', 'rim-4.5', 'rim-4.6', 'rim-4.7', 'rim-5.0', 'ringtone', 'risk-analysis', 'risk-management', 'rjs', 'rmagick', 'rmi', 'rmiregistry', 'rms', 'roaming', 'robocode', 'robocopy', 'robocup', 'robot', 'robotics', 'robotlegs', 'robots.txt', 'robustness', 'roguelike', 'roi', 'role', 'role-based', 'roleprovider', 'roles', 'rollback', 'rollover', 'rollup', 'roman-numerals', 'rome', 'root', 'ropes', 'rosetta-stone', 'rostering', 'rotation', 'rounded-corners', 'roundedcorners-dropshadow', 'rounding', 'routed-commands', 'routed-events', 'routedata', 'routedcommand', 'routedevent', 'router', 'routes', 'routetable', 'routing', 'row', 'row-height', 'row-number', 'row-value-expression', 'rowlex', 'rows', 'rowversion', 'roxygen', 'rpc', 'rpgle', 'rpm', 'rpx', 'rpxnow', 'rrd', 'rrdtool', 'rrule', 'rsa', 'rsacryptoserviceprovider', 'rsl', 'rspec', 'rss', 'rssi', 'rsync', 'rte', 'rtf', 'rtml', 'rtmp', 'rtos', 'rtp', 'rtsj', 'rtsp', 'rtti', 'rubinius', 'ruby', 'ruby-1.8', 'ruby-1.9', 'ruby-c-extension', 'ruby-cocoa', 'ruby-enterprise-edition', 'ruby-on-rails', 'ruby-on-rails-3', 'ruby-on-rails-plugins', 'ruby-test', 'rubydl', 'rubygems', 'rubyzip', 'rufus-scheduler', 'rule-engine', 'rules', 'run-length-encoding', 'runatserver', 'running-other-programs', 'running-total', 'runonce', 'runtime', 'runtime-compilation', 'runtime-error', 'runtime.exec', 'ruport', 'rvalue', 'rvm', 'rxtx', 'rxvt', 's#arp-architecture', 's-expression', 's4', 's60', 's60-3rd-edition', 'saas', 'saf', 'safari', 'safe-mode', 'sage', 'salesforce', 'salt', 'samba', 'same-origin-policy', 'sametime', 'saml', 'sample', 'sample-data', 'sampling', 'san', 'sandbox', 'sandcastle', 'sane', 'sanitization', 'sanitize', 'sap', 'sap-basis', 'sap-connector', 'sapi', 'saprfc', 'sas', 'sas-macro', 'sasl', 'sass', 'satchmo', 'satellite-assembly', 'save', 'savechanges', 'savefiledialog', 'saving-data', 'sax', 'saxon', 'saxparser', 'sbcl', 'sbrk', 'sca', 'scaffolding', 'scala', 'scala-2.8', 'scala-collections', 'scalability', 'scale', 'scaleform', 'scaling', 'scandir', 'scanf', 'scanning', 'scapy', 'scatter-plot', 'scenarios', 'scgi', 'schedule', 'scheduled-tasks', 'scheduler', 'scheduling', 'schema', 'schema-design', 'schema-migration', 'schema.rb', 'schemabinding', 'schemaless', 'scheme', 'schtasks.exe', 'scientific-computing', 'scientific-notation', 'scintilla', 'scipy', 'scite', 'scmbug', 'scons', 'scope', 'scoped-lock', 'scoring', 'scorm', 'scp', 'scrape', 'scrapy', 'scratchbox', 'screen', 'screen-capture', 'screen-readers', 'screen-resolution', 'screen-scraping', 'screens', 'screensaver', 'screenshot', 'screwturn', 'scribd', 'script#', 'scriptaculous', 'scriptcontrol', 'scripting', 'scripting-language', 'scriptlet', 'scriptmanager', 'scriptresource.axd', 'scroll', 'scroll-offset', 'scroll-position', 'scrollable', 'scrollableresults', 'scrollbar', 'scrollbars', 'scrolledwindow', 'scrollto', 'scrollview', 'scrollviewer', 'scrubyt', 'scrum', 'sctp', 'sd-card', 'sdk', 'sdl', 'sdlc', 'sds', 'seadragon', 'sealed', 'seam', 'search', 'search-engine', 'search-server', 'searching-xml', 'searchlogic', 'seaside', 'second-level-cache', 'secondlife', 'seconds', 'security', 'security-framework', 'security-roles', 'security-zone', 'securityexception', 'securitymanager', 'sed', 'seed', 'seek', 'segment', 'segmentation-fault', 'select', 'select-case', 'select-until', 'selectable', 'selectall', 'selected', 'selectedindex', 'selectedindexchanged', 'selecteditem', 'selecteditemchanged', 'selectedvalue', 'selection', 'selectlist', 'selectlistitem', 'selectnodes', 'selector', 'selenium', 'selenium-fitnesse-bridge', 'selenium-grid', 'selenium-ide', 'selenium-rc', 'self', 'self-contained', 'self-extracting', 'self-hosting', 'self-join', 'self-modifying', 'self-organizing-maps', 'self-signed', 'selinux', 'semantic-analysis', 'semantic-markup', 'semantic-web', 'semantics', 'semaphore', 'semicolon', 'semweb', 'send', 'sender', 'sendkeys', 'sendmail', 'sendmessage', 'sensor', 'seo', 'separation-of-concerns', 'separator', 'seq.unfold', 'sequel', 'sequence', 'sequence-diagram', 'sequences', 'sequential', 'serial-communication', 'serial-port', 'serializable', 'serialization', 'serialscroll', 'serialversionuid', 'series', 'series-40', 'server-configuration', 'server-push', 'server-side', 'server-side-includes', 'server-tags', 'server-to-server', 'server-variables', 'server.mappath', 'server.transfer', 'server.xml', 'servercontrols', 'serverfbml', 'serversocket', 'serverxmlhttp', 'service', 'service-broker', 'service-discovery', 'service-locator', 'service-reference', 'servicebus', 'servicecontract', 'servicecontroller', 'servicehost', 'servlet-filters', 'servletconfig', 'servletcontextlistener', 'servlets', 'session', 'session-fixation', 'session-management', 'session-state', 'session-timeout', 'session-variables', 'sessionid', 'sessiontracking', 'set', 'setattr', 'setcookie', 'setinterval', 'setsockopt', 'setter', 'settimeout', 'settings', 'settings-bundle', 'settings.bundle', 'settings.settings', 'setuid', 'setup-deployment', 'setup-project', 'setup.exe', 'setup.py', 'setuptools', 'sfguard', 'sfml', 'sftp', 'sgen', 'sgml', 'sh', 'sha', 'sha1', 'sha2', 'sha256', 'shader', 'shadow', 'shadow-copy', 'shadowbox', 'shadowing', 'shadows', 'shallow-copy', 'shaml', 'shape', 'shaped-window', 'shapefile', 'shapes', 'shapesheet', 'sharding', 'share', 'shared', 'shared-folders', 'shared-hosting', 'shared-libraries', 'shared-memory', 'shared-objects', 'shared-ptr', 'shared-secret', 'sharedservicesprovider', 'sharepoint', 'sharepoint-2003', 'sharepoint-2007', 'sharepoint-2010', 'sharepoint-api', 'sharepoint-designer', 'sharepoint-documents', 'sharepoint-list', 'sharepoint-upgrade', 'sharepoint-webservice', 'sharepoint-wiki', 'sharepoint-workflow', 'sharethis', 'shareware', 'sharing', 'shark', 'sharpdevelop', 'sharpsvn', 'sharpziplib', 'shazam', 'shdocvw', 'shell', 'shell-exec', 'shell-extensions', 'shell-icons', 'shell32', 'shellexecute', 'shelve', 'shift', 'shift-reduce-conflict', 'shipping', 'shiro', 'shoes', 'shopping', 'shopping-cart', 'short', 'short-url', 'shortcut', 'shortcuts', 'shorthand', 'shoulda', 'shoutcast', 'show', 'show-hide', 'showdialog', 'shtml', 'shuffle', 'shunting-yard', 'shutdown', 'sicp', 'sid', 'side-by-side', 'side-effects', 'sidebar', 'siebel', 'sieve', 'sieve-of-eratosthenes', 'sifr', 'sifr3', 'sift', 'sigabrt', 'sigint', 'sigkill', 'sign', 'signal-handling', 'signal-processing', 'signals', 'signals-slots', 'signature', 'signed', 'signed-applet', 'signedness', 'signing', 'sigsegv', 'silent', 'silverlight', 'silverlight-2-rc0', 'silverlight-2.0', 'silverlight-3.0', 'silverlight-4.0', 'silverlight-oob', 'silverlight-plugin', 'silverlight-toolkit', 'silverlight.fx', 'silverstripe', 'simbl', 'simd', 'simhash', 'simian', 'similarity', 'simile', 'simple-html-dom', 'simple-machines-forum', 'simpleaudioengine', 'simplebutton', 'simpledateformat', 'simplejson', 'simplemodal', 'simplepie', 'simplerepository', 'simpletest', 'simpletip', 'simplexml', 'simplexmlrpcserver', 'simplification', 'simulate', 'simulation', 'simulator', 'simulink', 'sinatra', 'sine', 'single-instance', 'single-sign-on', 'single-table-inheritance', 'singleinstance', 'singleton', 'singly-linked-list', 'sio2', 'sip', 'site-mining', 'site.master', 'sitecore', 'sitecore6', 'sitefinity', 'sitemap', 'sitemap.xml', 'sitemapnode', 'sitemesh', 'sitetemplate', 'size', 'size-t', 'size-type', 'sizeof', 'sizetocontent', 'sizing', 'sizzle', 'sketchflow', 'skin', 'skinning', 'skins', 'skip-lists', 'skus', 'skype', 'sleep', 'slf4j', 'sli', 'slice', 'slide', 'slider', 'slideshow', 'slidetoggle', 'slideup', 'sliding', 'slidingdrawer', 'slimbox', 'slimdx', 'slime', 'slony', 'slp', 'slug', 'smack', 'smalldatetime', 'smalltalk', 'smart-device-framework', 'smart-pointers', 'smart-quotes', 'smart-tags', 'smartcard', 'smartgwt', 'smarthost', 'smartphone', 'smarty', 'smb', 'smime', 'sml', 'smlnj', 'smo', 'smoke-testing', 'smooth', 'smooth-scrolling', 'smp', 'smpp', 'sms', 'smtp', 'smtpclient', 'smtps', 'snap-framework', 'snapshot', 'snapshot-isolation', 'snapstodevicepixels', 'sniffer', 'sniffing', 'snmp', 'snoopy', 'snowflake-schema', 'soa', 'soap', 'soap-client', 'soap-extension', 'soap-serialization', 'soap4r', 'soapexception', 'soapfault', 'soappy', 'soapui', 'socat', 'social', 'social-graph', 'social-networking', 'socketexception', 'sockets', 'soft-delete', 'soft-keyboard', 'software-design', 'software-distribution', 'software-engineering', 'software-product-lines', 'software-quality', 'solaris', 'solid-principles', 'solr', 'solution', 'solution-explorer', 'solver', 'som', 'sonos', 'sony', 'sorl-thumbnail', 'sortable', 'sorted', 'sorteddictionary', 'sortedlist', 'sorting', 'sos', 'soundchannel', 'soundex', 'soundmanager2', 'soundplayer', 'soundpool', 'source-code-protection', 'source-filter', 'source-monitor', 'source-server', 'sourceforge', 'sourcegear-vault', 'sox', 'sp-help-operator', 'sp-reset-connection', 'space', 'space-efficiency', 'spaces', 'spacing', 'spam', 'spam-prevention', 'sparc', 'spark-view-engine', 'sparql', 'sparse-checkout', 'sparse-matrix', 'spartan', 'spatial', 'spawn', 'spawning', 'spcontext', 'special-characters', 'special-folders', 'specialization', 'specifications', 'specman', 'specs', 'speech-recognition', 'speex', 'spell-checking', 'sphinx', 'spiceworks', 'spid', 'spidermonkey', 'spinlock', 'spinner', 'spl', 'spl-autoloader', 'splash', 'splash-screen', 'splay-tree', 'spline', 'splint', 'split', 'splitcontainer', 'splitter', 'splunk', 'spnego', 'spoofing', 'spotify', 'spotlight', 'spquery', 'spreadsheet', 'spreadsheetgear', 'spreadsheetml', 'spree', 'spring', 'spring-actionscript', 'spring-aop', 'spring-batch', 'spring-integration', 'spring-jdbc', 'spring-ldap', 'spring-modules', 'spring-mvc', 'spring-roo', 'spring-security', 'spring-test', 'spring-transactions', 'spring-webflow', 'spring-ws', 'spring.net', 'springsource', 'sprite', 'spsitedataquery', 'spweb', 'spy++', 'spying', 'sql', 'sql-azure', 'sql-data-services', 'sql-delete', 'sql-drop', 'sql-execution-plan', 'sql-in', 'sql-injection', 'sql-insert', 'sql-like', 'sql-loader', 'sql-match-all', 'sql-order-by', 'sql-scripts', 'sql-server', 'sql-server-2000', 'sql-server-2005', 'sql-server-2005-express', 'sql-server-2008', 'sql-server-2008-express', 'sql-server-2008-r2', 'sql-server-2012', 'sql-server-7', 'sql-server-administration', 'sql-server-agent', 'sql-server-ce', 'sql-server-data-services', 'sql-server-express', 'sql-server-mobile', 'sql-server-profiler', 'sql-update', 'sql-view', 'sqlalchemy', 'sqlanywhere', 'sqlbindparameter', 'sqlbuddy', 'sqlbulkcopy', 'sqlcachedependency', 'sqlclient', 'sqlclr', 'sqlcommand', 'sqlconnection', 'sqlconnection.close', 'sqldataadapter', 'sqldatareader', 'sqldatasource', 'sqldatetime', 'sqldbtype', 'sqldependency', 'sqlexception', 'sqlite', 'sqlite2', 'sqlite3', 'sqlmail', 'sqlmembershipprovider', 'sqlmetal', 'sqlobject', 'sqlparameter', 'sqlparameters', 'sqlperformance', 'sqlplus', 'sqlprofiler', 'sqlroleprovider', 'sqltransaction', 'sqlxml', 'sqrt', 'square', 'square-root', 'squeak', 'squid', 'squirrel-sql', 'src', 'srcsrv', 'srp', 'srv', 'ssa', 'ssas', 'sscanf', 'ssds', 'sse', 'sse2', 'ssh', 'sshfs', 'ssi', 'ssid', 'ssis', 'ssl', 'ssl-certificate', 'ssl-security', 'sslstream', 'ssml', 'ssms', 'ssp', 'sspi', 'ssrs-2008', 'ssrs-2008-r2', 'sstream', 'stack', 'stack-dump', 'stack-overflow', 'stack-size', 'stack-trace', 'stackexchange-api', 'stackframe', 'stackpanel', 'staging', 'standard-error', 'standard-library', 'standards', 'standards-compliance', 'standby', 'stanford-nlp', 'star-schema', 'starling-server', 'start-job', 'starteam', 'starter-kits', 'startup', 'startupscript', 'staruml', 'stat', 'stata', 'state', 'state-machine-workflow', 'state-machines', 'state-monad', 'stateful', 'stateful-session-bean', 'stateless', 'stateless-session-bean', 'statement-modifiers', 'states', 'stateserver', 'static', 'static-analysis', 'static-binding', 'static-block', 'static-cast', 'static-constructor', 'static-content', 'static-initialization', 'static-language', 'static-libraries', 'static-linking', 'static-members', 'static-methods', 'static-resource', 'static-typing', 'static-variables', 'statistics', 'statspack', 'statsvn', 'status', 'statusbar', 'statusbaritem', 'stax', 'std', 'stdafx.h', 'stdclass', 'stderr', 'stdin', 'stdio', 'stdmap', 'stdout', 'stdset', 'stdstring', 'stdvector', 'stellent', 'stemming', 'step', 'step-into', 'stereo-3d', 'sti', 'stingray', 'stl', 'stm', 'stocks', 'stomp', 'stop-words', 'stopwatch', 'storage', 'store', 'store-data', 'stored-functions', 'stored-procedures', 'storekit', 'stories', 'storing-information', 'storm-orm', 'storyboard', 'stp', 'strace', 'strategy-pattern', 'strawberry-perl', 'strcmp', 'strcpy', 'strdup', 'stream', 'streambuf', 'streaming', 'streamreader', 'streamwriter', 'street-address', 'stress', 'stress-testing', 'stretch', 'strftime', 'strict-aliasing', 'string', 'string-aggregation', 'string-comparison', 'string-concatenation', 'string-conversion', 'string-formatting', 'string-interpolation', 'string-matching', 'string-metric', 'string-parsing', 'string-search', 'string-substitution', 'string-to-datetime', 'string.format', 'stringbuffer', 'stringbuilder', 'stringification', 'stringstream', 'stringtemplate', 'stringtokenizer', 'stringwriter', 'strip', 'stripes', 'strncpy', 'stroke', 'strong-typing', 'strongly-typed-dataset', 'strongly-typed-view', 'strongname', 'strpos', 'strstr', 'strtotime', 'struct', 'struct-member-alignment', 'structure', 'structured-storage', 'structuremap', 'struts', 'struts-1', 'struts-action', 'struts-validation', 'struts2', 'sts-securitytokenservice', 'sts-simple-templatesystem', 'sts-springsourcetoolsuite', 'stsadm', 'stub', 'stubbing', 'stunnel', 'stx', 'stylecop', 'styles', 'stylesheet', 'styling', 'su', 'subclass', 'subclassing', 'subclipse', 'subcontroller', 'subdirectories', 'subdirectory', 'subdomain', 'subdomains', 'subfolder', 'subform', 'sublist', 'submenu', 'submission', 'submit', 'submitchanges', 'subnet', 'subprocess', 'subquery', 'subreport', 'subrepos', 'subroutine', 'subscriber', 'subscription', 'subscriptions', 'subset', 'subsonic', 'subsonic-active-record', 'subsonic-simplerepository', 'subsonic2.2', 'subsonic3', 'substage', 'substitution', 'substr', 'substring', 'subtitle', 'subtract', 'subtraction', 'subtree', 'subtype', 'subversive', 'subview', 'sudo', 'suds', 'suggestbox', 'sum', 'summarization', 'sun', 'suncc', 'sunos', 'suo', 'super', 'superclass', 'superfish', 'superscript', 'superset', 'supertype', 'suppress', 'suppress-warnings', 'suppression', 'surefire', 'surfaceview', 'surrogate-key', 'survey', 'suspend', 'svcutil.exe', 'svd', 'svg', 'svgz', 'svm', 'svn', 'svn-externals', 'svn-hooks', 'svn-reintegrate', 'svn-repository', 'svn-switch', 'svnadmin', 'svnserve', 'svnsync', 'swank', 'swap', 'swc', 'sweave', 'sweeper', 'swf-decompiler', 'swfloader', 'swfobject', 'swfupload', 'swift', 'swift-mt', 'swiftmailer', 'swig', 'swing', 'swingworker', 'swingx', 'switch-statement', 'switching', 'swt', 'sybase', 'sybase-asa', 'sybase-ase', 'sybase-iq', 'syck', 'symbian', 'symbol', 'symbol-server', 'symbol-tables', 'symbolic-math', 'symbolicatecrash', 'symbols', 'symfony1', 'symlink', 'sympy', 'synapse', 'sync', 'syncfusion', 'synchronization', 'synchronize', 'synchronized', 'synchronous', 'synclock', 'syndication', 'syndication-feed', 'synonym', 'syntactic-sugar', 'syntax', 'syntax-error', 'syntax-highlighting', 'synthesis', 'sys', 'sysadmin', 'sysin', 'syslistview32', 'syslog', 'system', 'system-administration', 'system-calls', 'system-codedom-compiler', 'system-design', 'system-information', 'system-monitoring', 'system-procedures', 'system-stored-procedures', 'system-tray', 'system-variable', 'system.addin', 'system.componentmodel', 'system.configuration', 'system.data.sqlite', 'system.diagnostics', 'system.drawing', 'system.io.directory', 'system.io.fileinfo', 'system.net', 'system.net.mail', 'system.net.webexception', 'system.reactive', 'system.reflection', 'system.transactions', 'system.type', 'system.web', 'system.web.abstractions', 'system.web.mail', 'system.web.ui.webcontrols', 'systemcolors', 'systemmanagement', 'systemmenu', 'systems-programming', 'systray', 't4', 't4mvc', 'tab-completion', 'tab-ordering', 'tabbar', 'tabbed', 'tabbing', 'tabcontainer', 'tabcontrol', 'tabindex', 'tabitem', 'table', 'table-lock', 'table-relationships', 'table-valued-parameters', 'table-variable', 'tableadapter', 'tablecelleditor', 'tablecellrenderer', 'tablelayout', 'tablelayoutpanel', 'tablemodel', 'tablesorter', 'tablespace', 'tablet', 'tablet-pc', 'tableview', 'tabpage', 'tabpanel', 'tabs', 'tabular', 'tabwidget', 'tacit-programming', 'tag-cloud', 'tagfile', 'tagging', 'taglib', 'taglist', 'tags', 'tail', 'tail-call-optimization', 'tao', 'tao-framework', 'taocp', 'tap', 'tapestry', 'tar', 'target', 'targetprocess', 'targets', 'targettype', 'task', 'task-management', 'task-queue', 'taskbar', 'taskdialog', 'tasklist', 'taskmanager', 'tasm', 'taxonomy', 'tbb', 'tchar', 'tcl', 'tcp', 'tcpclient', 'tcpdf', 'tcplistener', 'tcpserver', 'tcpsocket', 'tcsh', 'tdatetime', 'tdbgrid', 'tdd', 'team-build', 'team-explorer', 'team-project', 'teambuilding', 'teamcity', 'teamsystem', 'teamwork', 'technical-debt', 'tee', 'teechart', 'telecommunication', 'telephony', 'telephonymanager', 'telerik', 'telerik-ajax', 'telerik-scheduler', 'tell-dont-ask', 'telligent', 'telnet', 'temp', 'temp-tables', 'tempdata', 'template-engine', 'template-specialization', 'template-toolkit', 'templatebinding', 'templatefield', 'templates', 'templatetags', 'templating', 'temporaries', 'temporary', 'temporary-directory', 'temporary-files', 'teradata', 'terasoluna', 'term', 'terminal', 'terminal-color', 'terminal-emulator', 'terminal-services', 'terminate', 'termination', 'terminology', 'ternary', 'ternary-operator', 'terracotta', 'terrain', 'tesseract', 'test-data', 'test-environments', 'test-is', 'testability', 'testcase', 'testdriven.net', 'testing', 'testing-strategies', 'testng', 'testtrack', 'testunit', 'tetris', 'tex', 'texmaker', 'text', 'text-align', 'text-alignment', 'text-comparison', 'text-compression', 'text-editor', 'text-extraction', 'text-files', 'text-formatting', 'text-mining', 'text-normalization', 'text-parsing', 'text-processing', 'text-search', 'text-segmentation', 'text-size', 'text-styling', 'text-to-speech', 'textarea', 'textblock', 'textbox', 'textcompositionmanager', 'textfield', 'textile', 'textinput', 'textmatching', 'textmate', 'textnode', 'textpad', 'textrenderer', 'textselection', 'texttt', 'texture-mapping', 'texture2d', 'textures', 'texturing', 'textview', 'textwrapping', 'tf', 'tf-idf', 'tframe', 'tfs', 'tfs-migration', 'tfs-power-tools', 'tfs-process-template', 'tfs-sdk', 'tfs-workitem', 'tfs2008', 'tfs2010', 'tfs2012', 'tfs2013', 'tfsbuild', 'thai', 'the-little-schemer', 'themeroller', 'themes', 'theming', 'theory', 'thesaurus', 'thickbox', 'thickness', 'thin', 'thinking-sphinx', 'this', 'thread-abort', 'thread-dump', 'thread-local', 'thread-priority', 'thread-safety', 'thread-state', 'thread-static', 'threadcontext', 'threadgroup', 'threadpool', 'three20', 'thrift', 'throttle', 'throttling', 'throw', 'throwaway', 'thumb', 'thumbnail-toolbar', 'thumbnails', 'tibco', 'tibco-ems', 'tibco-rv', 'tic-tac-toe', 'ticker', 'ticket-system', 'tidy', 'tiers', 'tiff', 'tiger-lines', 'tikz', 'tile', 'tile-engine', 'tilelist', 'tiles', 'tilt', 'timage', 'time', 'time-complexity', 'time-estimation', 'time-management', 'time-precision', 'time-saving', 'time-series', 'time-tracking', 'time-wait', 'time.h', 'timeit', 'timeline', 'timeout', 'timeoutexception', 'timepicker', 'timer', 'timer-jobs', 'timespan', 'timestamp', 'timeval', 'timezone', 'timing', 'tint', 'tinterfacedobject', 'tinyint', 'tinymce', 'tinyos', 'tinypg', 'tinyxml', 'tips-and-tricks', 'titanium', 'title', 'titlebar', 'tivo', 'tk', 'tkinter', 'tkmessagebox', 'tlbimp', 'tlistview', 'tmail', 'tmp', 'tnsnames', 'to-char', 'toad', 'toast', 'todo', 'todos', 'togaf', 'toggle', 'token', 'tokenize', 'tokyo-cabinet', 'tomcat', 'tomcat5.5', 'tomcat6', 'toolbar', 'toolbars', 'toolbox', 'toolchain', 'toolkit', 'toolstrip', 'tooltip', 'top-command', 'top-n', 'topaz-signatures', 'toplink', 'toplink-essentials', 'topmost', 'topological-sort', 'topshelf', 'tornado', 'tortoisegit', 'tortoisehg', 'tortoisesvn', 'tostring', 'total-commander', 'totalview', 'touch', 'touch-typing', 'touchesmoved', 'touchpad', 'touchscreen', 'touchxml', 'towers-of-hanoi', 'tpagecontrol', 'tps', 'tr1', 'tr24731', 'trac', 'trace', 'trace-listener', 'traceback', 'traceroute', 'tracing', 'trackback', 'trackball', 'tracking', 'tradeoff', 'traffic', 'traffic-measurement', 'trait', 'traits', 'transaction-log', 'transactional-database', 'transactionmanager', 'transactions', 'transactionscope', 'transcoding', 'transfer', 'transfer-encoding', 'transform', 'transformation', 'transformer', 'transient', 'transition', 'transitivity', 'translate', 'translate-animation', 'translation', 'translation-scheme', 'transliteration', 'transmitfile', 'transparency', 'transparent', 'transport', 'traveling-salesman', 'traversal', 'tray', 'trayicon', 'tre-library', 'tree', 'tree-left-right', 'tree-structure', 'tree-traversal', 'treegrid', 'treelistview', 'treemap', 'treemodel', 'treenode', 'treeview', 'treeviewer', 'treeviewitem', 'trialware', 'triangulation', 'trie', 'triggers', 'trigonometry', 'trim', 'triplestore', 'trivia', 'trojan', 'trouble-tickets', 'true-type-fonts', 'truncate', 'truncate-log', 'truncated', 'truncation', 'truststore', 'try-catch', 'tryparse', 'tso', 'tsql', 'tsqlt', 'tsvector', 'ttl', 'tty', 'tui', 'tumblr', 'tunnel', 'tunneling', 'tuples', 'turbine', 'turbo-c', 'turbogears', 'turbogears2', 'turing-complete', 'turing-machines', 'tweak', 'tween', 'tweetsharp', 'twisted', 'twisted.words', 'twitter', 'twitter-feed', 'twitterizer', 'two-way-encryption', 'twoway', 'txmldocument', 'tycho', 'type-2-dimension', 'type-constraints', 'type-conversion', 'type-equivalence', 'type-erasure', 'type-families', 'type-inference', 'type-library', 'type-mismatch', 'type-punning', 'type-safety', 'type-systems', 'type-theory', 'typechecking', 'typeclass', 'typeconverter', 'typedef', 'typedescriptionprovider', 'typedescriptor', 'typeface.js', 'typeinfo', 'typekit', 'typelib', 'typelist', 'typeloadexception', 'typemock', 'typename', 'typeof', 'typepad', 'types', 'typesetting', 'typetraits', 'typing', 'typo3', 'typography', 'uac', 'ubercart', 'uberjar', 'ubuntu', 'ubuntu-8.10', 'ubuntu-9.04', 'ubuntu-9.10', 'uclibc', 'udb', 'uddi', 'udev', 'udp', 'udpclient', 'ui-automation', 'ui-design', 'ui-guidelines', 'ui-helper', 'ui-virtualization', 'uiaccelerometer', 'uiactionsheet', 'uialertview', 'uiapplication', 'uibarbuttonitem', 'uibinder', 'uibutton', 'uicolor', 'uicomponents', 'uicontrol', 'uidatepicker', 'uielement', 'uifont', 'uiimage', 'uiimagepickercontroller', 'uiimageview', 'uikeyboard', 'uikit', 'uilabel', 'uinavigationbar', 'uinavigationcontroller', 'uinavigationitem', 'uint32', 'uint64', 'uipagecontrol', 'uipasteboard', 'uipickerview', 'uipickerviewcontroller', 'uiprogressview', 'uiresponder', 'uiscrollview', 'uisearchbar', 'uisegmentedcontrol', 'uislider', 'uiswitch', 'uitabbar', 'uitabbarcontroller', 'uitabbaritem', 'uitableview', 'uitabview', 'uitextfield', 'uitextview', 'uitoolbar', 'uitouch', 'uitypeeditor', 'uiview', 'uiviewcontroller', 'uiwebview', 'uiwindow', 'ultidev', 'ultragrid', 'ultrasphinx', 'ultratree', 'ultrawebgrid', 'ultrawingrid', 'umbraco', 'umdf', 'umfpack', 'uml', 'umn-mapserver', 'unaccent', 'unary-function', 'unary-operator', 'unauthorized', 'unbind', 'unboxing', 'unbuffered-queries', 'unc', 'uncertainty', 'unchecked', 'uncompress', 'undefined', 'undefined-behavior', 'undefined-index', 'undefined-reference', 'undefined-symbol', 'underflow', 'underline', 'underscores', 'undo', 'undo-redo', 'unfuddle', 'unhandled-exception', 'unicode', 'unification', 'uninstall', 'uninstaller', 'uninstallstring', 'union', 'unions', 'unique', 'unique-id', 'unique-index', 'unique-key', 'uniqueidentifier', 'unit-conversion', 'unit-testing', 'unit-type', 'units-of-measurement', 'unity-container', 'unity3d', 'universal-binary', 'unix', 'unix-domain-sockets', 'unix-socket', 'unix-timestamp', 'unixodbc', 'unladen-swallow', 'unlock', 'unmanaged', 'unmarshalling', 'unminify', 'uno', 'unobtrusive-javascript', 'unordered', 'unordered-map', 'unpack', 'unpivot', 'unresolved-external', 'unsafe', 'unset', 'unsigned', 'unsigned-long-long-int', 'unwarp', 'unzip', 'update-site', 'updatecheck', 'updated', 'updatemodel', 'updatepanel', 'updates', 'updating', 'upgrade', 'upload', 'uploader', 'uploadify', 'uploading', 'uploadstring', 'upnp', 'uppercase', 'ups', 'ups-worldship', 'upsert', 'upsizing', 'uptime', 'upx', 'urbanairship.com', 'uri', 'uri-fragment', 'url', 'url-encoding', 'url-mapping', 'url-parsing', 'url-rewrite-module', 'url-rewriting', 'url-routing', 'urlbinding', 'urlclassloader', 'urlconnection', 'urlencode', 'urllib', 'urllib2', 'urlloader', 'urlrequest', 'urlrewriter.net', 'urn', 'usability', 'usability-testing', 'usage-statistics', 'usb', 'usb-drive', 'use-case', 'usenet', 'user', 'user-accounts', 'user-agent', 'user-config', 'user-controls', 'user-data', 'user-defined-fields', 'user-defined-functions', 'user-experience', 'user-feedback', 'user-generated-content', 'user-guide', 'user-input', 'user-instance', 'user-interaction', 'user-interface', 'user-location', 'user-management', 'user-preferences', 'user-profile', 'user-settings', 'user-stories', 'user-tracking', 'user-variables', 'user32', 'userform', 'usergroups', 'userid', 'userinfo', 'username', 'userscripts', 'usertype', 'using', 'using-directives', 'using-statement', 'usort', 'usrp', 'ussd', 'utc', 'utf', 'utf-16', 'utf-8', 'util', 'utilities', 'utility', 'uuid', 'uxtheme', 'v4l2', 'v8', 'va-arg', 'va-list', 'vala', 'valgrind', 'validates-uniqueness-of', 'validation', 'validation-application-bl', 'validationerror', 'validationsummary', 'value-objects', 'value-type', 'var', 'varargs', 'varbinary', 'varchar', 'varchar2', 'variable-address', 'variable-assignment', 'variables', 'variadic', 'variadic-functions', 'variance', 'variant', 'variation', 'varying', 'vb.net', 'vb6', 'vb6-migration', 'vba', 'vbo', 'vbscript', 'vbulletin', 'vc6', 'vcalendar', 'vcard', 'vcbuild', 'vcdiff', 'vcl', 'vcl4php', 'vcproj', 'vdproj', 'vector', 'vector-graphics', 'vector-processing', 'vectormath', 'velocity', 'vendors', 'venn-diagram', 'verbatim-string', 'verbosegc', 'verification', 'verify', 'verilog', 'version', 'version-control', 'version-control-keywords', 'version-control-migration', 'version-detection', 'version-numbering', 'versioninfo', 'versioning', 'versions', 'vertex', 'vertex-buffer', 'vertical-alignment', 'vertical-rhythm', 'vertical-text', 'vga', 'vhdl', 'vhosts', 'vi', 'vici', 'video', 'video-camera', 'video-capture', 'video-editing', 'video-encoding', 'video-processing', 'video-streaming', 'videochat', 'viemu', 'view', 'view-source', 'viewbox', 'viewcontroller', 'viewdata', 'viewdidload', 'viewengine', 'viewer', 'viewexpiredexception', 'viewmodel', 'viewport', 'views', 'viewstack', 'viewstate', 'viewwillappear', 'vignette', 'vim', 'vim-syntax-highlighting', 'vimdiff', 'vimpulse', 'viola-jones', 'viper', 'viper-mode', 'virtual', 'virtual-address-space', 'virtual-attribute', 'virtual-destructor', 'virtual-directory', 'virtual-drive', 'virtual-earth', 'virtual-functions', 'virtual-machine', 'virtual-memory', 'virtual-method', 'virtual-path', 'virtual-pc', 'virtual-pc-2007', 'virtual-screen', 'virtual-serial-port', 'virtualalloc', 'virtualbox', 'virtualenv', 'virtualenvwrapper', 'virtualhost', 'virtualization', 'virtualmode', 'virtualpathprovider', 'virtualtreeview', 'virtuemart', 'virus', 'virus-definitions', 'visibility', 'visio', 'visited', 'visitor', 'visitor-pattern', 'vista64', 'vistadb', 'visual-assist', 'visual-c++', 'visual-c++-2005', 'visual-c++-2008', 'visual-c++-2008-express', 'visual-c++-2010', 'visual-editor', 'visual-foxpro', 'visual-inheritance', 'visual-sourcesafe', 'visual-sourcesafe-2005', 'visual-studio', 'visual-studio-2003', 'visual-studio-2005', 'visual-studio-2008', 'visual-studio-2008-sp1', 'visual-studio-2010', 'visual-studio-2010-beta-1', 'visual-studio-2010-beta-2', 'visual-studio-2010-rc', 'visual-studio-addins', 'visual-studio-debugging', 'visual-studio-express', 'visual-studio-macros', 'visual-studio-sdk', 'visual-studio-setup-proje', 'visual-styles', 'visual-tree', 'visual-web-developer', 'visual-web-gui', 'visualbrush', 'visualforce', 'visualhaskell', 'visualization', 'visualizer', 'visualstatemanager', 'visualsvn', 'visualsvn-server', 'viterbi', 'vk', 'vlc', 'vldb', 'vm-implementation', 'vml', 'vms', 'vmware', 'vmware-fusion', 'vmware-player', 'vmware-server', 'vnc', 'vnc-server', 'vnc-viewer', 'voice', 'voice-recognition', 'voice-recording', 'void', 'void-pointers', 'voip', 'volatile', 'voldemort', 'volume', 'volume-shadow-service', 'voronoi', 'vote', 'voting', 'votive', 'vpc', 'vpn', 'vps', 'vrml', 'vs-devserver', 'vs-extensibility', 'vsdb', 'vsewss', 'vsm', 'vspackage', 'vsprops', 'vst', 'vsto', 'vsts2008', 'vsts2010', 'vsx', 'vt100', 'vtable', 'vtune', 'vwdexpress', 'vxworks', 'w32', 'w3c', 'w3c-validation', 'w3m', 'w3wp', 'w3wp.exe', 'wacom', 'wadl', 'waf', 'wait', 'waithandle', 'wallpaper', 'wamp', 'wampserver', 'wan', 'wap', 'war', 'war-filedeployment', 'warnings', 'was', 'watch', 'watermark', 'watij', 'watin', 'watir', 'wav', 'waveform', 'waveout', 'wbem', 'wc', 'wcag', 'wcat', 'wcf', 'wcf-authentication', 'wcf-binding', 'wcf-client', 'wcf-configuration', 'wcf-data-services', 'wcf-endpoint', 'wcf-extensions', 'wcf-proxy', 'wcf-rest', 'wcf-rest-contrib', 'wcf-rest-starting-guide', 'wcf-ria-services', 'wcf-security', 'wchar-t', 'wcs', 'wcsf', 'wdk', 'wdproj', 'weak-ptr', 'weak-references', 'weak-typing', 'weakhashmap', 'weakly-typed', 'weather', 'web', 'web-access', 'web-analytics', 'web-analytics-tools', 'web-api', 'web-application-project', 'web-applications', 'web-based', 'web-config', 'web-controls', 'web-crawler', 'web-deployment-project', 'web-developer-toolbar', 'web-farm', 'web-folders', 'web-frameworks', 'web-frontend', 'web-hosting', 'web-inspector', 'web-optimization', 'web-parts', 'web-platform-installer', 'web-project', 'web-reference', 'web-scraping', 'web-search', 'web-services', 'web-setup-project', 'web-site-project', 'web-standards', 'web-testing', 'web-traffic', 'web-user-controls', 'web.py', 'web.xml', 'web2py', 'webapp2', 'webapplicationstresstool', 'webarchive', 'webautomation', 'webbrowser-control', 'webby', 'webcam', 'webclient', 'webdatagrid', 'webdav', 'webdev.webserver', 'webforms', 'webget', 'webgrid', 'webhttpbinding', 'webkit', 'weblogic', 'weblogic-10.x', 'weblogic-integration', 'weblogic11g', 'weblogic8.x', 'webmail', 'webmethod', 'webmin', 'weboperationcontext', 'weborb', 'webos', 'webpage', 'webpart-connection', 'webproject', 'webproxy', 'webradio', 'webrat', 'webrequest', 'webresource.axd', 'webresponse', 'webrick', 'webserver', 'webservice-client', 'webservicetemplate', 'webshop', 'website', 'website-hosting', 'website-monitoring', 'websocket', 'websphere', 'websphere-6.1', 'websphere-mq', 'websphere-portal', 'websvn', 'webtest', 'webtrends', 'webusercontrols', 'webview', 'weekday', 'weight', 'well-formed', 'werkzeug', 'wget', 'wgs84', 'whenever-capistrano', 'where', 'where-clause', 'where-in', 'while-loop', 'white-labelling', 'whitelist', 'whitespace', 'whois', 'wia', 'wic', 'wicket', 'widestring', 'widget', 'width', 'wif', 'wifi', 'wifstream', 'wiimote', 'wiki', 'wiki-engine', 'wikipedia', 'wikitext', 'wildcard', 'wildcard-mapping', 'wildcard-subdomain', 'win32-process', 'win32com', 'win32gui', 'win64', 'winapi', 'winapp', 'winavr', 'windbg', 'winddk', 'window', 'window-decoration', 'window-functions', 'window-handles', 'window-managers', 'window-position', 'window.location', 'window.open', 'window.opener', 'windowing', 'windowless', 'windows', 'windows-1252', 'windows-7', 'windows-7-x64', 'windows-8.1', 'windows-98', 'windows-authentication', 'windows-azure-storage', 'windows-ce', 'windows-console', 'windows-desktop-gadgets', 'windows-embedded', 'windows-explorer', 'windows-firewall', 'windows-forms-designer', 'windows-forms-host', 'windows-identity', 'windows-installer', 'windows-key', 'windows-live-id', 'windows-live-messenger', 'windows-media-encoder', 'windows-media-player', 'windows-media-server', 'windows-media-services', 'windows-messages', 'windows-mobile', 'windows-mobile-2003', 'windows-mobile-5.0', 'windows-mobile-6', 'windows-mobile-gps', 'windows-networking', 'windows-phone-7', 'windows-scripting', 'windows-server', 'windows-server-2000', 'windows-server-2003', 'windows-server-2008', 'windows-server-2008-r2', 'windows-services', 'windows-shell', 'windows-update', 'windows-vista', 'windows-xp', 'windows-xp-embedded', 'windows-xp-sp2', 'windowsformshost', 'windowstate', 'wine', 'winforms', 'winforms-interop', 'wingrid', 'winhelp', 'winhttp', 'winhttprequest', 'wininet', 'winlogon', 'winmerge', 'winmm', 'winpcap', 'winreg', 'winsock', 'winsock2', 'winsockets', 'winsxs', 'winverifytrust', 'wireframe', 'wireless', 'wireshark', 'wisa', 'wise', 'with-statement', 'wix', 'wix-extension', 'wix3', 'wizard', 'wlst', 'wm-copydata', 'wm-paint', 'wma', 'wmd', 'wmf', 'wmi', 'wmi-query', 'wml', 'wmode', 'wmp', 'wms', 'wmv', 'wndproc', 'wolfram-mathematica', 'wolframalpha', 'woodstock', 'word', 'word-2007', 'word-automation', 'word-boundary', 'word-diff', 'word-frequency', 'word-vba', 'word-wrap', 'wordml', 'wordpress', 'wordpress-plugin', 'wordpress-theming', 'worker-process', 'worker-processes', 'worker-thread', 'workflow', 'workflow-activity', 'workflow-foundation', 'workflow-foundation-4', 'working-copy', 'working-directory', 'working-remotely', 'working-set', 'workitem', 'workling', 'workload', 'worksheet', 'worksheet-function', 'workspace', 'world-of-warcraft', 'wow64', 'wpas', 'wpf', 'wpf-4.0', 'wpf-controls', 'wpf-positioning', 'wpfdatagrid', 'wpftoolkit', 'wql', 'wrap', 'wrappanel', 'wrapper', 'wrapping', 'wraps', 'writeablebitmap', 'writing', 'ws-addressing', 'ws-ex-layered', 'ws-reliablemessaging', 'ws-security', 'wscf', 'wscript', 'wsdl', 'wsdl.exe', 'wsdl2java', 'wse', 'wse3.0', 'wsf', 'wsgen', 'wsgi', 'wsh', 'wshttpbinding', 'wsp', 'wspbuilder', 'wsrp', 'wss', 'wss-3.0', 'wstring', 'wt', 'wtk', 'wtl', 'wurfl', 'wwsapi', 'www-authenticate', 'www-mechanize', 'wx', 'wxperl', 'wxpython', 'wxruby', 'wxwidgets', 'wysiwyg', 'x++', 'x-sendfile', 'x10', 'x11', 'x264', 'x509', 'x509certificate', 'x509certificate2', 'x86', 'x86-64', 'xa', 'xacml', 'xajax', 'xalan', 'xamarin.ios', 'xaml', 'xamlreader', 'xampp', 'xap', 'xapian', 'xargs', 'xbap', 'xbase', 'xbmc', 'xbox', 'xbox360', 'xcache', 'xcode', 'xcode3.2', 'xcode4', 'xcode4.5', 'xcodebuild', 'xcopy', 'xdebug', 'xdvi', 'xelement', 'xemacs', 'xen', 'xenapp', 'xenu', 'xerces', 'xfa', 'xfce', 'xforms', 'xhtml', 'xhtml-1.0-strict', 'xhtml-1.1', 'xhtml-mp', 'xhtml-transitional', 'xib', 'xiff', 'xjc', 'xla', 'xlib', 'xll', 'xls', 'xlsx', 'xml', 'xml-attribute', 'xml-binding', 'xml-comments', 'xml-deserialization', 'xml-documentation', 'xml-encoding', 'xml-libxml', 'xml-literals', 'xml-namespaces', 'xml-parsing', 'xml-rpc', 'xml-schema-collection', 'xml-serialization', 'xml-signature', 'xml-validation', 'xmlbeans', 'xmlblaster', 'xmlconvert', 'xmldocument', 'xmlexception', 'xmlhttprequest', 'xmllist', 'xmlmapper', 'xmlmassupdate', 'xmlnode', 'xmlpullparser', 'xmlreader', 'xmlrpcclient', 'xmlschemaset', 'xmlserializer', 'xmlsocket', 'xmlstarlet', 'xmlstore', 'xmltype', 'xmp', 'xmpp', 'xna', 'xna-3.0', 'xom', 'xor', 'xorg', 'xpages', 'xpath', 'xpathnavigator', 'xpcom', 'xpdf', 'xps', 'xpsdocument', 'xquery', 'xrange', 'xscale', 'xsd', 'xsd.exe', 'xsl-fo', 'xslcompiledtransform', 'xslkey', 'xslt', 'xslt-1.0', 'xslt-2.0', 'xsp', 'xss', 'xstream', 'xt', 'xterm', 'xtradb', 'xtragrid', 'xtrareport', 'xtratreelist', 'xul', 'xulrunner', 'xunit', 'xunit.net', 'xval', 'yacc', 'yagni', 'yahoo', 'yahoo-boss-api', 'yahoo-finance', 'yahoo-messenger', 'yahoo-oauth', 'yahoo-pipes', 'yaml', 'yarv', 'yaws', 'yellow-screen-of-death', 'yield', 'yii', 'youtube', 'youtube-api', 'youtube-javascript-api', 'yoxos', 'yslow', 'yui', 'yui-compressor', 'yui-datatable', 'yui-menu', 'yui-uploader', 'yum', 'yuv', 'z-axis', 'z-index', 'z-order', 'zabbix', 'zbuffer', 'zcat', 'zebra-printers', 'zedgraph', 'zend-amf', 'zend-app-bootstrap', 'zend-application', 'zend-auth', 'zend-cache', 'zend-controller', 'zend-date', 'zend-db', 'zend-db-select', 'zend-db-table', 'zend-debugger', 'zend-decorators', 'zend-filter', 'zend-form', 'zend-form-element', 'zend-form-sub-form', 'zend-framework', 'zend-framework-mvc', 'zend-gdata', 'zend-layout', 'zend-mail', 'zend-navigation', 'zend-paginator', 'zend-pdf', 'zend-rest', 'zend-search-lucene', 'zend-server', 'zend-server-installation', 'zend-studio', 'zend-tag', 'zend-test', 'zend-validate', 'zend-view', 'zenity', 'zeroconf', 'zeus', 'zfs', 'zip', 'zipcode', 'zipfile', 'zipper', 'zlib', 'zombie-process', 'zoneinfo', 'zookeeper', 'zoom', 'zooming', 'zope', 'zope.interface', 'zos', 'zpl-ii', 'zpt', 'zsh', 'zshrc', 'zsi', 'zune-hd']\n"
          ],
          "name": "stdout"
        }
      ]
    },
    {
      "cell_type": "code",
      "metadata": {
        "id": "LgQUZuSsX1LK"
      },
      "source": [
        "def tags_to_choose(n):\n",
        "    t = Y.sum(axis=0).tolist()[0]\n",
        "    sorted_tags_i = sorted(range(len(t)), key=lambda i: t[i], reverse=True)\n",
        "    multilabel_yn=Y[:,sorted_tags_i[:n]]\n",
        "    return multilabel_yn\n",
        "\n",
        "def questions_covered_fn(n):\n",
        "    multilabel_yn = tags_to_choose(n)\n",
        "    x= multilabel_yn.sum(axis=1)\n",
        "    return (np.count_nonzero(x==0))"
      ],
      "execution_count": 21,
      "outputs": []
    },
    {
      "cell_type": "code",
      "metadata": {
        "id": "fCctKkvFaSR-"
      },
      "source": [
        "questions_covered = []\n",
        "total_tags=Y.shape[1]\n",
        "total_qs=data.shape[0]\n",
        "for i in range(50, total_tags, 50):\n",
        "    questions_covered.append(np.round(((total_qs-questions_covered_fn(i))/total_qs)*100,3))"
      ],
      "execution_count": 22,
      "outputs": []
    },
    {
      "cell_type": "code",
      "metadata": {
        "colab": {
          "base_uri": "https://localhost:8080/"
        },
        "id": "DEily0hXjeEl",
        "outputId": "45390395-c310-41a8-926b-78bb1d5cfd0d"
      },
      "source": [
        "questions_covered[:10]"
      ],
      "execution_count": 23,
      "outputs": [
        {
          "output_type": "execute_result",
          "data": {
            "text/plain": [
              "[78.016, 85.97, 88.86, 91.136, 92.446, 93.572, 94.404, 95.196, 95.676, 96.074]"
            ]
          },
          "metadata": {
            "tags": []
          },
          "execution_count": 23
        }
      ]
    },
    {
      "cell_type": "code",
      "metadata": {
        "colab": {
          "base_uri": "https://localhost:8080/",
          "height": 282
        },
        "id": "Y6bniMwiafAM",
        "outputId": "31aa9e40-54a3-483c-c31b-6656f4118619"
      },
      "source": [
        "xlabel = [i for i in range(50,total_tags,50)]\n",
        "plt.plot(xlabel,questions_covered)"
      ],
      "execution_count": 24,
      "outputs": [
        {
          "output_type": "execute_result",
          "data": {
            "text/plain": [
              "[<matplotlib.lines.Line2D at 0x7fba22b78c50>]"
            ]
          },
          "metadata": {
            "tags": []
          },
          "execution_count": 24
        },
        {
          "output_type": "display_data",
          "data": {
            "image/png": "[encoded data removed]",
            "text/plain": [
              "<Figure size 432x288 with 1 Axes>"
            ]
          },
          "metadata": {
            "tags": [],
            "needs_background": "light"
          }
        }
      ]
    },
    {
      "cell_type": "code",
      "metadata": {
        "colab": {
          "base_uri": "https://localhost:8080/"
        },
        "id": "rr_geRcEatey",
        "outputId": "f21bcb4b-be1c-4149-c386-2890598b36f2"
      },
      "source": [
        "multilabel_yx = tags_to_choose(200)\n",
        "print(\"number of questions that are not covered :\", questions_covered_fn(200),\"out of \", total_qs)"
      ],
      "execution_count": 25,
      "outputs": [
        {
          "output_type": "stream",
          "text": [
            "number of questions that are not covered : 4432 out of  50000\n"
          ],
          "name": "stdout"
        }
      ]
    },
    {
      "cell_type": "code",
      "metadata": {
        "colab": {
          "base_uri": "https://localhost:8080/"
        },
        "id": "w-MH-IQVa1VB",
        "outputId": "9eff3eaa-93fa-4ff5-e71d-e66d0080e81a"
      },
      "source": [
        "print(\"Number of tags in sample :\", Y.shape[1])\n",
        "print(\"number of tags taken :\", multilabel_yx.shape[1],\"(\",(multilabel_yx.shape[1]/Y.shape[1])*100,\"%)\")"
      ],
      "execution_count": 26,
      "outputs": [
        {
          "output_type": "stream",
          "text": [
            "Number of tags in sample : 9776\n",
            "number of tags taken : 200 ( 2.0458265139116203 %)\n"
          ],
          "name": "stdout"
        }
      ]
    },
    {
      "cell_type": "code",
      "metadata": {
        "id": "bB34bhWha4c7"
      },
      "source": [
        "total_size=data.shape[0]\n",
        "train_size=int(0.80*total_size)\n",
        "\n",
        "x_train=data.head(train_size)\n",
        "x_test=data.tail(total_size - train_size)\n",
        "\n",
        "y_train = multilabel_yx[0:train_size,:]\n",
        "y_test = multilabel_yx[train_size:total_size,:]"
      ],
      "execution_count": 27,
      "outputs": []
    },
    {
      "cell_type": "code",
      "metadata": {
        "colab": {
          "base_uri": "https://localhost:8080/"
        },
        "id": "itPHhYtKbC2S",
        "outputId": "01b53034-7222-4f35-c4d7-783dd253666d"
      },
      "source": [
        "print(\"Number of data points in train data :\", y_train.shape)\n",
        "print(\"Number of data points in test data :\", y_test.shape)"
      ],
      "execution_count": 28,
      "outputs": [
        {
          "output_type": "stream",
          "text": [
            "Number of data points in train data : (40000, 200)\n",
            "Number of data points in test data : (10000, 200)\n"
          ],
          "name": "stdout"
        }
      ]
    },
    {
      "cell_type": "code",
      "metadata": {
        "colab": {
          "base_uri": "https://localhost:8080/"
        },
        "id": "YJgTlBpLbLBc",
        "outputId": "faef6967-60ea-4989-9401-632840c77ebf"
      },
      "source": [
        "start = datetime.now()\n",
        "vectorizer = TfidfVectorizer(min_df=0.00009, max_features=200000, smooth_idf=True, norm=\"l2\", \\\n",
        "                             tokenizer = lambda x: x.split(), sublinear_tf=False, ngram_range=(1,3))\n",
        "x_train_multilabel = vectorizer.fit_transform(x_train['question'])\n",
        "x_test_multilabel = vectorizer.transform(x_test['question'])\n",
        "print(\"Time taken to run this cell :\", datetime.now() - start)"
      ],
      "execution_count": 29,
      "outputs": [
        {
          "output_type": "stream",
          "text": [
            "Time taken to run this cell : 0:00:32.043933\n"
          ],
          "name": "stdout"
        }
      ]
    },
    {
      "cell_type": "code",
      "metadata": {
        "colab": {
          "base_uri": "https://localhost:8080/"
        },
        "id": "fBraVx-wbPDB",
        "outputId": "9e7c2eab-068a-4fdb-de55-507eef778c58"
      },
      "source": [
        "classifier = OneVsRestClassifier(SGDClassifier(loss='log', alpha=0.00001, penalty='l1'), n_jobs=-1)\n",
        "classifier.fit(x_train_multilabel, y_train)\n",
        "predictions = classifier.predict(x_test_multilabel)\n",
        "\n",
        "print(\"accuracy :\",metrics.accuracy_score(y_test,predictions))\n",
        "print(\"macro f1 score :\",metrics.f1_score(y_test, predictions, average = 'macro'))\n",
        "print(\"micro f1 scoore :\",metrics.f1_score(y_test, predictions, average = 'micro'))\n",
        "print(\"hamming loss :\",metrics.hamming_loss(y_test,predictions))\n",
        "print(\"Precision recall report :\\n\",metrics.classification_report(y_test, predictions))\n"
      ],
      "execution_count": 30,
      "outputs": [
        {
          "output_type": "stream",
          "text": [
            "accuracy : 0.2834\n",
            "macro f1 score : 0.41525835519822735\n",
            "micro f1 scoore : 0.5395811956067343\n",
            "hamming loss : 0.0060575\n",
            "Precision recall report :\n",
            "               precision    recall  f1-score   support\n",
            "\n",
            "           0       0.61      0.31      0.41      1116\n",
            "           1       0.80      0.58      0.67       802\n",
            "           2       0.54      0.17      0.26       540\n",
            "           3       0.84      0.63      0.72       743\n",
            "           4       0.80      0.49      0.61       484\n",
            "           5       0.73      0.51      0.60       556\n",
            "           6       0.69      0.34      0.46       449\n",
            "           7       0.89      0.74      0.81       520\n",
            "           8       0.87      0.60      0.71       406\n",
            "           9       0.91      0.66      0.77       483\n",
            "          10       0.57      0.39      0.46       287\n",
            "          11       0.56      0.28      0.38       318\n",
            "          12       0.58      0.42      0.49       186\n",
            "          13       0.85      0.65      0.74       288\n",
            "          14       0.83      0.68      0.75       200\n",
            "          15       0.61      0.25      0.35       195\n",
            "          16       0.95      0.71      0.82       214\n",
            "          17       0.78      0.55      0.65       221\n",
            "          18       0.86      0.73      0.79       163\n",
            "          19       0.59      0.27      0.37       218\n",
            "          20       0.26      0.08      0.12       131\n",
            "          21       0.72      0.49      0.58       145\n",
            "          22       0.66      0.63      0.65       145\n",
            "          23       0.45      0.25      0.32       102\n",
            "          24       0.17      0.05      0.08       115\n",
            "          25       0.84      0.40      0.55       126\n",
            "          26       0.63      0.39      0.48        95\n",
            "          27       0.92      0.72      0.81       124\n",
            "          28       0.71      0.45      0.55       127\n",
            "          29       0.98      0.78      0.87       162\n",
            "          30       0.53      0.32      0.40        79\n",
            "          31       0.49      0.19      0.28       103\n",
            "          32       0.38      0.11      0.17        81\n",
            "          33       0.61      0.49      0.55        93\n",
            "          34       0.89      0.47      0.61        90\n",
            "          35       0.97      0.69      0.81       239\n",
            "          36       0.70      0.42      0.53        66\n",
            "          37       0.35      0.10      0.16        68\n",
            "          38       0.75      0.41      0.53       100\n",
            "          39       0.42      0.25      0.32        83\n",
            "          40       0.83      0.46      0.59        83\n",
            "          41       0.70      0.24      0.35        97\n",
            "          42       0.92      0.74      0.82        73\n",
            "          43       0.50      0.18      0.26       102\n",
            "          44       0.50      0.27      0.35        52\n",
            "          45       0.15      0.09      0.11        57\n",
            "          46       0.57      0.35      0.43        60\n",
            "          47       0.90      0.64      0.75        73\n",
            "          48       0.63      0.44      0.52        87\n",
            "          49       0.93      0.52      0.67        96\n",
            "          50       0.92      0.75      0.83        64\n",
            "          51       0.59      0.29      0.39        75\n",
            "          52       0.74      0.69      0.72        84\n",
            "          53       0.93      0.60      0.73        70\n",
            "          54       0.53      0.15      0.23        62\n",
            "          55       0.70      0.54      0.61        59\n",
            "          56       0.74      0.69      0.72        62\n",
            "          57       0.92      0.78      0.84        69\n",
            "          58       0.77      0.56      0.65        54\n",
            "          59       0.60      0.06      0.10        54\n",
            "          60       0.55      0.17      0.26        66\n",
            "          61       0.74      0.52      0.61        48\n",
            "          62       0.39      0.26      0.32        57\n",
            "          63       0.71      0.19      0.30        52\n",
            "          64       0.52      0.31      0.39        54\n",
            "          65       0.33      0.09      0.14        57\n",
            "          66       0.66      0.62      0.64        34\n",
            "          67       0.43      0.09      0.15        67\n",
            "          68       0.17      0.03      0.05        36\n",
            "          69       0.56      0.41      0.47        37\n",
            "          70       0.00      0.00      0.00        49\n",
            "          71       0.00      0.00      0.00        35\n",
            "          72       0.56      0.34      0.42        53\n",
            "          73       0.22      0.12      0.16        33\n",
            "          74       0.55      0.12      0.20        49\n",
            "          75       0.53      0.28      0.36        36\n",
            "          76       0.75      0.51      0.61        35\n",
            "          77       0.50      0.14      0.22        42\n",
            "          78       0.83      0.64      0.72        53\n",
            "          79       0.53      0.19      0.28        42\n",
            "          80       0.94      0.80      0.86        64\n",
            "          81       0.38      0.17      0.23        36\n",
            "          82       0.86      0.31      0.46        58\n",
            "          83       0.55      0.34      0.42        35\n",
            "          84       0.54      0.49      0.51        41\n",
            "          85       0.93      0.69      0.79        58\n",
            "          86       0.61      0.35      0.44        40\n",
            "          87       0.36      0.21      0.27        47\n",
            "          88       0.45      0.12      0.20        40\n",
            "          89       0.43      0.21      0.28        43\n",
            "          90       0.81      0.63      0.71        41\n",
            "          91       0.68      0.44      0.54        34\n",
            "          92       0.83      0.35      0.49        54\n",
            "          93       0.68      0.59      0.63        39\n",
            "          94       0.46      0.20      0.28        30\n",
            "          95       0.25      0.13      0.17        23\n",
            "          96       0.37      0.28      0.32        36\n",
            "          97       0.84      0.66      0.74        47\n",
            "          98       0.78      0.45      0.57        40\n",
            "          99       0.89      0.54      0.68        46\n",
            "         100       0.52      0.38      0.44        29\n",
            "         101       0.83      0.43      0.57        35\n",
            "         102       0.97      0.55      0.70        51\n",
            "         103       0.53      0.26      0.35        35\n",
            "         104       0.42      0.16      0.23        31\n",
            "         105       0.67      0.50      0.57        28\n",
            "         106       0.94      0.64      0.76        45\n",
            "         107       0.00      0.00      0.00        42\n",
            "         108       0.20      0.04      0.06        26\n",
            "         109       0.25      0.07      0.11        28\n",
            "         110       0.62      0.14      0.23        36\n",
            "         111       0.86      0.62      0.72        40\n",
            "         112       0.50      0.13      0.21        30\n",
            "         113       0.33      0.12      0.18        16\n",
            "         114       0.67      0.09      0.15        23\n",
            "         115       0.23      0.10      0.14        29\n",
            "         116       0.62      0.30      0.40        27\n",
            "         117       0.90      0.70      0.79        37\n",
            "         118       0.33      0.06      0.11        31\n",
            "         119       0.43      0.35      0.38        26\n",
            "         120       0.55      0.17      0.26        36\n",
            "         121       0.48      0.32      0.38        31\n",
            "         122       0.27      0.07      0.12        40\n",
            "         123       0.14      0.02      0.04        43\n",
            "         124       0.25      0.10      0.15        29\n",
            "         125       0.22      0.06      0.09        36\n",
            "         126       0.60      0.43      0.50        28\n",
            "         127       0.60      0.17      0.26        18\n",
            "         128       0.28      0.16      0.20        31\n",
            "         129       0.00      0.00      0.00        18\n",
            "         130       0.00      0.00      0.00        35\n",
            "         131       0.58      0.28      0.38        25\n",
            "         132       0.20      0.07      0.10        30\n",
            "         133       0.70      0.76      0.73        21\n",
            "         134       0.18      0.05      0.08        41\n",
            "         135       0.55      0.19      0.28        32\n",
            "         136       0.46      0.21      0.29        29\n",
            "         137       0.50      0.43      0.47        23\n",
            "         138       0.82      0.48      0.61        29\n",
            "         139       0.92      0.50      0.65        24\n",
            "         140       0.96      0.67      0.79        33\n",
            "         141       0.80      0.73      0.76        33\n",
            "         142       0.33      0.11      0.17        18\n",
            "         143       0.71      0.53      0.61        19\n",
            "         144       1.00      0.12      0.22        49\n",
            "         145       0.43      0.18      0.26        33\n",
            "         146       0.29      0.06      0.10        34\n",
            "         147       0.86      0.43      0.57        14\n",
            "         148       0.44      0.29      0.35        14\n",
            "         149       0.87      0.59      0.70        22\n",
            "         150       0.44      0.14      0.22        28\n",
            "         151       0.33      0.29      0.31        24\n",
            "         152       0.25      0.04      0.06        27\n",
            "         153       0.73      0.42      0.54        26\n",
            "         154       0.00      0.00      0.00        20\n",
            "         155       0.88      0.56      0.68        25\n",
            "         156       0.92      0.60      0.73        20\n",
            "         157       0.60      0.41      0.49        22\n",
            "         158       0.71      0.38      0.50        26\n",
            "         159       0.40      0.14      0.21        28\n",
            "         160       0.44      0.32      0.37        22\n",
            "         161       0.33      0.07      0.12        28\n",
            "         162       0.67      0.48      0.56        25\n",
            "         163       0.50      0.11      0.18        18\n",
            "         164       0.74      0.68      0.71        25\n",
            "         165       0.29      0.10      0.15        20\n",
            "         166       0.88      0.70      0.78        53\n",
            "         167       0.71      0.29      0.41        35\n",
            "         168       0.77      0.50      0.61        20\n",
            "         169       0.50      0.41      0.45        17\n",
            "         170       0.75      0.13      0.22        23\n",
            "         171       0.67      0.25      0.36        24\n",
            "         172       0.00      0.00      0.00        21\n",
            "         173       0.67      0.53      0.59        15\n",
            "         174       1.00      0.16      0.27        19\n",
            "         175       0.50      0.50      0.50        12\n",
            "         176       0.70      0.32      0.44        44\n",
            "         177       0.33      0.14      0.19        22\n",
            "         178       0.79      0.69      0.73        32\n",
            "         179       0.00      0.00      0.00        12\n",
            "         180       0.00      0.00      0.00        12\n",
            "         181       0.33      0.04      0.07        26\n",
            "         182       0.43      0.43      0.43        14\n",
            "         183       0.73      0.48      0.58        23\n",
            "         184       0.59      0.71      0.65        14\n",
            "         185       1.00      0.06      0.11        17\n",
            "         186       0.75      0.60      0.67        30\n",
            "         187       0.67      0.32      0.43        25\n",
            "         188       0.22      0.18      0.20        11\n",
            "         189       0.00      0.00      0.00         8\n",
            "         190       0.00      0.00      0.00        23\n",
            "         191       1.00      0.86      0.92        28\n",
            "         192       0.94      0.54      0.68        28\n",
            "         193       0.18      0.09      0.12        22\n",
            "         194       0.70      0.30      0.42        23\n",
            "         195       0.83      0.50      0.62        30\n",
            "         196       0.94      0.68      0.79        22\n",
            "         197       0.00      0.00      0.00        15\n",
            "         198       0.25      0.06      0.09        18\n",
            "         199       0.00      0.00      0.00        12\n",
            "\n",
            "   micro avg       0.73      0.43      0.54     16530\n",
            "   macro avg       0.58      0.34      0.42     16530\n",
            "weighted avg       0.68      0.43      0.52     16530\n",
            " samples avg       0.51      0.43      0.44     16530\n",
            "\n"
          ],
          "name": "stdout"
        },
        {
          "output_type": "stream",
          "text": [
            "/usr/local/lib/python3.6/dist-packages/sklearn/metrics/_classification.py:1272: UndefinedMetricWarning: Precision and F-score are ill-defined and being set to 0.0 in labels with no predicted samples. Use `zero_division` parameter to control this behavior.\n",
            "  _warn_prf(average, modifier, msg_start, len(result))\n",
            "/usr/local/lib/python3.6/dist-packages/sklearn/metrics/_classification.py:1272: UndefinedMetricWarning: Precision and F-score are ill-defined and being set to 0.0 in samples with no predicted labels. Use `zero_division` parameter to control this behavior.\n",
            "  _warn_prf(average, modifier, msg_start, len(result))\n",
            "/usr/local/lib/python3.6/dist-packages/sklearn/metrics/_classification.py:1272: UndefinedMetricWarning: Recall and F-score are ill-defined and being set to 0.0 in samples with no true labels. Use `zero_division` parameter to control this behavior.\n",
            "  _warn_prf(average, modifier, msg_start, len(result))\n"
          ],
          "name": "stderr"
        }
      ]
    },
    {
      "cell_type": "code",
      "metadata": {
        "colab": {
          "base_uri": "https://localhost:8080/"
        },
        "id": "3lPNbcEQC_sP",
        "outputId": "6baab9a9-852c-4214-e017-77f0cccfb314"
      },
      "source": [
        "classifier = OneVsRestClassifier(LogisticRegression(penalty='l2'), n_jobs=-1)\n",
        "classifier.fit(x_train_multilabel, y_train)\n",
        "predictions = classifier.predict(x_test_multilabel)\n",
        "\n",
        "print(\"accuracy :\",metrics.accuracy_score(y_test,predictions))\n",
        "print(\"macro f1 score :\",metrics.f1_score(y_test, predictions, average = 'macro'))\n",
        "print(\"micro f1 scoore :\",metrics.f1_score(y_test, predictions, average = 'micro'))\n",
        "print(\"hamming loss :\",metrics.hamming_loss(y_test,predictions))\n",
        "print(\"Precision recall report :\\n\",metrics.classification_report(y_test, predictions))"
      ],
      "execution_count": 31,
      "outputs": [
        {
          "output_type": "stream",
          "text": [
            "accuracy : 0.2092\n",
            "macro f1 score : 0.18908139175141372\n",
            "micro f1 scoore : 0.36396852164137156\n",
            "hamming loss : 0.006789\n",
            "Precision recall report :\n",
            "               precision    recall  f1-score   support\n",
            "\n",
            "           0       0.66      0.19      0.30      1116\n",
            "           1       0.83      0.41      0.55       802\n",
            "           2       0.66      0.09      0.16       540\n",
            "           3       0.90      0.47      0.62       743\n",
            "           4       0.82      0.34      0.48       484\n",
            "           5       0.77      0.37      0.50       556\n",
            "           6       0.74      0.19      0.30       449\n",
            "           7       0.91      0.57      0.70       520\n",
            "           8       0.89      0.36      0.51       406\n",
            "           9       0.94      0.39      0.55       483\n",
            "          10       0.65      0.28      0.39       287\n",
            "          11       0.64      0.16      0.26       318\n",
            "          12       0.56      0.28      0.38       186\n",
            "          13       0.91      0.47      0.62       288\n",
            "          14       0.89      0.53      0.66       200\n",
            "          15       0.65      0.07      0.12       195\n",
            "          16       0.95      0.37      0.53       214\n",
            "          17       0.86      0.38      0.52       221\n",
            "          18       0.93      0.50      0.65       163\n",
            "          19       0.82      0.08      0.15       218\n",
            "          20       0.33      0.03      0.06       131\n",
            "          21       0.80      0.24      0.37       145\n",
            "          22       0.71      0.45      0.55       145\n",
            "          23       0.49      0.17      0.25       102\n",
            "          24       0.20      0.02      0.03       115\n",
            "          25       0.97      0.22      0.36       126\n",
            "          26       0.60      0.13      0.21        95\n",
            "          27       0.97      0.52      0.67       124\n",
            "          28       0.71      0.25      0.37       127\n",
            "          29       0.99      0.43      0.60       162\n",
            "          30       0.62      0.10      0.17        79\n",
            "          31       0.67      0.02      0.04       103\n",
            "          32       0.50      0.09      0.15        81\n",
            "          33       0.69      0.40      0.50        93\n",
            "          34       0.89      0.18      0.30        90\n",
            "          35       0.98      0.18      0.31       239\n",
            "          36       0.71      0.23      0.34        66\n",
            "          37       0.40      0.03      0.05        68\n",
            "          38       0.92      0.24      0.38       100\n",
            "          39       0.48      0.12      0.19        83\n",
            "          40       0.88      0.25      0.39        83\n",
            "          41       1.00      0.04      0.08        97\n",
            "          42       0.94      0.42      0.58        73\n",
            "          43       0.60      0.03      0.06       102\n",
            "          44       0.60      0.12      0.19        52\n",
            "          45       0.00      0.00      0.00        57\n",
            "          46       0.90      0.15      0.26        60\n",
            "          47       1.00      0.29      0.45        73\n",
            "          48       0.66      0.24      0.35        87\n",
            "          49       0.93      0.27      0.42        96\n",
            "          50       0.93      0.41      0.57        64\n",
            "          51       0.60      0.04      0.07        75\n",
            "          52       0.74      0.38      0.50        84\n",
            "          53       0.96      0.31      0.47        70\n",
            "          54       0.00      0.00      0.00        62\n",
            "          55       0.69      0.41      0.51        59\n",
            "          56       0.65      0.27      0.39        62\n",
            "          57       0.88      0.41      0.55        69\n",
            "          58       0.84      0.30      0.44        54\n",
            "          59       0.00      0.00      0.00        54\n",
            "          60       0.00      0.00      0.00        66\n",
            "          61       0.88      0.29      0.44        48\n",
            "          62       0.25      0.05      0.09        57\n",
            "          63       0.00      0.00      0.00        52\n",
            "          64       0.67      0.07      0.13        54\n",
            "          65       0.25      0.02      0.03        57\n",
            "          66       0.80      0.35      0.49        34\n",
            "          67       1.00      0.03      0.06        67\n",
            "          68       0.00      0.00      0.00        36\n",
            "          69       0.60      0.08      0.14        37\n",
            "          70       0.00      0.00      0.00        49\n",
            "          71       0.00      0.00      0.00        35\n",
            "          72       0.60      0.17      0.26        53\n",
            "          73       0.67      0.06      0.11        33\n",
            "          74       0.00      0.00      0.00        49\n",
            "          75       1.00      0.06      0.11        36\n",
            "          76       0.80      0.11      0.20        35\n",
            "          77       0.00      0.00      0.00        42\n",
            "          78       1.00      0.38      0.55        53\n",
            "          79       0.60      0.07      0.13        42\n",
            "          80       0.96      0.42      0.59        64\n",
            "          81       0.00      0.00      0.00        36\n",
            "          82       0.75      0.05      0.10        58\n",
            "          83       1.00      0.06      0.11        35\n",
            "          84       0.44      0.17      0.25        41\n",
            "          85       1.00      0.22      0.37        58\n",
            "          86       0.50      0.03      0.05        40\n",
            "          87       0.40      0.04      0.08        47\n",
            "          88       0.00      0.00      0.00        40\n",
            "          89       0.50      0.02      0.04        43\n",
            "          90       0.88      0.17      0.29        41\n",
            "          91       0.83      0.15      0.25        34\n",
            "          92       1.00      0.02      0.04        54\n",
            "          93       0.77      0.26      0.38        39\n",
            "          94       0.67      0.13      0.22        30\n",
            "          95       0.25      0.04      0.07        23\n",
            "          96       0.60      0.08      0.15        36\n",
            "          97       0.88      0.15      0.25        47\n",
            "          98       0.83      0.12      0.22        40\n",
            "          99       0.89      0.17      0.29        46\n",
            "         100       0.60      0.21      0.31        29\n",
            "         101       1.00      0.11      0.21        35\n",
            "         102       1.00      0.20      0.33        51\n",
            "         103       0.50      0.03      0.05        35\n",
            "         104       1.00      0.03      0.06        31\n",
            "         105       1.00      0.11      0.19        28\n",
            "         106       1.00      0.29      0.45        45\n",
            "         107       0.00      0.00      0.00        42\n",
            "         108       0.00      0.00      0.00        26\n",
            "         109       0.00      0.00      0.00        28\n",
            "         110       0.00      0.00      0.00        36\n",
            "         111       0.80      0.10      0.18        40\n",
            "         112       0.00      0.00      0.00        30\n",
            "         113       0.00      0.00      0.00        16\n",
            "         114       0.00      0.00      0.00        23\n",
            "         115       0.00      0.00      0.00        29\n",
            "         116       1.00      0.07      0.14        27\n",
            "         117       0.90      0.24      0.38        37\n",
            "         118       0.00      0.00      0.00        31\n",
            "         119       0.50      0.08      0.13        26\n",
            "         120       0.67      0.06      0.10        36\n",
            "         121       0.67      0.13      0.22        31\n",
            "         122       0.00      0.00      0.00        40\n",
            "         123       0.00      0.00      0.00        43\n",
            "         124       0.50      0.03      0.06        29\n",
            "         125       0.00      0.00      0.00        36\n",
            "         126       0.00      0.00      0.00        28\n",
            "         127       0.00      0.00      0.00        18\n",
            "         128       0.00      0.00      0.00        31\n",
            "         129       0.00      0.00      0.00        18\n",
            "         130       0.00      0.00      0.00        35\n",
            "         131       0.00      0.00      0.00        25\n",
            "         132       0.00      0.00      0.00        30\n",
            "         133       0.80      0.19      0.31        21\n",
            "         134       0.00      0.00      0.00        41\n",
            "         135       0.50      0.03      0.06        32\n",
            "         136       1.00      0.10      0.19        29\n",
            "         137       0.60      0.26      0.36        23\n",
            "         138       1.00      0.07      0.13        29\n",
            "         139       1.00      0.04      0.08        24\n",
            "         140       1.00      0.09      0.17        33\n",
            "         141       0.86      0.18      0.30        33\n",
            "         142       0.00      0.00      0.00        18\n",
            "         143       0.67      0.11      0.18        19\n",
            "         144       0.00      0.00      0.00        49\n",
            "         145       0.67      0.06      0.11        33\n",
            "         146       0.00      0.00      0.00        34\n",
            "         147       1.00      0.14      0.25        14\n",
            "         148       0.50      0.07      0.12        14\n",
            "         149       1.00      0.27      0.43        22\n",
            "         150       0.00      0.00      0.00        28\n",
            "         151       0.29      0.08      0.13        24\n",
            "         152       0.00      0.00      0.00        27\n",
            "         153       0.00      0.00      0.00        26\n",
            "         154       0.00      0.00      0.00        20\n",
            "         155       0.00      0.00      0.00        25\n",
            "         156       1.00      0.25      0.40        20\n",
            "         157       0.00      0.00      0.00        22\n",
            "         158       0.50      0.04      0.07        26\n",
            "         159       0.00      0.00      0.00        28\n",
            "         160       0.00      0.00      0.00        22\n",
            "         161       0.00      0.00      0.00        28\n",
            "         162       0.83      0.20      0.32        25\n",
            "         163       0.00      0.00      0.00        18\n",
            "         164       1.00      0.20      0.33        25\n",
            "         165       0.00      0.00      0.00        20\n",
            "         166       1.00      0.15      0.26        53\n",
            "         167       0.00      0.00      0.00        35\n",
            "         168       0.80      0.20      0.32        20\n",
            "         169       0.50      0.06      0.11        17\n",
            "         170       0.00      0.00      0.00        23\n",
            "         171       1.00      0.12      0.22        24\n",
            "         172       0.00      0.00      0.00        21\n",
            "         173       1.00      0.07      0.12        15\n",
            "         174       0.00      0.00      0.00        19\n",
            "         175       1.00      0.17      0.29        12\n",
            "         176       0.00      0.00      0.00        44\n",
            "         177       0.50      0.05      0.08        22\n",
            "         178       1.00      0.09      0.17        32\n",
            "         179       0.00      0.00      0.00        12\n",
            "         180       0.00      0.00      0.00        12\n",
            "         181       0.00      0.00      0.00        26\n",
            "         182       0.67      0.14      0.24        14\n",
            "         183       0.50      0.04      0.08        23\n",
            "         184       0.50      0.07      0.12        14\n",
            "         185       0.00      0.00      0.00        17\n",
            "         186       0.70      0.23      0.35        30\n",
            "         187       1.00      0.04      0.08        25\n",
            "         188       0.50      0.09      0.15        11\n",
            "         189       0.00      0.00      0.00         8\n",
            "         190       0.00      0.00      0.00        23\n",
            "         191       1.00      0.07      0.13        28\n",
            "         192       1.00      0.29      0.44        28\n",
            "         193       0.00      0.00      0.00        22\n",
            "         194       1.00      0.04      0.08        23\n",
            "         195       1.00      0.03      0.06        30\n",
            "         196       0.00      0.00      0.00        22\n",
            "         197       0.00      0.00      0.00        15\n",
            "         198       1.00      0.06      0.11        18\n",
            "         199       0.00      0.00      0.00        12\n",
            "\n",
            "   micro avg       0.81      0.24      0.36     16530\n",
            "   macro avg       0.53      0.13      0.19     16530\n",
            "weighted avg       0.69      0.24      0.33     16530\n",
            " samples avg       0.32      0.24      0.26     16530\n",
            "\n"
          ],
          "name": "stdout"
        },
        {
          "output_type": "stream",
          "text": [
            "/usr/local/lib/python3.6/dist-packages/sklearn/metrics/_classification.py:1272: UndefinedMetricWarning: Precision and F-score are ill-defined and being set to 0.0 in labels with no predicted samples. Use `zero_division` parameter to control this behavior.\n",
            "  _warn_prf(average, modifier, msg_start, len(result))\n",
            "/usr/local/lib/python3.6/dist-packages/sklearn/metrics/_classification.py:1272: UndefinedMetricWarning: Precision and F-score are ill-defined and being set to 0.0 in samples with no predicted labels. Use `zero_division` parameter to control this behavior.\n",
            "  _warn_prf(average, modifier, msg_start, len(result))\n",
            "/usr/local/lib/python3.6/dist-packages/sklearn/metrics/_classification.py:1272: UndefinedMetricWarning: Recall and F-score are ill-defined and being set to 0.0 in samples with no true labels. Use `zero_division` parameter to control this behavior.\n",
            "  _warn_prf(average, modifier, msg_start, len(result))\n"
          ],
          "name": "stderr"
        }
      ]
    },
    {
      "cell_type": "code",
      "metadata": {
        "id": "S5wvogbbbfQV"
      },
      "source": [
        "# classifier = OneVsRestClassifier(svm.SVC(kernel='linear'))\n",
        "# classifier.fit(x_train_multilabel, y_train)\n",
        "# predictions = classifier.predict(x_test_multilabel)\n",
        "\n",
        "# print(\"accuracy :\",metrics.accuracy_score(y_test,predictions))\n",
        "# print(\"macro f1 score :\",metrics.f1_score(y_test, predictions, average = 'macro'))\n",
        "# print(\"micro f1 scoore :\",metrics.f1_score(y_test, predictions, average = 'micro'))\n",
        "# print(\"hamming loss :\",metrics.hamming_loss(y_test,predictions))\n",
        "# print(\"Precision recall report :\\n\",metrics.classification_report(y_test, predictions))"
      ],
      "execution_count": 32,
      "outputs": []
    },
    {
      "cell_type": "code",
      "metadata": {
        "id": "AwK3YIHDDTUV",
        "colab": {
          "base_uri": "https://localhost:8080/"
        },
        "outputId": "4b3c5f38-e344-4596-fafd-8de5d7408156"
      },
      "source": [
        "classifier = OneVsRestClassifier(SGDClassifier(loss='hinge', alpha=0.00001, penalty='l1'), n_jobs=-1)\n",
        "classifier.fit(x_train_multilabel, y_train)\n",
        "predictions = classifier.predict(x_test_multilabel)\n",
        "\n",
        "print(\"accuracy :\",metrics.accuracy_score(y_test,predictions))\n",
        "print(\"macro f1 score :\",metrics.f1_score(y_test, predictions, average = 'macro'))\n",
        "print(\"micro f1 scoore :\",metrics.f1_score(y_test, predictions, average = 'micro'))\n",
        "print(\"hamming loss :\",metrics.hamming_loss(y_test,predictions))\n",
        "print(\"Precision recall report :\\n\",metrics.classification_report(y_test, predictions))\n"
      ],
      "execution_count": 33,
      "outputs": [
        {
          "output_type": "stream",
          "text": [
            "accuracy : 0.3139\n",
            "macro f1 score : 0.4029361817742817\n",
            "micro f1 scoore : 0.5695957487189219\n",
            "hamming loss : 0.0056695\n",
            "Precision recall report :\n",
            "               precision    recall  f1-score   support\n",
            "\n",
            "           0       0.58      0.34      0.43      1116\n",
            "           1       0.79      0.61      0.69       802\n",
            "           2       0.53      0.16      0.25       540\n",
            "           3       0.84      0.67      0.74       743\n",
            "           4       0.80      0.52      0.63       484\n",
            "           5       0.76      0.55      0.64       556\n",
            "           6       0.70      0.36      0.48       449\n",
            "           7       0.88      0.82      0.85       520\n",
            "           8       0.90      0.68      0.78       406\n",
            "           9       0.91      0.75      0.82       483\n",
            "          10       0.63      0.36      0.46       287\n",
            "          11       0.59      0.28      0.38       318\n",
            "          12       0.59      0.39      0.47       186\n",
            "          13       0.86      0.69      0.77       288\n",
            "          14       0.86      0.73      0.79       200\n",
            "          15       0.61      0.18      0.28       195\n",
            "          16       0.95      0.77      0.85       214\n",
            "          17       0.76      0.58      0.66       221\n",
            "          18       0.87      0.80      0.83       163\n",
            "          19       0.65      0.30      0.41       218\n",
            "          20       0.33      0.01      0.01       131\n",
            "          21       0.77      0.59      0.66       145\n",
            "          22       0.67      0.66      0.66       145\n",
            "          23       0.53      0.24      0.33       102\n",
            "          24       0.25      0.01      0.02       115\n",
            "          25       0.89      0.50      0.64       126\n",
            "          26       0.67      0.45      0.54        95\n",
            "          27       0.90      0.76      0.82       124\n",
            "          28       0.73      0.54      0.62       127\n",
            "          29       0.95      0.90      0.92       162\n",
            "          30       0.53      0.32      0.40        79\n",
            "          31       0.78      0.07      0.12       103\n",
            "          32       0.25      0.01      0.02        81\n",
            "          33       0.58      0.56      0.57        93\n",
            "          34       0.86      0.67      0.75        90\n",
            "          35       0.95      0.79      0.87       239\n",
            "          36       0.74      0.52      0.61        66\n",
            "          37       0.50      0.03      0.06        68\n",
            "          38       0.72      0.47      0.57       100\n",
            "          39       0.40      0.10      0.16        83\n",
            "          40       0.76      0.51      0.61        83\n",
            "          41       0.84      0.33      0.47        97\n",
            "          42       0.91      0.86      0.89        73\n",
            "          43       0.62      0.20      0.30       102\n",
            "          44       0.62      0.29      0.39        52\n",
            "          45       0.17      0.05      0.08        57\n",
            "          46       0.61      0.37      0.46        60\n",
            "          47       0.90      0.77      0.83        73\n",
            "          48       0.60      0.31      0.41        87\n",
            "          49       0.93      0.74      0.83        96\n",
            "          50       0.88      0.83      0.85        64\n",
            "          51       0.55      0.29      0.38        75\n",
            "          52       0.77      0.79      0.78        84\n",
            "          53       0.92      0.66      0.77        70\n",
            "          54       1.00      0.02      0.03        62\n",
            "          55       0.67      0.47      0.55        59\n",
            "          56       0.73      0.89      0.80        62\n",
            "          57       0.88      0.87      0.88        69\n",
            "          58       0.78      0.72      0.75        54\n",
            "          59       0.50      0.11      0.18        54\n",
            "          60       0.69      0.14      0.23        66\n",
            "          61       0.78      0.67      0.72        48\n",
            "          62       0.50      0.25      0.33        57\n",
            "          63       0.71      0.10      0.17        52\n",
            "          64       0.57      0.24      0.34        54\n",
            "          65       0.00      0.00      0.00        57\n",
            "          66       0.61      0.68      0.64        34\n",
            "          67       0.00      0.00      0.00        67\n",
            "          68       0.00      0.00      0.00        36\n",
            "          69       0.50      0.35      0.41        37\n",
            "          70       0.00      0.00      0.00        49\n",
            "          71       0.00      0.00      0.00        35\n",
            "          72       0.57      0.15      0.24        53\n",
            "          73       0.40      0.12      0.19        33\n",
            "          74       0.43      0.06      0.11        49\n",
            "          75       0.73      0.22      0.34        36\n",
            "          76       0.78      0.60      0.68        35\n",
            "          77       0.56      0.12      0.20        42\n",
            "          78       0.81      0.72      0.76        53\n",
            "          79       0.00      0.00      0.00        42\n",
            "          80       0.92      0.86      0.89        64\n",
            "          81       0.25      0.06      0.09        36\n",
            "          82       0.79      0.38      0.51        58\n",
            "          83       0.65      0.31      0.42        35\n",
            "          84       0.58      0.44      0.50        41\n",
            "          85       0.92      0.76      0.83        58\n",
            "          86       0.52      0.35      0.42        40\n",
            "          87       0.33      0.09      0.14        47\n",
            "          88       0.67      0.10      0.17        40\n",
            "          89       1.00      0.02      0.05        43\n",
            "          90       0.81      0.73      0.77        41\n",
            "          91       0.71      0.50      0.59        34\n",
            "          92       0.78      0.46      0.58        54\n",
            "          93       0.70      0.49      0.58        39\n",
            "          94       1.00      0.10      0.18        30\n",
            "          95       0.60      0.13      0.21        23\n",
            "          96       0.50      0.33      0.40        36\n",
            "          97       0.83      0.74      0.79        47\n",
            "          98       0.78      0.35      0.48        40\n",
            "          99       0.88      0.65      0.75        46\n",
            "         100       0.48      0.34      0.40        29\n",
            "         101       0.85      0.49      0.62        35\n",
            "         102       0.91      0.80      0.85        51\n",
            "         103       0.62      0.14      0.23        35\n",
            "         104       1.00      0.03      0.06        31\n",
            "         105       0.68      0.61      0.64        28\n",
            "         106       0.89      0.73      0.80        45\n",
            "         107       0.00      0.00      0.00        42\n",
            "         108       0.00      0.00      0.00        26\n",
            "         109       0.50      0.04      0.07        28\n",
            "         110       0.67      0.06      0.10        36\n",
            "         111       0.74      0.72      0.73        40\n",
            "         112       0.00      0.00      0.00        30\n",
            "         113       0.33      0.06      0.11        16\n",
            "         114       1.00      0.09      0.16        23\n",
            "         115       0.00      0.00      0.00        29\n",
            "         116       0.82      0.33      0.47        27\n",
            "         117       0.86      0.81      0.83        37\n",
            "         118       0.00      0.00      0.00        31\n",
            "         119       0.56      0.35      0.43        26\n",
            "         120       0.58      0.19      0.29        36\n",
            "         121       0.69      0.29      0.41        31\n",
            "         122       0.57      0.10      0.17        40\n",
            "         123       0.00      0.00      0.00        43\n",
            "         124       0.00      0.00      0.00        29\n",
            "         125       0.00      0.00      0.00        36\n",
            "         126       0.00      0.00      0.00        28\n",
            "         127       1.00      0.06      0.11        18\n",
            "         128       0.33      0.03      0.06        31\n",
            "         129       0.00      0.00      0.00        18\n",
            "         130       0.00      0.00      0.00        35\n",
            "         131       0.62      0.20      0.30        25\n",
            "         132       0.50      0.03      0.06        30\n",
            "         133       0.65      0.71      0.68        21\n",
            "         134       0.00      0.00      0.00        41\n",
            "         135       0.67      0.06      0.11        32\n",
            "         136       1.00      0.03      0.07        29\n",
            "         137       0.33      0.30      0.32        23\n",
            "         138       0.76      0.45      0.57        29\n",
            "         139       0.82      0.58      0.68        24\n",
            "         140       0.96      0.76      0.85        33\n",
            "         141       0.78      0.76      0.77        33\n",
            "         142       0.00      0.00      0.00        18\n",
            "         143       0.69      0.58      0.63        19\n",
            "         144       0.71      0.10      0.18        49\n",
            "         145       0.43      0.18      0.26        33\n",
            "         146       0.00      0.00      0.00        34\n",
            "         147       0.75      0.64      0.69        14\n",
            "         148       0.29      0.14      0.19        14\n",
            "         149       0.82      0.82      0.82        22\n",
            "         150       0.60      0.11      0.18        28\n",
            "         151       0.39      0.29      0.33        24\n",
            "         152       0.33      0.04      0.07        27\n",
            "         153       0.61      0.42      0.50        26\n",
            "         154       0.50      0.15      0.23        20\n",
            "         155       0.88      0.60      0.71        25\n",
            "         156       0.89      0.85      0.87        20\n",
            "         157       0.75      0.41      0.53        22\n",
            "         158       0.65      0.42      0.51        26\n",
            "         159       0.00      0.00      0.00        28\n",
            "         160       0.78      0.32      0.45        22\n",
            "         161       0.00      0.00      0.00        28\n",
            "         162       0.62      0.52      0.57        25\n",
            "         163       0.00      0.00      0.00        18\n",
            "         164       0.76      0.76      0.76        25\n",
            "         165       0.00      0.00      0.00        20\n",
            "         166       0.88      0.72      0.79        53\n",
            "         167       0.76      0.46      0.57        35\n",
            "         168       0.79      0.75      0.77        20\n",
            "         169       0.50      0.12      0.19        17\n",
            "         170       0.00      0.00      0.00        23\n",
            "         171       1.00      0.08      0.15        24\n",
            "         172       0.00      0.00      0.00        21\n",
            "         173       0.53      0.60      0.56        15\n",
            "         174       1.00      0.37      0.54        19\n",
            "         175       0.58      0.58      0.58        12\n",
            "         176       0.77      0.39      0.52        44\n",
            "         177       0.50      0.18      0.27        22\n",
            "         178       0.84      0.97      0.90        32\n",
            "         179       0.00      0.00      0.00        12\n",
            "         180       1.00      0.08      0.15        12\n",
            "         181       0.00      0.00      0.00        26\n",
            "         182       0.50      0.29      0.36        14\n",
            "         183       0.71      0.43      0.54        23\n",
            "         184       0.59      0.71      0.65        14\n",
            "         185       0.33      0.06      0.10        17\n",
            "         186       0.77      0.67      0.71        30\n",
            "         187       0.67      0.08      0.14        25\n",
            "         188       0.25      0.09      0.13        11\n",
            "         189       0.00      0.00      0.00         8\n",
            "         190       0.00      0.00      0.00        23\n",
            "         191       0.90      0.96      0.93        28\n",
            "         192       0.88      0.75      0.81        28\n",
            "         193       0.00      0.00      0.00        22\n",
            "         194       0.69      0.48      0.56        23\n",
            "         195       0.87      0.67      0.75        30\n",
            "         196       0.86      0.86      0.86        22\n",
            "         197       0.00      0.00      0.00        15\n",
            "         198       1.00      0.06      0.11        18\n",
            "         199       0.00      0.00      0.00        12\n",
            "\n",
            "   micro avg       0.76      0.45      0.57     16530\n",
            "   macro avg       0.58      0.35      0.40     16530\n",
            "weighted avg       0.68      0.45      0.52     16530\n",
            " samples avg       0.56      0.46      0.48     16530\n",
            "\n"
          ],
          "name": "stdout"
        },
        {
          "output_type": "stream",
          "text": [
            "/usr/local/lib/python3.6/dist-packages/sklearn/metrics/_classification.py:1272: UndefinedMetricWarning: Precision and F-score are ill-defined and being set to 0.0 in labels with no predicted samples. Use `zero_division` parameter to control this behavior.\n",
            "  _warn_prf(average, modifier, msg_start, len(result))\n",
            "/usr/local/lib/python3.6/dist-packages/sklearn/metrics/_classification.py:1272: UndefinedMetricWarning: Precision and F-score are ill-defined and being set to 0.0 in samples with no predicted labels. Use `zero_division` parameter to control this behavior.\n",
            "  _warn_prf(average, modifier, msg_start, len(result))\n",
            "/usr/local/lib/python3.6/dist-packages/sklearn/metrics/_classification.py:1272: UndefinedMetricWarning: Recall and F-score are ill-defined and being set to 0.0 in samples with no true labels. Use `zero_division` parameter to control this behavior.\n",
            "  _warn_prf(average, modifier, msg_start, len(result))\n"
          ],
          "name": "stderr"
        }
      ]
    },
    {
      "cell_type": "code",
      "metadata": {
        "colab": {
          "base_uri": "https://localhost:8080/"
        },
        "id": "ItSxfjibWD69",
        "outputId": "85f0b437-ad37-4318-e921-d7da56ffe0a3"
      },
      "source": [
        "start = datetime.now()\n",
        "questions_with_code=0\n",
        "for i in range(min(data_size, len(questions))):\n",
        "    is_code = 0\n",
        "\n",
        "    title = df['Title'][i]\n",
        "    question = df['Body'][i]\n",
        "    tag = df['Tag'][i]\n",
        "    \n",
        "    if '<code>' in question:\n",
        "        questions_with_code+=1\n",
        "        is_code = 1\n",
        "    x = len(question)+len(title)\n",
        "\n",
        "    code = str(re.findall(r'<code>(.*?)</code>', question, flags=re.DOTALL))\n",
        "\n",
        "    question=re.sub('<code>(.*?)</code>', '', question, flags=re.MULTILINE|re.DOTALL)\n",
        "    question=removeHtmlTags(question.encode('utf-8'))\n",
        "\n",
        "    title=title.encode('utf-8')\n",
        "\n",
        "    question=str(title)+\" \"+ str(title)+\" \"+ str(title)+\" \"+str(title)+\" \"+str(title)+\" \"+str(question)\n",
        "    question=re.sub(r'[^A-Za-z]+',' ',question)\n",
        "    words=word_tokenize(str(question.lower()))\n",
        "    question=' '.join(str(stemmer.stem(j)) for j in words if j not in stop_words and (len(j)!=1 or j=='c'))\n",
        "    tup = (question,code,is_code,tag)\n",
        "    preprossed_data.append(tup)\n",
        "    questions_proccesed += 1\n",
        "    if (questions_proccesed%10000==0):\n",
        "        print(\"number of questions completed=\",questions_proccesed)\n",
        "    \n",
        "print(\"Time take to execute this cell \", datetime.now()-start)"
      ],
      "execution_count": 34,
      "outputs": [
        {
          "output_type": "stream",
          "text": [
            "number of questions completed= 60000\n",
            "number of questions completed= 70000\n",
            "number of questions completed= 80000\n",
            "number of questions completed= 90000\n",
            "number of questions completed= 100000\n",
            "Time take to execute this cell  0:01:31.768460\n"
          ],
          "name": "stdout"
        }
      ]
    },
    {
      "cell_type": "code",
      "metadata": {
        "id": "z8G9dKwxXcOF"
      },
      "source": [
        "data = pd.DataFrame(preprossed_data[:data_size], columns =['question', 'code', 'is_code','tag'])\n",
        "data.drop(['is_code','code'], axis =1, inplace=True)"
      ],
      "execution_count": 35,
      "outputs": []
    },
    {
      "cell_type": "code",
      "metadata": {
        "id": "kTyzOh1RXjf2"
      },
      "source": [
        "total_size=data.shape[0]\n",
        "train_size=int(0.80*total_size)\n",
        "\n",
        "x_train=data.head(train_size)\n",
        "x_test=data.tail(total_size - train_size)\n",
        "\n",
        "y_train = multilabel_yx[0:train_size,:]\n",
        "y_test = multilabel_yx[train_size:total_size,:]"
      ],
      "execution_count": 36,
      "outputs": []
    },
    {
      "cell_type": "code",
      "metadata": {
        "colab": {
          "base_uri": "https://localhost:8080/"
        },
        "id": "qB85aQEnXwYB",
        "outputId": "4314f936-091e-4e2a-98f4-735b69e44b48"
      },
      "source": [
        "start = datetime.now()\n",
        "vectorizer = TfidfVectorizer(min_df=0.00009, max_features=200000, smooth_idf=True, norm=\"l2\", \\\n",
        "                             tokenizer = lambda x: x.split(), sublinear_tf=False, ngram_range=(1,3))\n",
        "x_train_multilabel = vectorizer.fit_transform(x_train['question'])\n",
        "x_test_multilabel = vectorizer.transform(x_test['question'])\n",
        "print(\"Time taken to run this cell :\", datetime.now() - start)"
      ],
      "execution_count": 37,
      "outputs": [
        {
          "output_type": "stream",
          "text": [
            "Time taken to run this cell : 0:00:32.955623\n"
          ],
          "name": "stdout"
        }
      ]
    },
    {
      "cell_type": "code",
      "metadata": {
        "colab": {
          "base_uri": "https://localhost:8080/"
        },
        "id": "KtdvkO75X1Se",
        "outputId": "e3825f12-91f1-4ac8-eff4-1399a69abd7a"
      },
      "source": [
        "classifier = OneVsRestClassifier(SGDClassifier(loss='log', alpha=0.00001, penalty='l1'), n_jobs=-1)\n",
        "classifier.fit(x_train_multilabel, y_train)\n",
        "predictions = classifier.predict(x_test_multilabel)\n",
        "\n",
        "print(\"accuracy :\",metrics.accuracy_score(y_test,predictions))\n",
        "print(\"macro f1 score :\",metrics.f1_score(y_test, predictions, average = 'macro'))\n",
        "print(\"micro f1 scoore :\",metrics.f1_score(y_test, predictions, average = 'micro'))\n",
        "print(\"hamming loss :\",metrics.hamming_loss(y_test,predictions))\n",
        "print(\"Precision recall report :\\n\",metrics.classification_report(y_test, predictions))"
      ],
      "execution_count": 38,
      "outputs": [
        {
          "output_type": "stream",
          "text": [
            "accuracy : 0.2849\n",
            "macro f1 score : 0.41532606834244645\n",
            "micro f1 scoore : 0.5409293298321727\n",
            "hamming loss : 0.0060315\n",
            "Precision recall report :\n",
            "               precision    recall  f1-score   support\n",
            "\n",
            "           0       0.62      0.32      0.42      1116\n",
            "           1       0.80      0.57      0.66       802\n",
            "           2       0.55      0.18      0.27       540\n",
            "           3       0.84      0.63      0.72       743\n",
            "           4       0.80      0.49      0.61       484\n",
            "           5       0.73      0.51      0.60       556\n",
            "           6       0.70      0.33      0.45       449\n",
            "           7       0.89      0.75      0.81       520\n",
            "           8       0.86      0.61      0.71       406\n",
            "           9       0.91      0.66      0.77       483\n",
            "          10       0.59      0.34      0.43       287\n",
            "          11       0.55      0.27      0.36       318\n",
            "          12       0.58      0.44      0.50       186\n",
            "          13       0.85      0.67      0.75       288\n",
            "          14       0.84      0.70      0.76       200\n",
            "          15       0.68      0.26      0.37       195\n",
            "          16       0.94      0.70      0.80       214\n",
            "          17       0.78      0.57      0.66       221\n",
            "          18       0.88      0.74      0.81       163\n",
            "          19       0.61      0.27      0.38       218\n",
            "          20       0.24      0.08      0.12       131\n",
            "          21       0.70      0.52      0.60       145\n",
            "          22       0.67      0.66      0.66       145\n",
            "          23       0.46      0.25      0.32       102\n",
            "          24       0.18      0.05      0.08       115\n",
            "          25       0.83      0.40      0.54       126\n",
            "          26       0.64      0.39      0.48        95\n",
            "          27       0.92      0.74      0.82       124\n",
            "          28       0.72      0.46      0.56       127\n",
            "          29       0.97      0.78      0.87       162\n",
            "          30       0.57      0.32      0.41        79\n",
            "          31       0.50      0.17      0.26       103\n",
            "          32       0.42      0.12      0.19        81\n",
            "          33       0.62      0.52      0.56        93\n",
            "          34       0.89      0.46      0.60        90\n",
            "          35       0.97      0.69      0.81       239\n",
            "          36       0.74      0.42      0.54        66\n",
            "          37       0.40      0.09      0.14        68\n",
            "          38       0.74      0.39      0.51       100\n",
            "          39       0.38      0.23      0.29        83\n",
            "          40       0.81      0.42      0.56        83\n",
            "          41       0.72      0.27      0.39        97\n",
            "          42       0.92      0.75      0.83        73\n",
            "          43       0.46      0.18      0.26       102\n",
            "          44       0.54      0.27      0.36        52\n",
            "          45       0.12      0.07      0.09        57\n",
            "          46       0.67      0.37      0.47        60\n",
            "          47       0.92      0.66      0.77        73\n",
            "          48       0.65      0.43      0.51        87\n",
            "          49       0.93      0.52      0.67        96\n",
            "          50       0.92      0.73      0.82        64\n",
            "          51       0.61      0.29      0.40        75\n",
            "          52       0.77      0.74      0.75        84\n",
            "          53       0.93      0.60      0.73        70\n",
            "          54       0.53      0.15      0.23        62\n",
            "          55       0.72      0.56      0.63        59\n",
            "          56       0.75      0.71      0.73        62\n",
            "          57       0.92      0.80      0.85        69\n",
            "          58       0.78      0.57      0.66        54\n",
            "          59       0.36      0.07      0.12        54\n",
            "          60       0.48      0.15      0.23        66\n",
            "          61       0.71      0.52      0.60        48\n",
            "          62       0.41      0.25      0.31        57\n",
            "          63       0.82      0.17      0.29        52\n",
            "          64       0.52      0.28      0.36        54\n",
            "          65       0.33      0.09      0.14        57\n",
            "          66       0.67      0.59      0.62        34\n",
            "          67       0.40      0.09      0.15        67\n",
            "          68       0.14      0.03      0.05        36\n",
            "          69       0.54      0.41      0.46        37\n",
            "          70       0.00      0.00      0.00        49\n",
            "          71       0.00      0.00      0.00        35\n",
            "          72       0.56      0.34      0.42        53\n",
            "          73       0.24      0.12      0.16        33\n",
            "          74       0.55      0.12      0.20        49\n",
            "          75       0.53      0.28      0.36        36\n",
            "          76       0.82      0.51      0.63        35\n",
            "          77       0.40      0.10      0.15        42\n",
            "          78       0.82      0.62      0.71        53\n",
            "          79       0.53      0.19      0.28        42\n",
            "          80       0.94      0.80      0.86        64\n",
            "          81       0.40      0.17      0.24        36\n",
            "          82       0.86      0.31      0.46        58\n",
            "          83       0.55      0.34      0.42        35\n",
            "          84       0.53      0.49      0.51        41\n",
            "          85       0.93      0.69      0.79        58\n",
            "          86       0.61      0.35      0.44        40\n",
            "          87       0.42      0.21      0.28        47\n",
            "          88       0.42      0.12      0.19        40\n",
            "          89       0.41      0.21      0.28        43\n",
            "          90       0.79      0.66      0.72        41\n",
            "          91       0.65      0.38      0.48        34\n",
            "          92       0.83      0.35      0.49        54\n",
            "          93       0.65      0.56      0.60        39\n",
            "          94       0.43      0.20      0.27        30\n",
            "          95       0.33      0.17      0.23        23\n",
            "          96       0.36      0.25      0.30        36\n",
            "          97       0.79      0.66      0.72        47\n",
            "          98       0.71      0.42      0.53        40\n",
            "          99       0.89      0.54      0.68        46\n",
            "         100       0.52      0.38      0.44        29\n",
            "         101       0.83      0.43      0.57        35\n",
            "         102       0.93      0.55      0.69        51\n",
            "         103       0.50      0.26      0.34        35\n",
            "         104       0.45      0.16      0.24        31\n",
            "         105       0.65      0.46      0.54        28\n",
            "         106       0.93      0.62      0.75        45\n",
            "         107       0.00      0.00      0.00        42\n",
            "         108       0.17      0.04      0.06        26\n",
            "         109       0.29      0.07      0.11        28\n",
            "         110       0.67      0.17      0.27        36\n",
            "         111       0.87      0.65      0.74        40\n",
            "         112       0.44      0.13      0.21        30\n",
            "         113       0.38      0.19      0.25        16\n",
            "         114       1.00      0.13      0.23        23\n",
            "         115       0.23      0.10      0.14        29\n",
            "         116       0.54      0.26      0.35        27\n",
            "         117       0.90      0.70      0.79        37\n",
            "         118       0.38      0.10      0.15        31\n",
            "         119       0.50      0.35      0.41        26\n",
            "         120       0.50      0.14      0.22        36\n",
            "         121       0.53      0.32      0.40        31\n",
            "         122       0.33      0.10      0.15        40\n",
            "         123       0.17      0.02      0.04        43\n",
            "         124       0.27      0.10      0.15        29\n",
            "         125       0.18      0.06      0.09        36\n",
            "         126       0.56      0.36      0.43        28\n",
            "         127       0.60      0.17      0.26        18\n",
            "         128       0.25      0.16      0.20        31\n",
            "         129       0.00      0.00      0.00        18\n",
            "         130       0.00      0.00      0.00        35\n",
            "         131       0.62      0.32      0.42        25\n",
            "         132       0.33      0.13      0.19        30\n",
            "         133       0.67      0.67      0.67        21\n",
            "         134       0.20      0.05      0.08        41\n",
            "         135       0.55      0.19      0.28        32\n",
            "         136       0.45      0.17      0.25        29\n",
            "         137       0.50      0.43      0.47        23\n",
            "         138       0.83      0.52      0.64        29\n",
            "         139       0.92      0.50      0.65        24\n",
            "         140       0.96      0.67      0.79        33\n",
            "         141       0.80      0.73      0.76        33\n",
            "         142       0.33      0.11      0.17        18\n",
            "         143       0.71      0.53      0.61        19\n",
            "         144       1.00      0.12      0.22        49\n",
            "         145       0.44      0.21      0.29        33\n",
            "         146       0.25      0.06      0.10        34\n",
            "         147       0.75      0.43      0.55        14\n",
            "         148       0.38      0.21      0.27        14\n",
            "         149       0.88      0.64      0.74        22\n",
            "         150       0.40      0.14      0.21        28\n",
            "         151       0.30      0.25      0.27        24\n",
            "         152       0.25      0.04      0.06        27\n",
            "         153       0.73      0.42      0.54        26\n",
            "         154       0.00      0.00      0.00        20\n",
            "         155       0.87      0.52      0.65        25\n",
            "         156       0.87      0.65      0.74        20\n",
            "         157       0.60      0.41      0.49        22\n",
            "         158       0.73      0.42      0.54        26\n",
            "         159       0.36      0.14      0.21        28\n",
            "         160       0.44      0.32      0.37        22\n",
            "         161       0.33      0.07      0.12        28\n",
            "         162       0.65      0.44      0.52        25\n",
            "         163       0.50      0.11      0.18        18\n",
            "         164       0.74      0.68      0.71        25\n",
            "         165       0.33      0.10      0.15        20\n",
            "         166       0.88      0.70      0.78        53\n",
            "         167       0.73      0.23      0.35        35\n",
            "         168       0.83      0.50      0.62        20\n",
            "         169       0.50      0.41      0.45        17\n",
            "         170       0.80      0.17      0.29        23\n",
            "         171       0.67      0.25      0.36        24\n",
            "         172       0.00      0.00      0.00        21\n",
            "         173       0.67      0.53      0.59        15\n",
            "         174       1.00      0.16      0.27        19\n",
            "         175       0.50      0.50      0.50        12\n",
            "         176       0.74      0.32      0.44        44\n",
            "         177       0.38      0.14      0.20        22\n",
            "         178       0.79      0.69      0.73        32\n",
            "         179       0.00      0.00      0.00        12\n",
            "         180       0.00      0.00      0.00        12\n",
            "         181       0.00      0.00      0.00        26\n",
            "         182       0.46      0.43      0.44        14\n",
            "         183       0.75      0.52      0.62        23\n",
            "         184       0.59      0.71      0.65        14\n",
            "         185       1.00      0.06      0.11        17\n",
            "         186       0.68      0.57      0.62        30\n",
            "         187       0.67      0.32      0.43        25\n",
            "         188       0.25      0.18      0.21        11\n",
            "         189       0.00      0.00      0.00         8\n",
            "         190       0.00      0.00      0.00        23\n",
            "         191       1.00      0.86      0.92        28\n",
            "         192       0.94      0.54      0.68        28\n",
            "         193       0.18      0.09      0.12        22\n",
            "         194       0.70      0.30      0.42        23\n",
            "         195       0.84      0.53      0.65        30\n",
            "         196       0.88      0.68      0.77        22\n",
            "         197       0.00      0.00      0.00        15\n",
            "         198       0.25      0.06      0.09        18\n",
            "         199       0.00      0.00      0.00        12\n",
            "\n",
            "   micro avg       0.73      0.43      0.54     16530\n",
            "   macro avg       0.58      0.34      0.42     16530\n",
            "weighted avg       0.68      0.43      0.52     16530\n",
            " samples avg       0.51      0.43      0.44     16530\n",
            "\n"
          ],
          "name": "stdout"
        },
        {
          "output_type": "stream",
          "text": [
            "/usr/local/lib/python3.6/dist-packages/sklearn/metrics/_classification.py:1272: UndefinedMetricWarning: Precision and F-score are ill-defined and being set to 0.0 in labels with no predicted samples. Use `zero_division` parameter to control this behavior.\n",
            "  _warn_prf(average, modifier, msg_start, len(result))\n",
            "/usr/local/lib/python3.6/dist-packages/sklearn/metrics/_classification.py:1272: UndefinedMetricWarning: Precision and F-score are ill-defined and being set to 0.0 in samples with no predicted labels. Use `zero_division` parameter to control this behavior.\n",
            "  _warn_prf(average, modifier, msg_start, len(result))\n",
            "/usr/local/lib/python3.6/dist-packages/sklearn/metrics/_classification.py:1272: UndefinedMetricWarning: Recall and F-score are ill-defined and being set to 0.0 in samples with no true labels. Use `zero_division` parameter to control this behavior.\n",
            "  _warn_prf(average, modifier, msg_start, len(result))\n"
          ],
          "name": "stderr"
        }
      ]
    },
    {
      "cell_type": "code",
      "metadata": {
        "colab": {
          "base_uri": "https://localhost:8080/"
        },
        "id": "AZjgdyR4X7Fw",
        "outputId": "35087fed-2c18-4cb2-c309-737405190122"
      },
      "source": [
        "classifier = OneVsRestClassifier(SGDClassifier(loss='hinge', alpha=0.00001, penalty='l1'), n_jobs=-1)\n",
        "classifier.fit(x_train_multilabel, y_train)\n",
        "predictions = classifier.predict(x_test_multilabel)\n",
        "\n",
        "print(\"accuracy :\",metrics.accuracy_score(y_test,predictions))\n",
        "print(\"macro f1 score :\",metrics.f1_score(y_test, predictions, average = 'macro'))\n",
        "print(\"micro f1 scoore :\",metrics.f1_score(y_test, predictions, average = 'micro'))\n",
        "print(\"hamming loss :\",metrics.hamming_loss(y_test,predictions))\n",
        "print(\"Precision recall report :\\n\",metrics.classification_report(y_test, predictions))"
      ],
      "execution_count": 39,
      "outputs": [
        {
          "output_type": "stream",
          "text": [
            "accuracy : 0.3139\n",
            "macro f1 score : 0.40421805482307976\n",
            "micro f1 scoore : 0.5696914424684603\n",
            "hamming loss : 0.005662\n",
            "Precision recall report :\n",
            "               precision    recall  f1-score   support\n",
            "\n",
            "           0       0.59      0.34      0.43      1116\n",
            "           1       0.79      0.61      0.69       802\n",
            "           2       0.52      0.15      0.23       540\n",
            "           3       0.83      0.68      0.75       743\n",
            "           4       0.79      0.55      0.65       484\n",
            "           5       0.76      0.55      0.64       556\n",
            "           6       0.72      0.34      0.46       449\n",
            "           7       0.89      0.81      0.85       520\n",
            "           8       0.89      0.68      0.77       406\n",
            "           9       0.91      0.76      0.82       483\n",
            "          10       0.58      0.32      0.41       287\n",
            "          11       0.60      0.25      0.35       318\n",
            "          12       0.61      0.44      0.51       186\n",
            "          13       0.87      0.70      0.78       288\n",
            "          14       0.86      0.73      0.79       200\n",
            "          15       0.57      0.20      0.30       195\n",
            "          16       0.95      0.73      0.83       214\n",
            "          17       0.77      0.58      0.66       221\n",
            "          18       0.89      0.79      0.84       163\n",
            "          19       0.65      0.32      0.43       218\n",
            "          20       0.00      0.00      0.00       131\n",
            "          21       0.77      0.59      0.67       145\n",
            "          22       0.71      0.60      0.65       145\n",
            "          23       0.55      0.25      0.35       102\n",
            "          24       0.33      0.01      0.02       115\n",
            "          25       0.89      0.51      0.65       126\n",
            "          26       0.63      0.36      0.46        95\n",
            "          27       0.88      0.77      0.82       124\n",
            "          28       0.73      0.54      0.62       127\n",
            "          29       0.95      0.89      0.92       162\n",
            "          30       0.53      0.30      0.39        79\n",
            "          31       0.67      0.10      0.17       103\n",
            "          32       0.50      0.02      0.05        81\n",
            "          33       0.65      0.57      0.61        93\n",
            "          34       0.86      0.68      0.76        90\n",
            "          35       0.95      0.79      0.87       239\n",
            "          36       0.80      0.50      0.62        66\n",
            "          37       0.40      0.03      0.05        68\n",
            "          38       0.71      0.47      0.57       100\n",
            "          39       0.48      0.13      0.21        83\n",
            "          40       0.80      0.54      0.65        83\n",
            "          41       0.87      0.35      0.50        97\n",
            "          42       0.90      0.85      0.87        73\n",
            "          43       0.62      0.21      0.31       102\n",
            "          44       0.56      0.29      0.38        52\n",
            "          45       0.12      0.04      0.05        57\n",
            "          46       0.55      0.37      0.44        60\n",
            "          47       0.92      0.77      0.84        73\n",
            "          48       0.61      0.31      0.41        87\n",
            "          49       0.92      0.69      0.79        96\n",
            "          50       0.89      0.80      0.84        64\n",
            "          51       0.58      0.35      0.43        75\n",
            "          52       0.76      0.74      0.75        84\n",
            "          53       0.92      0.66      0.77        70\n",
            "          54       1.00      0.06      0.12        62\n",
            "          55       0.68      0.54      0.60        59\n",
            "          56       0.72      0.90      0.80        62\n",
            "          57       0.88      0.86      0.87        69\n",
            "          58       0.79      0.69      0.73        54\n",
            "          59       0.55      0.11      0.18        54\n",
            "          60       0.62      0.15      0.24        66\n",
            "          61       0.74      0.65      0.69        48\n",
            "          62       0.52      0.21      0.30        57\n",
            "          63       1.00      0.08      0.14        52\n",
            "          64       0.61      0.26      0.36        54\n",
            "          65       0.00      0.00      0.00        57\n",
            "          66       0.66      0.68      0.67        34\n",
            "          67       0.00      0.00      0.00        67\n",
            "          68       0.00      0.00      0.00        36\n",
            "          69       0.56      0.27      0.36        37\n",
            "          70       0.00      0.00      0.00        49\n",
            "          71       0.00      0.00      0.00        35\n",
            "          72       0.56      0.26      0.36        53\n",
            "          73       0.36      0.12      0.18        33\n",
            "          74       0.40      0.04      0.07        49\n",
            "          75       0.60      0.17      0.26        36\n",
            "          76       0.80      0.57      0.67        35\n",
            "          77       0.71      0.12      0.20        42\n",
            "          78       0.83      0.72      0.77        53\n",
            "          79       0.00      0.00      0.00        42\n",
            "          80       0.92      0.91      0.91        64\n",
            "          81       0.36      0.11      0.17        36\n",
            "          82       0.76      0.38      0.51        58\n",
            "          83       0.67      0.34      0.45        35\n",
            "          84       0.56      0.54      0.55        41\n",
            "          85       0.92      0.78      0.84        58\n",
            "          86       0.54      0.35      0.42        40\n",
            "          87       0.44      0.09      0.14        47\n",
            "          88       0.50      0.07      0.13        40\n",
            "          89       0.50      0.02      0.04        43\n",
            "          90       0.73      0.73      0.73        41\n",
            "          91       0.65      0.38      0.48        34\n",
            "          92       0.82      0.52      0.64        54\n",
            "          93       0.70      0.54      0.61        39\n",
            "          94       0.50      0.13      0.21        30\n",
            "          95       0.67      0.09      0.15        23\n",
            "          96       0.50      0.36      0.42        36\n",
            "          97       0.84      0.77      0.80        47\n",
            "          98       0.74      0.35      0.47        40\n",
            "          99       0.88      0.61      0.72        46\n",
            "         100       0.52      0.41      0.46        29\n",
            "         101       0.90      0.51      0.65        35\n",
            "         102       0.90      0.75      0.82        51\n",
            "         103       0.73      0.23      0.35        35\n",
            "         104       1.00      0.03      0.06        31\n",
            "         105       0.67      0.57      0.62        28\n",
            "         106       0.89      0.73      0.80        45\n",
            "         107       0.00      0.00      0.00        42\n",
            "         108       0.00      0.00      0.00        26\n",
            "         109       0.50      0.04      0.07        28\n",
            "         110       1.00      0.06      0.11        36\n",
            "         111       0.78      0.72      0.75        40\n",
            "         112       0.50      0.03      0.06        30\n",
            "         113       0.00      0.00      0.00        16\n",
            "         114       1.00      0.09      0.16        23\n",
            "         115       0.00      0.00      0.00        29\n",
            "         116       0.75      0.33      0.46        27\n",
            "         117       0.91      0.78      0.84        37\n",
            "         118       0.00      0.00      0.00        31\n",
            "         119       0.48      0.42      0.45        26\n",
            "         120       0.55      0.17      0.26        36\n",
            "         121       0.58      0.23      0.33        31\n",
            "         122       0.29      0.05      0.09        40\n",
            "         123       0.00      0.00      0.00        43\n",
            "         124       0.50      0.03      0.06        29\n",
            "         125       0.00      0.00      0.00        36\n",
            "         126       0.00      0.00      0.00        28\n",
            "         127       1.00      0.06      0.11        18\n",
            "         128       1.00      0.03      0.06        31\n",
            "         129       0.00      0.00      0.00        18\n",
            "         130       0.00      0.00      0.00        35\n",
            "         131       0.62      0.20      0.30        25\n",
            "         132       0.00      0.00      0.00        30\n",
            "         133       0.65      0.71      0.68        21\n",
            "         134       1.00      0.02      0.05        41\n",
            "         135       0.56      0.16      0.24        32\n",
            "         136       1.00      0.03      0.07        29\n",
            "         137       0.43      0.39      0.41        23\n",
            "         138       0.72      0.45      0.55        29\n",
            "         139       0.83      0.62      0.71        24\n",
            "         140       0.92      0.73      0.81        33\n",
            "         141       0.79      0.82      0.81        33\n",
            "         142       0.00      0.00      0.00        18\n",
            "         143       0.75      0.63      0.69        19\n",
            "         144       0.86      0.12      0.21        49\n",
            "         145       0.43      0.18      0.26        33\n",
            "         146       0.00      0.00      0.00        34\n",
            "         147       0.82      0.64      0.72        14\n",
            "         148       0.25      0.07      0.11        14\n",
            "         149       0.83      0.91      0.87        22\n",
            "         150       0.60      0.11      0.18        28\n",
            "         151       0.25      0.17      0.20        24\n",
            "         152       0.67      0.07      0.13        27\n",
            "         153       0.73      0.42      0.54        26\n",
            "         154       0.50      0.15      0.23        20\n",
            "         155       0.88      0.56      0.68        25\n",
            "         156       0.88      0.75      0.81        20\n",
            "         157       0.75      0.41      0.53        22\n",
            "         158       0.56      0.35      0.43        26\n",
            "         159       0.00      0.00      0.00        28\n",
            "         160       0.46      0.27      0.34        22\n",
            "         161       0.00      0.00      0.00        28\n",
            "         162       0.65      0.52      0.58        25\n",
            "         163       1.00      0.06      0.11        18\n",
            "         164       0.73      0.76      0.75        25\n",
            "         165       0.00      0.00      0.00        20\n",
            "         166       0.89      0.74      0.80        53\n",
            "         167       0.76      0.46      0.57        35\n",
            "         168       0.75      0.75      0.75        20\n",
            "         169       0.50      0.12      0.19        17\n",
            "         170       0.00      0.00      0.00        23\n",
            "         171       1.00      0.17      0.29        24\n",
            "         172       0.00      0.00      0.00        21\n",
            "         173       0.56      0.60      0.58        15\n",
            "         174       1.00      0.32      0.48        19\n",
            "         175       0.62      0.67      0.64        12\n",
            "         176       0.76      0.36      0.49        44\n",
            "         177       0.56      0.23      0.32        22\n",
            "         178       0.84      0.97      0.90        32\n",
            "         179       0.00      0.00      0.00        12\n",
            "         180       1.00      0.08      0.15        12\n",
            "         181       0.00      0.00      0.00        26\n",
            "         182       0.50      0.29      0.36        14\n",
            "         183       0.71      0.43      0.54        23\n",
            "         184       0.59      0.71      0.65        14\n",
            "         185       0.33      0.06      0.10        17\n",
            "         186       0.77      0.67      0.71        30\n",
            "         187       0.00      0.00      0.00        25\n",
            "         188       0.20      0.09      0.13        11\n",
            "         189       0.00      0.00      0.00         8\n",
            "         190       0.00      0.00      0.00        23\n",
            "         191       0.90      0.93      0.91        28\n",
            "         192       0.87      0.71      0.78        28\n",
            "         193       0.00      0.00      0.00        22\n",
            "         194       0.75      0.52      0.62        23\n",
            "         195       0.86      0.60      0.71        30\n",
            "         196       0.86      0.86      0.86        22\n",
            "         197       0.00      0.00      0.00        15\n",
            "         198       1.00      0.06      0.11        18\n",
            "         199       0.00      0.00      0.00        12\n",
            "\n",
            "   micro avg       0.77      0.45      0.57     16530\n",
            "   macro avg       0.59      0.35      0.40     16530\n",
            "weighted avg       0.69      0.45      0.52     16530\n",
            " samples avg       0.56      0.46      0.48     16530\n",
            "\n"
          ],
          "name": "stdout"
        },
        {
          "output_type": "stream",
          "text": [
            "/usr/local/lib/python3.6/dist-packages/sklearn/metrics/_classification.py:1272: UndefinedMetricWarning: Precision and F-score are ill-defined and being set to 0.0 in labels with no predicted samples. Use `zero_division` parameter to control this behavior.\n",
            "  _warn_prf(average, modifier, msg_start, len(result))\n",
            "/usr/local/lib/python3.6/dist-packages/sklearn/metrics/_classification.py:1272: UndefinedMetricWarning: Precision and F-score are ill-defined and being set to 0.0 in samples with no predicted labels. Use `zero_division` parameter to control this behavior.\n",
            "  _warn_prf(average, modifier, msg_start, len(result))\n",
            "/usr/local/lib/python3.6/dist-packages/sklearn/metrics/_classification.py:1272: UndefinedMetricWarning: Recall and F-score are ill-defined and being set to 0.0 in samples with no true labels. Use `zero_division` parameter to control this behavior.\n",
            "  _warn_prf(average, modifier, msg_start, len(result))\n"
          ],
          "name": "stderr"
        }
      ]
    },
    {
      "cell_type": "code",
      "metadata": {
        "id": "_KkCFMYHYcdW"
      },
      "source": [
        "# classifier = OneVsRestClassifier(svm.SVC(kernel='linear'))\n",
        "# classifier.fit(x_train_multilabel, y_train)\n",
        "# predictions = classifier.predict(x_test_multilabel)\n",
        "\n",
        "# print(\"accuracy :\",metrics.accuracy_score(y_test,predictions))\n",
        "# print(\"macro f1 score :\",metrics.f1_score(y_test, predictions, average = 'macro'))\n",
        "# print(\"micro f1 scoore :\",metrics.f1_score(y_test, predictions, average = 'micro'))\n",
        "# print(\"hamming loss :\",metrics.hamming_loss(y_test,predictions))\n",
        "# print(\"Precision recall report :\\n\",metrics.classification_report(y_test, predictions))"
      ],
      "execution_count": 40,
      "outputs": []
    },
    {
      "cell_type": "code",
      "metadata": {
        "id": "wjcUNLXCYqg3"
      },
      "source": [
        ""
      ],
      "execution_count": 40,
      "outputs": []
    }
  ]
}