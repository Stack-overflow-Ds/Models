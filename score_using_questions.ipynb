{
  "nbformat": 4,
  "nbformat_minor": 0,
  "metadata": {
    "colab": {
      "name": "score using questions.ipynb",
      "provenance": [],
      "authorship_tag": "ABX9TyN6OXDzf6KY2iIuFDz/OSTS",
      "include_colab_link": true
    },
    "kernelspec": {
      "name": "python3",
      "display_name": "Python 3"
    },
    "accelerator": "GPU"
  },
  "cells": [
    {
      "cell_type": "markdown",
      "metadata": {
        "id": "view-in-github",
        "colab_type": "text"
      },
      "source": [
        "<a href=\"https://colab.research.google.com/github/adarshbiradar/exploratory-data-analysis/blob/master/score_using_questions.ipynb\" target=\"_parent\"><img src=\"https://colab.research.google.com/assets/colab-badge.svg\" alt=\"Open In Colab\"/></a>"
      ]
    },
    {
      "cell_type": "code",
      "metadata": {
        "id": "e-IrDUIySsP3"
      },
      "source": [
        "## Use your kaggle api\n",
        "from google.colab import files\n",
        "files.upload()"
      ],
      "execution_count": null,
      "outputs": []
    },
    {
      "cell_type": "code",
      "metadata": {
        "colab": {
          "base_uri": "https://localhost:8080/"
        },
        "id": "UmHbAdEPXotN",
        "outputId": "e5a65f51-469e-43f7-ea93-22806cca5a99"
      },
      "source": [
        "!pip install -q kaggle\n",
        "! mkdir ~/.kaggle\n",
        "! cp kaggle.json ~/.kaggle/\n",
        "! chmod 600 ~/.kaggle/kaggle.json\n",
        "!kaggle datasets list"
      ],
      "execution_count": 2,
      "outputs": [
        {
          "output_type": "stream",
          "text": [
            "mkdir: cannot create directory ‘/root/.kaggle’: File exists\n",
            "Warning: Looks like you're using an outdated API Version, please consider updating (server 1.5.9 / client 1.5.4)\n",
            "ref                                                          title                                           size  lastUpdated          downloadCount  \n",
            "-----------------------------------------------------------  ---------------------------------------------  -----  -------------------  -------------  \n",
            "babyoda/women-entrepreneurship-and-labor-force               Women Entrepreneurship and Labor Force           1KB  2020-11-21 08:38:51            967  \n",
            "szymonjanowski/internet-articles-data-with-users-engagement  Internet news data with readers engagement       3MB  2020-11-21 17:09:57            383  \n",
            "sakshigoyal7/credit-card-customers                           Credit Card customers                          379KB  2020-11-19 07:38:44           1587  \n",
            "imoore/2020-us-general-election-turnout-rates                2020 US General Election Turnout rates           4KB  2020-11-26 00:21:15            591  \n",
            "alexgude/california-traffic-collision-data-from-switrs       California Traffic Collision Data from SWITRS    1GB  2020-11-22 16:51:55            157  \n",
            "afrniomelo/3w-dataset                                        3W Dataset - Undesirable events in oil wells   658MB  2020-11-21 21:22:49             65  \n",
            "patrickb1912/ipl-complete-dataset-20082020                   IPL Complete Dataset (2008-2020)                 1MB  2020-11-23 06:53:37            439  \n",
            "mrmorj/us-politicians-twitter-dataset                        US Politicians Twitter Dataset                  68KB  2020-11-23 09:54:05            146  \n",
            "arioboo/clumps-in-vela-galaxy-images                         Clumps in VELA galaxy images                     8MB  2020-11-23 13:42:09             47  \n",
            "unanimad/us-election-2020                                    US Election 2020                               430KB  2020-11-26 12:57:22           9381  \n",
            "shivamb/netflix-shows                                        Netflix Movies and TV Shows                    971KB  2020-01-20 07:33:56          65400  \n",
            "antgoldbloom/covid19-data-from-john-hopkins-university       COVID-19 data from John Hopkins University       3MB  2020-11-28 06:03:59           5102  \n",
            "manchunhui/us-election-2020-tweets                           US Election 2020 Tweets                        353MB  2020-11-09 18:51:59           3671  \n",
            "sootersaalu/amazon-top-50-bestselling-books-2009-2019        Amazon Top 50 Bestselling Books 2009 - 2019     15KB  2020-10-13 09:39:21           6346  \n",
            "terenceshin/covid19s-impact-on-airport-traffic               COVID-19's Impact on Airport Traffic           106KB  2020-10-19 12:40:17           5783  \n",
            "nehaprabhavalkar/indian-food-101                             Indian Food 101                                  7KB  2020-09-30 06:23:43           8491  \n",
            "datasnaek/youtube-new                                        Trending YouTube Video Statistics              201MB  2019-06-03 00:56:47         117614  \n",
            "zynicide/wine-reviews                                        Wine Reviews                                    51MB  2017-11-27 17:08:04         120708  \n",
            "google/tinyquickdraw                                         QuickDraw Sketches                              11GB  2018-04-18 19:38:04           2541  \n",
            "karangadiya/fifa19                                           FIFA 19 complete player dataset                  2MB  2018-12-21 03:52:59         106423  \n"
          ],
          "name": "stdout"
        }
      ]
    },
    {
      "cell_type": "code",
      "metadata": {
        "colab": {
          "base_uri": "https://localhost:8080/"
        },
        "id": "ul-2-Rz0YYoJ",
        "outputId": "2783b9ca-c02a-4f1b-ff55-9f77bfd1a0a1"
      },
      "source": [
        "!kaggle datasets download -d stackoverflow/stacksample"
      ],
      "execution_count": 3,
      "outputs": [
        {
          "output_type": "stream",
          "text": [
            "stacksample.zip: Skipping, found more recently modified local copy (use --force to force download)\n"
          ],
          "name": "stdout"
        }
      ]
    },
    {
      "cell_type": "code",
      "metadata": {
        "colab": {
          "base_uri": "https://localhost:8080/"
        },
        "id": "QcJcEgPiYkKq",
        "outputId": "1aa0dfc2-4630-4c30-ddd6-a151081de95c"
      },
      "source": [
        "!ls"
      ],
      "execution_count": 4,
      "outputs": [
        {
          "output_type": "stream",
          "text": [
            " Answers.csv\t    kaggle.json     sample_data       Tags.csv\n",
            "'kaggle (1).json'   Questions.csv   stacksample.zip\n"
          ],
          "name": "stdout"
        }
      ]
    },
    {
      "cell_type": "code",
      "metadata": {
        "colab": {
          "base_uri": "https://localhost:8080/"
        },
        "id": "Cpa9wX4uYqgK",
        "outputId": "8959a4ca-1086-4dd5-9f82-95805d723da7"
      },
      "source": [
        "!unzip stacksample.zip"
      ],
      "execution_count": 5,
      "outputs": [
        {
          "output_type": "stream",
          "text": [
            "Archive:  stacksample.zip\n",
            "replace Answers.csv? [y]es, [n]o, [A]ll, [N]one, [r]ename: y\n",
            "  inflating: Answers.csv             \n",
            "\n",
            "replace Questions.csv? [y]es, [n]o, [A]ll, [N]one, [r]ename: error:  invalid response [{ENTER}]\n",
            "replace Questions.csv? [y]es, [n]o, [A]ll, [N]one, [r]ename: y\n",
            "  inflating: Questions.csv           \n",
            "replace Tags.csv? [y]es, [n]o, [A]ll, [N]one, [r]ename: y\n",
            "  inflating: Tags.csv                \n"
          ],
          "name": "stdout"
        }
      ]
    },
    {
      "cell_type": "code",
      "metadata": {
        "id": "Qrvig5brYtzz"
      },
      "source": [
        "import numpy as np # linear algebra\n",
        "import pandas as pd # data processing, CSV file I/O (e.g. pd.read_csv)\n",
        "import os"
      ],
      "execution_count": 6,
      "outputs": []
    },
    {
      "cell_type": "code",
      "metadata": {
        "id": "hLcNTpKWZOY1"
      },
      "source": [
        "questions = pd.read_csv('Questions.csv',encoding=\"ISO-8859-1\")\n",
        "tags = pd.read_csv('Tags.csv', encoding=\"ISO-8859-1\")"
      ],
      "execution_count": 7,
      "outputs": []
    },
    {
      "cell_type": "code",
      "metadata": {
        "colab": {
          "base_uri": "https://localhost:8080/"
        },
        "id": "EnAC2H_FZQ3K",
        "outputId": "e39e7849-cbbb-4e41-88cc-c0d2f3ea37e9"
      },
      "source": [
        "#Question Structure\n",
        "idx = 8965\n",
        "Id = questions.Id[idx]\n",
        "title = questions.Title[idx]\n",
        "body = questions.Body[idx]\n",
        "score = questions.Score[idx]\n",
        "print(\"ID :\",Id)\n",
        "print(\"Title :\", title)\n",
        "print(\"Body :\", body)\n",
        "curr_tags = tags[tags.Id == Id]['Tag']\n",
        "tags_str = \", \".join(curr_tags.tolist())\n",
        "print(\"Score :\",score)\n",
        "print(\"Tags :\", tags_str)"
      ],
      "execution_count": 8,
      "outputs": [
        {
          "output_type": "stream",
          "text": [
            "ID : 584870\n",
            "Title : Why âNo database selectedâ SQLException?\n",
            "Body : <p>why this program is not executing when it goes in to the do while loop second time and why it is giving the exception \"Exception java.sql.SQLException: [MySQL][ODBC 5.1 Driver][mysqld-5.0.51a-community-nt]No database selected\"</p>\n",
            "\n",
            "<pre><code>//import java.io.InputStream;\n",
            "import java.sql.Connection;\n",
            "import java.sql.DriverManager;\n",
            "import java.sql.ResultSet;\n",
            "import java.sql.SQLException;\n",
            "import java.sql.Statement;\n",
            "import java.util.Scanner;\n",
            "import java.util.Vector;\n",
            "\n",
            "public class DataBase {\n",
            "\n",
            "    public void LoadDriver() {\n",
            "\n",
            "        // Load the JDBC-ODBC bridge driver\n",
            "        try {\n",
            "            Class.forName(\"sun.jdbc.odbc.JdbcOdbcDriver\");\n",
            "        } catch (ClassNotFoundException ee) {\n",
            "            ee.printStackTrace();\n",
            "        }\n",
            "    }\n",
            "\n",
            "    // 2.open a data source name by means of the jdbcodbcdriver.\n",
            "\n",
            "    static void connect() throws SQLException {\n",
            "\n",
            "        // Connect to the database\n",
            "        Connection con = DriverManager.getConnection(\"jdbc:odbc:MySQL\", \"root\", \"admin\");\n",
            "        Statement stmt = con.createStatement();\n",
            "        // Shut off autocommit\n",
            "        con.setAutoCommit(false);\n",
            "\n",
            "\n",
            "        System.out.println(\"1.Insert 2.Delete 3.Update 4.Select\");\n",
            "        Scanner s = new Scanner(System.in);\n",
            "        int x;\n",
            "        x = s.nextInt();\n",
            "\n",
            "        String query; // SQL select string\n",
            "        ResultSet rs; // SQL query results\n",
            "        boolean more; // \"more rows found\" switch\n",
            "        String v1, v2; // Temporary storage results\n",
            "\n",
            "        Vector&lt;Object&gt; results = new Vector&lt;Object&gt;(10);\n",
            "\n",
            "\n",
            "        if (x == 1) {\n",
            "\n",
            "            try {\n",
            "                stmt.executeUpdate(\"INSERT INTO employee( emp_id,emp_name ) VALUES ( '122','shiva' ) \");\n",
            "            } catch(Exception e){System.out.println(\"Exception \" +e);e.printStackTrace();}\n",
            "        }\n",
            "\n",
            "        if (x == 2) {\n",
            "\n",
            "            try {\n",
            "                stmt.executeUpdate(\"DELETE from employee where emp_id='102' \");\n",
            "            }catch(Exception e){System.out.println(\"Exception \"+e);e.printStackTrace();} \n",
            "        }\n",
            "\n",
            "        if (x == 3) {\n",
            "\n",
            "            try {\n",
            "                stmt\n",
            "                        .executeUpdate(\"UPDATE employee SET emp_name = 'madavan' where emp_id='20'; \");\n",
            "            } catch(Exception e){System.out.println(\"Exception \"+e);e.printStackTrace();} \n",
            "        }\n",
            "\n",
            "\n",
            "        query = \"SELECT * FROM employee \";\n",
            "        try {\n",
            "            rs = stmt.executeQuery(query);\n",
            "            // Check to see if any rows were read\n",
            "            more = rs.next();\n",
            "            if (!more) {\n",
            "\n",
            "                System.out.println(\"No rows found.\");\n",
            "                return;\n",
            "            }\n",
            "\n",
            "            // Loop through the rows retrieved from the query\n",
            "            while (more) {\n",
            "\n",
            "                v1 = \"ID: \" + rs.getInt(\"emp_id\");\n",
            "                v2 = \"Name: \" + rs.getString(\"emp_name\");\n",
            "\n",
            "                System.out.println(v1);\n",
            "                System.out.println(v2);\n",
            "                System.out.println(\"\");\n",
            "\n",
            "                results.addElement(v1 + \"\\n\" + v2 + \"\\n\");\n",
            "\n",
            "                more = rs.next();\n",
            "            }\n",
            "            rs.close();\n",
            "\n",
            "        } catch (SQLException e) {\n",
            "            System.out.println(\"\" + results.size() + \"results where found.\");\n",
            "        } \n",
            "        finally{stmt.close();}\n",
            "    }\n",
            "\n",
            "    public static void main(String[] args) throws SQLException {\n",
            "        String str = \"y\";\n",
            "        do {\n",
            "            DataBase s = new DataBase();\n",
            "            s.LoadDriver();\n",
            "            DataBase.connect();\n",
            "        Scanner sc = new Scanner(System.in);\n",
            "        System.out.println(\"DO u Want to PROCEED TO QUERY : \");\n",
            "        str = sc.next();\n",
            "        } while (str !=\"n\");\n",
            "    }\n",
            "\n",
            "}\n",
            "</code></pre>\n",
            "\n",
            "Score : 6\n",
            "Tags : java, jdbc\n"
          ],
          "name": "stdout"
        }
      ]
    },
    {
      "cell_type": "code",
      "metadata": {
        "id": "ZrfisGjVZqNo"
      },
      "source": [
        "import re\n",
        "from nltk.corpus import stopwords\n",
        "from nltk.stem.snowball import SnowballStemmer\n",
        "from datetime import datetime\n",
        "from nltk.tokenize import word_tokenize\n",
        "from sklearn.model_selection import train_test_split\n",
        "from sklearn.feature_extraction.text import TfidfVectorizer\n",
        "\n",
        "stop_words = set(stopwords.words('english'))\n",
        "stemmer = SnowballStemmer(\"english\")"
      ],
      "execution_count": 9,
      "outputs": []
    },
    {
      "cell_type": "code",
      "metadata": {
        "colab": {
          "base_uri": "https://localhost:8080/"
        },
        "id": "-j7NlEfaZ1l8",
        "outputId": "6bebf512-e2f8-4991-b69d-8c0285b242d4"
      },
      "source": [
        "def removeHtmlTags(data):\n",
        "    cleaner = re.compile('<.*?>')\n",
        "    clean_text = re.sub(cleaner,\" \",str(data))\n",
        "    return clean_text\n",
        "sent = \"<html><p>hello world</p></html>\"\n",
        "rece = removeHtmlTags(sent)\n",
        "print(rece)"
      ],
      "execution_count": 10,
      "outputs": [
        {
          "output_type": "stream",
          "text": [
            "  hello world  \n"
          ],
          "name": "stdout"
        }
      ]
    },
    {
      "cell_type": "code",
      "metadata": {
        "id": "wSLYy6YzZ_Js"
      },
      "source": [
        "preprossed_data = []\n",
        "questions_proccesed = 0"
      ],
      "execution_count": 11,
      "outputs": []
    },
    {
      "cell_type": "code",
      "metadata": {
        "colab": {
          "base_uri": "https://localhost:8080/"
        },
        "id": "fc9CaU8naKJL",
        "outputId": "3c5bf852-8371-47d7-fd69-f2a314f45c63"
      },
      "source": [
        "start = datetime.now()\n",
        "questions_with_code=0\n",
        "for i in range(len(questions)):\n",
        "    is_code = 0\n",
        "\n",
        "    title = questions['Title'][i]\n",
        "    question = questions['Body'][i]\n",
        "    score = questions['Score'][i]\n",
        "    \n",
        "    if '<code>' in question:\n",
        "        questions_with_code+=1\n",
        "        is_code = 1\n",
        "    x = len(question)+len(title)\n",
        "\n",
        "    code = str(re.findall(r'<code>(.*?)</code>', question, flags=re.DOTALL))\n",
        "\n",
        "    question=re.sub('<code>(.*?)</code>', '', question, flags=re.MULTILINE|re.DOTALL)\n",
        "    question=removeHtmlTags(question.encode('utf-8'))\n",
        "\n",
        "    title=title.encode('utf-8')\n",
        "\n",
        "    question=str(title)+\" \"+str(question)\n",
        "    question=re.sub(r'[^A-Za-z]+',' ',question)\n",
        "    words=word_tokenize(str(question.lower()))\n",
        "    question=' '.join(str(stemmer.stem(j)) for j in words if j not in stop_words and (len(j)!=1 or j=='c'))\n",
        "    tup = (question,code,is_code,score)\n",
        "    preprossed_data.append(tup)\n",
        "    questions_proccesed += 1\n",
        "    if (questions_proccesed%10000==0):\n",
        "        print(\"number of questions completed=\",questions_proccesed)\n",
        "    \n",
        "print(\"Time take to execute this cell \", datetime.now()-start)"
      ],
      "execution_count": 12,
      "outputs": [
        {
          "output_type": "stream",
          "text": [
            "number of questions completed= 10000\n",
            "number of questions completed= 20000\n",
            "number of questions completed= 30000\n",
            "number of questions completed= 40000\n",
            "number of questions completed= 50000\n",
            "number of questions completed= 60000\n",
            "number of questions completed= 70000\n",
            "number of questions completed= 80000\n",
            "number of questions completed= 90000\n",
            "number of questions completed= 100000\n",
            "number of questions completed= 110000\n",
            "number of questions completed= 120000\n",
            "number of questions completed= 130000\n",
            "number of questions completed= 140000\n",
            "number of questions completed= 150000\n",
            "number of questions completed= 160000\n",
            "number of questions completed= 170000\n",
            "number of questions completed= 180000\n",
            "number of questions completed= 190000\n",
            "number of questions completed= 200000\n",
            "number of questions completed= 210000\n",
            "number of questions completed= 220000\n",
            "number of questions completed= 230000\n",
            "number of questions completed= 240000\n",
            "number of questions completed= 250000\n",
            "number of questions completed= 260000\n",
            "number of questions completed= 270000\n",
            "number of questions completed= 280000\n",
            "number of questions completed= 290000\n",
            "number of questions completed= 300000\n",
            "number of questions completed= 310000\n",
            "number of questions completed= 320000\n",
            "number of questions completed= 330000\n",
            "number of questions completed= 340000\n",
            "number of questions completed= 350000\n",
            "number of questions completed= 360000\n",
            "number of questions completed= 370000\n",
            "number of questions completed= 380000\n",
            "number of questions completed= 390000\n",
            "number of questions completed= 400000\n",
            "number of questions completed= 410000\n",
            "number of questions completed= 420000\n",
            "number of questions completed= 430000\n",
            "number of questions completed= 440000\n",
            "number of questions completed= 450000\n",
            "number of questions completed= 460000\n",
            "number of questions completed= 470000\n",
            "number of questions completed= 480000\n",
            "number of questions completed= 490000\n",
            "number of questions completed= 500000\n",
            "number of questions completed= 510000\n",
            "number of questions completed= 520000\n",
            "number of questions completed= 530000\n",
            "number of questions completed= 540000\n",
            "number of questions completed= 550000\n",
            "number of questions completed= 560000\n",
            "number of questions completed= 570000\n",
            "number of questions completed= 580000\n",
            "number of questions completed= 590000\n",
            "number of questions completed= 600000\n",
            "number of questions completed= 610000\n",
            "number of questions completed= 620000\n",
            "number of questions completed= 630000\n",
            "number of questions completed= 640000\n",
            "number of questions completed= 650000\n",
            "number of questions completed= 660000\n",
            "number of questions completed= 670000\n",
            "number of questions completed= 680000\n",
            "number of questions completed= 690000\n",
            "number of questions completed= 700000\n",
            "number of questions completed= 710000\n",
            "number of questions completed= 720000\n",
            "number of questions completed= 730000\n",
            "number of questions completed= 740000\n",
            "number of questions completed= 750000\n",
            "number of questions completed= 760000\n",
            "number of questions completed= 770000\n",
            "number of questions completed= 780000\n",
            "number of questions completed= 790000\n",
            "number of questions completed= 800000\n",
            "number of questions completed= 810000\n",
            "number of questions completed= 820000\n",
            "number of questions completed= 830000\n",
            "number of questions completed= 840000\n",
            "number of questions completed= 850000\n",
            "number of questions completed= 860000\n",
            "number of questions completed= 870000\n",
            "number of questions completed= 880000\n",
            "number of questions completed= 890000\n",
            "number of questions completed= 900000\n",
            "number of questions completed= 910000\n",
            "number of questions completed= 920000\n",
            "number of questions completed= 930000\n",
            "number of questions completed= 940000\n",
            "number of questions completed= 950000\n",
            "number of questions completed= 960000\n",
            "number of questions completed= 970000\n",
            "number of questions completed= 980000\n",
            "number of questions completed= 990000\n",
            "number of questions completed= 1000000\n",
            "number of questions completed= 1010000\n",
            "number of questions completed= 1020000\n",
            "number of questions completed= 1030000\n",
            "number of questions completed= 1040000\n",
            "number of questions completed= 1050000\n",
            "number of questions completed= 1060000\n",
            "number of questions completed= 1070000\n",
            "number of questions completed= 1080000\n",
            "number of questions completed= 1090000\n",
            "number of questions completed= 1100000\n",
            "number of questions completed= 1110000\n",
            "number of questions completed= 1120000\n",
            "number of questions completed= 1130000\n",
            "number of questions completed= 1140000\n",
            "number of questions completed= 1150000\n",
            "number of questions completed= 1160000\n",
            "number of questions completed= 1170000\n",
            "number of questions completed= 1180000\n",
            "number of questions completed= 1190000\n",
            "number of questions completed= 1200000\n",
            "number of questions completed= 1210000\n",
            "number of questions completed= 1220000\n",
            "number of questions completed= 1230000\n",
            "number of questions completed= 1240000\n",
            "number of questions completed= 1250000\n",
            "number of questions completed= 1260000\n",
            "Time take to execute this cell  0:22:56.708905\n"
          ],
          "name": "stdout"
        }
      ]
    },
    {
      "cell_type": "code",
      "metadata": {
        "id": "x99t9rZGaNWC"
      },
      "source": [
        "df = pd.DataFrame(preprossed_data[:100000], columns =['question', 'code', 'is_code','score'])"
      ],
      "execution_count": 13,
      "outputs": []
    },
    {
      "cell_type": "code",
      "metadata": {
        "colab": {
          "base_uri": "https://localhost:8080/",
          "height": 204
        },
        "id": "95L0FE23aQXI",
        "outputId": "1d6e991b-a278-4fee-d9f6-57720fdbbaa9"
      },
      "source": [
        "df.head()"
      ],
      "execution_count": 14,
      "outputs": [
        {
          "output_type": "execute_result",
          "data": {
            "text/html": [
              "<div>\n",
              "<style scoped>\n",
              "    .dataframe tbody tr th:only-of-type {\n",
              "        vertical-align: middle;\n",
              "    }\n",
              "\n",
              "    .dataframe tbody tr th {\n",
              "        vertical-align: top;\n",
              "    }\n",
              "\n",
              "    .dataframe thead th {\n",
              "        text-align: right;\n",
              "    }\n",
              "</style>\n",
              "<table border=\"1\" class=\"dataframe\">\n",
              "  <thead>\n",
              "    <tr style=\"text-align: right;\">\n",
              "      <th></th>\n",
              "      <th>question</th>\n",
              "      <th>code</th>\n",
              "      <th>is_code</th>\n",
              "      <th>score</th>\n",
              "    </tr>\n",
              "  </thead>\n",
              "  <tbody>\n",
              "    <tr>\n",
              "      <th>0</th>\n",
              "      <td>sqlstatement execut multipl queri one statemen...</td>\n",
              "      <td>['Create Table tRole (\\n      roleID integer P...</td>\n",
              "      <td>1</td>\n",
              "      <td>26</td>\n",
              "    </tr>\n",
              "    <tr>\n",
              "      <th>1</th>\n",
              "      <td>good branch merg tutori tortoisesvn realli goo...</td>\n",
              "      <td>[]</td>\n",
              "      <td>0</td>\n",
              "      <td>144</td>\n",
              "    </tr>\n",
              "    <tr>\n",
              "      <th>2</th>\n",
              "      <td>asp net site map anyon got experi creat sql ba...</td>\n",
              "      <td>['web.sitemap', 'ASP.NET']</td>\n",
              "      <td>1</td>\n",
              "      <td>21</td>\n",
              "    </tr>\n",
              "    <tr>\n",
              "      <th>3</th>\n",
              "      <td>function creat color wheel someth pseudo solv ...</td>\n",
              "      <td>['N', 'N']</td>\n",
              "      <td>1</td>\n",
              "      <td>53</td>\n",
              "    </tr>\n",
              "    <tr>\n",
              "      <th>4</th>\n",
              "      <td>ad script function net applic littl game writt...</td>\n",
              "      <td>['ICard', 'public class Card056 : ICard', 'ICa...</td>\n",
              "      <td>1</td>\n",
              "      <td>49</td>\n",
              "    </tr>\n",
              "  </tbody>\n",
              "</table>\n",
              "</div>"
            ],
            "text/plain": [
              "                                            question  ... score\n",
              "0  sqlstatement execut multipl queri one statemen...  ...    26\n",
              "1  good branch merg tutori tortoisesvn realli goo...  ...   144\n",
              "2  asp net site map anyon got experi creat sql ba...  ...    21\n",
              "3  function creat color wheel someth pseudo solv ...  ...    53\n",
              "4  ad script function net applic littl game writt...  ...    49\n",
              "\n",
              "[5 rows x 4 columns]"
            ]
          },
          "metadata": {
            "tags": []
          },
          "execution_count": 14
        }
      ]
    },
    {
      "cell_type": "code",
      "metadata": {
        "colab": {
          "base_uri": "https://localhost:8080/"
        },
        "id": "zqq0GB9fH50y",
        "outputId": "1ed79c9b-26d1-499a-946e-54b784fd8947"
      },
      "source": [
        "#How score depends on Code\n",
        "print(df['is_code'].value_counts())"
      ],
      "execution_count": 24,
      "outputs": [
        {
          "output_type": "stream",
          "text": [
            "1    52010\n",
            "0    47990\n",
            "Name: is_code, dtype: int64\n"
          ],
          "name": "stdout"
        }
      ]
    },
    {
      "cell_type": "code",
      "metadata": {
        "id": "FiSc0NbVIdNy"
      },
      "source": [
        "import matplotlib.pyplot as plt\n",
        "import seaborn as sns"
      ],
      "execution_count": 25,
      "outputs": []
    },
    {
      "cell_type": "code",
      "metadata": {
        "colab": {
          "base_uri": "https://localhost:8080/",
          "height": 297
        },
        "id": "LnB0tPmwIkDC",
        "outputId": "cd666c33-6403-4cdf-d7a6-a976783cf386"
      },
      "source": [
        "sns.scatterplot(x = df['is_code'],y = df['score'])"
      ],
      "execution_count": 26,
      "outputs": [
        {
          "output_type": "execute_result",
          "data": {
            "text/plain": [
              "<matplotlib.axes._subplots.AxesSubplot at 0x7f974c628ba8>"
            ]
          },
          "metadata": {
            "tags": []
          },
          "execution_count": 26
        },
        {
          "output_type": "display_data",
          "data": {
            "image/png": "[encoded data removed]",
            "text/plain": [
              "<Figure size 432x288 with 1 Axes>"
            ]
          },
          "metadata": {
            "tags": [],
            "needs_background": "light"
          }
        }
      ]
    },
    {
      "cell_type": "code",
      "metadata": {
        "colab": {
          "base_uri": "https://localhost:8080/"
        },
        "id": "3Isz50hpI-Im",
        "outputId": "4958e725-75b0-45c1-9663-3fc467659120"
      },
      "source": [
        "upvotes = [5,10,50,1000,1000,2000]\n",
        "for vote in upvotes:\n",
        "    print(\"Has Code ( votes above  {}) ==>\".format(vote),len(df[(df['score'] > vote) & (df['is_code']==1)]))\n",
        "    print(\"Does not have Code (votes above  {}) ==>\".format(vote),len(df[(df['score'] > vote) & (df['is_code']==0)]))\n",
        "    print()"
      ],
      "execution_count": 44,
      "outputs": [
        {
          "output_type": "stream",
          "text": [
            "Has Code ( votes above  5) ==> 10507\n",
            "Does not have Code (votes above  5) ==> 9414\n",
            "\n",
            "Has Code ( votes above  10) ==> 5915\n",
            "Does not have Code (votes above  10) ==> 5107\n",
            "\n",
            "Has Code ( votes above  50) ==> 1272\n",
            "Does not have Code (votes above  50) ==> 892\n",
            "\n",
            "Has Code ( votes above  1000) ==> 16\n",
            "Does not have Code (votes above  1000) ==> 6\n",
            "\n",
            "Has Code ( votes above  1000) ==> 16\n",
            "Does not have Code (votes above  1000) ==> 6\n",
            "\n",
            "Has Code ( votes above  2000) ==> 4\n",
            "Does not have Code (votes above  2000) ==> 1\n",
            "\n"
          ],
          "name": "stdout"
        }
      ]
    },
    {
      "cell_type": "markdown",
      "metadata": {
        "id": "zQhZ8zyuLL_T"
      },
      "source": [
        "Having code does not make much of a diffrence to the score"
      ]
    },
    {
      "cell_type": "code",
      "metadata": {
        "id": "lbq-97JDfljW"
      },
      "source": [
        "X = df.drop('score',axis = 1)\n",
        "y = df['score']\n",
        "X_train, X_test, y_train, y_test = train_test_split(X, y, test_size=0.2, random_state=42)"
      ],
      "execution_count": 15,
      "outputs": []
    },
    {
      "cell_type": "code",
      "metadata": {
        "colab": {
          "base_uri": "https://localhost:8080/"
        },
        "id": "SDgNXLSLfqCy",
        "outputId": "e38bbf02-8a16-45d3-d06e-7cdd7909529f"
      },
      "source": [
        "start = datetime.now()\n",
        "vectorizer = TfidfVectorizer(min_df=0.00009, max_features=20000, smooth_idf=True, norm=\"l2\", \\\n",
        "                             tokenizer = lambda x: x.split(), sublinear_tf=False, ngram_range=(1,3))\n",
        "x_train_multilabel = vectorizer.fit_transform(X_train['question'])\n",
        "x_test_multilabel = vectorizer.transform(X_test['question'])\n",
        "print(\"Time taken to run this cell :\", datetime.now() - start)"
      ],
      "execution_count": 16,
      "outputs": [
        {
          "output_type": "stream",
          "text": [
            "Time taken to run this cell : 0:00:34.354631\n"
          ],
          "name": "stdout"
        }
      ]
    },
    {
      "cell_type": "code",
      "metadata": {
        "id": "HnjCPfaXf7Kg"
      },
      "source": [
        "from sklearn.svm import SVR\n",
        "clf  = SVR()"
      ],
      "execution_count": 17,
      "outputs": []
    },
    {
      "cell_type": "code",
      "metadata": {
        "id": "k-daYdN4hC3N",
        "colab": {
          "base_uri": "https://localhost:8080/"
        },
        "outputId": "f603831b-b709-42a5-ad22-4b37c6a0c188"
      },
      "source": [
        "clf.fit(x_train_multilabel,y_train)"
      ],
      "execution_count": 18,
      "outputs": [
        {
          "output_type": "execute_result",
          "data": {
            "text/plain": [
              "SVR(C=1.0, cache_size=200, coef0=0.0, degree=3, epsilon=0.1, gamma='scale',\n",
              "    kernel='rbf', max_iter=-1, shrinking=True, tol=0.001, verbose=False)"
            ]
          },
          "metadata": {
            "tags": []
          },
          "execution_count": 18
        }
      ]
    },
    {
      "cell_type": "code",
      "metadata": {
        "id": "8hzBJ5DEhIW5"
      },
      "source": [
        "y_pred = clf.predict(x_test_multilabel)"
      ],
      "execution_count": 19,
      "outputs": []
    },
    {
      "cell_type": "code",
      "metadata": {
        "id": "jlQSShk_BjGp"
      },
      "source": [
        "from sklearn.metrics import mean_squared_error\n",
        "from sklearn import metrics"
      ],
      "execution_count": 48,
      "outputs": []
    },
    {
      "cell_type": "code",
      "metadata": {
        "colab": {
          "base_uri": "https://localhost:8080/"
        },
        "id": "QVA6A6z3Gxnm",
        "outputId": "b92a93f4-d47c-4127-9205-3c685b44911a"
      },
      "source": [
        "mean_squared_error(y_test,y_pred, squared= False)"
      ],
      "execution_count": 45,
      "outputs": [
        {
          "output_type": "execute_result",
          "data": {
            "text/plain": [
              "43.29032441366408"
            ]
          },
          "metadata": {
            "tags": []
          },
          "execution_count": 45
        }
      ]
    },
    {
      "cell_type": "code",
      "metadata": {
        "colab": {
          "base_uri": "https://localhost:8080/",
          "height": 282
        },
        "id": "8oJfsL4kL_wT",
        "outputId": "d16aa111-ff50-489e-e0b4-3da1b95ccf40"
      },
      "source": [
        "plt.scatter(y_test,y_pred)"
      ],
      "execution_count": 46,
      "outputs": [
        {
          "output_type": "execute_result",
          "data": {
            "text/plain": [
              "<matplotlib.collections.PathCollection at 0x7f9752fbb828>"
            ]
          },
          "metadata": {
            "tags": []
          },
          "execution_count": 46
        },
        {
          "output_type": "display_data",
          "data": {
            "image/png": "[encoded data removed]",
            "text/plain": [
              "<Figure size 432x288 with 1 Axes>"
            ]
          },
          "metadata": {
            "tags": [],
            "needs_background": "light"
          }
        }
      ]
    },
    {
      "cell_type": "code",
      "metadata": {
        "colab": {
          "base_uri": "https://localhost:8080/",
          "height": 333
        },
        "id": "3Ve3M-6zMG98",
        "outputId": "5c45c517-a8d3-475c-c45a-7828dc581424"
      },
      "source": [
        "sns.distplot((y_test- y_pred),bins=50);"
      ],
      "execution_count": 47,
      "outputs": [
        {
          "output_type": "stream",
          "text": [
            "/usr/local/lib/python3.6/dist-packages/seaborn/distributions.py:2551: FutureWarning: `distplot` is a deprecated function and will be removed in a future version. Please adapt your code to use either `displot` (a figure-level function with similar flexibility) or `histplot` (an axes-level function for histograms).\n",
            "  warnings.warn(msg, FutureWarning)\n"
          ],
          "name": "stderr"
        },
        {
          "output_type": "display_data",
          "data": {
            "image/png": "[encoded data removed]",
            "text/plain": [
              "<Figure size 432x288 with 1 Axes>"
            ]
          },
          "metadata": {
            "tags": [],
            "needs_background": "light"
          }
        }
      ]
    },
    {
      "cell_type": "code",
      "metadata": {
        "colab": {
          "base_uri": "https://localhost:8080/"
        },
        "id": "3F-f2LjYMTSz",
        "outputId": "9eec684a-652b-43d2-e6db-063cf072d2a3"
      },
      "source": [
        "print('MAE:', metrics.mean_absolute_error(y_test, y_pred))\n",
        "print('MSE:', metrics.mean_squared_error(y_test, y_pred))\n",
        "print('RMSE:', np.sqrt(metrics.mean_squared_error(y_test, y_pred)))"
      ],
      "execution_count": 50,
      "outputs": [
        {
          "output_type": "stream",
          "text": [
            "MAE: 6.563335075563222\n",
            "MSE: 1874.0521878402803\n",
            "RMSE: 43.29032441366408\n"
          ],
          "name": "stdout"
        }
      ]
    },
    {
      "cell_type": "code",
      "metadata": {
        "id": "VU6EEQAnMilY"
      },
      "source": [
        ""
      ],
      "execution_count": null,
      "outputs": []
    }
  ]
}