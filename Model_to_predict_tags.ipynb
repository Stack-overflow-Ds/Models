{
  "nbformat": 4,
  "nbformat_minor": 0,
  "metadata": {
    "colab": {
      "name": "DataScience.ipynb",
      "provenance": [],
      "collapsed_sections": [],
      "toc_visible": true
    },
    "kernelspec": {
      "display_name": "Python 3",
      "name": "python3"
    }
  },
  "cells": [
    {
      "cell_type": "code",
      "metadata": {
        "id": "S9MToH6i_OyP"
      },
      "source": [
        "from google.colab import files\n",
        "files.upload()"
      ],
      "execution_count": null,
      "outputs": []
    },
    {
      "cell_type": "code",
      "metadata": {
        "colab": {
          "base_uri": "https://localhost:8080/"
        },
        "id": "ujMq3Iv6_12A",
        "outputId": "d7b605a3-4316-4bff-a3ad-dba9009fb0e9"
      },
      "source": [
        "!pip install -q kaggle\n",
        "! mkdir ~/.kaggle\n",
        "! cp kaggle.json ~/.kaggle/\n",
        "! chmod 600 ~/.kaggle/kaggle.json\n",
        "!kaggle datasets list"
      ],
      "execution_count": 2,
      "outputs": [
        {
          "output_type": "stream",
          "text": [
            "mkdir: cannot create directory ‘/root/.kaggle’: File exists\n",
            "Warning: Looks like you're using an outdated API Version, please consider updating (server 1.5.10 / client 1.5.4)\n",
            "ref                                                          title                                           size  lastUpdated          downloadCount  \n",
            "-----------------------------------------------------------  ---------------------------------------------  -----  -------------------  -------------  \n",
            "szymonjanowski/internet-articles-data-with-users-engagement  Internet news data with readers engagement       3MB  2020-11-21 17:09:57           3259  \n",
            "sakshigoyal7/credit-card-customers                           Credit Card customers                          379KB  2020-11-19 07:38:44          11251  \n",
            "imoore/2020-us-general-election-turnout-rates                2020 US General Election Turnout rates           4KB  2020-11-26 00:21:15           3456  \n",
            "afrniomelo/3w-dataset                                        3W Dataset - Undesirable events in oil wells   658MB  2020-11-21 21:22:49            503  \n",
            "arashnic/hr-analytics-job-change-of-data-scientists          HR Analytics: Job Change of Data Scientists    295KB  2020-12-07 00:25:10            153  \n",
            "arioboo/clumps-in-vela-galaxy-images                         Clumps in VELA galaxy images                     8MB  2020-11-23 13:42:09            315  \n",
            "patrickb1912/ipl-complete-dataset-20082020                   IPL Complete Dataset (2008-2020)                 1MB  2020-11-23 06:53:37           2482  \n",
            "mrmorj/us-politicians-twitter-dataset                        US Politicians Twitter Dataset                  68KB  2020-11-23 09:54:05            982  \n",
            "shivamb/netflix-shows                                        Netflix Movies and TV Shows                    971KB  2020-01-20 07:33:56          75933  \n",
            "babyoda/women-entrepreneurship-and-labor-force               Women Entrepreneurship and Labor Force           1KB  2020-11-21 08:38:51           4945  \n",
            "alexgude/california-traffic-collision-data-from-switrs       California Traffic Collision Data from SWITRS    1GB  2020-11-22 16:51:55           2051  \n",
            "manchunhui/us-election-2020-tweets                           US Election 2020 Tweets                        353MB  2020-11-09 18:51:59           5290  \n",
            "sootersaalu/amazon-top-50-bestselling-books-2009-2019        Amazon Top 50 Bestselling Books 2009 - 2019     15KB  2020-10-13 09:39:21          10152  \n",
            "nehaprabhavalkar/indian-food-101                             Indian Food 101                                  7KB  2020-09-30 06:23:43          10224  \n",
            "datasnaek/youtube-new                                        Trending YouTube Video Statistics              201MB  2019-06-03 00:56:47         121569  \n",
            "zynicide/wine-reviews                                        Wine Reviews                                    51MB  2017-11-27 17:08:04         123694  \n",
            "google/tinyquickdraw                                         QuickDraw Sketches                              11GB  2018-04-18 19:38:04           2647  \n",
            "terenceshin/covid19s-impact-on-airport-traffic               COVID-19's Impact on Airport Traffic           125KB  2020-12-18 03:41:54           8847  \n",
            "karangadiya/fifa19                                           FIFA 19 complete player dataset                  2MB  2018-12-21 03:52:59         109718  \n",
            "datasnaek/chess                                              Chess Game Dataset (Lichess)                     3MB  2017-09-04 03:09:09          12674  \n"
          ],
          "name": "stdout"
        }
      ]
    },
    {
      "cell_type": "code",
      "metadata": {
        "colab": {
          "base_uri": "https://localhost:8080/"
        },
        "id": "u193IDVm_-UX",
        "outputId": "d68d228a-080e-49e7-d72e-2982e5f28ef8"
      },
      "source": [
        "!kaggle datasets download -d stackoverflow/stacksample"
      ],
      "execution_count": 3,
      "outputs": [
        {
          "output_type": "stream",
          "text": [
            "stacksample.zip: Skipping, found more recently modified local copy (use --force to force download)\n"
          ],
          "name": "stdout"
        }
      ]
    },
    {
      "cell_type": "code",
      "metadata": {
        "colab": {
          "base_uri": "https://localhost:8080/"
        },
        "id": "FvJu7J7lACSS",
        "outputId": "abd745c3-d71f-43c4-b343-d6af2662b868"
      },
      "source": [
        "!unzip stacksample.zip"
      ],
      "execution_count": 4,
      "outputs": [
        {
          "output_type": "stream",
          "text": [
            "Archive:  stacksample.zip\n",
            "replace Answers.csv? [y]es, [n]o, [A]ll, [N]one, [r]ename: y\n",
            "  inflating: Answers.csv             y\n",
            "y\n",
            "\n",
            "replace Questions.csv? [y]es, [n]o, [A]ll, [N]one, [r]ename:   inflating: Questions.csv           y\n",
            "\n",
            "replace Tags.csv? [y]es, [n]o, [A]ll, [N]one, [r]ename:   inflating: Tags.csv                \n"
          ],
          "name": "stdout"
        }
      ]
    },
    {
      "cell_type": "code",
      "metadata": {
        "colab": {
          "base_uri": "https://localhost:8080/"
        },
        "id": "DKU9wf4zEZ7-",
        "outputId": "e43339e0-6bc8-4272-ba32-e56fcc147102"
      },
      "source": [
        "import nltk\n",
        "nltk.download('stopwords')\n",
        "nltk.download('punkt')"
      ],
      "execution_count": 5,
      "outputs": [
        {
          "output_type": "stream",
          "text": [
            "[nltk_data] Downloading package stopwords to /root/nltk_data...\n",
            "[nltk_data]   Package stopwords is already up-to-date!\n",
            "[nltk_data] Downloading package punkt to /root/nltk_data...\n",
            "[nltk_data]   Package punkt is already up-to-date!\n"
          ],
          "name": "stdout"
        },
        {
          "output_type": "execute_result",
          "data": {
            "text/plain": [
              "True"
            ]
          },
          "metadata": {
            "tags": []
          },
          "execution_count": 5
        }
      ]
    },
    {
      "cell_type": "markdown",
      "metadata": {
        "id": "ZqcLKAVGKyqQ"
      },
      "source": [
        "# Imports"
      ]
    },
    {
      "cell_type": "code",
      "metadata": {
        "id": "0ytV8sfsAZH3"
      },
      "source": [
        "# IMPORTS\n",
        "import numpy as np\n",
        "import pandas as pd\n",
        "import matplotlib.pyplot as plt\n",
        "import seaborn as sns\n",
        "from sklearn.feature_extraction.text import CountVectorizer\n",
        "\n",
        "import re\n",
        "from nltk.corpus import stopwords\n",
        "from nltk.stem.snowball import SnowballStemmer\n",
        "from datetime import datetime\n",
        "from nltk.tokenize import word_tokenize\n",
        "from sklearn.model_selection import train_test_split\n",
        "from sklearn.feature_extraction.text import TfidfVectorizer\n",
        "stop_words = set(stopwords.words('english'))\n",
        "stemmer = SnowballStemmer(\"english\")\n",
        "\n",
        "from sklearn.multiclass import OneVsRestClassifier\n",
        "from sklearn.linear_model import SGDClassifier\n",
        "from sklearn import metrics\n",
        "from sklearn.metrics import f1_score,precision_score,recall_score\n",
        "from sklearn import svm\n",
        "from sklearn.linear_model import LogisticRegression\n"
      ],
      "execution_count": 6,
      "outputs": []
    },
    {
      "cell_type": "code",
      "metadata": {
        "id": "Fxw_BOxkA-72"
      },
      "source": [
        "questions = pd.read_csv('Questions.csv',encoding=\"ISO-8859-1\")\n",
        "tags = pd.read_csv('Tags.csv', encoding=\"ISO-8859-1\")"
      ],
      "execution_count": 7,
      "outputs": []
    },
    {
      "cell_type": "markdown",
      "metadata": {
        "id": "l_8KULNRK1zO"
      },
      "source": [
        "# Question Structure"
      ]
    },
    {
      "cell_type": "code",
      "metadata": {
        "colab": {
          "base_uri": "https://localhost:8080/"
        },
        "id": "iZs5_ztOBKa2",
        "outputId": "62f07f19-47ae-4957-d564-bf1c79122486"
      },
      "source": [
        "#Question Structure\n",
        "idx = 800\n",
        "Id = questions.Id[idx]\n",
        "title = questions.Title[idx]\n",
        "body = questions.Body[idx]\n",
        "score = questions.Score[idx]\n",
        "print(\"ID :\",Id)\n",
        "print(\"Title :\", title)\n",
        "print(\"Body :\", body)\n",
        "curr_tags = tags[tags.Id == Id]['Tag']\n",
        "tags_str = \", \".join(curr_tags.tolist())\n",
        "print(\"Score :\",score)\n",
        "print(\"Tags :\", tags_str)"
      ],
      "execution_count": 8,
      "outputs": [
        {
          "output_type": "stream",
          "text": [
            "ID : 65800\n",
            "Title : What's the best HTML WYSISYG editor available to web developers and why?\n",
            "Body : <p>There are many different flavored HTML WYSIWYG editors from javascript to ASP.Net web controls, but all too often the features are the same.  Does anyone have a favorite HTML editor they like to use in projects?  Why?</p>\n",
            "\n",
            "Score : 12\n",
            "Tags : asp.net, javascript, html, editor, wysiwyg\n"
          ],
          "name": "stdout"
        }
      ]
    },
    {
      "cell_type": "code",
      "metadata": {
        "colab": {
          "base_uri": "https://localhost:8080/",
          "height": 359
        },
        "id": "AUeO_M6cBrTj",
        "outputId": "0e6a1a4e-23fb-4e26-cd97-a83a0d506d2a"
      },
      "source": [
        "tags.head(10)"
      ],
      "execution_count": 9,
      "outputs": [
        {
          "output_type": "execute_result",
          "data": {
            "text/html": [
              "<div>\n",
              "<style scoped>\n",
              "    .dataframe tbody tr th:only-of-type {\n",
              "        vertical-align: middle;\n",
              "    }\n",
              "\n",
              "    .dataframe tbody tr th {\n",
              "        vertical-align: top;\n",
              "    }\n",
              "\n",
              "    .dataframe thead th {\n",
              "        text-align: right;\n",
              "    }\n",
              "</style>\n",
              "<table border=\"1\" class=\"dataframe\">\n",
              "  <thead>\n",
              "    <tr style=\"text-align: right;\">\n",
              "      <th></th>\n",
              "      <th>Id</th>\n",
              "      <th>Tag</th>\n",
              "    </tr>\n",
              "  </thead>\n",
              "  <tbody>\n",
              "    <tr>\n",
              "      <th>0</th>\n",
              "      <td>80</td>\n",
              "      <td>flex</td>\n",
              "    </tr>\n",
              "    <tr>\n",
              "      <th>1</th>\n",
              "      <td>80</td>\n",
              "      <td>actionscript-3</td>\n",
              "    </tr>\n",
              "    <tr>\n",
              "      <th>2</th>\n",
              "      <td>80</td>\n",
              "      <td>air</td>\n",
              "    </tr>\n",
              "    <tr>\n",
              "      <th>3</th>\n",
              "      <td>90</td>\n",
              "      <td>svn</td>\n",
              "    </tr>\n",
              "    <tr>\n",
              "      <th>4</th>\n",
              "      <td>90</td>\n",
              "      <td>tortoisesvn</td>\n",
              "    </tr>\n",
              "    <tr>\n",
              "      <th>5</th>\n",
              "      <td>90</td>\n",
              "      <td>branch</td>\n",
              "    </tr>\n",
              "    <tr>\n",
              "      <th>6</th>\n",
              "      <td>90</td>\n",
              "      <td>branching-and-merging</td>\n",
              "    </tr>\n",
              "    <tr>\n",
              "      <th>7</th>\n",
              "      <td>120</td>\n",
              "      <td>sql</td>\n",
              "    </tr>\n",
              "    <tr>\n",
              "      <th>8</th>\n",
              "      <td>120</td>\n",
              "      <td>asp.net</td>\n",
              "    </tr>\n",
              "    <tr>\n",
              "      <th>9</th>\n",
              "      <td>120</td>\n",
              "      <td>sitemap</td>\n",
              "    </tr>\n",
              "  </tbody>\n",
              "</table>\n",
              "</div>"
            ],
            "text/plain": [
              "    Id                    Tag\n",
              "0   80                   flex\n",
              "1   80         actionscript-3\n",
              "2   80                    air\n",
              "3   90                    svn\n",
              "4   90            tortoisesvn\n",
              "5   90                 branch\n",
              "6   90  branching-and-merging\n",
              "7  120                    sql\n",
              "8  120                asp.net\n",
              "9  120                sitemap"
            ]
          },
          "metadata": {
            "tags": []
          },
          "execution_count": 9
        }
      ]
    },
    {
      "cell_type": "markdown",
      "metadata": {
        "id": "OU7lLarkK_Rx"
      },
      "source": [
        "# Merge Questions with Tags"
      ]
    },
    {
      "cell_type": "code",
      "metadata": {
        "id": "HcsznQ7bCY6b"
      },
      "source": [
        "tags = tags.groupby('Id').agg(lambda x: x.tolist())\r\n",
        "tags['Tag'] = tags['Tag'].str.join(\" \")"
      ],
      "execution_count": 10,
      "outputs": []
    },
    {
      "cell_type": "code",
      "metadata": {
        "colab": {
          "base_uri": "https://localhost:8080/",
          "height": 235
        },
        "id": "pK6xxpkfRDJs",
        "outputId": "e8addd28-94b6-413f-ed86-eb0faac0d9fc"
      },
      "source": [
        "tags.head()"
      ],
      "execution_count": 11,
      "outputs": [
        {
          "output_type": "execute_result",
          "data": {
            "text/html": [
              "<div>\n",
              "<style scoped>\n",
              "    .dataframe tbody tr th:only-of-type {\n",
              "        vertical-align: middle;\n",
              "    }\n",
              "\n",
              "    .dataframe tbody tr th {\n",
              "        vertical-align: top;\n",
              "    }\n",
              "\n",
              "    .dataframe thead th {\n",
              "        text-align: right;\n",
              "    }\n",
              "</style>\n",
              "<table border=\"1\" class=\"dataframe\">\n",
              "  <thead>\n",
              "    <tr style=\"text-align: right;\">\n",
              "      <th></th>\n",
              "      <th>Tag</th>\n",
              "    </tr>\n",
              "    <tr>\n",
              "      <th>Id</th>\n",
              "      <th></th>\n",
              "    </tr>\n",
              "  </thead>\n",
              "  <tbody>\n",
              "    <tr>\n",
              "      <th>80</th>\n",
              "      <td>flex actionscript-3 air</td>\n",
              "    </tr>\n",
              "    <tr>\n",
              "      <th>90</th>\n",
              "      <td>svn tortoisesvn branch branching-and-merging</td>\n",
              "    </tr>\n",
              "    <tr>\n",
              "      <th>120</th>\n",
              "      <td>sql asp.net sitemap</td>\n",
              "    </tr>\n",
              "    <tr>\n",
              "      <th>180</th>\n",
              "      <td>algorithm language-agnostic colors color-space</td>\n",
              "    </tr>\n",
              "    <tr>\n",
              "      <th>260</th>\n",
              "      <td>c# .net scripting compiler-construction</td>\n",
              "    </tr>\n",
              "  </tbody>\n",
              "</table>\n",
              "</div>"
            ],
            "text/plain": [
              "                                                Tag\n",
              "Id                                                 \n",
              "80                          flex actionscript-3 air\n",
              "90     svn tortoisesvn branch branching-and-merging\n",
              "120                             sql asp.net sitemap\n",
              "180  algorithm language-agnostic colors color-space\n",
              "260         c# .net scripting compiler-construction"
            ]
          },
          "metadata": {
            "tags": []
          },
          "execution_count": 11
        }
      ]
    },
    {
      "cell_type": "code",
      "metadata": {
        "colab": {
          "base_uri": "https://localhost:8080/",
          "height": 529
        },
        "id": "uwJEC_NNRV1B",
        "outputId": "11cebde1-2bf6-46b4-e063-91e163c1be09"
      },
      "source": [
        "questions.head(10)"
      ],
      "execution_count": 12,
      "outputs": [
        {
          "output_type": "execute_result",
          "data": {
            "text/html": [
              "<div>\n",
              "<style scoped>\n",
              "    .dataframe tbody tr th:only-of-type {\n",
              "        vertical-align: middle;\n",
              "    }\n",
              "\n",
              "    .dataframe tbody tr th {\n",
              "        vertical-align: top;\n",
              "    }\n",
              "\n",
              "    .dataframe thead th {\n",
              "        text-align: right;\n",
              "    }\n",
              "</style>\n",
              "<table border=\"1\" class=\"dataframe\">\n",
              "  <thead>\n",
              "    <tr style=\"text-align: right;\">\n",
              "      <th></th>\n",
              "      <th>Id</th>\n",
              "      <th>OwnerUserId</th>\n",
              "      <th>CreationDate</th>\n",
              "      <th>ClosedDate</th>\n",
              "      <th>Score</th>\n",
              "      <th>Title</th>\n",
              "      <th>Body</th>\n",
              "    </tr>\n",
              "  </thead>\n",
              "  <tbody>\n",
              "    <tr>\n",
              "      <th>0</th>\n",
              "      <td>80</td>\n",
              "      <td>26.0</td>\n",
              "      <td>2008-08-01T13:57:07Z</td>\n",
              "      <td>NaN</td>\n",
              "      <td>26</td>\n",
              "      <td>SQLStatement.execute() - multiple queries in o...</td>\n",
              "      <td>&lt;p&gt;I've written a database generation script i...</td>\n",
              "    </tr>\n",
              "    <tr>\n",
              "      <th>1</th>\n",
              "      <td>90</td>\n",
              "      <td>58.0</td>\n",
              "      <td>2008-08-01T14:41:24Z</td>\n",
              "      <td>2012-12-26T03:45:49Z</td>\n",
              "      <td>144</td>\n",
              "      <td>Good branching and merging tutorials for Torto...</td>\n",
              "      <td>&lt;p&gt;Are there any really good tutorials explain...</td>\n",
              "    </tr>\n",
              "    <tr>\n",
              "      <th>2</th>\n",
              "      <td>120</td>\n",
              "      <td>83.0</td>\n",
              "      <td>2008-08-01T15:50:08Z</td>\n",
              "      <td>NaN</td>\n",
              "      <td>21</td>\n",
              "      <td>ASP.NET Site Maps</td>\n",
              "      <td>&lt;p&gt;Has anyone got experience creating &lt;strong&gt;...</td>\n",
              "    </tr>\n",
              "    <tr>\n",
              "      <th>3</th>\n",
              "      <td>180</td>\n",
              "      <td>2089740.0</td>\n",
              "      <td>2008-08-01T18:42:19Z</td>\n",
              "      <td>NaN</td>\n",
              "      <td>53</td>\n",
              "      <td>Function for creating color wheels</td>\n",
              "      <td>&lt;p&gt;This is something I've pseudo-solved many t...</td>\n",
              "    </tr>\n",
              "    <tr>\n",
              "      <th>4</th>\n",
              "      <td>260</td>\n",
              "      <td>91.0</td>\n",
              "      <td>2008-08-01T23:22:08Z</td>\n",
              "      <td>NaN</td>\n",
              "      <td>49</td>\n",
              "      <td>Adding scripting functionality to .NET applica...</td>\n",
              "      <td>&lt;p&gt;I have a little game written in C#. It uses...</td>\n",
              "    </tr>\n",
              "    <tr>\n",
              "      <th>5</th>\n",
              "      <td>330</td>\n",
              "      <td>63.0</td>\n",
              "      <td>2008-08-02T02:51:36Z</td>\n",
              "      <td>NaN</td>\n",
              "      <td>29</td>\n",
              "      <td>Should I use nested classes in this case?</td>\n",
              "      <td>&lt;p&gt;I am working on a collection of classes use...</td>\n",
              "    </tr>\n",
              "    <tr>\n",
              "      <th>6</th>\n",
              "      <td>470</td>\n",
              "      <td>71.0</td>\n",
              "      <td>2008-08-02T15:11:47Z</td>\n",
              "      <td>2016-03-26T05:23:29Z</td>\n",
              "      <td>13</td>\n",
              "      <td>Homegrown consumption of web services</td>\n",
              "      <td>&lt;p&gt;I've been writing a few web services for a ...</td>\n",
              "    </tr>\n",
              "    <tr>\n",
              "      <th>7</th>\n",
              "      <td>580</td>\n",
              "      <td>91.0</td>\n",
              "      <td>2008-08-02T23:30:59Z</td>\n",
              "      <td>NaN</td>\n",
              "      <td>21</td>\n",
              "      <td>Deploying SQL Server Databases from Test to Live</td>\n",
              "      <td>&lt;p&gt;I wonder how you guys manage deployment of ...</td>\n",
              "    </tr>\n",
              "    <tr>\n",
              "      <th>8</th>\n",
              "      <td>650</td>\n",
              "      <td>143.0</td>\n",
              "      <td>2008-08-03T11:12:52Z</td>\n",
              "      <td>NaN</td>\n",
              "      <td>79</td>\n",
              "      <td>Automatically update version number</td>\n",
              "      <td>&lt;p&gt;I would like the version property of my app...</td>\n",
              "    </tr>\n",
              "    <tr>\n",
              "      <th>9</th>\n",
              "      <td>810</td>\n",
              "      <td>233.0</td>\n",
              "      <td>2008-08-03T20:35:01Z</td>\n",
              "      <td>NaN</td>\n",
              "      <td>9</td>\n",
              "      <td>Visual Studio Setup Project - Per User Registr...</td>\n",
              "      <td>&lt;p&gt;I'm trying to maintain a Setup Project in &lt;...</td>\n",
              "    </tr>\n",
              "  </tbody>\n",
              "</table>\n",
              "</div>"
            ],
            "text/plain": [
              "    Id  ...                                               Body\n",
              "0   80  ...  <p>I've written a database generation script i...\n",
              "1   90  ...  <p>Are there any really good tutorials explain...\n",
              "2  120  ...  <p>Has anyone got experience creating <strong>...\n",
              "3  180  ...  <p>This is something I've pseudo-solved many t...\n",
              "4  260  ...  <p>I have a little game written in C#. It uses...\n",
              "5  330  ...  <p>I am working on a collection of classes use...\n",
              "6  470  ...  <p>I've been writing a few web services for a ...\n",
              "7  580  ...  <p>I wonder how you guys manage deployment of ...\n",
              "8  650  ...  <p>I would like the version property of my app...\n",
              "9  810  ...  <p>I'm trying to maintain a Setup Project in <...\n",
              "\n",
              "[10 rows x 7 columns]"
            ]
          },
          "metadata": {
            "tags": []
          },
          "execution_count": 12
        }
      ]
    },
    {
      "cell_type": "code",
      "metadata": {
        "id": "IaSbR5FXRG0x"
      },
      "source": [
        "df = pd.merge(questions, tags, on='Id')"
      ],
      "execution_count": 13,
      "outputs": []
    },
    {
      "cell_type": "code",
      "metadata": {
        "colab": {
          "base_uri": "https://localhost:8080/",
          "height": 631
        },
        "id": "34SiJswMRJKm",
        "outputId": "ab995ab1-650e-48c5-d341-fa65713a0e17"
      },
      "source": [
        "df.head(10)"
      ],
      "execution_count": 14,
      "outputs": [
        {
          "output_type": "execute_result",
          "data": {
            "text/html": [
              "<div>\n",
              "<style scoped>\n",
              "    .dataframe tbody tr th:only-of-type {\n",
              "        vertical-align: middle;\n",
              "    }\n",
              "\n",
              "    .dataframe tbody tr th {\n",
              "        vertical-align: top;\n",
              "    }\n",
              "\n",
              "    .dataframe thead th {\n",
              "        text-align: right;\n",
              "    }\n",
              "</style>\n",
              "<table border=\"1\" class=\"dataframe\">\n",
              "  <thead>\n",
              "    <tr style=\"text-align: right;\">\n",
              "      <th></th>\n",
              "      <th>Id</th>\n",
              "      <th>OwnerUserId</th>\n",
              "      <th>CreationDate</th>\n",
              "      <th>ClosedDate</th>\n",
              "      <th>Score</th>\n",
              "      <th>Title</th>\n",
              "      <th>Body</th>\n",
              "      <th>Tag</th>\n",
              "    </tr>\n",
              "  </thead>\n",
              "  <tbody>\n",
              "    <tr>\n",
              "      <th>0</th>\n",
              "      <td>80</td>\n",
              "      <td>26.0</td>\n",
              "      <td>2008-08-01T13:57:07Z</td>\n",
              "      <td>NaN</td>\n",
              "      <td>26</td>\n",
              "      <td>SQLStatement.execute() - multiple queries in o...</td>\n",
              "      <td>&lt;p&gt;I've written a database generation script i...</td>\n",
              "      <td>flex actionscript-3 air</td>\n",
              "    </tr>\n",
              "    <tr>\n",
              "      <th>1</th>\n",
              "      <td>90</td>\n",
              "      <td>58.0</td>\n",
              "      <td>2008-08-01T14:41:24Z</td>\n",
              "      <td>2012-12-26T03:45:49Z</td>\n",
              "      <td>144</td>\n",
              "      <td>Good branching and merging tutorials for Torto...</td>\n",
              "      <td>&lt;p&gt;Are there any really good tutorials explain...</td>\n",
              "      <td>svn tortoisesvn branch branching-and-merging</td>\n",
              "    </tr>\n",
              "    <tr>\n",
              "      <th>2</th>\n",
              "      <td>120</td>\n",
              "      <td>83.0</td>\n",
              "      <td>2008-08-01T15:50:08Z</td>\n",
              "      <td>NaN</td>\n",
              "      <td>21</td>\n",
              "      <td>ASP.NET Site Maps</td>\n",
              "      <td>&lt;p&gt;Has anyone got experience creating &lt;strong&gt;...</td>\n",
              "      <td>sql asp.net sitemap</td>\n",
              "    </tr>\n",
              "    <tr>\n",
              "      <th>3</th>\n",
              "      <td>180</td>\n",
              "      <td>2089740.0</td>\n",
              "      <td>2008-08-01T18:42:19Z</td>\n",
              "      <td>NaN</td>\n",
              "      <td>53</td>\n",
              "      <td>Function for creating color wheels</td>\n",
              "      <td>&lt;p&gt;This is something I've pseudo-solved many t...</td>\n",
              "      <td>algorithm language-agnostic colors color-space</td>\n",
              "    </tr>\n",
              "    <tr>\n",
              "      <th>4</th>\n",
              "      <td>260</td>\n",
              "      <td>91.0</td>\n",
              "      <td>2008-08-01T23:22:08Z</td>\n",
              "      <td>NaN</td>\n",
              "      <td>49</td>\n",
              "      <td>Adding scripting functionality to .NET applica...</td>\n",
              "      <td>&lt;p&gt;I have a little game written in C#. It uses...</td>\n",
              "      <td>c# .net scripting compiler-construction</td>\n",
              "    </tr>\n",
              "    <tr>\n",
              "      <th>5</th>\n",
              "      <td>330</td>\n",
              "      <td>63.0</td>\n",
              "      <td>2008-08-02T02:51:36Z</td>\n",
              "      <td>NaN</td>\n",
              "      <td>29</td>\n",
              "      <td>Should I use nested classes in this case?</td>\n",
              "      <td>&lt;p&gt;I am working on a collection of classes use...</td>\n",
              "      <td>c++ oop class nested-class</td>\n",
              "    </tr>\n",
              "    <tr>\n",
              "      <th>6</th>\n",
              "      <td>470</td>\n",
              "      <td>71.0</td>\n",
              "      <td>2008-08-02T15:11:47Z</td>\n",
              "      <td>2016-03-26T05:23:29Z</td>\n",
              "      <td>13</td>\n",
              "      <td>Homegrown consumption of web services</td>\n",
              "      <td>&lt;p&gt;I've been writing a few web services for a ...</td>\n",
              "      <td>.net web-services</td>\n",
              "    </tr>\n",
              "    <tr>\n",
              "      <th>7</th>\n",
              "      <td>580</td>\n",
              "      <td>91.0</td>\n",
              "      <td>2008-08-02T23:30:59Z</td>\n",
              "      <td>NaN</td>\n",
              "      <td>21</td>\n",
              "      <td>Deploying SQL Server Databases from Test to Live</td>\n",
              "      <td>&lt;p&gt;I wonder how you guys manage deployment of ...</td>\n",
              "      <td>sql-server sql-server-2005 deployment release-...</td>\n",
              "    </tr>\n",
              "    <tr>\n",
              "      <th>8</th>\n",
              "      <td>650</td>\n",
              "      <td>143.0</td>\n",
              "      <td>2008-08-03T11:12:52Z</td>\n",
              "      <td>NaN</td>\n",
              "      <td>79</td>\n",
              "      <td>Automatically update version number</td>\n",
              "      <td>&lt;p&gt;I would like the version property of my app...</td>\n",
              "      <td>c# visual-studio versioning</td>\n",
              "    </tr>\n",
              "    <tr>\n",
              "      <th>9</th>\n",
              "      <td>810</td>\n",
              "      <td>233.0</td>\n",
              "      <td>2008-08-03T20:35:01Z</td>\n",
              "      <td>NaN</td>\n",
              "      <td>9</td>\n",
              "      <td>Visual Studio Setup Project - Per User Registr...</td>\n",
              "      <td>&lt;p&gt;I'm trying to maintain a Setup Project in &lt;...</td>\n",
              "      <td>windows visual-studio registry installation</td>\n",
              "    </tr>\n",
              "  </tbody>\n",
              "</table>\n",
              "</div>"
            ],
            "text/plain": [
              "    Id  ...                                                Tag\n",
              "0   80  ...                            flex actionscript-3 air\n",
              "1   90  ...       svn tortoisesvn branch branching-and-merging\n",
              "2  120  ...                                sql asp.net sitemap\n",
              "3  180  ...     algorithm language-agnostic colors color-space\n",
              "4  260  ...            c# .net scripting compiler-construction\n",
              "5  330  ...                         c++ oop class nested-class\n",
              "6  470  ...                                  .net web-services\n",
              "7  580  ...  sql-server sql-server-2005 deployment release-...\n",
              "8  650  ...                        c# visual-studio versioning\n",
              "9  810  ...        windows visual-studio registry installation\n",
              "\n",
              "[10 rows x 8 columns]"
            ]
          },
          "metadata": {
            "tags": []
          },
          "execution_count": 14
        }
      ]
    },
    {
      "cell_type": "markdown",
      "metadata": {
        "id": "-eBeZMjyLLzy"
      },
      "source": [
        "# Preprocessing Data"
      ]
    },
    {
      "cell_type": "code",
      "metadata": {
        "colab": {
          "base_uri": "https://localhost:8080/"
        },
        "id": "uToJHDP4TIoP",
        "outputId": "30dacf33-273d-4aac-b9b3-83828a99f8e4"
      },
      "source": [
        "def removeHtmlTags(data):\n",
        "    cleaner = re.compile('<.*?>')\n",
        "    clean_text = re.sub(cleaner,\" \",str(data))\n",
        "    return clean_text\n",
        "sent = \"<html><p>hello world</p></html>\"\n",
        "rece = removeHtmlTags(sent)\n",
        "print(rece)"
      ],
      "execution_count": 15,
      "outputs": [
        {
          "output_type": "stream",
          "text": [
            "  hello world  \n"
          ],
          "name": "stdout"
        }
      ]
    },
    {
      "cell_type": "code",
      "metadata": {
        "id": "LSBJVjWSVD0A"
      },
      "source": [
        "preprossed_data = []\n",
        "questions_proccesed = 0\n",
        "data_size = 300000"
      ],
      "execution_count": 16,
      "outputs": []
    },
    {
      "cell_type": "code",
      "metadata": {
        "colab": {
          "base_uri": "https://localhost:8080/"
        },
        "id": "0sIuVLqCVG07",
        "outputId": "b4c05a1a-8dcd-4ab1-c9ad-b2c6790231dc"
      },
      "source": [
        "start = datetime.now()\n",
        "questions_with_code=0\n",
        "for i in range(min(data_size, len(questions))):\n",
        "    is_code = 0\n",
        "\n",
        "    title = df['Title'][i]\n",
        "    question = df['Body'][i]\n",
        "    tag = df['Tag'][i]\n",
        "    \n",
        "    # checking if the body has a code\n",
        "    if '<code>' in question:\n",
        "        questions_with_code+=1\n",
        "        is_code = 1\n",
        "    x = len(question)+len(title)\n",
        "    # Storing code from body in code variable\n",
        "    code = str(re.findall(r'<code>(.*?)</code>', question, flags=re.DOTALL))\n",
        "    # removing code from body\n",
        "    question=re.sub('<code>(.*?)</code>', '', question, flags=re.MULTILINE|re.DOTALL)\n",
        "    # removing html tags from questions\n",
        "    question=removeHtmlTags(question.encode('utf-8'))\n",
        "    title=title.encode('utf-8')\n",
        "    # question = question + title\n",
        "    question=str(title)+\" \"+str(question)\n",
        "    \n",
        "    question=re.sub(r'[^A-Za-z]+',' ',question)\n",
        "    words=word_tokenize(str(question.lower()))\n",
        "    question=' '.join(str(stemmer.stem(j)) for j in words if j not in stop_words and (len(j)!=1 or j=='c'))\n",
        "    tup = (question,code,is_code,tag)\n",
        "    preprossed_data.append(tup)\n",
        "    questions_proccesed += 1\n",
        "    if (questions_proccesed%10000==0):\n",
        "        print(\"number of questions completed=\",questions_proccesed)\n",
        "    \n",
        "print(\"Time take to execute this cell \", datetime.now()-start)"
      ],
      "execution_count": 17,
      "outputs": [
        {
          "output_type": "stream",
          "text": [
            "number of questions completed= 10000\n",
            "number of questions completed= 20000\n",
            "number of questions completed= 30000\n",
            "number of questions completed= 40000\n",
            "number of questions completed= 50000\n",
            "number of questions completed= 60000\n",
            "number of questions completed= 70000\n",
            "number of questions completed= 80000\n",
            "number of questions completed= 90000\n",
            "number of questions completed= 100000\n",
            "number of questions completed= 110000\n",
            "number of questions completed= 120000\n",
            "number of questions completed= 130000\n",
            "number of questions completed= 140000\n",
            "number of questions completed= 150000\n",
            "number of questions completed= 160000\n",
            "number of questions completed= 170000\n",
            "number of questions completed= 180000\n",
            "number of questions completed= 190000\n",
            "number of questions completed= 200000\n",
            "number of questions completed= 210000\n",
            "number of questions completed= 220000\n",
            "number of questions completed= 230000\n",
            "number of questions completed= 240000\n",
            "number of questions completed= 250000\n",
            "number of questions completed= 260000\n",
            "number of questions completed= 270000\n",
            "number of questions completed= 280000\n",
            "number of questions completed= 290000\n",
            "number of questions completed= 300000\n",
            "Time take to execute this cell  0:06:52.327961\n"
          ],
          "name": "stdout"
        }
      ]
    },
    {
      "cell_type": "code",
      "metadata": {
        "colab": {
          "base_uri": "https://localhost:8080/"
        },
        "id": "BzBjHtzVV2Aq",
        "outputId": "8e98dccd-3b08-408d-b142-ba4342e0bbd6"
      },
      "source": [
        "preprossed_data[70]"
      ],
      "execution_count": 18,
      "outputs": [
        {
          "output_type": "execute_result",
          "data": {
            "text/plain": [
              "('programmat iter datagrid row sudden back winform year web develop troubl someth simpl busi object bound window form like user abl edit cell finish press save button point like iter row column find chang save databas find way access row also want valid individu cell real time edit pretti sure done mayb iter quit surpris seem possibl must realli stuff busi object data datat order use datagrid',\n",
              " \"['ArrayList', 'DataGrid', 'DataGrid', 'DataGrid', 'ArrayList', 'DataSource', 'DataGrid']\",\n",
              " 1,\n",
              " 'winforms')"
            ]
          },
          "metadata": {
            "tags": []
          },
          "execution_count": 18
        }
      ]
    },
    {
      "cell_type": "code",
      "metadata": {
        "id": "eOXkOLmoWsi0"
      },
      "source": [
        "data = pd.DataFrame(preprossed_data[:data_size], columns =['question', 'code', 'is_code','tag'])\n",
        "data.drop(['is_code','code'], axis =1, inplace=True)"
      ],
      "execution_count": 19,
      "outputs": []
    },
    {
      "cell_type": "code",
      "metadata": {
        "colab": {
          "base_uri": "https://localhost:8080/",
          "height": 359
        },
        "id": "aIDQ4dInXCTv",
        "outputId": "7be6d1e7-16cf-4385-ccad-5b29c1f2eb07"
      },
      "source": [
        "data.head(10)"
      ],
      "execution_count": 20,
      "outputs": [
        {
          "output_type": "execute_result",
          "data": {
            "text/html": [
              "<div>\n",
              "<style scoped>\n",
              "    .dataframe tbody tr th:only-of-type {\n",
              "        vertical-align: middle;\n",
              "    }\n",
              "\n",
              "    .dataframe tbody tr th {\n",
              "        vertical-align: top;\n",
              "    }\n",
              "\n",
              "    .dataframe thead th {\n",
              "        text-align: right;\n",
              "    }\n",
              "</style>\n",
              "<table border=\"1\" class=\"dataframe\">\n",
              "  <thead>\n",
              "    <tr style=\"text-align: right;\">\n",
              "      <th></th>\n",
              "      <th>question</th>\n",
              "      <th>tag</th>\n",
              "    </tr>\n",
              "  </thead>\n",
              "  <tbody>\n",
              "    <tr>\n",
              "      <th>0</th>\n",
              "      <td>sqlstatement execut multipl queri one statemen...</td>\n",
              "      <td>flex actionscript-3 air</td>\n",
              "    </tr>\n",
              "    <tr>\n",
              "      <th>1</th>\n",
              "      <td>good branch merg tutori tortoisesvn realli goo...</td>\n",
              "      <td>svn tortoisesvn branch branching-and-merging</td>\n",
              "    </tr>\n",
              "    <tr>\n",
              "      <th>2</th>\n",
              "      <td>asp net site map anyon got experi creat sql ba...</td>\n",
              "      <td>sql asp.net sitemap</td>\n",
              "    </tr>\n",
              "    <tr>\n",
              "      <th>3</th>\n",
              "      <td>function creat color wheel someth pseudo solv ...</td>\n",
              "      <td>algorithm language-agnostic colors color-space</td>\n",
              "    </tr>\n",
              "    <tr>\n",
              "      <th>4</th>\n",
              "      <td>ad script function net applic littl game writt...</td>\n",
              "      <td>c# .net scripting compiler-construction</td>\n",
              "    </tr>\n",
              "    <tr>\n",
              "      <th>5</th>\n",
              "      <td>use nest class case work collect class use vid...</td>\n",
              "      <td>c++ oop class nested-class</td>\n",
              "    </tr>\n",
              "    <tr>\n",
              "      <th>6</th>\n",
              "      <td>homegrown consumpt web servic write web servic...</td>\n",
              "      <td>.net web-services</td>\n",
              "    </tr>\n",
              "    <tr>\n",
              "      <th>7</th>\n",
              "      <td>deploy sql server databas test live wonder guy...</td>\n",
              "      <td>sql-server sql-server-2005 deployment release-...</td>\n",
              "    </tr>\n",
              "    <tr>\n",
              "      <th>8</th>\n",
              "      <td>automat updat version number would like versio...</td>\n",
              "      <td>c# visual-studio versioning</td>\n",
              "    </tr>\n",
              "    <tr>\n",
              "      <th>9</th>\n",
              "      <td>visual studio setup project per user registri ...</td>\n",
              "      <td>windows visual-studio registry installation</td>\n",
              "    </tr>\n",
              "  </tbody>\n",
              "</table>\n",
              "</div>"
            ],
            "text/plain": [
              "                                            question                                                tag\n",
              "0  sqlstatement execut multipl queri one statemen...                            flex actionscript-3 air\n",
              "1  good branch merg tutori tortoisesvn realli goo...       svn tortoisesvn branch branching-and-merging\n",
              "2  asp net site map anyon got experi creat sql ba...                                sql asp.net sitemap\n",
              "3  function creat color wheel someth pseudo solv ...     algorithm language-agnostic colors color-space\n",
              "4  ad script function net applic littl game writt...            c# .net scripting compiler-construction\n",
              "5  use nest class case work collect class use vid...                         c++ oop class nested-class\n",
              "6  homegrown consumpt web servic write web servic...                                  .net web-services\n",
              "7  deploy sql server databas test live wonder guy...  sql-server sql-server-2005 deployment release-...\n",
              "8  automat updat version number would like versio...                        c# visual-studio versioning\n",
              "9  visual studio setup project per user registri ...        windows visual-studio registry installation"
            ]
          },
          "metadata": {
            "tags": []
          },
          "execution_count": 20
        }
      ]
    },
    {
      "cell_type": "markdown",
      "metadata": {
        "id": "rJvZUYi-Lf-5"
      },
      "source": [
        "# Converting Y to vector"
      ]
    },
    {
      "cell_type": "code",
      "metadata": {
        "id": "QrlcNflzXEZ_"
      },
      "source": [
        "vectorizer = CountVectorizer(tokenizer = lambda x: x.split(), binary='true')\n",
        "Y = vectorizer.fit_transform(data['tag'].values.astype('U'))"
      ],
      "execution_count": 21,
      "outputs": []
    },
    {
      "cell_type": "code",
      "metadata": {
        "colab": {
          "base_uri": "https://localhost:8080/"
        },
        "id": "Xy4w7TPJFc2L",
        "outputId": "a8f3438b-3091-4b84-8b3b-95103599bcd1"
      },
      "source": [
        "print(vectorizer.get_feature_names()[0:85])\r\n",
        "print(len(vectorizer.get_feature_names()))"
      ],
      "execution_count": 22,
      "outputs": [
        {
          "output_type": "stream",
          "text": [
            "['.a', '.app', '.aspxauth', '.bash-profile', '.class-file', '.doc', '.emf', '.htaccess', '.htpasswd', '.ico', '.lib', '.net', '.net-1.0', '.net-1.1', '.net-2.0', '.net-3.0', '.net-3.5', '.net-4.0', '.net-4.0-beta-2', '.net-4.5', '.net-assembly', '.net-attributes', '.net-cf-3.5', '.net-client-profile', '.net-framework-source', '.net-framework-version', '.net-micro-framework', '.net-reflector', '.net-remoting', '.net-security', '.netrc', '.nettiers', '.obj', '.post', '.profile', '.sbr', '.war', '.x', '128bit', '16-bit', '1wire', '2-legged', '2-satisfiability', '2-tier', '2-way-object-databinding', '2.5d', '24bit', '256color', '2d', '2d-games', '2phase-commit', '3-tier', '32-bit', '3270', '32bit-64bit', '360-degrees', '37-signals', '3d', '3d-engine', '3d-modelling', '3d-reconstruction', '3d-studio', '3dcamera', '3des', '3ds', '3dsmax', '3g', '3gp', '3nf', '4d', '4d-database', '4g', '4gl', '4store', '4th-dimension', '51degrees', '64bit', '6502', '68000', '777', '7bit', '7zip', '8-puzzle', '8051', '8085']\n",
            "20551\n"
          ],
          "name": "stdout"
        }
      ]
    },
    {
      "cell_type": "code",
      "metadata": {
        "id": "LgQUZuSsX1LK"
      },
      "source": [
        "def tags_to_choose(n):\n",
        "    t = Y.sum(axis=0).tolist()[0]\n",
        "    sorted_tags_i = sorted(range(len(t)), key=lambda i: t[i], reverse=True)\n",
        "    multilabel_yn=Y[:,sorted_tags_i[:n]]\n",
        "    return multilabel_yn\n",
        "\n",
        "def questions_covered_fn(n):\n",
        "    multilabel_yn = tags_to_choose(n)\n",
        "    x= multilabel_yn.sum(axis=1)\n",
        "    return (np.count_nonzero(x==0))"
      ],
      "execution_count": 23,
      "outputs": []
    },
    {
      "cell_type": "code",
      "metadata": {
        "colab": {
          "base_uri": "https://localhost:8080/"
        },
        "id": "kfrlxX07zHYW",
        "outputId": "78b9738c-51a1-4f07-d18d-aa6d2edf8ac1"
      },
      "source": [
        "Y.shape"
      ],
      "execution_count": 24,
      "outputs": [
        {
          "output_type": "execute_result",
          "data": {
            "text/plain": [
              "(300000, 20551)"
            ]
          },
          "metadata": {
            "tags": []
          },
          "execution_count": 24
        }
      ]
    },
    {
      "cell_type": "code",
      "metadata": {
        "id": "fCctKkvFaSR-"
      },
      "source": [
        "questions_covered = []\n",
        "total_tags=Y.shape[1]\n",
        "total_qs=data.shape[0]\n",
        "for i in range(50, total_tags, 50):\n",
        "    questions_covered.append(np.round(((total_qs-questions_covered_fn(i))/total_qs)*100,3))"
      ],
      "execution_count": 25,
      "outputs": []
    },
    {
      "cell_type": "code",
      "metadata": {
        "colab": {
          "base_uri": "https://localhost:8080/"
        },
        "id": "DEily0hXjeEl",
        "outputId": "db908f51-a379-4a86-b39a-5b348f87324b"
      },
      "source": [
        "questions_covered[:10]"
      ],
      "execution_count": 26,
      "outputs": [
        {
          "output_type": "execute_result",
          "data": {
            "text/plain": [
              "[77.482,\n",
              " 85.355,\n",
              " 88.952,\n",
              " 90.703,\n",
              " 92.121,\n",
              " 93.039,\n",
              " 93.854,\n",
              " 94.379,\n",
              " 94.961,\n",
              " 95.417]"
            ]
          },
          "metadata": {
            "tags": []
          },
          "execution_count": 26
        }
      ]
    },
    {
      "cell_type": "code",
      "metadata": {
        "colab": {
          "base_uri": "https://localhost:8080/",
          "height": 282
        },
        "id": "Y6bniMwiafAM",
        "outputId": "f67645e6-2342-44eb-ffe6-4a32f491e50d"
      },
      "source": [
        "xlabel = [i for i in range(50,total_tags,50)]\n",
        "plt.plot(xlabel,questions_covered)"
      ],
      "execution_count": 27,
      "outputs": [
        {
          "output_type": "execute_result",
          "data": {
            "text/plain": [
              "[<matplotlib.lines.Line2D at 0x7f7de57fb6a0>]"
            ]
          },
          "metadata": {
            "tags": []
          },
          "execution_count": 27
        },
        {
          "output_type": "display_data",
          "data": {
            "image/png": "[encoded data removed]",
            "text/plain": [
              "<Figure size 432x288 with 1 Axes>"
            ]
          },
          "metadata": {
            "tags": [],
            "needs_background": "light"
          }
        }
      ]
    },
    {
      "cell_type": "code",
      "metadata": {
        "colab": {
          "base_uri": "https://localhost:8080/"
        },
        "id": "rr_geRcEatey",
        "outputId": "41a40093-3b56-4335-fe50-075d10c8c0f1"
      },
      "source": [
        "multilabel_yx = tags_to_choose(200)\n",
        "print(\"number of questions that are not covered :\", questions_covered_fn(200),\"out of \", total_qs)"
      ],
      "execution_count": 28,
      "outputs": [
        {
          "output_type": "stream",
          "text": [
            "number of questions that are not covered : 27890 out of  300000\n"
          ],
          "name": "stdout"
        }
      ]
    },
    {
      "cell_type": "code",
      "metadata": {
        "colab": {
          "base_uri": "https://localhost:8080/"
        },
        "id": "w-MH-IQVa1VB",
        "outputId": "efcafcf8-e11c-4e9e-ec54-4c867042fb2e"
      },
      "source": [
        "print(\"Number of tags in sample :\", Y.shape[1])\n",
        "print(\"number of tags taken :\", multilabel_yx.shape[1],\"(\",(multilabel_yx.shape[1]/Y.shape[1])*100,\"%)\")"
      ],
      "execution_count": 30,
      "outputs": [
        {
          "output_type": "stream",
          "text": [
            "Number of tags in sample : 20551\n",
            "number of tags taken : 200 ( 0.9731886526203104 %)\n"
          ],
          "name": "stdout"
        }
      ]
    },
    {
      "cell_type": "code",
      "metadata": {
        "id": "bB34bhWha4c7"
      },
      "source": [
        "total_size=data.shape[0]\n",
        "train_size=int(0.80*total_size)\n",
        "\n",
        "x_train=data.head(train_size)\n",
        "x_test=data.tail(total_size - train_size)\n",
        "\n",
        "y_train = multilabel_yx[0:train_size,:]\n",
        "y_test = multilabel_yx[train_size:total_size,:]"
      ],
      "execution_count": 31,
      "outputs": []
    },
    {
      "cell_type": "code",
      "metadata": {
        "colab": {
          "base_uri": "https://localhost:8080/"
        },
        "id": "itPHhYtKbC2S",
        "outputId": "756b88ea-3566-44ac-a47e-71a1030e018b"
      },
      "source": [
        "print(\"Number of data points in train data :\", y_train.shape)\n",
        "print(\"Number of data points in test data :\", y_test.shape)"
      ],
      "execution_count": 32,
      "outputs": [
        {
          "output_type": "stream",
          "text": [
            "Number of data points in train data : (240000, 200)\n",
            "Number of data points in test data : (60000, 200)\n"
          ],
          "name": "stdout"
        }
      ]
    },
    {
      "cell_type": "markdown",
      "metadata": {
        "id": "fI6uMgjuLvbb"
      },
      "source": [
        "# Converting X to Vector"
      ]
    },
    {
      "cell_type": "code",
      "metadata": {
        "colab": {
          "base_uri": "https://localhost:8080/"
        },
        "id": "YJgTlBpLbLBc",
        "outputId": "090e5e6f-f614-41ed-b67a-8e44b4d5ab22"
      },
      "source": [
        "start = datetime.now()\n",
        "vectorizer = TfidfVectorizer(min_df=0.00009, max_features=200000, smooth_idf=True, norm=\"l2\", \\\n",
        "                             tokenizer = lambda x: x.split(), sublinear_tf=False, ngram_range=(1,3))\n",
        "x_train_multilabel = vectorizer.fit_transform(x_train['question'])\n",
        "x_test_multilabel = vectorizer.transform(x_test['question'])\n",
        "print(\"Time taken to run this cell :\", datetime.now() - start)"
      ],
      "execution_count": 33,
      "outputs": [
        {
          "output_type": "stream",
          "text": [
            "Time taken to run this cell : 0:02:38.843329\n"
          ],
          "name": "stdout"
        }
      ]
    },
    {
      "cell_type": "markdown",
      "metadata": {
        "id": "xLROsw_QbxRf"
      },
      "source": [
        "# Evaluation Metrics:\r\n",
        "\r\n",
        "\r\n",
        "![image.png](data:image/png;base64,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)\r\n",
        "\r\n",
        "\r\n",
        "* In micro-averaging method, you sum up the individual true positives, false positives, and false negatives of the system for different sets and the apply them. And the micro-average F1-Score will be simply the harmonic mean of above two equations.\r\n",
        "\r\n",
        "\r\n",
        "\r\n",
        "\r\n",
        "\r\n",
        "\r\n",
        "\r\n",
        "\r\n",
        "\r\n",
        "\r\n",
        "![image.png](data:image/png;base64,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)"
      ]
    },
    {
      "cell_type": "markdown",
      "metadata": {
        "id": "zISKlMV-cUnb"
      },
      "source": [
        "\r\n",
        "* Macro-averaging is straight forward. We just take the average of the precision and recall of the system on different sets."
      ]
    },
    {
      "cell_type": "markdown",
      "metadata": {
        "id": "7ImQEjfIfo8E"
      },
      "source": [
        "#### Hamming Loss\r\n",
        "\r\n",
        "![image.png](data:image/png;base64,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)"
      ]
    },
    {
      "cell_type": "markdown",
      "metadata": {
        "id": "SipUgKx4L91I"
      },
      "source": [
        "# Model"
      ]
    },
    {
      "cell_type": "code",
      "metadata": {
        "colab": {
          "base_uri": "https://localhost:8080/"
        },
        "id": "fBraVx-wbPDB",
        "outputId": "69fd13b3-07eb-4e4f-adbb-e092e5740cc3"
      },
      "source": [
        "classifier = OneVsRestClassifier(SGDClassifier(loss='log', alpha=0.00001, penalty='l1'), n_jobs=-1)\n",
        "classifier.fit(x_train_multilabel, y_train)\n",
        "predictions = classifier.predict(x_test_multilabel)\n",
        "\n",
        "print(\"accuracy :\",metrics.accuracy_score(y_test,predictions))\n",
        "print(\"macro f1 score :\",metrics.f1_score(y_test, predictions, average = 'macro'))\n",
        "print(\"micro f1 scoore :\",metrics.f1_score(y_test, predictions, average = 'micro'))\n",
        "print(\"hamming loss :\",metrics.hamming_loss(y_test,predictions))\n",
        "print(\"Precision recall report :\\n\",metrics.classification_report(y_test, predictions))\n"
      ],
      "execution_count": 34,
      "outputs": [
        {
          "output_type": "stream",
          "text": [
            "accuracy : 0.2708333333333333\n",
            "macro f1 score : 0.3768114225338666\n",
            "micro f1 scoore : 0.49789945526543244\n",
            "hamming loss : 0.00624475\n",
            "Precision recall report :\n",
            "               precision    recall  f1-score   support\n",
            "\n",
            "           0       0.66      0.22      0.33      5007\n",
            "           1       0.78      0.44      0.56      5348\n",
            "           2       0.84      0.57      0.68      4921\n",
            "           3       0.75      0.42      0.54      4828\n",
            "           4       0.86      0.65      0.74      4228\n",
            "           5       0.95      0.75      0.84      4936\n",
            "           6       0.50      0.45      0.48      1834\n",
            "           7       0.75      0.33      0.46      2317\n",
            "           8       0.77      0.42      0.55      1765\n",
            "           9       0.48      0.08      0.14      1401\n",
            "          10       0.88      0.62      0.73      2173\n",
            "          11       0.55      0.20      0.29      2209\n",
            "          12       0.83      0.61      0.71      2074\n",
            "          13       0.64      0.19      0.29      1808\n",
            "          14       0.55      0.28      0.37      1580\n",
            "          15       0.80      0.53      0.64      1695\n",
            "          16       0.77      0.54      0.63      1342\n",
            "          17       0.72      0.13      0.22      2545\n",
            "          18       0.62      0.19      0.29      1220\n",
            "          19       0.49      0.27      0.35       673\n",
            "          20       0.78      0.38      0.51       873\n",
            "          21       0.88      0.55      0.67       701\n",
            "          22       0.61      0.41      0.49       743\n",
            "          23       0.54      0.29      0.38       602\n",
            "          24       0.65      0.39      0.49       776\n",
            "          25       0.86      0.61      0.71       639\n",
            "          26       0.35      0.06      0.11       628\n",
            "          27       0.94      0.76      0.84       610\n",
            "          28       0.38      0.06      0.11       506\n",
            "          29       0.47      0.29      0.36       652\n",
            "          30       0.60      0.20      0.30       665\n",
            "          31       0.84      0.33      0.47       471\n",
            "          32       0.63      0.16      0.25       799\n",
            "          33       0.40      0.10      0.16       628\n",
            "          34       0.55      0.20      0.29       344\n",
            "          35       0.47      0.15      0.22       481\n",
            "          36       0.79      0.65      0.71       692\n",
            "          37       0.76      0.47      0.58       578\n",
            "          38       0.60      0.38      0.46       450\n",
            "          39       0.72      0.53      0.61       644\n",
            "          40       0.33      0.11      0.17       346\n",
            "          41       0.60      0.10      0.18       729\n",
            "          42       0.36      0.15      0.21       230\n",
            "          43       0.91      0.70      0.79       329\n",
            "          44       0.47      0.05      0.10       468\n",
            "          45       0.82      0.38      0.52       355\n",
            "          46       0.77      0.41      0.53       237\n",
            "          47       0.27      0.09      0.14       411\n",
            "          48       0.35      0.02      0.04       260\n",
            "          49       0.59      0.29      0.39       338\n",
            "          50       0.64      0.16      0.25       276\n",
            "          51       0.68      0.35      0.46       237\n",
            "          52       0.64      0.29      0.40       334\n",
            "          53       0.36      0.11      0.17       401\n",
            "          54       0.72      0.20      0.31       256\n",
            "          55       0.58      0.32      0.41       315\n",
            "          56       0.83      0.51      0.63       194\n",
            "          57       0.91      0.59      0.71       257\n",
            "          58       0.69      0.30      0.42       396\n",
            "          59       0.75      0.47      0.58       303\n",
            "          60       0.52      0.04      0.07       399\n",
            "          61       0.76      0.50      0.61       333\n",
            "          62       0.90      0.78      0.83       325\n",
            "          63       0.86      0.30      0.44       399\n",
            "          64       0.97      0.54      0.70       248\n",
            "          65       0.67      0.11      0.18       506\n",
            "          66       0.39      0.15      0.21       210\n",
            "          67       0.88      0.64      0.74       306\n",
            "          68       0.68      0.27      0.39       320\n",
            "          69       0.65      0.30      0.41       316\n",
            "          70       0.55      0.08      0.14       207\n",
            "          71       0.89      0.57      0.70       350\n",
            "          72       0.39      0.11      0.17       181\n",
            "          73       0.38      0.21      0.27       235\n",
            "          74       0.69      0.47      0.56       260\n",
            "          75       0.81      0.19      0.31       411\n",
            "          76       0.58      0.34      0.43       227\n",
            "          77       0.17      0.03      0.05       126\n",
            "          78       0.73      0.30      0.42       314\n",
            "          79       0.59      0.38      0.46       202\n",
            "          80       0.68      0.09      0.16       208\n",
            "          81       0.24      0.02      0.03       221\n",
            "          82       0.77      0.45      0.57       309\n",
            "          83       0.43      0.17      0.25       168\n",
            "          84       0.85      0.47      0.61       306\n",
            "          85       0.68      0.43      0.53       240\n",
            "          86       0.05      0.01      0.02        77\n",
            "          87       0.88      0.40      0.55       247\n",
            "          88       0.83      0.58      0.69       137\n",
            "          89       0.59      0.10      0.17       195\n",
            "          90       0.96      0.69      0.80       248\n",
            "          91       0.94      0.58      0.72       124\n",
            "          92       0.32      0.11      0.16       209\n",
            "          93       0.35      0.12      0.18       221\n",
            "          94       0.24      0.02      0.03       239\n",
            "          95       0.80      0.43      0.55       341\n",
            "          96       0.23      0.09      0.13       217\n",
            "          97       0.90      0.62      0.73       207\n",
            "          98       0.84      0.59      0.69       270\n",
            "          99       0.72      0.38      0.50       243\n",
            "         100       0.33      0.06      0.10       225\n",
            "         101       0.19      0.05      0.08       184\n",
            "         102       0.38      0.08      0.13       188\n",
            "         103       0.70      0.55      0.62       117\n",
            "         104       0.58      0.35      0.44       174\n",
            "         105       0.90      0.55      0.69       276\n",
            "         106       0.49      0.17      0.25       193\n",
            "         107       0.69      0.44      0.54       267\n",
            "         108       0.89      0.51      0.65       215\n",
            "         109       0.92      0.64      0.75       267\n",
            "         110       0.58      0.38      0.46       188\n",
            "         111       0.49      0.25      0.33       170\n",
            "         112       0.72      0.46      0.56       215\n",
            "         113       0.00      0.00      0.00        94\n",
            "         114       0.64      0.18      0.28       151\n",
            "         115       0.73      0.37      0.49       178\n",
            "         116       0.27      0.08      0.13       166\n",
            "         117       0.59      0.23      0.33       204\n",
            "         118       0.69      0.35      0.46       133\n",
            "         119       0.84      0.63      0.72       203\n",
            "         120       0.74      0.47      0.57       122\n",
            "         121       0.54      0.09      0.15       158\n",
            "         122       0.94      0.60      0.73       171\n",
            "         123       0.93      0.49      0.64       308\n",
            "         124       0.48      0.10      0.17       139\n",
            "         125       0.21      0.07      0.10       122\n",
            "         126       0.73      0.34      0.46        89\n",
            "         127       0.53      0.39      0.45       162\n",
            "         128       0.37      0.10      0.16       148\n",
            "         129       0.77      0.19      0.31       156\n",
            "         130       0.76      0.22      0.34       132\n",
            "         131       0.62      0.43      0.51       142\n",
            "         132       0.35      0.12      0.18       186\n",
            "         133       0.41      0.16      0.23       133\n",
            "         134       0.96      0.67      0.79       154\n",
            "         135       0.89      0.70      0.78       128\n",
            "         136       0.23      0.07      0.10       138\n",
            "         137       0.45      0.12      0.19       154\n",
            "         138       0.55      0.29      0.38       182\n",
            "         139       0.11      0.01      0.02       102\n",
            "         140       0.96      0.75      0.84       203\n",
            "         141       0.32      0.06      0.10       100\n",
            "         142       0.00      0.00      0.00       241\n",
            "         143       0.58      0.34      0.43       211\n",
            "         144       0.28      0.09      0.14       155\n",
            "         145       0.49      0.29      0.37       175\n",
            "         146       0.69      0.37      0.48       150\n",
            "         147       0.95      0.62      0.75       267\n",
            "         148       0.23      0.06      0.09       134\n",
            "         149       0.52      0.06      0.11       180\n",
            "         150       0.33      0.08      0.13       133\n",
            "         151       0.46      0.34      0.39       167\n",
            "         152       0.50      0.18      0.27       114\n",
            "         153       0.45      0.12      0.19       127\n",
            "         154       0.09      0.03      0.05        32\n",
            "         155       0.38      0.10      0.16       140\n",
            "         156       0.42      0.18      0.26        87\n",
            "         157       0.25      0.02      0.03       167\n",
            "         158       0.71      0.48      0.57       153\n",
            "         159       0.21      0.01      0.02       296\n",
            "         160       0.31      0.07      0.12       125\n",
            "         161       0.76      0.18      0.29       269\n",
            "         162       0.60      0.41      0.49       129\n",
            "         163       0.23      0.04      0.07        76\n",
            "         164       0.95      0.49      0.64       171\n",
            "         165       0.22      0.04      0.07       127\n",
            "         166       0.67      0.32      0.43       144\n",
            "         167       0.62      0.43      0.51       127\n",
            "         168       0.25      0.06      0.09       106\n",
            "         169       0.60      0.26      0.36       144\n",
            "         170       0.20      0.06      0.09       115\n",
            "         171       0.97      0.67      0.79       137\n",
            "         172       0.79      0.28      0.41       221\n",
            "         173       0.33      0.04      0.07       145\n",
            "         174       0.40      0.20      0.27       139\n",
            "         175       0.24      0.08      0.12       142\n",
            "         176       0.49      0.27      0.35       103\n",
            "         177       0.90      0.64      0.75       132\n",
            "         178       0.71      0.37      0.49       142\n",
            "         179       0.76      0.26      0.39       123\n",
            "         180       0.85      0.55      0.67       138\n",
            "         181       0.19      0.05      0.08       124\n",
            "         182       0.74      0.25      0.38        91\n",
            "         183       0.39      0.22      0.28       107\n",
            "         184       0.50      0.22      0.31       113\n",
            "         185       0.67      0.28      0.39       143\n",
            "         186       0.49      0.23      0.32       145\n",
            "         187       0.23      0.01      0.02       378\n",
            "         188       0.75      0.45      0.56       149\n",
            "         189       0.49      0.29      0.37        79\n",
            "         190       0.24      0.05      0.08       109\n",
            "         191       0.52      0.38      0.44       119\n",
            "         192       0.77      0.41      0.53       116\n",
            "         193       0.27      0.08      0.12       124\n",
            "         194       0.00      0.00      0.00       119\n",
            "         195       0.48      0.08      0.13       156\n",
            "         196       0.41      0.12      0.18       152\n",
            "         197       0.38      0.08      0.13       111\n",
            "         198       0.38      0.06      0.10       107\n",
            "         199       0.82      0.62      0.70       104\n",
            "\n",
            "   micro avg       0.74      0.38      0.50     98927\n",
            "   macro avg       0.59      0.29      0.38     98927\n",
            "weighted avg       0.69      0.38      0.47     98927\n",
            " samples avg       0.46      0.37      0.39     98927\n",
            "\n"
          ],
          "name": "stdout"
        },
        {
          "output_type": "stream",
          "text": [
            "/usr/local/lib/python3.6/dist-packages/sklearn/metrics/_classification.py:1272: UndefinedMetricWarning: Precision and F-score are ill-defined and being set to 0.0 in labels with no predicted samples. Use `zero_division` parameter to control this behavior.\n",
            "  _warn_prf(average, modifier, msg_start, len(result))\n",
            "/usr/local/lib/python3.6/dist-packages/sklearn/metrics/_classification.py:1272: UndefinedMetricWarning: Precision and F-score are ill-defined and being set to 0.0 in samples with no predicted labels. Use `zero_division` parameter to control this behavior.\n",
            "  _warn_prf(average, modifier, msg_start, len(result))\n",
            "/usr/local/lib/python3.6/dist-packages/sklearn/metrics/_classification.py:1272: UndefinedMetricWarning: Recall and F-score are ill-defined and being set to 0.0 in samples with no true labels. Use `zero_division` parameter to control this behavior.\n",
            "  _warn_prf(average, modifier, msg_start, len(result))\n"
          ],
          "name": "stderr"
        }
      ]
    },
    {
      "cell_type": "code",
      "metadata": {
        "colab": {
          "base_uri": "https://localhost:8080/"
        },
        "id": "3lPNbcEQC_sP",
        "outputId": "c0e491ca-6636-4836-f067-d652b7ccba42"
      },
      "source": [
        "classifier = OneVsRestClassifier(LogisticRegression(penalty='l2'), n_jobs=-1)\n",
        "classifier.fit(x_train_multilabel, y_train)\n",
        "predictions = classifier.predict(x_test_multilabel)\n",
        "\n",
        "print(\"accuracy :\",metrics.accuracy_score(y_test,predictions))\n",
        "print(\"macro f1 score :\",metrics.f1_score(y_test, predictions, average = 'macro'))\n",
        "print(\"micro f1 scoore :\",metrics.f1_score(y_test, predictions, average = 'micro'))\n",
        "print(\"hamming loss :\",metrics.hamming_loss(y_test,predictions))\n",
        "print(\"Precision recall report :\\n\",metrics.classification_report(y_test, predictions))"
      ],
      "execution_count": 35,
      "outputs": [
        {
          "output_type": "stream",
          "text": [
            "accuracy : 0.2617\n",
            "macro f1 score : 0.33632228121932783\n",
            "micro f1 scoore : 0.47546464541584466\n",
            "hamming loss : 0.00631475\n",
            "Precision recall report :\n",
            "               precision    recall  f1-score   support\n",
            "\n",
            "           0       0.67      0.24      0.35      5007\n",
            "           1       0.79      0.41      0.54      5348\n",
            "           2       0.85      0.55      0.67      4921\n",
            "           3       0.76      0.41      0.53      4828\n",
            "           4       0.87      0.64      0.73      4228\n",
            "           5       0.96      0.72      0.82      4936\n",
            "           6       0.51      0.43      0.46      1834\n",
            "           7       0.77      0.33      0.46      2317\n",
            "           8       0.80      0.42      0.55      1765\n",
            "           9       0.51      0.08      0.13      1401\n",
            "          10       0.89      0.57      0.70      2173\n",
            "          11       0.56      0.20      0.30      2209\n",
            "          12       0.85      0.60      0.71      2074\n",
            "          13       0.64      0.17      0.27      1808\n",
            "          14       0.58      0.28      0.38      1580\n",
            "          15       0.81      0.53      0.64      1695\n",
            "          16       0.77      0.52      0.62      1342\n",
            "          17       0.72      0.12      0.21      2545\n",
            "          18       0.67      0.19      0.30      1220\n",
            "          19       0.51      0.27      0.35       673\n",
            "          20       0.77      0.32      0.45       873\n",
            "          21       0.88      0.49      0.62       701\n",
            "          22       0.64      0.40      0.49       743\n",
            "          23       0.54      0.28      0.37       602\n",
            "          24       0.68      0.36      0.47       776\n",
            "          25       0.87      0.57      0.69       639\n",
            "          26       0.32      0.05      0.09       628\n",
            "          27       0.95      0.68      0.79       610\n",
            "          28       0.44      0.07      0.11       506\n",
            "          29       0.49      0.29      0.37       652\n",
            "          30       0.66      0.17      0.27       665\n",
            "          31       0.89      0.27      0.41       471\n",
            "          32       0.66      0.15      0.24       799\n",
            "          33       0.37      0.07      0.12       628\n",
            "          34       0.55      0.17      0.26       344\n",
            "          35       0.49      0.17      0.25       481\n",
            "          36       0.79      0.61      0.69       692\n",
            "          37       0.77      0.44      0.56       578\n",
            "          38       0.63      0.36      0.46       450\n",
            "          39       0.73      0.48      0.58       644\n",
            "          40       0.40      0.10      0.17       346\n",
            "          41       0.60      0.09      0.15       729\n",
            "          42       0.40      0.15      0.22       230\n",
            "          43       0.92      0.64      0.75       329\n",
            "          44       0.53      0.04      0.08       468\n",
            "          45       0.79      0.34      0.47       355\n",
            "          46       0.81      0.35      0.49       237\n",
            "          47       0.27      0.09      0.14       411\n",
            "          48       0.36      0.02      0.03       260\n",
            "          49       0.63      0.25      0.36       338\n",
            "          50       0.72      0.14      0.24       276\n",
            "          51       0.74      0.30      0.43       237\n",
            "          52       0.72      0.27      0.39       334\n",
            "          53       0.37      0.11      0.17       401\n",
            "          54       0.72      0.11      0.20       256\n",
            "          55       0.60      0.26      0.37       315\n",
            "          56       0.83      0.39      0.53       194\n",
            "          57       0.95      0.48      0.64       257\n",
            "          58       0.69      0.26      0.37       396\n",
            "          59       0.76      0.39      0.51       303\n",
            "          60       0.48      0.03      0.05       399\n",
            "          61       0.77      0.44      0.56       333\n",
            "          62       0.91      0.71      0.80       325\n",
            "          63       0.86      0.22      0.35       399\n",
            "          64       0.99      0.41      0.58       248\n",
            "          65       0.72      0.09      0.16       506\n",
            "          66       0.41      0.11      0.17       210\n",
            "          67       0.89      0.55      0.68       306\n",
            "          68       0.71      0.26      0.38       320\n",
            "          69       0.67      0.28      0.39       316\n",
            "          70       0.53      0.04      0.07       207\n",
            "          71       0.91      0.45      0.60       350\n",
            "          72       0.47      0.08      0.14       181\n",
            "          73       0.38      0.20      0.27       235\n",
            "          74       0.71      0.45      0.55       260\n",
            "          75       0.90      0.15      0.26       411\n",
            "          76       0.58      0.29      0.38       227\n",
            "          77       0.20      0.03      0.05       126\n",
            "          78       0.79      0.26      0.39       314\n",
            "          79       0.61      0.34      0.44       202\n",
            "          80       0.57      0.06      0.10       208\n",
            "          81       0.27      0.02      0.03       221\n",
            "          82       0.78      0.40      0.53       309\n",
            "          83       0.43      0.14      0.21       168\n",
            "          84       0.85      0.36      0.51       306\n",
            "          85       0.74      0.36      0.49       240\n",
            "          86       0.09      0.01      0.02        77\n",
            "          87       0.92      0.31      0.47       247\n",
            "          88       0.84      0.53      0.65       137\n",
            "          89       0.63      0.06      0.11       195\n",
            "          90       0.98      0.55      0.70       248\n",
            "          91       0.95      0.48      0.64       124\n",
            "          92       0.33      0.08      0.12       209\n",
            "          93       0.38      0.11      0.17       221\n",
            "          94       0.26      0.02      0.04       239\n",
            "          95       0.84      0.30      0.44       341\n",
            "          96       0.33      0.09      0.14       217\n",
            "          97       0.92      0.47      0.62       207\n",
            "          98       0.88      0.50      0.64       270\n",
            "          99       0.71      0.35      0.47       243\n",
            "         100       0.26      0.04      0.07       225\n",
            "         101       0.24      0.06      0.10       184\n",
            "         102       0.45      0.08      0.14       188\n",
            "         103       0.71      0.42      0.53       117\n",
            "         104       0.60      0.31      0.41       174\n",
            "         105       0.90      0.34      0.50       276\n",
            "         106       0.52      0.15      0.23       193\n",
            "         107       0.68      0.42      0.52       267\n",
            "         108       0.93      0.36      0.52       215\n",
            "         109       0.95      0.47      0.63       267\n",
            "         110       0.61      0.34      0.44       188\n",
            "         111       0.51      0.22      0.31       170\n",
            "         112       0.72      0.34      0.46       215\n",
            "         113       0.25      0.01      0.02        94\n",
            "         114       0.56      0.09      0.16       151\n",
            "         115       0.70      0.24      0.36       178\n",
            "         116       0.29      0.07      0.11       166\n",
            "         117       0.69      0.22      0.33       204\n",
            "         118       0.74      0.29      0.42       133\n",
            "         119       0.88      0.47      0.61       203\n",
            "         120       0.73      0.38      0.50       122\n",
            "         121       0.55      0.04      0.07       158\n",
            "         122       0.96      0.43      0.59       171\n",
            "         123       0.96      0.37      0.53       308\n",
            "         124       0.50      0.04      0.08       139\n",
            "         125       0.18      0.05      0.08       122\n",
            "         126       0.68      0.29      0.41        89\n",
            "         127       0.52      0.29      0.37       162\n",
            "         128       0.35      0.08      0.13       148\n",
            "         129       0.86      0.12      0.21       156\n",
            "         130       0.74      0.15      0.25       132\n",
            "         131       0.65      0.37      0.48       142\n",
            "         132       0.41      0.09      0.15       186\n",
            "         133       0.51      0.14      0.21       133\n",
            "         134       0.96      0.53      0.69       154\n",
            "         135       0.89      0.59      0.71       128\n",
            "         136       0.28      0.06      0.10       138\n",
            "         137       0.48      0.08      0.13       154\n",
            "         138       0.59      0.23      0.33       182\n",
            "         139       0.20      0.01      0.02       102\n",
            "         140       0.98      0.59      0.74       203\n",
            "         141       0.46      0.06      0.11       100\n",
            "         142       0.00      0.00      0.00       241\n",
            "         143       0.62      0.26      0.37       211\n",
            "         144       0.28      0.06      0.10       155\n",
            "         145       0.58      0.26      0.36       175\n",
            "         146       0.65      0.25      0.36       150\n",
            "         147       0.97      0.41      0.58       267\n",
            "         148       0.30      0.05      0.09       134\n",
            "         149       0.58      0.04      0.07       180\n",
            "         150       0.36      0.07      0.11       133\n",
            "         151       0.49      0.28      0.35       167\n",
            "         152       0.45      0.12      0.19       114\n",
            "         153       0.60      0.07      0.13       127\n",
            "         154       0.12      0.03      0.05        32\n",
            "         155       0.36      0.07      0.12       140\n",
            "         156       0.45      0.10      0.17        87\n",
            "         157       0.18      0.01      0.02       167\n",
            "         158       0.73      0.35      0.47       153\n",
            "         159       0.25      0.01      0.01       296\n",
            "         160       0.39      0.09      0.14       125\n",
            "         161       0.68      0.16      0.26       269\n",
            "         162       0.67      0.37      0.48       129\n",
            "         163       0.20      0.01      0.02        76\n",
            "         164       1.00      0.29      0.45       171\n",
            "         165       0.31      0.04      0.07       127\n",
            "         166       0.70      0.26      0.38       144\n",
            "         167       0.63      0.38      0.47       127\n",
            "         168       0.27      0.03      0.05       106\n",
            "         169       0.59      0.20      0.30       144\n",
            "         170       0.26      0.06      0.10       115\n",
            "         171       0.97      0.47      0.63       137\n",
            "         172       0.88      0.26      0.40       221\n",
            "         173       0.40      0.06      0.10       145\n",
            "         174       0.40      0.18      0.25       139\n",
            "         175       0.28      0.06      0.10       142\n",
            "         176       0.52      0.22      0.31       103\n",
            "         177       0.96      0.48      0.64       132\n",
            "         178       0.73      0.32      0.45       142\n",
            "         179       0.78      0.17      0.28       123\n",
            "         180       0.86      0.41      0.56       138\n",
            "         181       0.20      0.04      0.07       124\n",
            "         182       0.82      0.20      0.32        91\n",
            "         183       0.42      0.19      0.26       107\n",
            "         184       0.65      0.21      0.32       113\n",
            "         185       0.79      0.23      0.36       143\n",
            "         186       0.48      0.19      0.27       145\n",
            "         187       0.20      0.00      0.01       378\n",
            "         188       0.75      0.28      0.41       149\n",
            "         189       0.55      0.29      0.38        79\n",
            "         190       0.40      0.04      0.07       109\n",
            "         191       0.50      0.24      0.33       119\n",
            "         192       0.81      0.29      0.43       116\n",
            "         193       0.36      0.06      0.11       124\n",
            "         194       0.00      0.00      0.00       119\n",
            "         195       0.50      0.06      0.10       156\n",
            "         196       0.41      0.08      0.13       152\n",
            "         197       0.47      0.06      0.11       111\n",
            "         198       0.29      0.05      0.08       107\n",
            "         199       0.86      0.49      0.63       104\n",
            "\n",
            "   micro avg       0.75      0.35      0.48     98927\n",
            "   macro avg       0.61      0.25      0.34     98927\n",
            "weighted avg       0.70      0.35      0.45     98927\n",
            " samples avg       0.44      0.34      0.37     98927\n",
            "\n"
          ],
          "name": "stdout"
        },
        {
          "output_type": "stream",
          "text": [
            "/usr/local/lib/python3.6/dist-packages/sklearn/metrics/_classification.py:1272: UndefinedMetricWarning: Precision and F-score are ill-defined and being set to 0.0 in labels with no predicted samples. Use `zero_division` parameter to control this behavior.\n",
            "  _warn_prf(average, modifier, msg_start, len(result))\n",
            "/usr/local/lib/python3.6/dist-packages/sklearn/metrics/_classification.py:1272: UndefinedMetricWarning: Precision and F-score are ill-defined and being set to 0.0 in samples with no predicted labels. Use `zero_division` parameter to control this behavior.\n",
            "  _warn_prf(average, modifier, msg_start, len(result))\n",
            "/usr/local/lib/python3.6/dist-packages/sklearn/metrics/_classification.py:1272: UndefinedMetricWarning: Recall and F-score are ill-defined and being set to 0.0 in samples with no true labels. Use `zero_division` parameter to control this behavior.\n",
            "  _warn_prf(average, modifier, msg_start, len(result))\n"
          ],
          "name": "stderr"
        }
      ]
    },
    {
      "cell_type": "code",
      "metadata": {
        "id": "S5wvogbbbfQV"
      },
      "source": [
        "# classifier = OneVsRestClassifier(svm.SVC(kernel='linear'))\n",
        "# classifier.fit(x_train_multilabel, y_train)\n",
        "# predictions = classifier.predict(x_test_multilabel)\n",
        "\n",
        "# print(\"accuracy :\",metrics.accuracy_score(y_test,predictions))\n",
        "# print(\"macro f1 score :\",metrics.f1_score(y_test, predictions, average = 'macro'))\n",
        "# print(\"micro f1 scoore :\",metrics.f1_score(y_test, predictions, average = 'micro'))\n",
        "# print(\"hamming loss :\",metrics.hamming_loss(y_test,predictions))\n",
        "# print(\"Precision recall report :\\n\",metrics.classification_report(y_test, predictions))"
      ],
      "execution_count": 36,
      "outputs": []
    },
    {
      "cell_type": "code",
      "metadata": {
        "colab": {
          "base_uri": "https://localhost:8080/"
        },
        "id": "AwK3YIHDDTUV",
        "outputId": "fe1908c5-5992-450c-e23c-11b3678a7ece"
      },
      "source": [
        "classifier = OneVsRestClassifier(SGDClassifier(loss='hinge', alpha=0.00001, penalty='l1'), n_jobs=-1)\n",
        "classifier.fit(x_train_multilabel, y_train)\n",
        "predictions = classifier.predict(x_test_multilabel)\n",
        "\n",
        "print(\"accuracy :\",metrics.accuracy_score(y_test,predictions))\n",
        "print(\"macro f1 score :\",metrics.f1_score(y_test, predictions, average = 'macro'))\n",
        "print(\"micro f1 scoore :\",metrics.f1_score(y_test, predictions, average = 'micro'))\n",
        "print(\"hamming loss :\",metrics.hamming_loss(y_test,predictions))\n",
        "print(\"Precision recall report :\\n\",metrics.classification_report(y_test, predictions))\n"
      ],
      "execution_count": 37,
      "outputs": [
        {
          "output_type": "stream",
          "text": [
            "accuracy : 0.2886\n",
            "macro f1 score : 0.33475497891858597\n",
            "micro f1 scoore : 0.5093176212661003\n",
            "hamming loss : 0.005968333333333333\n",
            "Precision recall report :\n",
            "               precision    recall  f1-score   support\n",
            "\n",
            "           0       0.69      0.14      0.23      5007\n",
            "           1       0.78      0.48      0.60      5348\n",
            "           2       0.83      0.61      0.70      4921\n",
            "           3       0.76      0.43      0.55      4828\n",
            "           4       0.84      0.70      0.76      4228\n",
            "           5       0.94      0.78      0.86      4936\n",
            "           6       0.53      0.48      0.51      1834\n",
            "           7       0.85      0.26      0.40      2317\n",
            "           8       0.79      0.50      0.61      1765\n",
            "           9       0.83      0.00      0.01      1401\n",
            "          10       0.87      0.69      0.77      2173\n",
            "          11       0.55      0.00      0.01      2209\n",
            "          12       0.82      0.66      0.73      2074\n",
            "          13       0.74      0.19      0.30      1808\n",
            "          14       0.69      0.11      0.19      1580\n",
            "          15       0.80      0.54      0.65      1695\n",
            "          16       0.75      0.67      0.71      1342\n",
            "          17       0.72      0.08      0.15      2545\n",
            "          18       0.67      0.05      0.09      1220\n",
            "          19       0.54      0.27      0.36       673\n",
            "          20       0.83      0.44      0.58       873\n",
            "          21       0.86      0.62      0.72       701\n",
            "          22       0.64      0.44      0.52       743\n",
            "          23       0.51      0.32      0.39       602\n",
            "          24       0.67      0.42      0.52       776\n",
            "          25       0.81      0.69      0.75       639\n",
            "          26       0.00      0.00      0.00       628\n",
            "          27       0.89      0.86      0.88       610\n",
            "          28       0.00      0.00      0.00       506\n",
            "          29       0.25      0.00      0.00       652\n",
            "          30       0.73      0.12      0.21       665\n",
            "          31       0.84      0.41      0.55       471\n",
            "          32       0.68      0.19      0.29       799\n",
            "          33       0.00      0.00      0.00       628\n",
            "          34       0.56      0.20      0.29       344\n",
            "          35       0.00      0.00      0.00       481\n",
            "          36       0.77      0.76      0.76       692\n",
            "          37       0.75      0.53      0.62       578\n",
            "          38       0.58      0.39      0.46       450\n",
            "          39       0.71      0.59      0.65       644\n",
            "          40       0.00      0.00      0.00       346\n",
            "          41       0.64      0.10      0.18       729\n",
            "          42       0.00      0.00      0.00       230\n",
            "          43       0.86      0.80      0.83       329\n",
            "          44       0.00      0.00      0.00       468\n",
            "          45       0.82      0.48      0.60       355\n",
            "          46       0.77      0.51      0.62       237\n",
            "          47       0.00      0.00      0.00       411\n",
            "          48       1.00      0.02      0.05       260\n",
            "          49       0.70      0.19      0.30       338\n",
            "          50       0.74      0.16      0.26       276\n",
            "          51       0.68      0.41      0.51       237\n",
            "          52       0.69      0.05      0.10       334\n",
            "          53       0.00      0.00      0.00       401\n",
            "          54       0.78      0.38      0.51       256\n",
            "          55       0.56      0.32      0.41       315\n",
            "          56       0.79      0.66      0.72       194\n",
            "          57       0.87      0.73      0.79       257\n",
            "          58       0.63      0.30      0.41       396\n",
            "          59       0.73      0.58      0.64       303\n",
            "          60       0.00      0.00      0.00       399\n",
            "          61       0.71      0.57      0.63       333\n",
            "          62       0.89      0.83      0.86       325\n",
            "          63       0.83      0.49      0.61       399\n",
            "          64       0.95      0.68      0.79       248\n",
            "          65       0.72      0.07      0.12       506\n",
            "          66       0.00      0.00      0.00       210\n",
            "          67       0.86      0.73      0.79       306\n",
            "          68       0.88      0.11      0.19       320\n",
            "          69       0.69      0.42      0.53       316\n",
            "          70       0.86      0.12      0.21       207\n",
            "          71       0.88      0.70      0.78       350\n",
            "          72       0.00      0.00      0.00       181\n",
            "          73       0.00      0.00      0.00       235\n",
            "          74       0.69      0.58      0.63       260\n",
            "          75       0.92      0.29      0.44       411\n",
            "          76       0.00      0.00      0.00       227\n",
            "          77       0.00      0.00      0.00       126\n",
            "          78       0.75      0.38      0.51       314\n",
            "          79       0.71      0.36      0.47       202\n",
            "          80       0.69      0.04      0.08       208\n",
            "          81       0.00      0.00      0.00       221\n",
            "          82       0.73      0.51      0.60       309\n",
            "          83       0.00      0.00      0.00       168\n",
            "          84       0.79      0.55      0.65       306\n",
            "          85       0.76      0.44      0.55       240\n",
            "          86       0.00      0.00      0.00        77\n",
            "          87       0.87      0.57      0.69       247\n",
            "          88       0.83      0.69      0.75       137\n",
            "          89       0.72      0.11      0.19       195\n",
            "          90       0.90      0.85      0.88       248\n",
            "          91       0.84      0.78      0.81       124\n",
            "          92       0.00      0.00      0.00       209\n",
            "          93       0.00      0.00      0.00       221\n",
            "          94       0.00      0.00      0.00       239\n",
            "          95       0.81      0.61      0.70       341\n",
            "          96       0.00      0.00      0.00       217\n",
            "          97       0.86      0.75      0.80       207\n",
            "          98       0.81      0.70      0.75       270\n",
            "          99       0.76      0.38      0.51       243\n",
            "         100       0.00      0.00      0.00       225\n",
            "         101       0.00      0.00      0.00       184\n",
            "         102       0.00      0.00      0.00       188\n",
            "         103       0.70      0.75      0.73       117\n",
            "         104       0.25      0.01      0.01       174\n",
            "         105       0.87      0.80      0.83       276\n",
            "         106       0.00      0.00      0.00       193\n",
            "         107       0.70      0.53      0.60       267\n",
            "         108       0.81      0.77      0.79       215\n",
            "         109       0.90      0.82      0.86       267\n",
            "         110       0.83      0.08      0.15       188\n",
            "         111       0.72      0.16      0.27       170\n",
            "         112       0.71      0.51      0.59       215\n",
            "         113       0.00      0.00      0.00        94\n",
            "         114       0.89      0.11      0.19       151\n",
            "         115       0.84      0.15      0.26       178\n",
            "         116       0.00      0.00      0.00       166\n",
            "         117       0.61      0.23      0.33       204\n",
            "         118       0.75      0.35      0.47       133\n",
            "         119       0.85      0.84      0.84       203\n",
            "         120       0.70      0.76      0.73       122\n",
            "         121       0.00      0.00      0.00       158\n",
            "         122       0.92      0.82      0.87       171\n",
            "         123       0.87      0.73      0.79       308\n",
            "         124       0.00      0.00      0.00       139\n",
            "         125       0.00      0.00      0.00       122\n",
            "         126       0.78      0.52      0.62        89\n",
            "         127       0.56      0.59      0.58       162\n",
            "         128       0.00      0.00      0.00       148\n",
            "         129       0.75      0.02      0.04       156\n",
            "         130       0.75      0.30      0.43       132\n",
            "         131       0.74      0.30      0.43       142\n",
            "         132       0.00      0.00      0.00       186\n",
            "         133       0.00      0.00      0.00       133\n",
            "         134       0.82      0.84      0.83       154\n",
            "         135       0.89      0.84      0.86       128\n",
            "         136       0.00      0.00      0.00       138\n",
            "         137       0.00      0.00      0.00       154\n",
            "         138       0.60      0.21      0.32       182\n",
            "         139       0.00      0.00      0.00       102\n",
            "         140       0.94      0.94      0.94       203\n",
            "         141       1.00      0.03      0.06       100\n",
            "         142       0.00      0.00      0.00       241\n",
            "         143       0.60      0.31      0.41       211\n",
            "         144       0.00      0.00      0.00       155\n",
            "         145       0.00      0.00      0.00       175\n",
            "         146       0.70      0.50      0.58       150\n",
            "         147       0.87      0.82      0.84       267\n",
            "         148       0.00      0.00      0.00       134\n",
            "         149       0.56      0.03      0.05       180\n",
            "         150       0.00      0.00      0.00       133\n",
            "         151       0.49      0.16      0.24       167\n",
            "         152       0.00      0.00      0.00       114\n",
            "         153       0.00      0.00      0.00       127\n",
            "         154       0.00      0.00      0.00        32\n",
            "         155       0.00      0.00      0.00       140\n",
            "         156       0.42      0.09      0.15        87\n",
            "         157       0.00      0.00      0.00       167\n",
            "         158       0.73      0.54      0.62       153\n",
            "         159       0.00      0.00      0.00       296\n",
            "         160       0.00      0.00      0.00       125\n",
            "         161       0.86      0.24      0.37       269\n",
            "         162       0.58      0.48      0.53       129\n",
            "         163       0.00      0.00      0.00        76\n",
            "         164       0.93      0.65      0.77       171\n",
            "         165       0.00      0.00      0.00       127\n",
            "         166       0.72      0.40      0.51       144\n",
            "         167       0.78      0.47      0.59       127\n",
            "         168       0.00      0.00      0.00       106\n",
            "         169       1.00      0.01      0.03       144\n",
            "         170       0.00      0.00      0.00       115\n",
            "         171       0.94      0.88      0.91       137\n",
            "         172       0.82      0.28      0.42       221\n",
            "         173       0.00      0.00      0.00       145\n",
            "         174       0.00      0.00      0.00       139\n",
            "         175       0.00      0.00      0.00       142\n",
            "         176       0.00      0.00      0.00       103\n",
            "         177       0.86      0.81      0.84       132\n",
            "         178       0.79      0.40      0.53       142\n",
            "         179       0.75      0.20      0.31       123\n",
            "         180       0.81      0.72      0.77       138\n",
            "         181       0.00      0.00      0.00       124\n",
            "         182       0.81      0.19      0.30        91\n",
            "         183       0.00      0.00      0.00       107\n",
            "         184       0.50      0.01      0.02       113\n",
            "         185       0.77      0.19      0.30       143\n",
            "         186       0.00      0.00      0.00       145\n",
            "         187       0.00      0.00      0.00       378\n",
            "         188       0.72      0.66      0.69       149\n",
            "         189       1.00      0.01      0.02        79\n",
            "         190       0.00      0.00      0.00       109\n",
            "         191       0.51      0.40      0.45       119\n",
            "         192       0.75      0.48      0.59       116\n",
            "         193       0.00      0.00      0.00       124\n",
            "         194       0.00      0.00      0.00       119\n",
            "         195       0.00      0.00      0.00       156\n",
            "         196       0.00      0.00      0.00       152\n",
            "         197       0.25      0.02      0.03       111\n",
            "         198       0.00      0.00      0.00       107\n",
            "         199       0.83      0.82      0.82       104\n",
            "\n",
            "   micro avg       0.79      0.38      0.51     98927\n",
            "   macro avg       0.50      0.29      0.33     98927\n",
            "weighted avg       0.66      0.38      0.44     98927\n",
            " samples avg       0.50      0.38      0.41     98927\n",
            "\n"
          ],
          "name": "stdout"
        },
        {
          "output_type": "stream",
          "text": [
            "/usr/local/lib/python3.6/dist-packages/sklearn/metrics/_classification.py:1272: UndefinedMetricWarning: Precision and F-score are ill-defined and being set to 0.0 in labels with no predicted samples. Use `zero_division` parameter to control this behavior.\n",
            "  _warn_prf(average, modifier, msg_start, len(result))\n",
            "/usr/local/lib/python3.6/dist-packages/sklearn/metrics/_classification.py:1272: UndefinedMetricWarning: Precision and F-score are ill-defined and being set to 0.0 in samples with no predicted labels. Use `zero_division` parameter to control this behavior.\n",
            "  _warn_prf(average, modifier, msg_start, len(result))\n",
            "/usr/local/lib/python3.6/dist-packages/sklearn/metrics/_classification.py:1272: UndefinedMetricWarning: Recall and F-score are ill-defined and being set to 0.0 in samples with no true labels. Use `zero_division` parameter to control this behavior.\n",
            "  _warn_prf(average, modifier, msg_start, len(result))\n"
          ],
          "name": "stderr"
        }
      ]
    },
    {
      "cell_type": "code",
      "metadata": {
        "id": "TVEJz5ubPaUt"
      },
      "source": [
        "preprossed_data = []\r\n",
        "questions_proccesed = 0\r\n",
        "data_size = 100000"
      ],
      "execution_count": 38,
      "outputs": []
    },
    {
      "cell_type": "markdown",
      "metadata": {
        "id": "VSp-ktONMND2"
      },
      "source": [
        "# Giving more weight to title"
      ]
    },
    {
      "cell_type": "code",
      "metadata": {
        "id": "ItSxfjibWD69",
        "colab": {
          "base_uri": "https://localhost:8080/"
        },
        "outputId": "3011986a-d603-4380-d368-9b6bb78bc6b0"
      },
      "source": [
        "start = datetime.now()\n",
        "questions_with_code=0\n",
        "for i in range(min(data_size, len(questions))):\n",
        "    is_code = 0\n",
        "\n",
        "    title = df['Title'][i]\n",
        "    question = df['Body'][i]\n",
        "    tag = df['Tag'][i]\n",
        "    \n",
        "    if '<code>' in question:\n",
        "        questions_with_code+=1\n",
        "        is_code = 1\n",
        "    x = len(question)+len(title)\n",
        "\n",
        "    code = str(re.findall(r'<code>(.*?)</code>', question, flags=re.DOTALL))\n",
        "\n",
        "    question=re.sub('<code>(.*?)</code>', '', question, flags=re.MULTILINE|re.DOTALL)\n",
        "    question=removeHtmlTags(question.encode('utf-8'))\n",
        "\n",
        "    title=title.encode('utf-8')\n",
        "\n",
        "    question=str(title)+\" \"+ str(title)+\" \"+ str(title)+str(question)\n",
        "    question=re.sub(r'[^A-Za-z]+',' ',question)\n",
        "    words=word_tokenize(str(question.lower()))\n",
        "    question=' '.join(str(stemmer.stem(j)) for j in words if j not in stop_words and (len(j)!=1 or j=='c'))\n",
        "    tup = (question,code,is_code,tag)\n",
        "    preprossed_data.append(tup)\n",
        "    questions_proccesed += 1\n",
        "    if (questions_proccesed%10000==0):\n",
        "        print(\"number of questions completed=\",questions_proccesed)\n",
        "    \n",
        "print(\"Time take to execute this cell \", datetime.now()-start)"
      ],
      "execution_count": 39,
      "outputs": [
        {
          "output_type": "stream",
          "text": [
            "number of questions completed= 10000\n",
            "number of questions completed= 20000\n",
            "number of questions completed= 30000\n",
            "number of questions completed= 40000\n",
            "number of questions completed= 50000\n",
            "number of questions completed= 60000\n",
            "number of questions completed= 70000\n",
            "number of questions completed= 80000\n",
            "number of questions completed= 90000\n",
            "number of questions completed= 100000\n",
            "Time take to execute this cell  0:02:37.220965\n"
          ],
          "name": "stdout"
        }
      ]
    },
    {
      "cell_type": "code",
      "metadata": {
        "id": "z8G9dKwxXcOF"
      },
      "source": [
        "data = pd.DataFrame(preprossed_data[:data_size], columns =['question', 'code', 'is_code','tag'])\n",
        "data.drop(['is_code','code'], axis =1, inplace=True)"
      ],
      "execution_count": 40,
      "outputs": []
    },
    {
      "cell_type": "code",
      "metadata": {
        "id": "kTyzOh1RXjf2"
      },
      "source": [
        "total_size=data.shape[0]\n",
        "train_size=int(0.80*total_size)\n",
        "\n",
        "x_train=data.head(train_size)\n",
        "x_test=data.tail(total_size - train_size)\n",
        "\n",
        "y_train = multilabel_yx[0:train_size,:]\n",
        "y_test = multilabel_yx[train_size:total_size,:]"
      ],
      "execution_count": 41,
      "outputs": []
    },
    {
      "cell_type": "code",
      "metadata": {
        "id": "qB85aQEnXwYB",
        "colab": {
          "base_uri": "https://localhost:8080/"
        },
        "outputId": "7af25b26-0b59-4587-a2a0-63383bad82b2"
      },
      "source": [
        "start = datetime.now()\n",
        "vectorizer = TfidfVectorizer(min_df=0.00009, max_features=200000, smooth_idf=True, norm=\"l2\", \\\n",
        "                             tokenizer = lambda x: x.split(), sublinear_tf=False, ngram_range=(1,3))\n",
        "x_train_multilabel = vectorizer.fit_transform(x_train['question'])\n",
        "x_test_multilabel = vectorizer.transform(x_test['question'])\n",
        "print(\"Time taken to run this cell :\", datetime.now() - start)"
      ],
      "execution_count": 42,
      "outputs": [
        {
          "output_type": "stream",
          "text": [
            "Time taken to run this cell : 0:00:57.198792\n"
          ],
          "name": "stdout"
        }
      ]
    },
    {
      "cell_type": "code",
      "metadata": {
        "id": "KtdvkO75X1Se",
        "colab": {
          "base_uri": "https://localhost:8080/"
        },
        "outputId": "e383d89f-4ca2-4719-9473-d004aa58fa80"
      },
      "source": [
        "classifier = OneVsRestClassifier(SGDClassifier(loss='log', alpha=0.00001, penalty='l1'), n_jobs=-1)\n",
        "classifier.fit(x_train_multilabel, y_train)\n",
        "predictions = classifier.predict(x_test_multilabel)\n",
        "\n",
        "print(\"accuracy :\",metrics.accuracy_score(y_test,predictions))\n",
        "print(\"macro f1 score :\",metrics.f1_score(y_test, predictions, average = 'macro'))\n",
        "print(\"micro f1 scoore :\",metrics.f1_score(y_test, predictions, average = 'micro'))\n",
        "print(\"hamming loss :\",metrics.hamming_loss(y_test,predictions))\n",
        "print(\"Precision recall report :\\n\",metrics.classification_report(y_test, predictions))"
      ],
      "execution_count": 43,
      "outputs": [
        {
          "output_type": "stream",
          "text": [
            "accuracy : 0.30665\n",
            "macro f1 score : 0.44298434541242815\n",
            "micro f1 scoore : 0.5509207941971491\n",
            "hamming loss : 0.00577325\n",
            "Precision recall report :\n",
            "               precision    recall  f1-score   support\n",
            "\n",
            "           0       0.65      0.31      0.42      2072\n",
            "           1       0.81      0.51      0.63      1547\n",
            "           2       0.86      0.61      0.71      1497\n",
            "           3       0.78      0.45      0.57      1266\n",
            "           4       0.91      0.72      0.81      1181\n",
            "           5       0.99      0.73      0.84       940\n",
            "           6       0.85      0.64      0.73      1124\n",
            "           7       0.71      0.33      0.45       903\n",
            "           8       0.82      0.44      0.58       827\n",
            "           9       0.55      0.16      0.25       782\n",
            "          10       0.90      0.65      0.75       782\n",
            "          11       0.59      0.32      0.41       599\n",
            "          12       0.89      0.64      0.74       632\n",
            "          13       0.64      0.23      0.33       558\n",
            "          14       0.62      0.34      0.44       600\n",
            "          15       0.78      0.56      0.65       427\n",
            "          16       0.88      0.69      0.77       545\n",
            "          17       0.33      0.01      0.01       143\n",
            "          18       0.65      0.20      0.30       456\n",
            "          19       0.65      0.42      0.51       353\n",
            "          20       0.72      0.45      0.55       309\n",
            "          21       0.94      0.64      0.76       353\n",
            "          22       0.69      0.49      0.57       299\n",
            "          23       0.62      0.55      0.58       258\n",
            "          24       0.67      0.38      0.49       268\n",
            "          25       0.89      0.75      0.81       267\n",
            "          26       0.34      0.10      0.15       222\n",
            "          27       0.96      0.79      0.87       209\n",
            "          28       0.29      0.06      0.10       228\n",
            "          29       0.54      0.36      0.43       209\n",
            "          30       0.68      0.28      0.40       197\n",
            "          31       0.89      0.30      0.45       194\n",
            "          32       0.80      0.37      0.50       152\n",
            "          33       1.00      0.01      0.02       122\n",
            "          34       0.70      0.31      0.42       157\n",
            "          35       0.49      0.24      0.32       174\n",
            "          36       0.88      0.76      0.81       135\n",
            "          37       0.85      0.64      0.73       151\n",
            "          38       0.60      0.47      0.53       155\n",
            "          39       0.86      0.66      0.75       137\n",
            "          40       0.35      0.15      0.21       161\n",
            "          41       0.00      0.00      0.00        13\n",
            "          42       0.44      0.28      0.35       156\n",
            "          43       0.89      0.71      0.79       150\n",
            "          44       0.50      0.02      0.03       168\n",
            "          45       0.78      0.58      0.66       152\n",
            "          46       0.82      0.55      0.66       182\n",
            "          47       0.20      0.11      0.15       114\n",
            "          48       0.14      0.02      0.04       131\n",
            "          49       0.71      0.31      0.44       134\n",
            "          50       0.69      0.21      0.33       155\n",
            "          51       0.77      0.54      0.63       147\n",
            "          52       0.61      0.30      0.40       115\n",
            "          53       0.49      0.18      0.27       130\n",
            "          54       0.78      0.33      0.46       122\n",
            "          55       0.61      0.52      0.56       114\n",
            "          56       0.85      0.63      0.72       142\n",
            "          57       0.97      0.69      0.80       153\n",
            "          58       0.77      0.39      0.52       152\n",
            "          59       0.80      0.58      0.67       102\n",
            "          60       0.25      0.02      0.04        92\n",
            "          61       0.87      0.69      0.77        97\n",
            "          62       0.91      0.80      0.85       101\n",
            "          63       0.63      0.33      0.44        66\n",
            "          64       0.95      0.56      0.71       105\n",
            "          65       1.00      0.03      0.05        77\n",
            "          66       0.44      0.17      0.25       116\n",
            "          67       0.91      0.75      0.82        95\n",
            "          68       0.60      0.37      0.46        86\n",
            "          69       0.67      0.60      0.63        96\n",
            "          70       0.50      0.08      0.14       115\n",
            "          71       0.94      0.64      0.76        96\n",
            "          72       0.54      0.20      0.29       101\n",
            "          73       0.60      0.37      0.46       106\n",
            "          74       0.62      0.54      0.57        89\n",
            "          75       1.00      0.16      0.28        62\n",
            "          76       0.43      0.29      0.34        91\n",
            "          77       0.30      0.06      0.10       118\n",
            "          78       0.68      0.44      0.53        78\n",
            "          79       0.72      0.51      0.60        76\n",
            "          80       0.60      0.17      0.27        86\n",
            "          81       0.00      0.00      0.00        82\n",
            "          82       0.74      0.45      0.56        75\n",
            "          83       0.61      0.31      0.42       105\n",
            "          84       0.85      0.55      0.67        86\n",
            "          85       0.72      0.49      0.59        79\n",
            "          86       0.19      0.08      0.11       109\n",
            "          87       0.84      0.50      0.63        84\n",
            "          88       0.86      0.73      0.79        75\n",
            "          89       0.61      0.18      0.28        78\n",
            "          90       0.96      0.81      0.88        81\n",
            "          91       0.91      0.83      0.87        87\n",
            "          92       0.34      0.19      0.25        77\n",
            "          93       0.44      0.21      0.28        58\n",
            "          94       0.36      0.05      0.10        73\n",
            "          95       0.88      0.28      0.43        53\n",
            "          96       0.37      0.16      0.22        81\n",
            "          97       0.94      0.70      0.81        88\n",
            "          98       0.83      0.51      0.63        77\n",
            "          99       0.72      0.54      0.62        82\n",
            "         100       0.36      0.05      0.09        78\n",
            "         101       0.44      0.14      0.22        84\n",
            "         102       0.55      0.14      0.23        84\n",
            "         103       0.65      0.68      0.67        66\n",
            "         104       0.49      0.30      0.37        74\n",
            "         105       0.97      0.67      0.79        51\n",
            "         106       0.55      0.33      0.41        55\n",
            "         107       0.81      0.70      0.75        61\n",
            "         108       0.94      0.66      0.77        70\n",
            "         109       0.95      0.81      0.88        52\n",
            "         110       0.57      0.31      0.40        65\n",
            "         111       0.61      0.35      0.44        63\n",
            "         112       0.93      0.64      0.76        66\n",
            "         113       0.50      0.05      0.09       123\n",
            "         114       0.71      0.24      0.36        71\n",
            "         115       0.77      0.41      0.54        58\n",
            "         116       0.25      0.11      0.15        55\n",
            "         117       0.61      0.33      0.43        69\n",
            "         118       0.71      0.50      0.59        60\n",
            "         119       0.95      0.68      0.79        59\n",
            "         120       0.94      0.72      0.81        92\n",
            "         121       0.50      0.09      0.15        56\n",
            "         122       0.98      0.67      0.80        67\n",
            "         123       1.00      0.31      0.47        13\n",
            "         124       0.61      0.21      0.31        52\n",
            "         125       0.47      0.14      0.22        56\n",
            "         126       0.76      0.54      0.63        59\n",
            "         127       0.91      0.41      0.57        51\n",
            "         128       0.38      0.16      0.23        50\n",
            "         129       0.65      0.27      0.38        55\n",
            "         130       0.76      0.67      0.71        55\n",
            "         131       0.63      0.44      0.52        59\n",
            "         132       0.08      0.02      0.04        43\n",
            "         133       0.54      0.25      0.35        51\n",
            "         134       0.93      0.75      0.83        51\n",
            "         135       0.95      0.73      0.83        52\n",
            "         136       0.15      0.04      0.06        50\n",
            "         137       0.36      0.20      0.26        45\n",
            "         138       0.71      0.48      0.57        50\n",
            "         139       0.43      0.05      0.09        57\n",
            "         140       1.00      0.67      0.80        49\n",
            "         141       0.65      0.18      0.28        62\n",
            "         142       0.00      0.00      0.00        45\n",
            "         143       0.74      0.59      0.66        34\n",
            "         144       0.21      0.10      0.14        48\n",
            "         145       0.39      0.33      0.36        40\n",
            "         146       0.70      0.39      0.50        59\n",
            "         147       0.95      0.58      0.72        31\n",
            "         148       0.29      0.04      0.06        56\n",
            "         149       0.54      0.18      0.27        38\n",
            "         150       0.48      0.23      0.31        52\n",
            "         151       0.61      0.40      0.48        43\n",
            "         152       0.41      0.20      0.27        59\n",
            "         153       0.45      0.15      0.22        61\n",
            "         154       1.00      0.02      0.03       169\n",
            "         155       0.67      0.38      0.48        53\n",
            "         156       0.55      0.30      0.39        57\n",
            "         157       0.00      0.00      0.00        46\n",
            "         158       0.83      0.62      0.71        40\n",
            "         159       0.00      0.00      0.00         8\n",
            "         160       0.06      0.02      0.03        43\n",
            "         161       0.00      0.00      0.00        10\n",
            "         162       0.70      0.70      0.70        43\n",
            "         163       0.25      0.07      0.11        56\n",
            "         164       1.00      0.63      0.78        41\n",
            "         165       0.40      0.11      0.18        35\n",
            "         166       0.74      0.53      0.61        59\n",
            "         167       0.79      0.54      0.64        61\n",
            "         168       0.42      0.17      0.24        48\n",
            "         169       0.65      0.40      0.49        60\n",
            "         170       0.43      0.18      0.26        49\n",
            "         171       1.00      0.84      0.91        44\n",
            "         172       0.50      0.06      0.11        16\n",
            "         173       0.17      0.03      0.05        38\n",
            "         174       0.56      0.37      0.44        38\n",
            "         175       0.19      0.10      0.13        42\n",
            "         176       0.58      0.28      0.38        53\n",
            "         177       1.00      0.79      0.88        43\n",
            "         178       0.82      0.34      0.48        41\n",
            "         179       0.80      0.40      0.53        50\n",
            "         180       0.92      0.55      0.69        40\n",
            "         181       0.35      0.12      0.17        52\n",
            "         182       0.64      0.33      0.43        43\n",
            "         183       0.47      0.49      0.48        39\n",
            "         184       0.52      0.38      0.44        39\n",
            "         185       0.83      0.40      0.54        50\n",
            "         186       0.37      0.21      0.27        47\n",
            "         187       0.00      0.00      0.00         0\n",
            "         188       0.91      0.62      0.73        47\n",
            "         189       0.61      0.37      0.46        52\n",
            "         190       0.12      0.02      0.04        44\n",
            "         191       0.62      0.53      0.57        34\n",
            "         192       0.73      0.44      0.55        36\n",
            "         193       0.40      0.12      0.18        51\n",
            "         194       0.17      0.03      0.04        40\n",
            "         195       0.00      0.00      0.00        28\n",
            "         196       0.67      0.15      0.24        27\n",
            "         197       0.56      0.11      0.19        45\n",
            "         198       0.40      0.05      0.09        42\n",
            "         199       0.97      0.88      0.92        33\n",
            "\n",
            "   micro avg       0.76      0.43      0.55     32739\n",
            "   macro avg       0.63      0.37      0.44     32739\n",
            "weighted avg       0.72      0.43      0.52     32739\n",
            " samples avg       0.53      0.43      0.45     32739\n",
            "\n"
          ],
          "name": "stdout"
        },
        {
          "output_type": "stream",
          "text": [
            "/usr/local/lib/python3.6/dist-packages/sklearn/metrics/_classification.py:1515: UndefinedMetricWarning: F-score is ill-defined and being set to 0.0 in labels with no true nor predicted samples. Use `zero_division` parameter to control this behavior.\n",
            "  average, \"true nor predicted\", 'F-score is', len(true_sum)\n",
            "/usr/local/lib/python3.6/dist-packages/sklearn/metrics/_classification.py:1272: UndefinedMetricWarning: Precision and F-score are ill-defined and being set to 0.0 in labels with no predicted samples. Use `zero_division` parameter to control this behavior.\n",
            "  _warn_prf(average, modifier, msg_start, len(result))\n",
            "/usr/local/lib/python3.6/dist-packages/sklearn/metrics/_classification.py:1272: UndefinedMetricWarning: Recall and F-score are ill-defined and being set to 0.0 in labels with no true samples. Use `zero_division` parameter to control this behavior.\n",
            "  _warn_prf(average, modifier, msg_start, len(result))\n",
            "/usr/local/lib/python3.6/dist-packages/sklearn/metrics/_classification.py:1272: UndefinedMetricWarning: Precision and F-score are ill-defined and being set to 0.0 in samples with no predicted labels. Use `zero_division` parameter to control this behavior.\n",
            "  _warn_prf(average, modifier, msg_start, len(result))\n",
            "/usr/local/lib/python3.6/dist-packages/sklearn/metrics/_classification.py:1272: UndefinedMetricWarning: Recall and F-score are ill-defined and being set to 0.0 in samples with no true labels. Use `zero_division` parameter to control this behavior.\n",
            "  _warn_prf(average, modifier, msg_start, len(result))\n"
          ],
          "name": "stderr"
        }
      ]
    },
    {
      "cell_type": "code",
      "metadata": {
        "id": "AZjgdyR4X7Fw",
        "colab": {
          "base_uri": "https://localhost:8080/"
        },
        "outputId": "e59f3bd3-da13-4161-95dc-4fd162f9e89e"
      },
      "source": [
        "classifier = OneVsRestClassifier(SGDClassifier(loss='hinge', alpha=0.00001, penalty='l1'), n_jobs=-1)\n",
        "classifier.fit(x_train_multilabel, y_train)\n",
        "predictions = classifier.predict(x_test_multilabel)\n",
        "\n",
        "print(\"accuracy :\",metrics.accuracy_score(y_test,predictions))\n",
        "print(\"macro f1 score :\",metrics.f1_score(y_test, predictions, average = 'macro'))\n",
        "print(\"micro f1 scoore :\",metrics.f1_score(y_test, predictions, average = 'micro'))\n",
        "print(\"hamming loss :\",metrics.hamming_loss(y_test,predictions))\n",
        "print(\"Precision recall report :\\n\",metrics.classification_report(y_test, predictions))"
      ],
      "execution_count": 44,
      "outputs": [
        {
          "output_type": "stream",
          "text": [
            "accuracy : 0.32875\n",
            "macro f1 score : 0.41495314751325574\n",
            "micro f1 scoore : 0.5659547489796727\n",
            "hamming loss : 0.005477\n",
            "Precision recall report :\n",
            "               precision    recall  f1-score   support\n",
            "\n",
            "           0       0.68      0.29      0.41      2072\n",
            "           1       0.82      0.56      0.66      1547\n",
            "           2       0.86      0.64      0.73      1497\n",
            "           3       0.83      0.43      0.57      1266\n",
            "           4       0.90      0.74      0.81      1181\n",
            "           5       0.98      0.78      0.87       940\n",
            "           6       0.86      0.70      0.77      1124\n",
            "           7       0.80      0.29      0.42       903\n",
            "           8       0.79      0.47      0.59       827\n",
            "           9       0.58      0.16      0.25       782\n",
            "          10       0.91      0.73      0.81       782\n",
            "          11       0.63      0.23      0.34       599\n",
            "          12       0.89      0.63      0.74       632\n",
            "          13       0.72      0.23      0.35       558\n",
            "          14       0.67      0.30      0.42       600\n",
            "          15       0.79      0.57      0.66       427\n",
            "          16       0.89      0.79      0.84       545\n",
            "          17       0.00      0.00      0.00       143\n",
            "          18       0.80      0.13      0.23       456\n",
            "          19       0.68      0.43      0.52       353\n",
            "          20       0.88      0.46      0.60       309\n",
            "          21       0.91      0.70      0.79       353\n",
            "          22       0.67      0.51      0.58       299\n",
            "          23       0.63      0.64      0.64       258\n",
            "          24       0.66      0.43      0.52       268\n",
            "          25       0.88      0.76      0.82       267\n",
            "          26       0.00      0.00      0.00       222\n",
            "          27       0.90      0.86      0.88       209\n",
            "          28       0.25      0.00      0.01       228\n",
            "          29       0.59      0.26      0.36       209\n",
            "          30       0.73      0.34      0.46       197\n",
            "          31       0.88      0.37      0.52       194\n",
            "          32       0.82      0.37      0.51       152\n",
            "          33       0.00      0.00      0.00       122\n",
            "          34       0.71      0.28      0.40       157\n",
            "          35       0.54      0.04      0.07       174\n",
            "          36       0.86      0.84      0.85       135\n",
            "          37       0.84      0.70      0.77       151\n",
            "          38       0.66      0.51      0.57       155\n",
            "          39       0.83      0.74      0.78       137\n",
            "          40       0.25      0.01      0.01       161\n",
            "          41       0.00      0.00      0.00        13\n",
            "          42       0.47      0.24      0.31       156\n",
            "          43       0.86      0.77      0.81       150\n",
            "          44       0.00      0.00      0.00       168\n",
            "          45       0.77      0.58      0.66       152\n",
            "          46       0.81      0.60      0.69       182\n",
            "          47       0.50      0.01      0.02       114\n",
            "          48       0.00      0.00      0.00       131\n",
            "          49       0.72      0.33      0.45       134\n",
            "          50       0.79      0.29      0.42       155\n",
            "          51       0.75      0.66      0.70       147\n",
            "          52       0.57      0.26      0.36       115\n",
            "          53       0.00      0.00      0.00       130\n",
            "          54       0.85      0.41      0.55       122\n",
            "          55       0.57      0.54      0.55       114\n",
            "          56       0.83      0.70      0.76       142\n",
            "          57       0.95      0.74      0.83       153\n",
            "          58       0.76      0.43      0.55       152\n",
            "          59       0.79      0.62      0.69       102\n",
            "          60       0.00      0.00      0.00        92\n",
            "          61       0.88      0.72      0.79        97\n",
            "          62       0.89      0.83      0.86       101\n",
            "          63       0.64      0.45      0.53        66\n",
            "          64       0.93      0.71      0.81       105\n",
            "          65       0.40      0.03      0.05        77\n",
            "          66       0.50      0.08      0.13       116\n",
            "          67       0.90      0.76      0.82        95\n",
            "          68       0.66      0.36      0.47        86\n",
            "          69       0.64      0.71      0.67        96\n",
            "          70       0.54      0.06      0.11       115\n",
            "          71       0.92      0.70      0.79        96\n",
            "          72       0.75      0.03      0.06       101\n",
            "          73       0.50      0.16      0.24       106\n",
            "          74       0.63      0.67      0.65        89\n",
            "          75       1.00      0.18      0.30        62\n",
            "          76       0.43      0.14      0.21        91\n",
            "          77       0.00      0.00      0.00       118\n",
            "          78       0.64      0.45      0.53        78\n",
            "          79       0.75      0.54      0.63        76\n",
            "          80       0.81      0.15      0.25        86\n",
            "          81       0.00      0.00      0.00        82\n",
            "          82       0.74      0.67      0.70        75\n",
            "          83       0.58      0.20      0.30       105\n",
            "          84       0.82      0.55      0.66        86\n",
            "          85       0.73      0.61      0.66        79\n",
            "          86       0.00      0.00      0.00       109\n",
            "          87       0.85      0.62      0.72        84\n",
            "          88       0.88      0.76      0.81        75\n",
            "          89       0.64      0.12      0.20        78\n",
            "          90       0.95      0.88      0.91        81\n",
            "          91       0.88      0.89      0.88        87\n",
            "          92       0.67      0.05      0.10        77\n",
            "          93       0.00      0.00      0.00        58\n",
            "          94       0.00      0.00      0.00        73\n",
            "          95       0.82      0.51      0.63        53\n",
            "          96       0.00      0.00      0.00        81\n",
            "          97       0.92      0.78      0.85        88\n",
            "          98       0.90      0.60      0.72        77\n",
            "          99       0.73      0.56      0.63        82\n",
            "         100       0.00      0.00      0.00        78\n",
            "         101       0.33      0.01      0.02        84\n",
            "         102       0.67      0.02      0.05        84\n",
            "         103       0.67      0.85      0.75        66\n",
            "         104       0.50      0.31      0.38        74\n",
            "         105       0.86      0.82      0.84        51\n",
            "         106       0.58      0.35      0.43        55\n",
            "         107       0.78      0.77      0.78        61\n",
            "         108       0.92      0.70      0.80        70\n",
            "         109       0.94      0.88      0.91        52\n",
            "         110       0.75      0.18      0.30        65\n",
            "         111       0.70      0.22      0.34        63\n",
            "         112       0.90      0.65      0.75        66\n",
            "         113       0.00      0.00      0.00       123\n",
            "         114       0.88      0.20      0.32        71\n",
            "         115       0.77      0.40      0.52        58\n",
            "         116       0.33      0.02      0.03        55\n",
            "         117       0.72      0.26      0.38        69\n",
            "         118       0.75      0.50      0.60        60\n",
            "         119       0.92      0.78      0.84        59\n",
            "         120       0.92      0.76      0.83        92\n",
            "         121       0.57      0.07      0.13        56\n",
            "         122       0.91      0.75      0.82        67\n",
            "         123       1.00      0.46      0.63        13\n",
            "         124       0.62      0.10      0.17        52\n",
            "         125       0.00      0.00      0.00        56\n",
            "         126       0.79      0.51      0.62        59\n",
            "         127       0.91      0.63      0.74        51\n",
            "         128       0.29      0.04      0.07        50\n",
            "         129       0.64      0.25      0.36        55\n",
            "         130       0.79      0.60      0.68        55\n",
            "         131       0.64      0.42      0.51        59\n",
            "         132       0.00      0.00      0.00        43\n",
            "         133       0.44      0.08      0.13        51\n",
            "         134       0.93      0.76      0.84        51\n",
            "         135       0.93      0.77      0.84        52\n",
            "         136       0.00      0.00      0.00        50\n",
            "         137       0.00      0.00      0.00        45\n",
            "         138       0.69      0.58      0.63        50\n",
            "         139       0.00      0.00      0.00        57\n",
            "         140       0.98      0.84      0.90        49\n",
            "         141       0.73      0.13      0.22        62\n",
            "         142       0.00      0.00      0.00        45\n",
            "         143       0.70      0.68      0.69        34\n",
            "         144       0.00      0.00      0.00        48\n",
            "         145       0.47      0.20      0.28        40\n",
            "         146       0.73      0.51      0.60        59\n",
            "         147       0.96      0.71      0.81        31\n",
            "         148       0.00      0.00      0.00        56\n",
            "         149       0.60      0.16      0.25        38\n",
            "         150       0.00      0.00      0.00        52\n",
            "         151       0.59      0.63      0.61        43\n",
            "         152       0.50      0.03      0.06        59\n",
            "         153       0.00      0.00      0.00        61\n",
            "         154       0.00      0.00      0.00       169\n",
            "         155       1.00      0.06      0.11        53\n",
            "         156       0.84      0.28      0.42        57\n",
            "         157       0.00      0.00      0.00        46\n",
            "         158       0.85      0.70      0.77        40\n",
            "         159       0.00      0.00      0.00         8\n",
            "         160       0.00      0.00      0.00        43\n",
            "         161       0.00      0.00      0.00        10\n",
            "         162       0.66      0.86      0.75        43\n",
            "         163       0.00      0.00      0.00        56\n",
            "         164       1.00      0.68      0.81        41\n",
            "         165       1.00      0.03      0.06        35\n",
            "         166       0.72      0.66      0.69        59\n",
            "         167       0.94      0.51      0.66        61\n",
            "         168       0.00      0.00      0.00        48\n",
            "         169       0.68      0.22      0.33        60\n",
            "         170       0.00      0.00      0.00        49\n",
            "         171       0.97      0.89      0.93        44\n",
            "         172       0.00      0.00      0.00        16\n",
            "         173       0.00      0.00      0.00        38\n",
            "         174       1.00      0.05      0.10        38\n",
            "         175       0.00      0.00      0.00        42\n",
            "         176       0.65      0.21      0.31        53\n",
            "         177       1.00      0.86      0.92        43\n",
            "         178       0.78      0.34      0.47        41\n",
            "         179       0.87      0.52      0.65        50\n",
            "         180       0.88      0.70      0.78        40\n",
            "         181       0.00      0.00      0.00        52\n",
            "         182       0.75      0.35      0.48        43\n",
            "         183       0.46      0.62      0.53        39\n",
            "         184       1.00      0.21      0.34        39\n",
            "         185       0.85      0.44      0.58        50\n",
            "         186       0.00      0.00      0.00        47\n",
            "         187       0.00      0.00      0.00         0\n",
            "         188       0.89      0.66      0.76        47\n",
            "         189       0.60      0.46      0.52        52\n",
            "         190       0.00      0.00      0.00        44\n",
            "         191       0.63      0.71      0.67        34\n",
            "         192       0.63      0.53      0.58        36\n",
            "         193       0.00      0.00      0.00        51\n",
            "         194       0.00      0.00      0.00        40\n",
            "         195       0.00      0.00      0.00        28\n",
            "         196       0.33      0.07      0.12        27\n",
            "         197       0.67      0.04      0.08        45\n",
            "         198       0.00      0.00      0.00        42\n",
            "         199       0.97      0.88      0.92        33\n",
            "\n",
            "   micro avg       0.81      0.44      0.57     32739\n",
            "   macro avg       0.58      0.36      0.41     32739\n",
            "weighted avg       0.70      0.44      0.52     32739\n",
            " samples avg       0.57      0.44      0.47     32739\n",
            "\n"
          ],
          "name": "stdout"
        },
        {
          "output_type": "stream",
          "text": [
            "/usr/local/lib/python3.6/dist-packages/sklearn/metrics/_classification.py:1515: UndefinedMetricWarning: F-score is ill-defined and being set to 0.0 in labels with no true nor predicted samples. Use `zero_division` parameter to control this behavior.\n",
            "  average, \"true nor predicted\", 'F-score is', len(true_sum)\n",
            "/usr/local/lib/python3.6/dist-packages/sklearn/metrics/_classification.py:1272: UndefinedMetricWarning: Precision and F-score are ill-defined and being set to 0.0 in labels with no predicted samples. Use `zero_division` parameter to control this behavior.\n",
            "  _warn_prf(average, modifier, msg_start, len(result))\n",
            "/usr/local/lib/python3.6/dist-packages/sklearn/metrics/_classification.py:1272: UndefinedMetricWarning: Recall and F-score are ill-defined and being set to 0.0 in labels with no true samples. Use `zero_division` parameter to control this behavior.\n",
            "  _warn_prf(average, modifier, msg_start, len(result))\n",
            "/usr/local/lib/python3.6/dist-packages/sklearn/metrics/_classification.py:1272: UndefinedMetricWarning: Precision and F-score are ill-defined and being set to 0.0 in samples with no predicted labels. Use `zero_division` parameter to control this behavior.\n",
            "  _warn_prf(average, modifier, msg_start, len(result))\n",
            "/usr/local/lib/python3.6/dist-packages/sklearn/metrics/_classification.py:1272: UndefinedMetricWarning: Recall and F-score are ill-defined and being set to 0.0 in samples with no true labels. Use `zero_division` parameter to control this behavior.\n",
            "  _warn_prf(average, modifier, msg_start, len(result))\n"
          ],
          "name": "stderr"
        }
      ]
    },
    {
      "cell_type": "code",
      "metadata": {
        "id": "_KkCFMYHYcdW"
      },
      "source": [
        "# classifier = OneVsRestClassifier(svm.SVC(kernel='linear'))\n",
        "# classifier.fit(x_train_multilabel, y_train)\n",
        "# predictions = classifier.predict(x_test_multilabel)\n",
        "\n",
        "# print(\"accuracy :\",metrics.accuracy_score(y_test,predictions))\n",
        "# print(\"macro f1 score :\",metrics.f1_score(y_test, predictions, average = 'macro'))\n",
        "# print(\"micro f1 scoore :\",metrics.f1_score(y_test, predictions, average = 'micro'))\n",
        "# print(\"hamming loss :\",metrics.hamming_loss(y_test,predictions))\n",
        "# print(\"Precision recall report :\\n\",metrics.classification_report(y_test, predictions))"
      ],
      "execution_count": 45,
      "outputs": []
    },
    {
      "cell_type": "code",
      "metadata": {
        "id": "wjcUNLXCYqg3"
      },
      "source": [
        "from sklearn.decomposition import PCA\r\n",
        " "
      ],
      "execution_count": 46,
      "outputs": []
    },
    {
      "cell_type": "code",
      "metadata": {
        "id": "y2D_EK9ERGJL"
      },
      "source": [
        ""
      ],
      "execution_count": 46,
      "outputs": []
    },
    {
      "cell_type": "code",
      "metadata": {
        "id": "8Xih3CcWRKJi",
        "colab": {
          "base_uri": "https://localhost:8080/"
        },
        "outputId": "78f690f9-f974-4243-b086-9dfdc5304fe7"
      },
      "source": [
        "x_test_multilabel.shape"
      ],
      "execution_count": 47,
      "outputs": [
        {
          "output_type": "execute_result",
          "data": {
            "text/plain": [
              "(20000, 93012)"
            ]
          },
          "metadata": {
            "tags": []
          },
          "execution_count": 47
        }
      ]
    },
    {
      "cell_type": "code",
      "metadata": {
        "id": "oR5nljdIRae7"
      },
      "source": [
        "# pca = PCA(n_components=200)\r\n",
        "# X_train = pca.fit_transform(x_train_multilabel) \r\n",
        "# X_test = pca.transform(x_test_multilabel) "
      ],
      "execution_count": 48,
      "outputs": []
    },
    {
      "cell_type": "code",
      "metadata": {
        "id": "ElI7wAb2RtmR"
      },
      "source": [
        "from sklearn.decomposition import TruncatedSVD"
      ],
      "execution_count": 49,
      "outputs": []
    },
    {
      "cell_type": "code",
      "metadata": {
        "id": "lHdpdp4ISkg0"
      },
      "source": [
        "clf = TruncatedSVD(1000)\r\n",
        "X_train = clf.fit_transform(x_train_multilabel)\r\n",
        "X_test = clf.transform(x_test_multilabel)"
      ],
      "execution_count": 50,
      "outputs": []
    },
    {
      "cell_type": "code",
      "metadata": {
        "id": "esD0cFgQS53L",
        "colab": {
          "base_uri": "https://localhost:8080/"
        },
        "outputId": "fd3f1117-f5b1-4b25-978e-804553fc0df7"
      },
      "source": [
        "classifier = OneVsRestClassifier(SGDClassifier(loss='log', alpha=0.00001, penalty='l1'), n_jobs=-1)\r\n",
        "classifier.fit(X_train, y_train)\r\n",
        "predictions = classifier.predict(X_test)\r\n",
        "\r\n",
        "print(\"accuracy :\",metrics.accuracy_score(y_test,predictions))\r\n",
        "print(\"macro f1 score :\",metrics.f1_score(y_test, predictions, average = 'macro'))\r\n",
        "print(\"micro f1 scoore :\",metrics.f1_score(y_test, predictions, average = 'micro'))\r\n",
        "print(\"hamming loss :\",metrics.hamming_loss(y_test,predictions))\r\n",
        "print(\"Precision recall report :\\n\",metrics.classification_report(y_test, predictions))"
      ],
      "execution_count": 51,
      "outputs": [
        {
          "output_type": "stream",
          "text": [
            "accuracy : 0.28915\n",
            "macro f1 score : 0.3776809632025133\n",
            "micro f1 scoore : 0.5242695193996487\n",
            "hamming loss : 0.005959\n",
            "Precision recall report :\n",
            "               precision    recall  f1-score   support\n",
            "\n",
            "           0       0.61      0.35      0.45      2072\n",
            "           1       0.81      0.46      0.59      1547\n",
            "           2       0.84      0.64      0.72      1497\n",
            "           3       0.82      0.41      0.55      1266\n",
            "           4       0.91      0.72      0.80      1181\n",
            "           5       0.99      0.70      0.82       940\n",
            "           6       0.86      0.61      0.72      1124\n",
            "           7       0.71      0.27      0.39       903\n",
            "           8       0.80      0.43      0.56       827\n",
            "           9       0.54      0.16      0.25       782\n",
            "          10       0.88      0.65      0.75       782\n",
            "          11       0.59      0.26      0.36       599\n",
            "          12       0.85      0.68      0.75       632\n",
            "          13       0.69      0.17      0.28       558\n",
            "          14       0.60      0.34      0.43       600\n",
            "          15       0.75      0.62      0.68       427\n",
            "          16       0.88      0.65      0.75       545\n",
            "          17       0.00      0.00      0.00       143\n",
            "          18       0.61      0.19      0.29       456\n",
            "          19       0.60      0.41      0.49       353\n",
            "          20       0.67      0.46      0.54       309\n",
            "          21       0.94      0.64      0.76       353\n",
            "          22       0.67      0.46      0.55       299\n",
            "          23       0.65      0.50      0.56       258\n",
            "          24       0.65      0.38      0.48       268\n",
            "          25       0.87      0.70      0.78       267\n",
            "          26       0.36      0.09      0.15       222\n",
            "          27       0.96      0.79      0.87       209\n",
            "          28       0.29      0.04      0.07       228\n",
            "          29       0.56      0.28      0.38       209\n",
            "          30       0.67      0.24      0.35       197\n",
            "          31       0.80      0.28      0.42       194\n",
            "          32       0.78      0.33      0.46       152\n",
            "          33       0.00      0.00      0.00       122\n",
            "          34       0.66      0.31      0.42       157\n",
            "          35       0.44      0.24      0.31       174\n",
            "          36       0.89      0.69      0.78       135\n",
            "          37       0.86      0.64      0.73       151\n",
            "          38       0.59      0.43      0.50       155\n",
            "          39       0.86      0.61      0.71       137\n",
            "          40       0.41      0.11      0.18       161\n",
            "          41       0.00      0.00      0.00        13\n",
            "          42       0.48      0.25      0.33       156\n",
            "          43       0.88      0.67      0.76       150\n",
            "          44       0.40      0.01      0.02       168\n",
            "          45       0.73      0.55      0.63       152\n",
            "          46       0.82      0.57      0.67       182\n",
            "          47       0.25      0.12      0.16       114\n",
            "          48       0.12      0.01      0.01       131\n",
            "          49       0.70      0.22      0.34       134\n",
            "          50       0.63      0.24      0.35       155\n",
            "          51       0.79      0.50      0.61       147\n",
            "          52       0.60      0.23      0.33       115\n",
            "          53       0.53      0.18      0.27       130\n",
            "          54       0.91      0.16      0.28       122\n",
            "          55       0.65      0.44      0.52       114\n",
            "          56       0.85      0.57      0.68       142\n",
            "          57       0.97      0.65      0.78       153\n",
            "          58       0.79      0.22      0.34       152\n",
            "          59       0.84      0.56      0.67       102\n",
            "          60       0.38      0.03      0.06        92\n",
            "          61       0.82      0.53      0.64        97\n",
            "          62       0.87      0.74      0.80       101\n",
            "          63       0.76      0.20      0.31        66\n",
            "          64       0.96      0.50      0.65       105\n",
            "          65       0.00      0.00      0.00        77\n",
            "          66       0.48      0.13      0.20       116\n",
            "          67       0.90      0.69      0.79        95\n",
            "          68       0.59      0.35      0.44        86\n",
            "          69       0.61      0.46      0.52        96\n",
            "          70       0.55      0.05      0.10       115\n",
            "          71       0.95      0.58      0.72        96\n",
            "          72       0.60      0.15      0.24       101\n",
            "          73       0.58      0.42      0.49       106\n",
            "          74       0.62      0.53      0.57        89\n",
            "          75       1.00      0.02      0.03        62\n",
            "          76       0.43      0.23      0.30        91\n",
            "          77       0.24      0.07      0.11       118\n",
            "          78       0.60      0.15      0.24        78\n",
            "          79       0.71      0.49      0.58        76\n",
            "          80       0.25      0.02      0.04        86\n",
            "          81       0.00      0.00      0.00        82\n",
            "          82       0.71      0.43      0.53        75\n",
            "          83       0.64      0.22      0.33       105\n",
            "          84       0.85      0.47      0.60        86\n",
            "          85       0.75      0.27      0.39        79\n",
            "          86       0.26      0.08      0.13       109\n",
            "          87       0.85      0.48      0.61        84\n",
            "          88       0.89      0.68      0.77        75\n",
            "          89       0.88      0.09      0.16        78\n",
            "          90       0.94      0.58      0.72        81\n",
            "          91       0.92      0.80      0.86        87\n",
            "          92       0.45      0.13      0.20        77\n",
            "          93       0.52      0.19      0.28        58\n",
            "          94       0.44      0.05      0.10        73\n",
            "          95       0.00      0.00      0.00        53\n",
            "          96       0.29      0.11      0.16        81\n",
            "          97       0.95      0.65      0.77        88\n",
            "          98       0.81      0.45      0.58        77\n",
            "          99       0.78      0.46      0.58        82\n",
            "         100       0.44      0.10      0.17        78\n",
            "         101       0.47      0.08      0.14        84\n",
            "         102       0.48      0.13      0.21        84\n",
            "         103       0.64      0.67      0.65        66\n",
            "         104       0.63      0.23      0.34        74\n",
            "         105       0.97      0.55      0.70        51\n",
            "         106       0.61      0.25      0.36        55\n",
            "         107       0.78      0.66      0.71        61\n",
            "         108       0.96      0.33      0.49        70\n",
            "         109       0.98      0.77      0.86        52\n",
            "         110       0.64      0.38      0.48        65\n",
            "         111       0.63      0.27      0.38        63\n",
            "         112       0.93      0.58      0.71        66\n",
            "         113       0.00      0.00      0.00       123\n",
            "         114       0.72      0.25      0.38        71\n",
            "         115       0.84      0.36      0.51        58\n",
            "         116       0.21      0.07      0.11        55\n",
            "         117       0.61      0.32      0.42        69\n",
            "         118       0.67      0.47      0.55        60\n",
            "         119       0.97      0.58      0.72        59\n",
            "         120       0.94      0.66      0.78        92\n",
            "         121       1.00      0.02      0.04        56\n",
            "         122       0.98      0.60      0.74        67\n",
            "         123       0.00      0.00      0.00        13\n",
            "         124       0.50      0.02      0.04        52\n",
            "         125       0.27      0.07      0.11        56\n",
            "         126       0.73      0.46      0.56        59\n",
            "         127       0.89      0.31      0.46        51\n",
            "         128       0.33      0.16      0.22        50\n",
            "         129       0.65      0.20      0.31        55\n",
            "         130       0.81      0.55      0.65        55\n",
            "         131       0.63      0.41      0.49        59\n",
            "         132       0.14      0.07      0.09        43\n",
            "         133       0.60      0.18      0.27        51\n",
            "         134       0.94      0.63      0.75        51\n",
            "         135       0.94      0.58      0.71        52\n",
            "         136       0.12      0.02      0.03        50\n",
            "         137       0.29      0.09      0.14        45\n",
            "         138       0.74      0.46      0.57        50\n",
            "         139       0.33      0.04      0.06        57\n",
            "         140       1.00      0.20      0.34        49\n",
            "         141       0.40      0.06      0.11        62\n",
            "         142       0.00      0.00      0.00        45\n",
            "         143       0.61      0.32      0.42        34\n",
            "         144       0.25      0.06      0.10        48\n",
            "         145       0.38      0.38      0.38        40\n",
            "         146       0.60      0.20      0.30        59\n",
            "         147       0.00      0.00      0.00        31\n",
            "         148       0.33      0.07      0.12        56\n",
            "         149       1.00      0.03      0.05        38\n",
            "         150       0.62      0.15      0.25        52\n",
            "         151       0.55      0.26      0.35        43\n",
            "         152       0.31      0.07      0.11        59\n",
            "         153       0.62      0.08      0.14        61\n",
            "         154       0.00      0.00      0.00       169\n",
            "         155       0.55      0.21      0.30        53\n",
            "         156       0.41      0.19      0.26        57\n",
            "         157       0.00      0.00      0.00        46\n",
            "         158       0.84      0.53      0.65        40\n",
            "         159       0.00      0.00      0.00         8\n",
            "         160       0.14      0.07      0.09        43\n",
            "         161       0.00      0.00      0.00        10\n",
            "         162       0.70      0.65      0.67        43\n",
            "         163       0.30      0.05      0.09        56\n",
            "         164       1.00      0.49      0.66        41\n",
            "         165       0.00      0.00      0.00        35\n",
            "         166       0.56      0.17      0.26        59\n",
            "         167       0.79      0.49      0.61        61\n",
            "         168       0.33      0.08      0.13        48\n",
            "         169       0.60      0.30      0.40        60\n",
            "         170       0.43      0.06      0.11        49\n",
            "         171       1.00      0.73      0.84        44\n",
            "         172       0.00      0.00      0.00        16\n",
            "         173       1.00      0.03      0.05        38\n",
            "         174       0.60      0.39      0.48        38\n",
            "         175       0.24      0.10      0.14        42\n",
            "         176       0.58      0.13      0.22        53\n",
            "         177       1.00      0.60      0.75        43\n",
            "         178       0.86      0.29      0.44        41\n",
            "         179       0.50      0.06      0.11        50\n",
            "         180       1.00      0.40      0.57        40\n",
            "         181       0.27      0.06      0.10        52\n",
            "         182       0.53      0.23      0.32        43\n",
            "         183       0.52      0.41      0.46        39\n",
            "         184       0.50      0.33      0.40        39\n",
            "         185       0.80      0.32      0.46        50\n",
            "         186       0.38      0.17      0.24        47\n",
            "         187       0.00      0.00      0.00         0\n",
            "         188       0.95      0.43      0.59        47\n",
            "         189       0.65      0.29      0.40        52\n",
            "         190       0.00      0.00      0.00        44\n",
            "         191       0.60      0.44      0.51        34\n",
            "         192       0.77      0.28      0.41        36\n",
            "         193       1.00      0.04      0.08        51\n",
            "         194       0.00      0.00      0.00        40\n",
            "         195       0.10      0.04      0.05        28\n",
            "         196       0.57      0.15      0.24        27\n",
            "         197       0.00      0.00      0.00        45\n",
            "         198       0.00      0.00      0.00        42\n",
            "         199       0.97      0.85      0.90        33\n",
            "\n",
            "   micro avg       0.76      0.40      0.52     32739\n",
            "   macro avg       0.59      0.30      0.38     32739\n",
            "weighted avg       0.69      0.40      0.49     32739\n",
            " samples avg       0.50      0.40      0.42     32739\n",
            "\n"
          ],
          "name": "stdout"
        },
        {
          "output_type": "stream",
          "text": [
            "/usr/local/lib/python3.6/dist-packages/sklearn/metrics/_classification.py:1515: UndefinedMetricWarning: F-score is ill-defined and being set to 0.0 in labels with no true nor predicted samples. Use `zero_division` parameter to control this behavior.\n",
            "  average, \"true nor predicted\", 'F-score is', len(true_sum)\n",
            "/usr/local/lib/python3.6/dist-packages/sklearn/metrics/_classification.py:1272: UndefinedMetricWarning: Precision and F-score are ill-defined and being set to 0.0 in labels with no predicted samples. Use `zero_division` parameter to control this behavior.\n",
            "  _warn_prf(average, modifier, msg_start, len(result))\n",
            "/usr/local/lib/python3.6/dist-packages/sklearn/metrics/_classification.py:1272: UndefinedMetricWarning: Recall and F-score are ill-defined and being set to 0.0 in labels with no true samples. Use `zero_division` parameter to control this behavior.\n",
            "  _warn_prf(average, modifier, msg_start, len(result))\n",
            "/usr/local/lib/python3.6/dist-packages/sklearn/metrics/_classification.py:1272: UndefinedMetricWarning: Precision and F-score are ill-defined and being set to 0.0 in samples with no predicted labels. Use `zero_division` parameter to control this behavior.\n",
            "  _warn_prf(average, modifier, msg_start, len(result))\n",
            "/usr/local/lib/python3.6/dist-packages/sklearn/metrics/_classification.py:1272: UndefinedMetricWarning: Recall and F-score are ill-defined and being set to 0.0 in samples with no true labels. Use `zero_division` parameter to control this behavior.\n",
            "  _warn_prf(average, modifier, msg_start, len(result))\n"
          ],
          "name": "stderr"
        }
      ]
    },
    {
      "cell_type": "code",
      "metadata": {
        "id": "mv9ejpPZTSbW",
        "colab": {
          "base_uri": "https://localhost:8080/"
        },
        "outputId": "6e3526fd-f051-465c-bf32-7bd2efa2383e"
      },
      "source": [
        "# Why accuracy is low\r\n",
        "a = y_test.toarray()[:3]\r\n",
        "b = predictions.toarray()[:3]\r\n",
        "print(\"a = \",a)\r\n",
        "print(\"b = \",b)"
      ],
      "execution_count": 52,
      "outputs": [
        {
          "output_type": "stream",
          "text": [
            "a =  [[0 0 1 0 0 0 0 0 0 0 0 0 0 0 0 0 0 0 0 0 0 0 0 0 0 0 0 0 0 0 0 0 0 0 0 0\n",
            "  0 0 0 0 0 0 0 0 0 0 0 0 0 0 0 0 0 0 0 0 0 0 0 0 0 0 0 0 0 0 0 0 1 0 0 0\n",
            "  0 0 0 0 0 0 0 0 0 0 0 0 0 0 0 0 0 0 0 0 0 0 0 0 0 0 0 0 0 0 0 0 0 0 0 0\n",
            "  0 0 0 0 0 0 0 0 0 0 0 0 0 0 0 0 0 0 0 0 0 0 0 0 0 0 0 0 1 0 0 0 0 0 0 0\n",
            "  0 0 0 0 0 0 0 0 0 0 0 0 0 0 0 0 0 0 0 0 0 0 0 0 0 0 0 0 0 0 0 0 0 0 0 0\n",
            "  0 0 0 0 0 0 0 0 0 0 0 0 0 0 0 0 0 0 0 0]\n",
            " [0 0 0 0 0 1 0 0 0 0 0 0 0 0 0 0 0 0 0 0 0 0 0 0 0 0 0 0 0 0 0 0 0 0 0 0\n",
            "  0 0 0 0 0 0 0 0 0 0 0 0 0 0 0 0 0 0 0 0 0 0 0 0 0 0 0 0 0 0 0 0 0 0 0 0\n",
            "  0 0 0 0 0 0 0 0 0 0 0 0 0 0 0 0 0 0 0 0 0 0 0 0 0 0 0 0 0 0 0 0 0 0 0 0\n",
            "  0 0 0 0 0 0 0 0 0 0 0 0 0 0 0 0 0 0 0 0 0 0 0 0 0 0 0 0 0 0 0 0 0 0 0 0\n",
            "  0 0 0 0 0 0 0 0 0 0 0 0 0 0 0 0 0 0 0 0 0 0 0 0 0 0 0 0 0 0 0 0 0 0 0 0\n",
            "  0 0 0 0 0 0 0 0 0 0 0 0 0 0 0 0 0 0 0 0]\n",
            " [0 0 0 0 0 0 0 0 0 0 0 0 0 1 0 0 0 0 0 0 0 0 0 0 0 0 0 0 0 0 0 0 0 0 0 0\n",
            "  0 0 0 0 0 0 0 0 0 0 0 0 0 0 0 0 0 0 0 0 0 0 0 0 0 0 0 0 0 0 0 0 0 0 0 0\n",
            "  0 0 0 0 0 0 0 0 0 0 0 0 0 0 0 0 0 0 0 0 0 0 0 0 0 0 0 0 0 0 0 0 0 0 0 0\n",
            "  0 0 0 0 0 0 0 0 0 0 0 0 0 0 0 0 0 0 0 0 0 0 0 0 0 0 0 0 0 0 0 0 0 0 0 0\n",
            "  0 0 0 0 0 0 1 0 0 0 0 0 0 0 0 0 0 0 0 0 0 0 0 0 0 0 0 0 0 0 0 0 0 0 0 0\n",
            "  0 0 0 0 0 0 0 0 0 0 0 0 0 0 0 0 0 0 0 0]]\n",
            "b =  [[0 0 1 0 0 0 0 0 0 0 0 0 0 0 0 0 0 0 0 0 0 0 0 0 0 0 0 0 0 0 0 0 0 0 0 0\n",
            "  0 0 0 0 0 0 0 0 0 0 0 0 0 0 0 0 0 0 0 0 0 0 0 0 0 0 0 0 0 0 0 0 0 0 0 0\n",
            "  0 0 0 0 0 0 0 0 0 0 0 0 0 0 0 0 0 0 0 0 0 0 0 0 0 0 0 0 0 0 0 0 0 0 0 0\n",
            "  0 0 0 0 0 0 0 0 0 0 0 0 0 0 0 0 0 0 0 0 0 0 0 0 0 0 0 0 0 0 0 0 0 0 0 0\n",
            "  0 0 0 0 0 0 0 0 0 0 0 0 0 0 0 0 0 0 0 0 0 0 0 0 0 0 0 0 0 0 0 0 0 0 0 0\n",
            "  0 0 0 0 0 0 0 0 0 0 0 0 0 0 0 0 0 0 0 0]\n",
            " [0 0 0 0 0 1 0 0 0 0 0 0 0 0 0 0 0 0 0 0 0 0 0 0 0 0 0 0 0 0 0 0 0 0 0 0\n",
            "  0 0 0 0 0 0 0 0 0 0 0 0 0 0 0 0 0 0 0 0 0 0 0 0 0 0 0 0 0 0 0 0 0 0 0 0\n",
            "  0 0 0 0 0 0 0 0 0 0 0 0 0 0 0 0 0 0 0 0 0 0 0 0 0 0 0 0 0 0 0 0 0 0 0 0\n",
            "  0 0 0 0 0 0 0 0 0 0 0 0 0 0 0 0 0 0 0 0 0 0 0 0 0 0 0 0 0 0 0 0 0 0 0 0\n",
            "  0 0 0 0 0 0 0 0 0 0 0 0 0 0 0 0 0 0 0 0 0 0 0 0 0 0 0 0 0 0 0 0 0 0 0 0\n",
            "  0 0 0 0 0 0 0 0 0 0 0 0 0 0 0 0 0 0 0 0]\n",
            " [0 0 0 0 0 0 0 0 0 0 0 0 0 0 0 0 0 0 0 0 0 0 0 0 0 0 0 0 0 0 0 0 0 0 0 0\n",
            "  0 0 0 0 0 0 0 0 0 0 0 0 0 0 0 0 0 0 0 0 0 0 0 0 0 0 0 0 0 0 0 0 0 0 0 0\n",
            "  0 0 0 0 0 0 0 0 0 0 0 0 0 0 0 0 0 0 0 0 0 0 0 0 0 0 0 0 0 0 0 0 0 0 0 0\n",
            "  0 0 0 0 0 0 0 0 0 0 0 0 0 0 0 0 0 0 0 0 0 0 0 0 0 0 0 0 0 0 0 0 0 0 0 0\n",
            "  0 0 0 0 0 0 0 0 0 0 0 0 0 0 0 0 0 0 0 0 0 0 0 0 0 0 0 0 0 0 0 0 0 0 0 0\n",
            "  0 0 0 0 0 0 0 0 0 0 0 0 0 0 0 0 0 0 0 0]]\n"
          ],
          "name": "stdout"
        }
      ]
    },
    {
      "cell_type": "code",
      "metadata": {
        "id": "DTt89y7JeGNR",
        "colab": {
          "base_uri": "https://localhost:8080/"
        },
        "outputId": "9370aff7-39c4-404f-fad4-0c4c90211107"
      },
      "source": [
        "print(\"accuracy :\",metrics.accuracy_score(a,b))"
      ],
      "execution_count": 53,
      "outputs": [
        {
          "output_type": "stream",
          "text": [
            "accuracy : 0.3333333333333333\n"
          ],
          "name": "stdout"
        }
      ]
    },
    {
      "cell_type": "code",
      "metadata": {
        "id": "MZAu_Aw7eOk2"
      },
      "source": [
        "tests = []\r\n",
        "preds = []\r\n",
        "for k in y_test.toarray():\r\n",
        "    tests.extend(k)\r\n",
        "\r\n",
        "for p in predictions.toarray():\r\n",
        "    preds.extend(p)"
      ],
      "execution_count": 54,
      "outputs": []
    },
    {
      "cell_type": "code",
      "metadata": {
        "id": "waGRSX9sgAj3",
        "colab": {
          "base_uri": "https://localhost:8080/"
        },
        "outputId": "08830c94-cd88-4f6b-a405-55ff339faa10"
      },
      "source": [
        "print(\"accuracy :\",metrics.accuracy_score(preds,tests))"
      ],
      "execution_count": 55,
      "outputs": [
        {
          "output_type": "stream",
          "text": [
            "accuracy : 0.994041\n"
          ],
          "name": "stdout"
        }
      ]
    }
  ]
}
